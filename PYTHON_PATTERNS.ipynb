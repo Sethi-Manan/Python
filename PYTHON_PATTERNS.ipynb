{
  "nbformat": 4,
  "nbformat_minor": 0,
  "metadata": {
    "colab": {
      "provenance": []
    },
    "kernelspec": {
      "name": "python3",
      "display_name": "Python 3"
    },
    "language_info": {
      "name": "python"
    }
  },
  "cells": [
    {
      "cell_type": "code",
      "execution_count": null,
      "metadata": {
        "colab": {
          "base_uri": "https://localhost:8080/"
        },
        "id": "5D8oiuBbQJA0",
        "outputId": "9976654b-7d50-437a-e288-2342f3874352"
      },
      "outputs": [
        {
          "output_type": "stream",
          "name": "stdout",
          "text": [
            "         1 \n",
            "        1 2 \n",
            "       1 2 3 \n",
            "      1 2 3 4 \n",
            "     1 2 3 4 5 \n",
            "    1 2 3 4 5 6 \n",
            "   1 2 3 4 5 6 7 \n",
            "  1 2 3 4 5 6 7 8 \n",
            " 1 2 3 4 5 6 7 8 9 \n"
          ]
        }
      ],
      "source": [
        "# prompt: print a triangular number pattern\n",
        "\n",
        "for i in range(1, 10):\n",
        "  print(' ' * (10 - i), end='')\n",
        "  for j in range(i):\n",
        "    print(j + 1, end=' ')\n",
        "  print()\n"
      ]
    },
    {
      "cell_type": "code",
      "source": [
        "s=0\n",
        "for k in range(1,11):\n",
        "    n=int(input(\"enter any number\"))\n",
        "    s=s+n\n",
        "print(f\"sum is={s}\")\n",
        "\n"
      ],
      "metadata": {
        "colab": {
          "base_uri": "https://localhost:8080/"
        },
        "id": "HWhEypitRO4I",
        "outputId": "8aff39c5-d07e-475b-acb2-d02fa10acd67"
      },
      "execution_count": null,
      "outputs": [
        {
          "output_type": "stream",
          "name": "stdout",
          "text": [
            "enter any number12\n",
            "enter any number13\n",
            "enter any number14\n",
            "enter any number15\n",
            "enter any number16\n",
            "enter any number17\n",
            "enter any number18\n",
            "enter any number19\n",
            "enter any number20\n",
            "enter any number21\n",
            "sum is=165\n"
          ]
        }
      ]
    },
    {
      "cell_type": "code",
      "source": [
        "high=0\n",
        "for k in range(1,6):\n",
        "    n=int(input(\"enter any number\"))\n",
        "    if(high<n):\n",
        "       high=n\n",
        "print(\"Highest value is\",high)"
      ],
      "metadata": {
        "colab": {
          "base_uri": "https://localhost:8080/"
        },
        "id": "TetfyXJCTipa",
        "outputId": "3671ba2f-758d-4bd6-f5e6-5254421157e8"
      },
      "execution_count": null,
      "outputs": [
        {
          "output_type": "stream",
          "name": "stdout",
          "text": [
            "enter any number12\n",
            "enter any number43\n",
            "enter any number35\n",
            "enter any number46\n",
            "enter any number69\n",
            "Highest value is 69\n"
          ]
        }
      ]
    },
    {
      "cell_type": "code",
      "source": [
        "n=int(input(\"Enter any number\"))\n",
        "low=n\n",
        "for k in range(1,5):\n",
        "  n=int(input(\"Enter any number\"))\n",
        "  if(low>n):\n",
        "    low=n\n",
        "print(\"Lowest value is\",low)\n"
      ],
      "metadata": {
        "colab": {
          "base_uri": "https://localhost:8080/"
        },
        "id": "6iZ7SHUgVSwm",
        "outputId": "000da5c7-e985-425d-91e6-6ca76d15a55a"
      },
      "execution_count": null,
      "outputs": [
        {
          "output_type": "stream",
          "name": "stdout",
          "text": [
            "Enter any number12\n",
            "Enter any number11\n",
            "Enter any number10\n",
            "Enter any number14\n",
            "Enter any number15\n",
            "Lowest value is 10\n"
          ]
        }
      ]
    },
    {
      "cell_type": "code",
      "source": [
        "n = int(input(\"Enter number of rows: \"))\n",
        "\n",
        "for i in range(1,n+1):\n",
        "    for j in range(1, i+1):\n",
        "        print(i, end=\"\")\n",
        "    print()"
      ],
      "metadata": {
        "id": "x6Dw2DXdU8On"
      },
      "execution_count": null,
      "outputs": []
    }
  ]
}