{
  "nbformat": 4,
  "nbformat_minor": 0,
  "metadata": {
    "colab": {
      "provenance": []
    },
    "kernelspec": {
      "name": "python3",
      "display_name": "Python 3"
    },
    "language_info": {
      "name": "python"
    }
  },
  "cells": [
    {
      "cell_type": "code",
      "execution_count": null,
      "metadata": {
        "colab": {
          "base_uri": "https://localhost:8080/"
        },
        "id": "F8J4YvxOaHHL",
        "outputId": "e3ebc5aa-d39a-4e0a-a28f-378807e560cc"
      },
      "outputs": [
        {
          "output_type": "stream",
          "name": "stdout",
          "text": [
            "[1 2 3 4 5 6 7 8 9]\n",
            "(9,)\n",
            "int64\n",
            "72\n",
            "[[1]\n",
            " [2]\n",
            " [3]\n",
            " [4]\n",
            " [5]\n",
            " [6]\n",
            " [7]\n",
            " [8]\n",
            " [9]]\n",
            "9\n",
            "1\n",
            "5.0\n",
            "2.581988897471611\n",
            "45\n"
          ]
        }
      ],
      "source": [
        "# prompt: numpy\n",
        "\n",
        "import numpy as np\n",
        "\n",
        "# Create a numpy array\n",
        "arr = np.array([1, 2, 3, 4, 5,6,7,8,9])\n",
        "\n",
        "# Print the array\n",
        "print(arr)\n",
        "\n",
        "# Get the shape of the array\n",
        "print(arr.shape)\n",
        "\n",
        "# Get the data type of the array\n",
        "print(arr.dtype)\n",
        "\n",
        "# Get the size of the array in bytes\n",
        "print(arr.nbytes)\n",
        "\n",
        "# Reshape the array\n",
        "arr = arr.reshape(9, 1)\n",
        "\n",
        "# Print the reshaped array\n",
        "print(arr)\n",
        "\n",
        "# Get the maximum value in the array\n",
        "print(arr.max())\n",
        "\n",
        "# Get the minimum value in the array\n",
        "print(arr.min())\n",
        "\n",
        "# Get the mean value in the array\n",
        "print(arr.mean())\n",
        "\n",
        "# Get the standard deviation of the array\n",
        "print(arr.std())\n",
        "\n",
        "# Sum the values in the array\n",
        "print(arr.sum())\n"
      ]
    },
    {
      "cell_type": "code",
      "source": [
        "# python program to create\n",
        "# Empty and Full Numpy arrays\n",
        "\n",
        "import numpy as np\n",
        "\n",
        "\n",
        "# Create an 1-D empty array\n",
        "arr=np.empty(5, dtype=int)\n",
        "print(arr)\n",
        "\n",
        "\n",
        "\n",
        "\n",
        "arr[0]=33;\n",
        "arr[1]=99;\n",
        "arr[2]=7;\n",
        "arr[3]=86;\n",
        "arr[4]=93;\n",
        "\n",
        "\n",
        "print(arr)\n",
        "\n",
        "print(arr.size,type(arr))\n",
        "\n",
        "#user input\n",
        "for i in range(arr.size):\n",
        "    n=int(input(\"enter a number :\"))\n",
        "    arr[i]=n\n",
        "\n",
        "print(arr)\n",
        "\n",
        "\n",
        "#creating 1-D array with data\n",
        "arr2=np.array([77,88,44,33,22])\n",
        "\n",
        "print(arr2)\n",
        "\n",
        "#2d empty array\n",
        "empa = np.empty((3, 4), dtype=int)\n",
        "print(\"Empty Array\")\n",
        "print(empa)\n",
        "\n",
        "# Create a 2D full array\n",
        "flla = np.full([3, 3], 55, dtype=int)\n",
        "print(\"\\n Full Array\")\n",
        "print(flla)\n",
        "\n",
        "arr2d=np.array([[6,6,6],[8,8,8]])\n",
        "print(\"create 2d array\")\n",
        "print(arr2d)\n",
        "\n",
        "temp=[7,16,20,8,5]\n",
        "arr3=np.array(temp)\n",
        "print(\"changing list into array\")\n",
        "print(arr3)\n",
        "\n",
        "#creating a 3-D array\n",
        "arr3d=np.array([[[5,9,7,3],[23,23,12,65],[55,99,77,66]]])\n",
        "print(\"3-D array\")\n",
        "print(arr3d)\n",
        "print(arr3d[0,0,0])\n",
        "print()\n",
        "\n",
        "\n",
        "\n",
        "l=(x*x for x in range(1,11))\n",
        "arr4=np.fromiter(l,dtype=int)\n",
        "print(arr4,type(arr4),arr4.ndim,arr4.size)\n",
        "\n",
        "\n",
        "\n",
        "arr5=np.copy(arr4)\n",
        "print(arr5)\n",
        "\n",
        "print(np.sum(arr5))\n",
        "print(np.mean(arr5))\n",
        "print(np.median(arr5))\n",
        "\n",
        "\n",
        "arr6=np.stack((arr4,arr5),axis=1)\n",
        "print(arr6)\n",
        "\n",
        "arr7=np.hstack((arr4,arr5))\n",
        "print(arr7)\n",
        "arr8=np.vstack((arr4,arr5))\n",
        "print(arr8)\n",
        "\n",
        "\n",
        "arr9=np.array_split(arr4,5)\n",
        "print(arr9)\n",
        "\n",
        "\n",
        "#2-D array\n",
        "a1=np.array([[1,9,7],[9,9,7],[8,5,7]])\n",
        "b1=np.array([[4,5,6],[7,9,3],[8,6,4]])\n",
        "print(\"A1\")\n",
        "print(a1)\n",
        "print(\"B1\")\n",
        "print(b1)\n",
        "sum1=np.add(a1,b1)\n",
        "print(\"SUM OF A1 and B1\")\n",
        "print(sum1)\n",
        "sub1=np.subtract(a1,b1)\n",
        "print(\"SUB OF A1 and B1\")\n",
        "print(sub1)\n",
        "mul1=np.multiply(a1,b1)\n",
        "print(\"MULTIPLY OF A1 and B1\")\n",
        "print(mul1)\n",
        "div1=np.divide(a1,b1)\n",
        "print(\"DIVISION OF A1 and B1\")\n",
        "print(div1)\n",
        "sq1=np.sqrt(a1)\n",
        "print(\"SQUARE ROOT of A1\")\n",
        "print(sq1)"
      ],
      "metadata": {
        "id": "RrS5pcJ6twu7"
      },
      "execution_count": null,
      "outputs": []
    },
    {
      "cell_type": "code",
      "source": [
        "import numpy as np\n",
        "l=(x*x for x in range(1,11))\n",
        "arr4=np.fromiter(l,dtype=int)\n",
        "print(arr4,type(arr4),arr4.ndim,arr4.size)\n"
      ],
      "metadata": {
        "colab": {
          "base_uri": "https://localhost:8080/"
        },
        "id": "nSnyS40XVwPg",
        "outputId": "6044cdf5-5252-4806-8f93-6e1f0b194a8c"
      },
      "execution_count": null,
      "outputs": [
        {
          "output_type": "stream",
          "name": "stdout",
          "text": [
            "[  1   4   9  16  25  36  49  64  81 100] <class 'numpy.ndarray'> 1 10\n"
          ]
        }
      ]
    },
    {
      "cell_type": "code",
      "source": [
        "#creating a 3-D array\n",
        "import numpy as np\n",
        "arr3d=np.array([[[5,9,7,3],[239,23,12,65],[55,99,77,66]]])\n",
        "print(\"3-D array\")\n",
        "print(arr3d)\n",
        "print(arr3d[0,1,0])\n",
        "print()"
      ],
      "metadata": {
        "colab": {
          "base_uri": "https://localhost:8080/"
        },
        "id": "uKNTaVC0NBGL",
        "outputId": "fb43b6cd-f744-4ac1-9f0f-1b0754882a1f"
      },
      "execution_count": null,
      "outputs": [
        {
          "output_type": "stream",
          "name": "stdout",
          "text": [
            "3-D array\n",
            "[[[  5   9   7   3]\n",
            "  [239  23  12  65]\n",
            "  [ 55  99  77  66]]]\n",
            "239\n",
            "\n"
          ]
        }
      ]
    },
    {
      "cell_type": "code",
      "source": [
        "import numpy as np\n",
        "\n",
        "arr5=np.array([2,3,6,5,5,6,7,8,9,4,5,6,7,8,9,4])\n",
        "arr5.sort()\n",
        "print(arr5)\n",
        "print(np.sum(arr5))\n",
        "print(np.mean(arr5))\n",
        "print(np.median(arr5))"
      ],
      "metadata": {
        "colab": {
          "base_uri": "https://localhost:8080/"
        },
        "id": "KtLWPSV3WjoA",
        "outputId": "64936ac5-a527-4e6a-f07d-4108e7a6fe33"
      },
      "execution_count": null,
      "outputs": [
        {
          "output_type": "stream",
          "name": "stdout",
          "text": [
            "[2 3 4 4 5 5 5 6 6 6 7 7 8 8 9 9]\n",
            "94\n",
            "5.875\n",
            "6.0\n"
          ]
        }
      ]
    },
    {
      "cell_type": "code",
      "source": [
        "import numpy as np\n",
        "arr1=np.array([1,2,3,4,5,6])\n",
        "arr2=np.array([7,6,5,4,3,9])\n",
        "\n",
        "arr3=np.stack((arr1,arr2),axis=1)\n",
        "print(arr3)\n",
        "\n",
        "arr7=np.hstack((arr1,arr2))\n",
        "print(arr7)\n",
        "arr8=np.vstack((arr1,arr2))\n",
        "print(arr8)"
      ],
      "metadata": {
        "colab": {
          "base_uri": "https://localhost:8080/"
        },
        "id": "iqjAbKpAXglX",
        "outputId": "62a8df07-f9c3-4cc7-af3e-963402d21fe6"
      },
      "execution_count": null,
      "outputs": [
        {
          "output_type": "stream",
          "name": "stdout",
          "text": [
            "[[1 7]\n",
            " [2 6]\n",
            " [3 5]\n",
            " [4 4]\n",
            " [5 3]\n",
            " [6 9]]\n",
            "[1 2 3 4 5 6 7 6 5 4 3 9]\n",
            "[[1 2 3 4 5 6]\n",
            " [7 6 5 4 3 9]]\n"
          ]
        }
      ]
    },
    {
      "cell_type": "code",
      "source": [
        "arr9=np.array_split(arr5,5)\n",
        "print(arr9)"
      ],
      "metadata": {
        "colab": {
          "base_uri": "https://localhost:8080/"
        },
        "id": "ZaCUpHjsYtUO",
        "outputId": "3126ca56-da08-4426-b01a-ac69eb3dd0b3"
      },
      "execution_count": null,
      "outputs": [
        {
          "output_type": "stream",
          "name": "stdout",
          "text": [
            "[array([2, 3, 4, 4]), array([5, 5, 5]), array([6, 6, 6]), array([7, 7, 8]), array([8, 9, 9])]\n"
          ]
        }
      ]
    },
    {
      "cell_type": "code",
      "source": [
        "#2-D array\n",
        "a1=np.array([[1,9,7],[9,9,7],[8,5,7]])\n",
        "b1=np.array([[4,5,6],[7,9,3],[8,6,4]])\n",
        "print(\"A1:\")\n",
        "print(a1)\n",
        "print(\"B1:\")\n",
        "print(b1)\n",
        "sum1=np.add(a1,b1)\n",
        "print(\"SUM OF A1 and B1\")\n",
        "print(sum1)\n",
        "sub1=np.subtract(a1,b1)\n",
        "print(\"SUB OF A1 and B1\")\n",
        "print(sub1)\n",
        "mul1=np.multiply(a1,b1)\n",
        "print(\"MULTIPLY OF A1 and B1\")\n",
        "print(mul1)\n",
        "div1=np.divide(a1,b1)\n",
        "print(\"DIVISION OF A1 and B1\")\n",
        "print(div1)\n",
        "sq1=np.sqrt(a1)\n",
        "print(\"SQUARE ROOT of A1\")\n",
        "print(sq1)"
      ],
      "metadata": {
        "colab": {
          "base_uri": "https://localhost:8080/"
        },
        "id": "MzUfg-ctZg8E",
        "outputId": "1401ce92-d0d5-4d0d-8514-2b4558d72f9d"
      },
      "execution_count": null,
      "outputs": [
        {
          "output_type": "stream",
          "name": "stdout",
          "text": [
            "A1:\n",
            "[[1 9 7]\n",
            " [9 9 7]\n",
            " [8 5 7]]\n",
            "B1:\n",
            "[[4 5 6]\n",
            " [7 9 3]\n",
            " [8 6 4]]\n",
            "SUM OF A1 and B1\n",
            "[[ 5 14 13]\n",
            " [16 18 10]\n",
            " [16 11 11]]\n",
            "SUB OF A1 and B1\n",
            "[[-3  4  1]\n",
            " [ 2  0  4]\n",
            " [ 0 -1  3]]\n",
            "MULTIPLY OF A1 and B1\n",
            "[[ 4 45 42]\n",
            " [63 81 21]\n",
            " [64 30 28]]\n",
            "DIVISION OF A1 and B1\n",
            "[[0.25       1.8        1.16666667]\n",
            " [1.28571429 1.         2.33333333]\n",
            " [1.         0.83333333 1.75      ]]\n",
            "SQUARE ROOT of A1\n",
            "[[1.         3.         2.64575131]\n",
            " [3.         3.         2.64575131]\n",
            " [2.82842712 2.23606798 2.64575131]]\n"
          ]
        }
      ]
    },
    {
      "cell_type": "code",
      "source": [
        "# prompt: statistics functions\n",
        "import numpy as np\n",
        "import statistics as st\n",
        "\n",
        "arr=np.array([4,5,6,7,4,5,67,8,9,3,4,56,78,9])\n",
        "\n",
        "\n",
        "# Calculate the mean of the array\n",
        "mean = np.mean(arr)\n",
        "\n",
        "# Calculate the median of the array\n",
        "median = np.median(arr)\n",
        "\n",
        "# Calculate the mode of the array\n",
        "mode = st.mode(arr)\n",
        "\n",
        "# Calculate the standard deviation of the array\n",
        "std = np.std(arr)\n",
        "\n",
        "# Calculate the variance of the array\n",
        "var = np.var(arr)\n",
        "\n",
        "# Calculate the minimum value in the array\n",
        "min = np.min(arr)\n",
        "\n",
        "# Calculate the maximum value in the array\n",
        "max = np.max(arr)\n",
        "\n",
        "# Calculate the sum of the array\n",
        "sum = np.sum(arr)\n",
        "\n",
        "# Calculate the cumulative sum of the array\n",
        "cumsum = np.cumsum(arr)\n",
        "\n",
        "# Calculate the dot product of two arrays\n",
        "dot_product = np.dot(arr, arr)\n",
        "\n",
        "# Calculate the cross product of two arrays\n",
        "cross_product = np.cross(arr, arr)\n",
        "\n",
        "# Calculate the determinant of a matrix\n",
        "determinant = np.linalg.det(arr)\n",
        "\n",
        "# Calculate the inverse of a matrix\n",
        "inverse = np.linalg.inv(arr)\n",
        "\n",
        "# Calculate the eigenvalues and eigenvectors of a matrix\n",
        "eigenvalues, eigenvectors = np.linalg.eig(arr)\n",
        "\n",
        "# Calculate the singular value decomposition of a matrix\n",
        "U, s, Vh = np.linalg.svd(arr)\n",
        "\n",
        "# Calculate the QR decomposition of a matrix\n",
        "Q, R = np.linalg.qr(arr)\n",
        "\n",
        "# Calculate the LU decomposition of a matrix\n",
        "P, L, U = np.linalg.lu(arr1)\n",
        "\n",
        "# Calculate the Cholesky decomposition of a matrix\n",
        "L = np.linalg.cholesky(arr)\n",
        "\n",
        "# Calculate the matrix exponential\n",
        "matrix_exp = np.linalg.matrix_power(arr, 2)\n",
        "\n",
        "# Calculate the matrix logarithm\n",
        "matrix_log = np.linalg.matrix_log(arr)\n",
        "\n",
        "# Calculate the matrix square root\n",
        "matrix_sqrt = np.linalg.sqrtm(arr)\n",
        "\n",
        "# Calculate the matrix power\n",
        "matrix_power = np.linalg.matrix_power(arr, 3)\n",
        "\n",
        "# Calculate the matrix norm\n",
        "matrix_norm = np.linalg.norm(arr)\n",
        "\n",
        "# Calculate the matrix condition number\n",
        "matrix_cond = np.linalg.cond(arr)\n",
        "\n",
        "# Calculate the matrix rank\n",
        "matrix_rank = np.linalg.matrix_rank(arr)\n",
        "\n",
        "# Calculate the matrix trace\n",
        "matrix_trace = np.trace(arr)\n",
        "\n",
        "# Calculate the matrix determinant\n",
        "matrix_det = np.linalg.det(arr)\n",
        "\n",
        "# Calculate the matrix inverse\n",
        "matrix_inv = np.linalg.inv(arr)\n",
        "\n",
        "# Calculate the matrix pseudo-inverse\n",
        "matrix_pinv = np.linalg.pinv(arr)\n",
        "\n",
        "# Calculate the matrix eigenvalues\n",
        "matrix_eigvals = np.linalg.eigvals(arr)\n",
        "\n",
        "# Calculate the matrix eigenvectors\n",
        "matrix_eigvecs = np.linalg.eigvecs(arr)"
      ],
      "metadata": {
        "id": "IJzXW8pOuP7N",
        "colab": {
          "base_uri": "https://localhost:8080/",
          "height": 366
        },
        "outputId": "a004c615-6df3-43d4-bc90-96928ffccdf1"
      },
      "execution_count": null,
      "outputs": [
        {
          "output_type": "error",
          "ename": "ValueError",
          "evalue": "incompatible dimensions for cross product\n(dimension must be 2 or 3)",
          "traceback": [
            "\u001b[0;31m---------------------------------------------------------------------------\u001b[0m",
            "\u001b[0;31mValueError\u001b[0m                                Traceback (most recent call last)",
            "\u001b[0;32m<ipython-input-6-0d53f35b17fe>\u001b[0m in \u001b[0;36m<cell line: 39>\u001b[0;34m()\u001b[0m\n\u001b[1;32m     37\u001b[0m \u001b[0;34m\u001b[0m\u001b[0m\n\u001b[1;32m     38\u001b[0m \u001b[0;31m# Calculate the cross product of two arrays\u001b[0m\u001b[0;34m\u001b[0m\u001b[0;34m\u001b[0m\u001b[0m\n\u001b[0;32m---> 39\u001b[0;31m \u001b[0mcross_product\u001b[0m \u001b[0;34m=\u001b[0m \u001b[0mnp\u001b[0m\u001b[0;34m.\u001b[0m\u001b[0mcross\u001b[0m\u001b[0;34m(\u001b[0m\u001b[0marr\u001b[0m\u001b[0;34m,\u001b[0m \u001b[0marr\u001b[0m\u001b[0;34m)\u001b[0m\u001b[0;34m\u001b[0m\u001b[0;34m\u001b[0m\u001b[0m\n\u001b[0m\u001b[1;32m     40\u001b[0m \u001b[0;34m\u001b[0m\u001b[0m\n\u001b[1;32m     41\u001b[0m \u001b[0;31m# Calculate the determinant of a matrix\u001b[0m\u001b[0;34m\u001b[0m\u001b[0;34m\u001b[0m\u001b[0m\n",
            "\u001b[0;32m/usr/local/lib/python3.10/dist-packages/numpy/core/numeric.py\u001b[0m in \u001b[0;36mcross\u001b[0;34m(a, b, axisa, axisb, axisc, axis)\u001b[0m\n\u001b[1;32m   1594\u001b[0m            \"(dimension must be 2 or 3)\")\n\u001b[1;32m   1595\u001b[0m     \u001b[0;32mif\u001b[0m \u001b[0ma\u001b[0m\u001b[0;34m.\u001b[0m\u001b[0mshape\u001b[0m\u001b[0;34m[\u001b[0m\u001b[0;34m-\u001b[0m\u001b[0;36m1\u001b[0m\u001b[0;34m]\u001b[0m \u001b[0;32mnot\u001b[0m \u001b[0;32min\u001b[0m \u001b[0;34m(\u001b[0m\u001b[0;36m2\u001b[0m\u001b[0;34m,\u001b[0m \u001b[0;36m3\u001b[0m\u001b[0;34m)\u001b[0m \u001b[0;32mor\u001b[0m \u001b[0mb\u001b[0m\u001b[0;34m.\u001b[0m\u001b[0mshape\u001b[0m\u001b[0;34m[\u001b[0m\u001b[0;34m-\u001b[0m\u001b[0;36m1\u001b[0m\u001b[0;34m]\u001b[0m \u001b[0;32mnot\u001b[0m \u001b[0;32min\u001b[0m \u001b[0;34m(\u001b[0m\u001b[0;36m2\u001b[0m\u001b[0;34m,\u001b[0m \u001b[0;36m3\u001b[0m\u001b[0;34m)\u001b[0m\u001b[0;34m:\u001b[0m\u001b[0;34m\u001b[0m\u001b[0;34m\u001b[0m\u001b[0m\n\u001b[0;32m-> 1596\u001b[0;31m         \u001b[0;32mraise\u001b[0m \u001b[0mValueError\u001b[0m\u001b[0;34m(\u001b[0m\u001b[0mmsg\u001b[0m\u001b[0;34m)\u001b[0m\u001b[0;34m\u001b[0m\u001b[0;34m\u001b[0m\u001b[0m\n\u001b[0m\u001b[1;32m   1597\u001b[0m \u001b[0;34m\u001b[0m\u001b[0m\n\u001b[1;32m   1598\u001b[0m     \u001b[0;31m# Create the output array\u001b[0m\u001b[0;34m\u001b[0m\u001b[0;34m\u001b[0m\u001b[0m\n",
            "\u001b[0;31mValueError\u001b[0m: incompatible dimensions for cross product\n(dimension must be 2 or 3)"
          ]
        }
      ]
    },
    {
      "cell_type": "code",
      "source": [
        "# prompt: numpy statistical methods\n",
        "\n",
        "# Calculate the variance of the array\n",
        "print(arr.var())\n",
        "\n",
        "# Calculate the median of the array\n",
        "print(np.median(arr))\n",
        "\n",
        "# Calculate the absolute values of the array\n",
        "print(np.abs(arr))\n",
        "\n",
        "# Calculate the cumulative sum of the array\n",
        "print(np.cumsum(arr))\n",
        "\n",
        "# Calculate the difference between consecutive elements of the array\n",
        "print(np.diff(arr))\n",
        "\n",
        "# Calculate the product of the elements of the array\n",
        "print(np.prod(arr))\n",
        "\n",
        "# Calculate the reciprocal of the elements of the array\n",
        "print(np.reciprocal(arr))\n",
        "\n",
        "# Calculate the square root of the elements of the array\n",
        "print(np.sqrt(arr))\n",
        "\n",
        "# Calculate the exponential of the elements of the array\n",
        "print(np.exp(arr))\n",
        "\n",
        "# Calculate the logarithm of the elements of the array\n",
        "print(np.log(arr))\n",
        "\n",
        "# Calculate the trigonometric sine of the elements of the array\n",
        "print(np.sin(arr))\n"
      ],
      "metadata": {
        "colab": {
          "base_uri": "https://localhost:8080/"
        },
        "id": "mC0J0NHyaYDJ",
        "outputId": "b42daf4a-b066-4988-e4e3-30f101219f11"
      },
      "execution_count": null,
      "outputs": [
        {
          "output_type": "stream",
          "name": "stdout",
          "text": [
            "1351.84\n",
            "86.0\n",
            "[33 99  7 86 93]\n",
            "[ 33 132 139 225 318]\n",
            "[ 66 -92  79   7]\n",
            "182906262\n",
            "[0 0 0 0 0]\n",
            "[5.74456265 9.94987437 2.64575131 9.2736185  9.64365076]\n",
            "[2.14643580e+14 9.88903032e+42 1.09663316e+03 2.23524660e+37\n",
            " 2.45124554e+40]\n",
            "[3.49650756 4.59511985 1.94591015 4.4543473  4.53259949]\n",
            "[ 0.99991186 -0.99920683  0.6569866  -0.92345845 -0.94828214]\n"
          ]
        }
      ]
    },
    {
      "cell_type": "code",
      "source": [
        "# prompt: numpy random methods\n",
        "\n",
        "# Generate a random integer between 0 and 10 (inclusive)\n",
        "print(np.random.randint(11))\n",
        "\n",
        "# Generate a random float between 0 and 1 (exclusive)\n",
        "print(np.random.random())\n",
        "\n",
        "# Generate a random array of 5 random integers between 0 and 10 (inclusive)\n",
        "print(np.random.randint(11, size=5))\n",
        "\n",
        "# Generate a random array of 5 random floats between 0 and 1 (exclusive)\n",
        "print(np.random.random(5))\n",
        "\n",
        "# Generate a random array of 5 random integers between 0 and 10 (inclusive) with a specific seed\n",
        "np.random.seed(123)\n",
        "print(np.random.randint(11, size=5))\n",
        "\n",
        "# Generate a random array of 5 random floats between 0 and 1 (exclusive) with a specific seed\n",
        "np.random.seed(123)\n",
        "print(np.random.random(5))\n",
        "\n",
        "# Generate a random array of 5 random integers between 0 and 10 (inclusive) with a specific seed and replace\n",
        "np.random.seed(123)\n",
        "print(np.random.choice(11, size=5, replace=True))\n",
        "\n",
        "# Generate a random array of 5 random integers between 0 and 10 (inclusive) with a specific seed and without replacement\n",
        "np.random.seed(123)\n",
        "print(np.random.choice(11, size=5, replace=False))\n",
        "\n",
        "# Generate a random array of 5 random integers between 0 and 10 (inclusive) with a specific seed and weights\n",
        "np.random.seed(123)\n",
        "weights = [0.1, 0.2, 0.3, 0.4, 0.5, 0.6, 0.7, 0.8, 0.9, 1.0, 1.1]\n",
        "print(np.random.choice(11, size=5, p=weights))\n",
        "\n",
        "# Generate a random array of 5 random integers between 0 and 10 (inclusive) with a specific seed and weights and replace\n",
        "np.random.seed(123)\n",
        "weights = [0.1, 0.2, 0.3, 0.4, 0.5, 0.6, 0.7, 0.8, 0.9, 1.0, 1.1]\n",
        "print(np.random.choice(11, size=5, p=weights, replace=True))\n",
        "\n",
        "# Generate a random array of 5 random integers between 0 and 10 (inclusive) with a specific seed and weights and without replacement\n",
        "np.random.seed(123)\n",
        "weights = [0.1, 0.2, 0.3, 0.4, 0.5, 0.6, 0.7, 0.8, 0.9, 1.0, 1.1]\n",
        "print(np.random.choice(11, size=5, p=weights, replace=False))\n"
      ],
      "metadata": {
        "id": "T3eBS47aamCm"
      },
      "execution_count": null,
      "outputs": []
    },
    {
      "cell_type": "code",
      "source": [
        "# prompt: top 20 numpy methods used in data analysis\n",
        "\n",
        "# 1. **np.mean()**: Calculate the mean of an array along the specified axis.\n",
        "# 2. **np.median()**: Calculate the median of an array along the specified axis.\n",
        "# 3. **np.std()**: Calculate the standard deviation of an array along the specified axis.\n",
        "# 4. **np.var()**: Calculate the variance of an array along the specified axis.\n",
        "# 5. **np.max()**: Find the maximum value in an array along the specified axis.\n",
        "# 6. **np.min()**: Find the minimum value in an array along the specified axis.\n",
        "# 7. **np.sum()**: Calculate the sum of an array along the specified axis.\n",
        "# 8. **np.prod()**: Calculate the product of an array along the specified axis.\n",
        "# 9. **np.cumsum()**: Calculate the cumulative sum of an array along the specified axis.\n",
        "# 10. **np.diff()**: Calculate the difference between consecutive elements of an array along the specified axis.\n",
        "# 11. **np.sort()**: Sort an array along the specified axis.\n",
        "# 12. **np.argsort()**: Return the indices that would sort an array along the specified axis.\n",
        "# 13. **np.where()**: Return the indices of elements in an array that satisfy a condition.\n",
        "# 14. **np.unique()**: Return the unique elements of an array.\n",
        "# 15. **np.in1d()**: Test whether each element of an array is contained in another array.\n",
        "# 16. **np.setdiff1d()**: Find the elements in one array that are not in another array.\n",
        "# 17. **np.intersect1d()**: Find the elements that are common to two arrays.\n",
        "# 18. **np.union1d()**: Find the elements that are in either of two arrays.\n",
        "# 19. **np.histogram()**: Calculate the histogram of an array.\n",
        "# 20. **np.corrcoef()**: Calculate the correlation coefficient between two arrays."
      ],
      "metadata": {
        "id": "bp89wTRIclvO"
      },
      "execution_count": null,
      "outputs": []
    },
    {
      "cell_type": "code",
      "source": [
        "myname=\"Aditya Kokra\"\n",
        "\n",
        "print(myname)"
      ],
      "metadata": {
        "colab": {
          "base_uri": "https://localhost:8080/"
        },
        "id": "9MguBW2azzQf",
        "outputId": "90ccd7ea-310f-4987-bd5e-7bc0d3e2cecb"
      },
      "execution_count": null,
      "outputs": [
        {
          "output_type": "stream",
          "name": "stdout",
          "text": [
            "Aditya Kokra\n"
          ]
        }
      ]
    },
    {
      "cell_type": "code",
      "source": [
        "import math as m\n",
        "x=int(input(\"Enter any number:\"))\n",
        "y=m.sqrt(x)\n",
        "print(y)"
      ],
      "metadata": {
        "id": "AJUazFbc0JfS"
      },
      "execution_count": null,
      "outputs": []
    }
  ]
}