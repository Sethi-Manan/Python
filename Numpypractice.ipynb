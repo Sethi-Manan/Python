{
  "nbformat": 4,
  "nbformat_minor": 0,
  "metadata": {
    "colab": {
      "provenance": []
    },
    "kernelspec": {
      "name": "python3",
      "display_name": "Python 3"
    },
    "language_info": {
      "name": "python"
    }
  },
  "cells": [
    {
      "cell_type": "code",
      "execution_count": null,
      "metadata": {
        "colab": {
          "base_uri": "https://localhost:8080/"
        },
        "id": "ticS0EK3CQDC",
        "outputId": "d3d9a84e-c769-42a3-efd9-406e5d2a2eb7"
      },
      "outputs": [
        {
          "output_type": "stream",
          "name": "stdout",
          "text": [
            "0\n",
            "1\n",
            "2\n",
            "3\n",
            "42\n",
            "\n",
            "[1 2 3 4 5]\n",
            "\n",
            "[[1 2 3]\n",
            " [4 5 6]]\n",
            "\n",
            "[[[1 2 3]\n",
            "  [4 5 6]]\n",
            "\n",
            " [[1 2 3]\n",
            "  [4 5 6]]]\n"
          ]
        }
      ],
      "source": [
        "import numpy as np\n",
        "\n",
        "a = np.array(42) # o-d array\n",
        "b = np.array([1, 2, 3, 4, 5]) # 1-darray\n",
        "c = np.array([[1, 2, 3], [4, 5, 6]]) #2- Darray\n",
        "d = np.array([[[1, 2, 3], [4, 5, 6]], [[1, 2, 3], [4, 5, 6]]]) #3 -Array\n",
        "\n",
        "print(a.ndim)\n",
        "print(b.ndim)\n",
        "print(c.ndim)\n",
        "print(d.ndim)\n",
        "print(a)\n",
        "print()\n",
        "print(b)\n",
        "print()\n",
        "print(c)\n",
        "print()\n",
        "print(d)"
      ]
    },
    {
      "cell_type": "code",
      "source": [
        "import numpy as np\n",
        "a=np.array(42)\n",
        "print(a)"
      ],
      "metadata": {
        "colab": {
          "base_uri": "https://localhost:8080/"
        },
        "id": "De2YFamJTIsI",
        "outputId": "d38cc68c-b228-4a1b-e8f6-ad2dd912dbcc"
      },
      "execution_count": null,
      "outputs": [
        {
          "output_type": "stream",
          "name": "stdout",
          "text": [
            "42\n"
          ]
        }
      ]
    },
    {
      "cell_type": "code",
      "source": [],
      "metadata": {
        "id": "Kt_REzZWYo45"
      },
      "execution_count": null,
      "outputs": []
    },
    {
      "cell_type": "code",
      "source": [
        "#Create an array with 5 dimensions and verify that it has 5 dimensions:\n",
        "\n",
        "import numpy as np\n",
        "\n",
        "arr = np.array([1, 2, 3, 4],ndmin=5)\n",
        "\n",
        "print(arr)\n",
        "print('number of dimensions :', arr.ndim)"
      ],
      "metadata": {
        "colab": {
          "base_uri": "https://localhost:8080/"
        },
        "id": "9NoLJMR8E-y8",
        "outputId": "f7289801-e9da-4786-d57e-93a9dba2a9c9"
      },
      "execution_count": null,
      "outputs": [
        {
          "output_type": "stream",
          "name": "stdout",
          "text": [
            "[[[[[1 2 3 4]]]]]\n",
            "number of dimensions : 5\n"
          ]
        }
      ]
    },
    {
      "cell_type": "code",
      "source": [
        "import numpy as np\n",
        "arr1=np.empty(10,dtype=int)\n",
        "\n",
        "print(arr1)"
      ],
      "metadata": {
        "colab": {
          "base_uri": "https://localhost:8080/"
        },
        "id": "_qPVmqdjUBqn",
        "outputId": "39419d8b-3fdb-44e7-a51d-15213aa7e187"
      },
      "execution_count": null,
      "outputs": [
        {
          "output_type": "stream",
          "name": "stdout",
          "text": [
            "[     94942033602366                   0                   0\n",
            "                   0     134230612901888 3978708592021286963\n",
            " 3689623911692120365 3256159951720888121 7076953142272210738\n",
            "     134231558940213]\n"
          ]
        }
      ]
    },
    {
      "cell_type": "markdown",
      "source": [],
      "metadata": {
        "id": "Idj27b9YSIAR"
      }
    },
    {
      "cell_type": "code",
      "source": [
        "arr1[0]=123\n",
        "arr1[1]=1263\n",
        "arr1[2]=1523\n",
        "arr1[3]=1293\n",
        "arr1[4]=1203\n",
        "arr1[5]=12566\n",
        "arr1[6]=1203\n",
        "arr1[7]=12123\n",
        "arr1[8]=12553\n",
        "arr1[9]=345\n",
        "\n",
        "print(arr1)"
      ],
      "metadata": {
        "colab": {
          "base_uri": "https://localhost:8080/"
        },
        "id": "9rRGGjVHPqTo",
        "outputId": "0ffc5528-3b27-498c-d5fb-104a42ae8358"
      },
      "execution_count": null,
      "outputs": [
        {
          "output_type": "stream",
          "name": "stdout",
          "text": [
            "[  123  1263  1523  1293  1203 12566  1203 12123 12553   345]\n"
          ]
        }
      ]
    },
    {
      "cell_type": "code",
      "source": [
        "arr =np.ndarray(5,dtype=float)\n",
        "print(arr)\n"
      ],
      "metadata": {
        "colab": {
          "base_uri": "https://localhost:8080/"
        },
        "id": "6gcmKrthRDZs",
        "outputId": "4801f2d2-13bb-4dda-d038-b43f51d4e871"
      },
      "execution_count": null,
      "outputs": [
        {
          "output_type": "stream",
          "name": "stdout",
          "text": [
            "[4.9e-324 9.9e-324 1.5e-323 2.0e-323 2.5e-323]\n"
          ]
        }
      ]
    },
    {
      "cell_type": "code",
      "source": [
        "arr[0]=199.99\n",
        "arr[1]=222.23\n",
        "arr[2]=999.88\n",
        "arr[3]=675.77\n",
        "arr[4]=444.56\n",
        "\n",
        "print(arr)"
      ],
      "metadata": {
        "colab": {
          "base_uri": "https://localhost:8080/",
          "height": 211
        },
        "id": "VQo-nXtSQXCh",
        "outputId": "dd36ce7e-51a9-4b5b-e21e-a12948ccddbb"
      },
      "execution_count": null,
      "outputs": [
        {
          "output_type": "error",
          "ename": "IndexError",
          "evalue": "index 1 is out of bounds for axis 0 with size 1",
          "traceback": [
            "\u001b[0;31m---------------------------------------------------------------------------\u001b[0m",
            "\u001b[0;31mIndexError\u001b[0m                                Traceback (most recent call last)",
            "\u001b[0;32m<ipython-input-5-45b18d026ff7>\u001b[0m in \u001b[0;36m<cell line: 2>\u001b[0;34m()\u001b[0m\n\u001b[1;32m      1\u001b[0m \u001b[0marr\u001b[0m\u001b[0;34m[\u001b[0m\u001b[0;36m0\u001b[0m\u001b[0;34m]\u001b[0m\u001b[0;34m=\u001b[0m\u001b[0;36m199.99\u001b[0m\u001b[0;34m\u001b[0m\u001b[0;34m\u001b[0m\u001b[0m\n\u001b[0;32m----> 2\u001b[0;31m \u001b[0marr\u001b[0m\u001b[0;34m[\u001b[0m\u001b[0;36m1\u001b[0m\u001b[0;34m]\u001b[0m\u001b[0;34m=\u001b[0m\u001b[0;36m222.23\u001b[0m\u001b[0;34m\u001b[0m\u001b[0;34m\u001b[0m\u001b[0m\n\u001b[0m\u001b[1;32m      3\u001b[0m \u001b[0marr\u001b[0m\u001b[0;34m[\u001b[0m\u001b[0;36m2\u001b[0m\u001b[0;34m]\u001b[0m\u001b[0;34m=\u001b[0m\u001b[0;36m999.88\u001b[0m\u001b[0;34m\u001b[0m\u001b[0;34m\u001b[0m\u001b[0m\n\u001b[1;32m      4\u001b[0m \u001b[0marr\u001b[0m\u001b[0;34m[\u001b[0m\u001b[0;36m3\u001b[0m\u001b[0;34m]\u001b[0m\u001b[0;34m=\u001b[0m\u001b[0;36m675.77\u001b[0m\u001b[0;34m\u001b[0m\u001b[0;34m\u001b[0m\u001b[0m\n\u001b[1;32m      5\u001b[0m \u001b[0marr\u001b[0m\u001b[0;34m[\u001b[0m\u001b[0;36m4\u001b[0m\u001b[0;34m]\u001b[0m\u001b[0;34m=\u001b[0m\u001b[0;36m444.56\u001b[0m\u001b[0;34m\u001b[0m\u001b[0;34m\u001b[0m\u001b[0m\n",
            "\u001b[0;31mIndexError\u001b[0m: index 1 is out of bounds for axis 0 with size 1"
          ]
        }
      ]
    },
    {
      "cell_type": "code",
      "source": [
        "print(arr)\n",
        "print(arr.ndim)\n"
      ],
      "metadata": {
        "colab": {
          "base_uri": "https://localhost:8080/"
        },
        "id": "-4_I7FknR3M7",
        "outputId": "e706841a-9d5e-4f74-ad4e-6b46a6d15b70"
      },
      "execution_count": null,
      "outputs": [
        {
          "output_type": "stream",
          "name": "stdout",
          "text": [
            "[[[[[199 199 199 199]]]]]\n",
            "5\n"
          ]
        }
      ]
    },
    {
      "cell_type": "code",
      "source": [
        "import numpy as np\n",
        "\n",
        "arr = np.array([11, 22, 33,14], dtype='S')\n",
        "\n",
        "print(arr)\n",
        "print(arr.dtype)"
      ],
      "metadata": {
        "colab": {
          "base_uri": "https://localhost:8080/"
        },
        "id": "R2UqicvOaxQ-",
        "outputId": "bb5a5412-f67e-4b36-be78-4c831f198c2f"
      },
      "execution_count": null,
      "outputs": [
        {
          "output_type": "stream",
          "name": "stdout",
          "text": [
            "[b'11' b'22' b'33' b'14']\n",
            "|S2\n"
          ]
        }
      ]
    },
    {
      "cell_type": "code",
      "source": [],
      "metadata": {
        "id": "9mnbTnFRT9v-"
      },
      "execution_count": null,
      "outputs": []
    },
    {
      "cell_type": "code",
      "source": [
        "import numpy as np\n",
        "\n",
        "arr1 = np.array([1, 2, 3, 4], dtype='i')\n",
        "\n",
        "print(arr1)\n",
        "print(arr1.dtype)"
      ],
      "metadata": {
        "colab": {
          "base_uri": "https://localhost:8080/"
        },
        "id": "GrJy08rfbSVG",
        "outputId": "9070e8df-d470-4399-926f-55eebf2b32de"
      },
      "execution_count": null,
      "outputs": [
        {
          "output_type": "stream",
          "name": "stdout",
          "text": [
            "[1 2 3 4]\n",
            "int32\n"
          ]
        }
      ]
    },
    {
      "cell_type": "code",
      "source": [
        "import numpy as np\n",
        "\n",
        "arr2 = np.array([1+0j, 2+3j, 3+5j, 4+2j])\n",
        "\n",
        "print(arr2)\n",
        "print(arr2.dtype)"
      ],
      "metadata": {
        "colab": {
          "base_uri": "https://localhost:8080/"
        },
        "id": "DmR3g92PcHtt",
        "outputId": "4dab3521-9d78-4511-c5c9-1fd2f6ea285f"
      },
      "execution_count": null,
      "outputs": [
        {
          "output_type": "stream",
          "name": "stdout",
          "text": [
            "[1.+0.j 2.+3.j 3.+5.j 4.+2.j]\n",
            "complex128\n"
          ]
        }
      ]
    },
    {
      "cell_type": "code",
      "source": [
        "c1=10+5j\n",
        "c2=12+7j\n",
        "c3=c1+c2\n",
        "print(c1,c2,c3,type(c1))"
      ],
      "metadata": {
        "colab": {
          "base_uri": "https://localhost:8080/"
        },
        "id": "dA5upciNbx41",
        "outputId": "ed5f4944-5c6a-4e98-e9eb-c5e2a65d3a7a"
      },
      "execution_count": null,
      "outputs": [
        {
          "output_type": "stream",
          "name": "stdout",
          "text": [
            "(10+5j) (12+7j) (22+12j) <class 'complex'>\n"
          ]
        }
      ]
    },
    {
      "cell_type": "code",
      "source": [
        "arr4=np.array(5,dtype=float)\n",
        "print(arr4)"
      ],
      "metadata": {
        "colab": {
          "base_uri": "https://localhost:8080/"
        },
        "id": "QGyF9UZpdPaL",
        "outputId": "5c616b32-8249-4a09-d38d-d9d6330d0fd8"
      },
      "execution_count": null,
      "outputs": [
        {
          "output_type": "stream",
          "name": "stdout",
          "text": [
            "5.0\n"
          ]
        }
      ]
    },
    {
      "cell_type": "code",
      "source": [
        "import numpy as np\n",
        "arr=np.ndarray(5,dtype=float)\n",
        "print(arr)\n",
        "\n"
      ],
      "metadata": {
        "colab": {
          "base_uri": "https://localhost:8080/"
        },
        "id": "JBpfQegodn0p",
        "outputId": "2046a19a-e8c6-4dee-f173-cdf19d45daee"
      },
      "execution_count": null,
      "outputs": [
        {
          "output_type": "stream",
          "name": "stdout",
          "text": [
            "[0.   0.25 0.5  0.75 1.  ]\n"
          ]
        }
      ]
    },
    {
      "cell_type": "code",
      "source": [
        "for i in range(0,5):\n",
        "  n=float(input(\"Enter any float number \"))\n",
        "  i=n\n",
        "\n",
        "\n"
      ],
      "metadata": {
        "colab": {
          "base_uri": "https://localhost:8080/"
        },
        "id": "DPBjg7uSjxFb",
        "outputId": "45ad1e23-1d60-467d-ac11-fb4224a10f07"
      },
      "execution_count": null,
      "outputs": [
        {
          "name": "stdout",
          "output_type": "stream",
          "text": [
            "Enter any float number 23.3\n",
            "Enter any float number 12.2\n",
            "Enter any float number 32.2\n",
            "Enter any float number 52.2\n",
            "Enter any float number 62.5\n"
          ]
        }
      ]
    },
    {
      "cell_type": "code",
      "source": [
        "print(arr)\n",
        "\n",
        "\n",
        "for x in arr:\n",
        "    print(x)"
      ],
      "metadata": {
        "colab": {
          "base_uri": "https://localhost:8080/",
          "height": 211
        },
        "id": "PFD1t511kOWM",
        "outputId": "b0f2762b-be48-4293-e1e3-ffb45f72eb16"
      },
      "execution_count": null,
      "outputs": [
        {
          "output_type": "error",
          "ename": "NameError",
          "evalue": "name 'arr' is not defined",
          "traceback": [
            "\u001b[0;31m---------------------------------------------------------------------------\u001b[0m",
            "\u001b[0;31mNameError\u001b[0m                                 Traceback (most recent call last)",
            "\u001b[0;32m<ipython-input-6-94d0af759a8a>\u001b[0m in \u001b[0;36m<cell line: 1>\u001b[0;34m()\u001b[0m\n\u001b[0;32m----> 1\u001b[0;31m \u001b[0mprint\u001b[0m\u001b[0;34m(\u001b[0m\u001b[0marr\u001b[0m\u001b[0;34m)\u001b[0m\u001b[0;34m\u001b[0m\u001b[0;34m\u001b[0m\u001b[0m\n\u001b[0m\u001b[1;32m      2\u001b[0m \u001b[0;34m\u001b[0m\u001b[0m\n\u001b[1;32m      3\u001b[0m \u001b[0;34m\u001b[0m\u001b[0m\n\u001b[1;32m      4\u001b[0m \u001b[0;32mfor\u001b[0m \u001b[0mx\u001b[0m \u001b[0;32min\u001b[0m \u001b[0marr\u001b[0m\u001b[0;34m:\u001b[0m\u001b[0;34m\u001b[0m\u001b[0;34m\u001b[0m\u001b[0m\n\u001b[1;32m      5\u001b[0m     \u001b[0mprint\u001b[0m\u001b[0;34m(\u001b[0m\u001b[0mx\u001b[0m\u001b[0;34m)\u001b[0m\u001b[0;34m\u001b[0m\u001b[0;34m\u001b[0m\u001b[0m\n",
            "\u001b[0;31mNameError\u001b[0m: name 'arr' is not defined"
          ]
        }
      ]
    },
    {
      "cell_type": "code",
      "source": [
        "#python loop\n",
        "s=0\n",
        "for x in range(1,6):\n",
        "  num=int(input(\"enter a number :\"))\n",
        "  s=s+num\n",
        "\n",
        "print(s)"
      ],
      "metadata": {
        "colab": {
          "base_uri": "https://localhost:8080/"
        },
        "id": "-tYa2L49kp6x",
        "outputId": "9ff2d8de-d15d-4d3a-e00d-f5c5e9e4cbd8"
      },
      "execution_count": null,
      "outputs": [
        {
          "output_type": "stream",
          "name": "stdout",
          "text": [
            "enter a number :7\n",
            "enter a number :8\n",
            "enter a number :9\n",
            "enter a number :4\n",
            "enter a number :7\n",
            "35\n"
          ]
        }
      ]
    },
    {
      "cell_type": "code",
      "source": [
        "import numpy as np\n",
        "\n",
        "arr = np.array([[11, 22, 33], [44, 55,66],[10,20,30],[44,66,77]])\n",
        "\n",
        "#print(arr)\n",
        "\n",
        "for x in arr:\n",
        "\n",
        "  for y in x:\n",
        "    print(y,end=\" \")\n",
        "  print()"
      ],
      "metadata": {
        "colab": {
          "base_uri": "https://localhost:8080/"
        },
        "id": "-t1WBQsSpRHa",
        "outputId": "0cc25f52-b6d2-45d3-89cd-7517b162528f"
      },
      "execution_count": null,
      "outputs": [
        {
          "output_type": "stream",
          "name": "stdout",
          "text": [
            "11 22 33 \n",
            "44 55 66 \n",
            "10 20 30 \n",
            "44 66 77 \n"
          ]
        }
      ]
    },
    {
      "cell_type": "code",
      "source": [
        "a=np.array([5,46,54,64,73,64,7,34,89,37,38,9])\n",
        "\n",
        "newarr = a.reshape(3, 4)\n",
        "\n",
        "print(newarr)\n",
        "\n",
        "print(np.sum(a))\n",
        "print(np.max(a))\n",
        "print(np.min(a))\n",
        "print(np.average(a))\n",
        "print(np.mean(a))\n",
        "print(np.median(a))"
      ],
      "metadata": {
        "colab": {
          "base_uri": "https://localhost:8080/"
        },
        "id": "UBXUsT2BqdnI",
        "outputId": "411b36ff-c9f7-4e2f-8e51-4125393a6e45"
      },
      "execution_count": null,
      "outputs": [
        {
          "output_type": "stream",
          "name": "stdout",
          "text": [
            "[[ 5 46 54 64]\n",
            " [73 64  7 34]\n",
            " [89 37 38  9]]\n",
            "520\n",
            "89\n",
            "5\n",
            "43.333333333333336\n",
            "43.333333333333336\n",
            "42.0\n"
          ]
        }
      ]
    },
    {
      "cell_type": "code",
      "source": [
        "y=a.reshape(2,2,3)\n",
        "print(y)"
      ],
      "metadata": {
        "colab": {
          "base_uri": "https://localhost:8080/"
        },
        "id": "1NyeIFLXr_hm",
        "outputId": "610efe84-153a-4795-8152-e9b33b1ec337"
      },
      "execution_count": null,
      "outputs": [
        {
          "output_type": "stream",
          "name": "stdout",
          "text": [
            "[[[ 5 46 54]\n",
            "  [64 73 64]]\n",
            "\n",
            " [[ 7 34 89]\n",
            "  [37 38  9]]]\n"
          ]
        }
      ]
    },
    {
      "cell_type": "code",
      "source": [
        "for k in range(1,4):\n",
        "  for i in range(1,4):\n",
        "    for j in range(1,4):\n",
        "      print(\"TGC\",end=\"\\t\")\n",
        "    print()\n",
        "  print()\n",
        "\n"
      ],
      "metadata": {
        "colab": {
          "base_uri": "https://localhost:8080/"
        },
        "id": "gMohhV0o0jE1",
        "outputId": "ab62ad55-d7e0-498b-da60-fa2cc77a04fa"
      },
      "execution_count": null,
      "outputs": [
        {
          "output_type": "stream",
          "name": "stdout",
          "text": [
            "TGC\tTGC\tTGC\t\n",
            "TGC\tTGC\tTGC\t\n",
            "TGC\tTGC\tTGC\t\n",
            "\n",
            "TGC\tTGC\tTGC\t\n",
            "TGC\tTGC\tTGC\t\n",
            "TGC\tTGC\tTGC\t\n",
            "\n",
            "TGC\tTGC\tTGC\t\n",
            "TGC\tTGC\tTGC\t\n",
            "TGC\tTGC\tTGC\t\n",
            "\n"
          ]
        }
      ]
    },
    {
      "cell_type": "code",
      "source": [
        "import numpy as np\n",
        "\n",
        "array1 = np.array([[[1, 2, 3], [4, 5, 6],[7,8,9],[1,6,9]]])\n",
        "\n",
        "print(array1)\n",
        "\n",
        "newarr1 = array1.reshape(-1)\n",
        "\n",
        "print(newarr1)"
      ],
      "metadata": {
        "colab": {
          "base_uri": "https://localhost:8080/"
        },
        "id": "bjtbx0HWtSQr",
        "outputId": "3e022f19-54f7-47a5-cf0d-69ffd4a37b6d"
      },
      "execution_count": null,
      "outputs": [
        {
          "output_type": "stream",
          "name": "stdout",
          "text": [
            "[[[1 2 3]\n",
            "  [4 5 6]\n",
            "  [7 8 9]\n",
            "  [1 6 9]]]\n",
            "[1 2 3 4 5 6 7 8 9 1 6 9]\n"
          ]
        }
      ]
    },
    {
      "cell_type": "code",
      "source": [
        "import numpy as np\n",
        "\n",
        "arr = np.array([[[1, 2, 3], [4, 5, 6]], [[7, 8, 9], [10, 11, 12]]])\n",
        "\n",
        "for x in arr:\n",
        "  print(\"x represents the 2-D array:\")\n",
        "  print(x)\n"
      ],
      "metadata": {
        "colab": {
          "base_uri": "https://localhost:8080/"
        },
        "id": "VrQ72VsMunR5",
        "outputId": "787f4b70-7aa4-4618-d275-e3b7ba182d2d"
      },
      "execution_count": null,
      "outputs": [
        {
          "output_type": "stream",
          "name": "stdout",
          "text": [
            "x represents the 2-D array:\n",
            "[[1 2 3]\n",
            " [4 5 6]]\n",
            "x represents the 2-D array:\n",
            "[[ 7  8  9]\n",
            " [10 11 12]]\n"
          ]
        }
      ]
    },
    {
      "cell_type": "code",
      "source": [
        "for i in arr:\n",
        "  for j in i:\n",
        "    for k in j:\n",
        "      print(k,end='\\t')\n",
        "    print()\n",
        "  print()\n"
      ],
      "metadata": {
        "colab": {
          "base_uri": "https://localhost:8080/"
        },
        "id": "zl7QUFZO4Ckr",
        "outputId": "9c58124a-ec7e-4d98-955c-2ef9ed3d5a7f"
      },
      "execution_count": null,
      "outputs": [
        {
          "output_type": "stream",
          "name": "stdout",
          "text": [
            "1\t2\t3\t\n",
            "4\t5\t6\t\n",
            "\n",
            "7\t8\t9\t\n",
            "10\t11\t12\t\n",
            "\n"
          ]
        }
      ]
    },
    {
      "cell_type": "code",
      "source": [
        "import numpy as np\n",
        "\n",
        "arr = np.array([[[1, 2, 3],\n",
        "                 [4, 5, 6]],\n",
        "                 [[7, 8, 9],\n",
        "                  [10, 11, 12]]])\n",
        "\n",
        "for x in arr:\n",
        "  for y in x:\n",
        "    for z in y:\n",
        "      print(z,end=' ')\n",
        "    print()\n",
        "  print()\n",
        "\n",
        "s=np.sum(arr)\n",
        "print(s)"
      ],
      "metadata": {
        "colab": {
          "base_uri": "https://localhost:8080/"
        },
        "id": "Bu2pj0Mgu_0x",
        "outputId": "8b449196-6a57-4521-f7ec-669eda9d0124"
      },
      "execution_count": null,
      "outputs": [
        {
          "output_type": "stream",
          "name": "stdout",
          "text": [
            "1 2 3 \n",
            "4 5 6 \n",
            "\n",
            "7 8 9 \n",
            "10 11 12 \n",
            "\n",
            "78\n"
          ]
        }
      ]
    },
    {
      "cell_type": "code",
      "source": [
        "import numpy as np\n",
        "\n",
        "arr = np.array([[[11, 12, 13], [14, 15, 16]], [[17, 108, 19], [20, 21, 22]]])\n",
        "s1=0\n",
        "for x in arr:\n",
        "  for y in x:\n",
        "    for z in y:\n",
        "      print(z,end=' ')\n",
        "      s1=s1+z\n",
        "    print()\n",
        "  print()\n",
        "print(s1)"
      ],
      "metadata": {
        "colab": {
          "base_uri": "https://localhost:8080/"
        },
        "id": "aVbcgEcZyYqr",
        "outputId": "913f1e1a-014d-4a89-cbdc-b4054be3ba9c"
      },
      "execution_count": null,
      "outputs": [
        {
          "output_type": "stream",
          "name": "stdout",
          "text": [
            "11 12 13 \n",
            "14 15 16 \n",
            "\n",
            "17 108 19 \n",
            "20 21 22 \n",
            "\n",
            "288\n"
          ]
        }
      ]
    },
    {
      "cell_type": "code",
      "source": [
        "\n",
        "#accessing individual or scalar value from array using nditer\n",
        "s=0\n",
        "for x in np.nditer(arr):\n",
        "  s=s+x\n",
        "  print(x,end=\" \")\n",
        "\n",
        "print(\"\\nSum of array data is\",s)\n",
        "print(\"Highest value\",np.max(arr))"
      ],
      "metadata": {
        "colab": {
          "base_uri": "https://localhost:8080/"
        },
        "id": "DGjaClcdzwjK",
        "outputId": "890a81b3-4658-47c0-8b18-ca1e496990de"
      },
      "execution_count": null,
      "outputs": [
        {
          "output_type": "stream",
          "name": "stdout",
          "text": [
            "11 12 13 14 15 16 17 108 19 20 21 22 \n",
            "Sum of array data is 288\n",
            "Highest value 108\n"
          ]
        }
      ]
    },
    {
      "cell_type": "code",
      "source": [
        "for x in np.nditer(arr[:, ::2]):\n",
        "  print(x)"
      ],
      "metadata": {
        "colab": {
          "base_uri": "https://localhost:8080/"
        },
        "id": "SlbHVwEx0jaZ",
        "outputId": "bb6503a9-33bc-4982-9d6f-7a22cab963c8"
      },
      "execution_count": null,
      "outputs": [
        {
          "output_type": "stream",
          "name": "stdout",
          "text": [
            "11\n",
            "12\n",
            "13\n",
            "17\n",
            "108\n",
            "19\n"
          ]
        }
      ]
    },
    {
      "cell_type": "code",
      "source": [
        "for idx, x in np.ndenumerate(arr):\n",
        "  print(idx, x)\n",
        "\n",
        "\n",
        "print(arr[0,1,1])\n",
        "\n",
        "s=arr[1,0,0]+arr[1,0,1]+arr[1,0,2]\n",
        "print(s)"
      ],
      "metadata": {
        "id": "YJoI1BkX1BXY",
        "outputId": "038db432-2721-47a1-c282-bce17ce1ce37",
        "colab": {
          "base_uri": "https://localhost:8080/"
        }
      },
      "execution_count": null,
      "outputs": [
        {
          "output_type": "stream",
          "name": "stdout",
          "text": [
            "(0, 0, 0) 11\n",
            "(0, 0, 1) 12\n",
            "(0, 0, 2) 13\n",
            "(0, 1, 0) 14\n",
            "(0, 1, 1) 15\n",
            "(0, 1, 2) 16\n",
            "(1, 0, 0) 17\n",
            "(1, 0, 1) 108\n",
            "(1, 0, 2) 19\n",
            "(1, 1, 0) 20\n",
            "(1, 1, 1) 21\n",
            "(1, 1, 2) 22\n",
            "15\n",
            "144\n"
          ]
        }
      ]
    },
    {
      "cell_type": "code",
      "source": [
        "for i in range(3):\n",
        "  for j in range(3):\n",
        "    for k in range(3):\n",
        "      print(\"Raman\",end='\\t')\n",
        "    print()\n",
        "  print()"
      ],
      "metadata": {
        "colab": {
          "base_uri": "https://localhost:8080/"
        },
        "id": "HQ5rU7J9w6u-",
        "outputId": "eacd5822-2c96-42fa-9c0e-9697f5be3cde"
      },
      "execution_count": null,
      "outputs": [
        {
          "output_type": "stream",
          "name": "stdout",
          "text": [
            "Raman\tRaman\tRaman\t\n",
            "Raman\tRaman\tRaman\t\n",
            "Raman\tRaman\tRaman\t\n",
            "\n",
            "Raman\tRaman\tRaman\t\n",
            "Raman\tRaman\tRaman\t\n",
            "Raman\tRaman\tRaman\t\n",
            "\n",
            "Raman\tRaman\tRaman\t\n",
            "Raman\tRaman\tRaman\t\n",
            "Raman\tRaman\tRaman\t\n",
            "\n"
          ]
        }
      ]
    },
    {
      "cell_type": "code",
      "source": [
        "# joining array\n",
        "import numpy as np\n",
        "\n",
        "arr1 = np.array([11, 22, 33])\n",
        "\n",
        "arr2 = np.array([44, 55, 66])\n",
        "\n",
        "arr = np.concatenate((arr1, arr2))\n",
        "\n",
        "arr3=arr1+arr2\n",
        "print(arr)\n",
        "print(arr3)\n"
      ],
      "metadata": {
        "colab": {
          "base_uri": "https://localhost:8080/"
        },
        "id": "zpzUHJlpummL",
        "outputId": "75338379-f257-49fc-c5c9-dcc65e04f567"
      },
      "execution_count": null,
      "outputs": [
        {
          "output_type": "stream",
          "name": "stdout",
          "text": [
            "[11 22 33 44 55 66]\n",
            "[55 77 99]\n"
          ]
        }
      ]
    },
    {
      "cell_type": "code",
      "source": [
        "dir(int)\n",
        "\n",
        "a=9\n",
        "b=18\n",
        "s=a+b\n",
        "print(s)\n",
        "\n",
        "print(s)"
      ],
      "metadata": {
        "colab": {
          "base_uri": "https://localhost:8080/"
        },
        "id": "t6FaSBkI45cR",
        "outputId": "a0d3ff48-8876-4d94-dcd1-e0420368923c"
      },
      "execution_count": null,
      "outputs": [
        {
          "output_type": "stream",
          "name": "stdout",
          "text": [
            "27\n",
            "27\n"
          ]
        }
      ]
    },
    {
      "cell_type": "code",
      "source": [
        "#Splitting 1-D Arrays\n",
        "import numpy as np\n",
        "\n",
        "arr = np.array([11, 12, 13, 14, 15, 16 ,55, 33, 66, 77, 88, 120, 34 , 66, 67])\n",
        "\n",
        "print(arr)\n",
        "\n",
        "print()\n",
        "newarr = np.array_split(arr, 3)\n",
        "\n",
        "print(newarr)\n",
        "print()\n",
        "print(newarr[0])\n",
        "print()\n",
        "\n",
        "for x in newarr:\n",
        "  print(x)\n",
        "\n",
        "for x in newarr:\n",
        "  print(x,\":\",sum(x),max(x))"
      ],
      "metadata": {
        "colab": {
          "base_uri": "https://localhost:8080/"
        },
        "id": "GcEjKmilu1C0",
        "outputId": "ea536ea2-43a6-4560-b0c8-e4b6815d44d1"
      },
      "execution_count": null,
      "outputs": [
        {
          "output_type": "stream",
          "name": "stdout",
          "text": [
            "[ 11  12  13  14  15  16  55  33  66  77  88 120  34  66  67]\n",
            "\n",
            "[array([11, 12, 13, 14, 15]), array([16, 55, 33, 66, 77]), array([ 88, 120,  34,  66,  67])]\n",
            "\n",
            "[11 12 13 14 15]\n",
            "\n",
            "[11 12 13 14 15]\n",
            "[16 55 33 66 77]\n",
            "[ 88 120  34  66  67]\n",
            "[11 12 13 14 15] : 65 15\n",
            "[16 55 33 66 77] : 247 77\n",
            "[ 88 120  34  66  67] : 375 120\n"
          ]
        }
      ]
    },
    {
      "cell_type": "code",
      "source": [
        "#Splitting 2-D Arrays\n",
        "import numpy as np\n",
        "\n",
        "arr = np.array([[1, 2], [3, 4], [5, 6], [7, 8], [9, 10], [11, 12]])\n",
        "\n",
        "print(arr)\n",
        "\n",
        "newarr = np.array_split(arr, 3)\n",
        "\n",
        "print(newarr)\n",
        "\n",
        "for x in newarr:\n",
        "  print(x)"
      ],
      "metadata": {
        "colab": {
          "base_uri": "https://localhost:8080/"
        },
        "id": "E0r56VOLvxQs",
        "outputId": "907beabc-f492-405d-a8ae-dd8e8d475143"
      },
      "execution_count": null,
      "outputs": [
        {
          "output_type": "stream",
          "name": "stdout",
          "text": [
            "[[ 1  2]\n",
            " [ 3  4]\n",
            " [ 5  6]\n",
            " [ 7  8]\n",
            " [ 9 10]\n",
            " [11 12]]\n",
            "[array([[1, 2],\n",
            "       [3, 4]]), array([[5, 6],\n",
            "       [7, 8]]), array([[ 9, 10],\n",
            "       [11, 12]])]\n",
            "[[1 2]\n",
            " [3 4]]\n",
            "[[5 6]\n",
            " [7 8]]\n",
            "[[ 9 10]\n",
            " [11 12]]\n"
          ]
        }
      ]
    },
    {
      "cell_type": "code",
      "source": [
        "#Split the 2-D array into three 1-D arrays along rows.\n",
        "import numpy as np\n",
        "\n",
        "arr = np.array([[1, 2, 3], [4, 5, 6], [7, 8, 9], [10, 11, 12], [13, 14, 15], [16, 17, 18]])\n",
        "\n",
        "print(arr)\n",
        "\n",
        "newarr = np.array_split(arr, 3, axis=1)\n",
        "print()\n",
        "print(newarr)"
      ],
      "metadata": {
        "colab": {
          "base_uri": "https://localhost:8080/"
        },
        "id": "-gC4eqNrwdK6",
        "outputId": "1793a1da-afdf-4398-d288-c8089d2a9674"
      },
      "execution_count": null,
      "outputs": [
        {
          "output_type": "stream",
          "name": "stdout",
          "text": [
            "[[ 1  2  3]\n",
            " [ 4  5  6]\n",
            " [ 7  8  9]\n",
            " [10 11 12]\n",
            " [13 14 15]\n",
            " [16 17 18]]\n",
            "\n",
            "[array([[ 1],\n",
            "       [ 4],\n",
            "       [ 7],\n",
            "       [10],\n",
            "       [13],\n",
            "       [16]]), array([[ 2],\n",
            "       [ 5],\n",
            "       [ 8],\n",
            "       [11],\n",
            "       [14],\n",
            "       [17]]), array([[ 3],\n",
            "       [ 6],\n",
            "       [ 9],\n",
            "       [12],\n",
            "       [15],\n",
            "       [18]])]\n"
          ]
        }
      ]
    },
    {
      "cell_type": "code",
      "source": [
        "#Use the hsplit() method to split the 2-D array into three 2-D arrays along rows.\n",
        "import numpy as np\n",
        "\n",
        "arr = np.array([[1, 2, 3], [4, 5, 6], [7, 8, 9], [10, 11, 12], [13, 14, 15], [16, 17, 18]])\n",
        "\n",
        "newarr = np.hsplit(arr, 3)\n",
        "\n",
        "print(newarr)\n",
        "\n",
        "\n",
        "newarr2 = np.vsplit(arr, 3)\n",
        "\n",
        "print(newarr2)\n",
        "\n",
        "\n",
        "newarr1=np.hstack(arr)\n",
        "\n",
        "print(newarr1)\n",
        "\n",
        "\n"
      ],
      "metadata": {
        "colab": {
          "base_uri": "https://localhost:8080/"
        },
        "id": "rbtM1M6yxFSQ",
        "outputId": "96a5f9a4-1d19-41be-c0ff-217fae86c35b"
      },
      "execution_count": null,
      "outputs": [
        {
          "output_type": "stream",
          "name": "stdout",
          "text": [
            "[array([[ 1],\n",
            "       [ 4],\n",
            "       [ 7],\n",
            "       [10],\n",
            "       [13],\n",
            "       [16]]), array([[ 2],\n",
            "       [ 5],\n",
            "       [ 8],\n",
            "       [11],\n",
            "       [14],\n",
            "       [17]]), array([[ 3],\n",
            "       [ 6],\n",
            "       [ 9],\n",
            "       [12],\n",
            "       [15],\n",
            "       [18]])]\n",
            "[array([[1, 2, 3],\n",
            "       [4, 5, 6]]), array([[ 7,  8,  9],\n",
            "       [10, 11, 12]]), array([[13, 14, 15],\n",
            "       [16, 17, 18]])]\n",
            "[ 1  2  3  4  5  6  7  8  9 10 11 12 13 14 15 16 17 18]\n"
          ]
        }
      ]
    },
    {
      "cell_type": "code",
      "source": [
        "#Searching Arrays\n",
        "#You can search an array for a certain value, and return the indexes that get a match.\n",
        "\n",
        "#To search an array, use the where() method.\n",
        "\n",
        "import numpy as np\n",
        "\n",
        "arr = np.array([55, 55, 13, 14, 15, 16 ,55, 33, 66, 77, 55, 120, 34 , 66, 55,44,55])\n",
        "\n",
        "x=np.where(arr==55)\n",
        "\n",
        "print(x)"
      ],
      "metadata": {
        "colab": {
          "base_uri": "https://localhost:8080/"
        },
        "id": "S-STYo5YybWU",
        "outputId": "fb46afcc-b9a5-4e1e-a486-d57afd15fc1d"
      },
      "execution_count": null,
      "outputs": [
        {
          "output_type": "stream",
          "name": "stdout",
          "text": [
            "(array([ 0,  1,  6, 10, 14, 16]),)\n"
          ]
        }
      ]
    },
    {
      "cell_type": "code",
      "source": [
        "#Generate Random Number\n",
        "from numpy import random\n",
        "\n",
        "x = random.randint(100)\n",
        "\n",
        "print(x)\n",
        "\n",
        "y = random.rand()\n",
        "\n",
        "print(y)"
      ],
      "metadata": {
        "colab": {
          "base_uri": "https://localhost:8080/"
        },
        "id": "FNOXP1xc1mHP",
        "outputId": "6f80f5cf-e87f-47ff-bfad-9d3077387de8"
      },
      "execution_count": null,
      "outputs": [
        {
          "output_type": "stream",
          "name": "stdout",
          "text": [
            "64\n",
            "0.29307871344300185\n"
          ]
        }
      ]
    },
    {
      "cell_type": "code",
      "source": [
        "#Generate Random Array\n",
        "from numpy import random\n",
        "\n",
        "x=random.randint(100, size=(200))\n",
        "\n",
        "print(x)\n",
        "\n",
        "print(sum(x))\n",
        "\n",
        "print(\"max vlaue\",max(x),\"min value:-\",min(x))"
      ],
      "metadata": {
        "colab": {
          "base_uri": "https://localhost:8080/"
        },
        "id": "91JoTRWZ2Lrr",
        "outputId": "444cb669-23a2-49c7-8bb9-e337f3abf8fd"
      },
      "execution_count": null,
      "outputs": [
        {
          "output_type": "stream",
          "name": "stdout",
          "text": [
            "[16 19 71 93 72 49 43 79 87 87 66 58 34  3 53 81 54 15 61 73 80 52  4 50\n",
            " 74 84  9  9 80 80 59  8 85 76  4  0 80 20 36  5 79 84 10 57 28 98  6 27\n",
            " 93 27 81 44  7 29 38 86  5 86  2 34 55 10 60 66 62 99 55 18 23 95 17 75\n",
            " 67 44 92 52 34 17  9 99 75 24 78 76 38 33 94 55 44 61 37 83 26 53 34 35\n",
            " 68 48 69 77 35 39 87 17 74 19 58 11  9 13  6 22 46 21  1 85 99 77 37  0\n",
            " 53 25 66 73 89 99 75 46 13 51 12 59  6 24  8 47 40 48 85  4 31 25 98 81\n",
            "  7 57 60 49 65  4 69 65 51 81 62  9 29  3 83 16 60 79 66 20 64 88 92  9\n",
            " 26 34 66 43 72 78 60 10  5  3 21 77  4 12 19 57 36 72  2 71 72 67 96 60\n",
            " 13 37 14 19 41 34 35 25]\n",
            "9470\n",
            "max vlaue 99 min value:- 0\n"
          ]
        }
      ]
    },
    {
      "cell_type": "code",
      "source": [
        "x = random.randint(1000, size=(5, 6))\n",
        "\n",
        "print(x)\n",
        "print()\n",
        "for y in x:\n",
        "  print(y,\"=\",sum(y),\"max=\",max(y),\"min=\",min(y))\n",
        "\n"
      ],
      "metadata": {
        "colab": {
          "base_uri": "https://localhost:8080/"
        },
        "id": "6grCHdZ022M5",
        "outputId": "ed73b87b-1fd6-44ae-d7af-697e3d1a694a"
      },
      "execution_count": null,
      "outputs": [
        {
          "output_type": "stream",
          "name": "stdout",
          "text": [
            "[[337 779 511 852  79 380]\n",
            " [337 619 523 553 876 148]\n",
            " [  9 817 357  24 497 789]\n",
            " [969 485   0 397 831 207]\n",
            " [713 971 491 931 742 589]]\n",
            "\n",
            "[337 779 511 852  79 380] = 2938 max= 852 min= 79\n",
            "[337 619 523 553 876 148] = 3056 max= 876 min= 148\n",
            "[  9 817 357  24 497 789] = 2493 max= 817 min= 9\n",
            "[969 485   0 397 831 207] = 2889 max= 969 min= 0\n",
            "[713 971 491 931 742 589] = 4437 max= 971 min= 491\n"
          ]
        }
      ]
    },
    {
      "cell_type": "code",
      "source": [
        "x = random.rand(50)\n",
        "\n",
        "print(x*10)\n",
        "\n",
        "print(\"Highest value is \",max(x))\n",
        "print(\"Minimum value is\",min(x))\n",
        "\n",
        "print(\"difference b/w highest and lowest value \",max(x)-min(x))"
      ],
      "metadata": {
        "colab": {
          "base_uri": "https://localhost:8080/"
        },
        "id": "Mp2UXwaA5KP2",
        "outputId": "853d5dc9-af8f-46d5-802d-9a356257d089"
      },
      "execution_count": null,
      "outputs": [
        {
          "output_type": "stream",
          "name": "stdout",
          "text": [
            "[1.7967421  2.94211798 3.67110247 1.61671772 9.07497661 6.67720983\n",
            " 6.50702484 7.63925674 6.50378564 2.38407458 3.2762844  8.54649109\n",
            " 0.74215433 4.06824561 4.35105546 3.62929881 3.28569025 6.52505564\n",
            " 7.7290944  2.71120317 4.87181668 0.19842672 1.47131559 9.95805885\n",
            " 3.47689225 4.602421   2.74872191 8.88694193 4.2160322  3.99485692\n",
            " 5.10517989 0.52284354 4.62079055 5.16231605 9.35516081 8.14734077\n",
            " 2.88426354 8.48729577 6.60713092 6.11526702 1.04260149 5.97197182\n",
            " 9.40102585 8.59712733 3.88639621 3.10924336 5.64343002 8.22252522\n",
            " 0.55262515 6.06483876]\n",
            "Highest value is  0.9958058850050745\n",
            "Minimum value is 0.019842672096382574\n",
            "difference b/w highest and lowest value  0.9759632129086919\n"
          ]
        }
      ]
    },
    {
      "cell_type": "code",
      "source": [
        "#Generate Random Number From Array\n",
        "#The choice() method allows you to generate a random value based on an array of values.\n",
        "\n",
        "#The choice() method takes an array as a parameter and randomly returns one of the values.\n",
        "\n",
        "from numpy import random\n",
        "otp=' '\n",
        "\n",
        "for k in range(4):\n",
        "  x = random.choice([6,7,8,8,5,8,8,7,6,8,5])\n",
        "  otp+=str(x)\n",
        "\n",
        "print(otp)\n",
        "\n"
      ],
      "metadata": {
        "colab": {
          "base_uri": "https://localhost:8080/"
        },
        "id": "KWQ5w8ls5lra",
        "outputId": "ae9f4c45-4e8a-4884-a9c1-f13386798f63"
      },
      "execution_count": null,
      "outputs": [
        {
          "output_type": "stream",
          "name": "stdout",
          "text": [
            " 7778\n"
          ]
        }
      ]
    },
    {
      "cell_type": "code",
      "source": [
        "from numpy import random\n",
        "otp=' '\n",
        "\n",
        "for k in range(4):\n",
        "  x = random.randint(10)\n",
        "\n",
        "  otp+=str(x)\n",
        "\n",
        "\n",
        "print(otp)\n"
      ],
      "metadata": {
        "colab": {
          "base_uri": "https://localhost:8080/"
        },
        "id": "MwGt-uy0A6QF",
        "outputId": "d482518f-5730-4600-a63d-243b311b9de3"
      },
      "execution_count": null,
      "outputs": [
        {
          "output_type": "stream",
          "name": "stdout",
          "text": [
            "1\n",
            " 1\n",
            "8\n",
            " 18\n",
            "2\n",
            " 182\n",
            "7\n",
            " 1827\n",
            " 1827\n"
          ]
        }
      ]
    },
    {
      "cell_type": "code",
      "source": [
        "print(random.randint(1000,9999))"
      ],
      "metadata": {
        "colab": {
          "base_uri": "https://localhost:8080/"
        },
        "id": "4Vnv-_-iBpNw",
        "outputId": "2ab83e7c-9dfc-4b35-e573-452c6659a4d3"
      },
      "execution_count": null,
      "outputs": [
        {
          "output_type": "stream",
          "name": "stdout",
          "text": [
            "3859\n"
          ]
        }
      ]
    },
    {
      "cell_type": "code",
      "source": [
        "#Generate a 2-D array that consists of the values in the array parameter (3, 5, 7, and 9):\n",
        "from numpy import random\n",
        "\n",
        "x = random.choice([3, 5, 7, 9], size=(4, 5))\n",
        "\n",
        "print(x)"
      ],
      "metadata": {
        "colab": {
          "base_uri": "https://localhost:8080/"
        },
        "id": "iupeogp67j4V",
        "outputId": "46aa1a76-7783-4cd0-deb1-1759f33c429d"
      },
      "execution_count": null,
      "outputs": [
        {
          "output_type": "stream",
          "name": "stdout",
          "text": [
            "[[5 7 3 3 9]\n",
            " [9 5 7 3 5]\n",
            " [5 7 5 5 7]\n",
            " [7 7 9 7 9]]\n"
          ]
        }
      ]
    },
    {
      "cell_type": "code",
      "source": [
        "from numpy import random\n",
        "\n",
        "x = random.choice([3, 5, 7, 9], p=[0.1, 0.3, 0.5, 0.1], size=(100))\n",
        "\n",
        "print(x)\n",
        "print(len(x))\n",
        "y=list(x)\n",
        "print(y)\n",
        "p3=y.count(3)\n",
        "print(p3)"
      ],
      "metadata": {
        "colab": {
          "base_uri": "https://localhost:8080/"
        },
        "id": "lv0i_3UBARw4",
        "outputId": "7d3ae909-5624-4552-a6b8-e9f6123bad00"
      },
      "execution_count": null,
      "outputs": [
        {
          "output_type": "stream",
          "name": "stdout",
          "text": [
            "[7 5 3 5 7 7 5 7 5 7 3 3 3 5 9 7 7 5 9 7 7 9 5 3 7 3 7 7 5 7 5 5 7 7 5 9 9\n",
            " 9 3 9 9 5 7 7 5 3 9 3 7 5 7 7 5 5 5 7 7 7 7 9 7 3 7 5 7 7 7 3 7 7 5 5 7 3\n",
            " 7 5 5 3 7 7 7 7 7 7 7 7 5 7 5 5 7 7 9 7 7 5 3 5 3 7]\n",
            "100\n",
            "[7, 5, 3, 5, 7, 7, 5, 7, 5, 7, 3, 3, 3, 5, 9, 7, 7, 5, 9, 7, 7, 9, 5, 3, 7, 3, 7, 7, 5, 7, 5, 5, 7, 7, 5, 9, 9, 9, 3, 9, 9, 5, 7, 7, 5, 3, 9, 3, 7, 5, 7, 7, 5, 5, 5, 7, 7, 7, 7, 9, 7, 3, 7, 5, 7, 7, 7, 3, 7, 7, 5, 5, 7, 3, 7, 5, 5, 3, 7, 7, 7, 7, 7, 7, 7, 7, 5, 7, 5, 5, 7, 7, 9, 7, 7, 5, 3, 5, 3, 7]\n",
            "15\n"
          ]
        }
      ]
    },
    {
      "cell_type": "code",
      "source": [
        "#Randomly shuffle elements of following array:\n",
        "from numpy import random\n",
        "import numpy as np\n",
        "\n",
        "arr = np.array([1, 2, 3, 4, 5])\n",
        "\n",
        "random.shuffle(arr)\n",
        "\n",
        "print(arr)\n"
      ],
      "metadata": {
        "colab": {
          "base_uri": "https://localhost:8080/"
        },
        "id": "SPCiTiBk_S9B",
        "outputId": "f48ac1e4-3326-42a1-a2c3-83f6bb20696c"
      },
      "execution_count": null,
      "outputs": [
        {
          "output_type": "stream",
          "name": "stdout",
          "text": [
            "[4 3 5 2 1]\n"
          ]
        }
      ]
    },
    {
      "cell_type": "code",
      "source": [
        "#Generate a random permutation of elements of following array:\n",
        "\n",
        "from numpy import random\n",
        "import numpy as np\n",
        "\n",
        "arr = np.array([1, 2, 3, 4, 5])\n",
        "\n",
        "print(random.permutation(arr))"
      ],
      "metadata": {
        "colab": {
          "base_uri": "https://localhost:8080/"
        },
        "id": "o1YL2p1D_vHn",
        "outputId": "b1b6efc8-534a-4e7f-d5bc-b2b53b76438e"
      },
      "execution_count": null,
      "outputs": [
        {
          "output_type": "stream",
          "name": "stdout",
          "text": [
            "[5 1 2 3 4]\n"
          ]
        }
      ]
    },
    {
      "cell_type": "code",
      "source": [
        "#Seaborn\n",
        "!pip install seaborn"
      ],
      "metadata": {
        "colab": {
          "base_uri": "https://localhost:8080/"
        },
        "id": "JdfzGZWXB-st",
        "outputId": "8fdf0e20-39e4-4cdf-f6d3-b4a50f7d1ccc",
        "collapsed": true
      },
      "execution_count": null,
      "outputs": [
        {
          "output_type": "stream",
          "name": "stdout",
          "text": [
            "Requirement already satisfied: seaborn in /usr/local/lib/python3.10/dist-packages (0.13.1)\n",
            "Requirement already satisfied: numpy!=1.24.0,>=1.20 in /usr/local/lib/python3.10/dist-packages (from seaborn) (1.25.2)\n",
            "Requirement already satisfied: pandas>=1.2 in /usr/local/lib/python3.10/dist-packages (from seaborn) (2.0.3)\n",
            "Requirement already satisfied: matplotlib!=3.6.1,>=3.4 in /usr/local/lib/python3.10/dist-packages (from seaborn) (3.7.1)\n",
            "Requirement already satisfied: contourpy>=1.0.1 in /usr/local/lib/python3.10/dist-packages (from matplotlib!=3.6.1,>=3.4->seaborn) (1.2.1)\n",
            "Requirement already satisfied: cycler>=0.10 in /usr/local/lib/python3.10/dist-packages (from matplotlib!=3.6.1,>=3.4->seaborn) (0.12.1)\n",
            "Requirement already satisfied: fonttools>=4.22.0 in /usr/local/lib/python3.10/dist-packages (from matplotlib!=3.6.1,>=3.4->seaborn) (4.51.0)\n",
            "Requirement already satisfied: kiwisolver>=1.0.1 in /usr/local/lib/python3.10/dist-packages (from matplotlib!=3.6.1,>=3.4->seaborn) (1.4.5)\n",
            "Requirement already satisfied: packaging>=20.0 in /usr/local/lib/python3.10/dist-packages (from matplotlib!=3.6.1,>=3.4->seaborn) (24.0)\n",
            "Requirement already satisfied: pillow>=6.2.0 in /usr/local/lib/python3.10/dist-packages (from matplotlib!=3.6.1,>=3.4->seaborn) (9.4.0)\n",
            "Requirement already satisfied: pyparsing>=2.3.1 in /usr/local/lib/python3.10/dist-packages (from matplotlib!=3.6.1,>=3.4->seaborn) (3.1.2)\n",
            "Requirement already satisfied: python-dateutil>=2.7 in /usr/local/lib/python3.10/dist-packages (from matplotlib!=3.6.1,>=3.4->seaborn) (2.8.2)\n",
            "Requirement already satisfied: pytz>=2020.1 in /usr/local/lib/python3.10/dist-packages (from pandas>=1.2->seaborn) (2023.4)\n",
            "Requirement already satisfied: tzdata>=2022.1 in /usr/local/lib/python3.10/dist-packages (from pandas>=1.2->seaborn) (2024.1)\n",
            "Requirement already satisfied: six>=1.5 in /usr/local/lib/python3.10/dist-packages (from python-dateutil>=2.7->matplotlib!=3.6.1,>=3.4->seaborn) (1.16.0)\n"
          ]
        }
      ]
    },
    {
      "cell_type": "code",
      "source": [
        "#Plotting a Distplot\n",
        "import numpy as np\n",
        "import matplotlib.pyplot as plt\n",
        "import seaborn as sns\n",
        "arr=np.array([2,7,8,9,5,3,2,7,3,4,5,4]);\n",
        "sns.histplot(arr)\n",
        "\n",
        "plt.show()"
      ],
      "metadata": {
        "colab": {
          "base_uri": "https://localhost:8080/",
          "height": 430
        },
        "id": "nDGQq5PVCfUt",
        "outputId": "f3b9a713-3bad-4ed4-d8b1-afdb6dfa0de5"
      },
      "execution_count": null,
      "outputs": [
        {
          "output_type": "display_data",
          "data": {
            "text/plain": [
              "<Figure size 640x480 with 1 Axes>"
            ],
            "image/png": "[encoded data removed]"
          },
          "metadata": {}
        }
      ]
    },
    {
      "cell_type": "code",
      "source": [
        "import matplotlib.pyplot as plt\n",
        "import seaborn as sns\n",
        "\n",
        "sns.distplot(arr, hist=True)\n",
        "\n",
        "plt.show()"
      ],
      "metadata": {
        "colab": {
          "base_uri": "https://localhost:8080/",
          "height": 626
        },
        "id": "iWvsG43TFqaP",
        "outputId": "89b2f841-5ff1-41b5-ff22-33c162b940ed"
      },
      "execution_count": null,
      "outputs": [
        {
          "output_type": "stream",
          "name": "stderr",
          "text": [
            "<ipython-input-34-cdb89ae126fd>:4: UserWarning: \n",
            "\n",
            "`distplot` is a deprecated function and will be removed in seaborn v0.14.0.\n",
            "\n",
            "Please adapt your code to use either `displot` (a figure-level function with\n",
            "similar flexibility) or `histplot` (an axes-level function for histograms).\n",
            "\n",
            "For a guide to updating your code to use the new functions, please see\n",
            "https://gist.github.com/mwaskom/de44147ed2974457ad6372750bbe5751\n",
            "\n",
            "  sns.distplot(arr, hist=True)\n"
          ]
        },
        {
          "output_type": "display_data",
          "data": {
            "text/plain": [
              "<Figure size 640x480 with 1 Axes>"
            ],
            "image/png": "[encoded data removed]"
          },
          "metadata": {}
        }
      ]
    },
    {
      "cell_type": "code",
      "source": [
        "import numpy as np\n",
        "from numpy import random\n",
        "import matplotlib.pyplot as plt\n",
        "import seaborn as sns\n",
        "x=random.normal(size=100)\n",
        "print(x)\n",
        "high=max(x)\n",
        "low=min(x)\n",
        "m=np.mean(x)\n",
        "md=np.median(x)\n",
        "\n",
        "print(high,low,m,md)\n",
        "sns.distplot(random.normal(size=100), hist=True)\n",
        "\n",
        "plt.show()"
      ],
      "metadata": {
        "colab": {
          "base_uri": "https://localhost:8080/",
          "height": 933
        },
        "id": "_y_PM3eSQxHb",
        "outputId": "3782a48c-9d2f-4430-d135-e03ca81913cb"
      },
      "execution_count": null,
      "outputs": [
        {
          "output_type": "stream",
          "name": "stdout",
          "text": [
            "[ 1.26023359  0.02399914 -1.57846183 -0.58434321 -0.20322799  1.16280864\n",
            " -1.01528798 -0.03519054  0.92129387 -1.14756562  0.48426936 -1.62188694\n",
            "  0.86710979 -0.40250886 -0.67517741 -0.84491656 -0.13813347 -0.31622896\n",
            " -1.32691896  1.3117822   2.35506635  0.84265519 -0.077605    0.63893259\n",
            " -0.44178687 -0.33975246 -1.13203037  0.68384255  1.1154654  -0.28323188\n",
            "  0.00349252  0.24223976 -0.66609052 -0.21652799 -1.93823093 -1.25150373\n",
            " -1.97407282 -1.11846338 -1.83395016  1.23094476 -0.76569723  0.96157152\n",
            "  0.19647017 -0.54262821  0.52944346 -0.48839696 -0.59259147 -0.00324256\n",
            " -0.98085927 -1.34709535 -0.05501423  0.00863683 -1.5218683   0.60368618\n",
            " -0.75971617  1.4513977   1.33983265 -0.55484195  0.31594923  0.44590105\n",
            " -0.48921232  1.04338155  0.06953311  2.13820235 -0.69671492  0.15299259\n",
            "  1.30675722 -0.8150864  -0.19400381 -1.97941692  0.90067806  1.32618017\n",
            "  0.82336692  0.61808994 -0.12747732  0.48918334 -1.79125113  0.72904428\n",
            " -1.71343831  2.00631131  0.44162411 -0.28215465  1.54289698 -0.34516483\n",
            "  0.09044749  0.39247277 -0.48139562  0.6527426   1.55219527 -0.66036761\n",
            "  0.2014245   0.62131538  0.88455513  0.61335599  1.20953691 -1.73849757\n",
            "  1.26546491  2.34564298 -1.84742949 -1.01793127]\n",
            "2.3550663467092035 -1.9794169189950939 -0.005401679823035974 -0.019216551657085232\n"
          ]
        },
        {
          "output_type": "stream",
          "name": "stderr",
          "text": [
            "<ipython-input-35-d0e4cfe4f6d8>:13: UserWarning: \n",
            "\n",
            "`distplot` is a deprecated function and will be removed in seaborn v0.14.0.\n",
            "\n",
            "Please adapt your code to use either `displot` (a figure-level function with\n",
            "similar flexibility) or `histplot` (an axes-level function for histograms).\n",
            "\n",
            "For a guide to updating your code to use the new functions, please see\n",
            "https://gist.github.com/mwaskom/de44147ed2974457ad6372750bbe5751\n",
            "\n",
            "  sns.distplot(random.normal(size=100), hist=True)\n"
          ]
        },
        {
          "output_type": "display_data",
          "data": {
            "text/plain": [
              "<Figure size 640x480 with 1 Axes>"
            ],
            "image/png": "[encoded data removed]"
          },
          "metadata": {}
        }
      ]
    },
    {
      "cell_type": "code",
      "source": [],
      "metadata": {
        "id": "9H5j5yUkN2j1"
      },
      "execution_count": null,
      "outputs": []
    },
    {
      "cell_type": "code",
      "source": [
        "from numpy import random\n",
        "\n",
        "y=random.normal(size=10)\n",
        "print(y)"
      ],
      "metadata": {
        "colab": {
          "base_uri": "https://localhost:8080/"
        },
        "id": "oZKA6CFuTV9z",
        "outputId": "82213432-82d3-4229-873a-7147c36a608b"
      },
      "execution_count": null,
      "outputs": [
        {
          "output_type": "stream",
          "name": "stdout",
          "text": [
            "[ 1.22216247  0.52595166  0.41087536  0.59953762  1.02292576 -1.48494907\n",
            " -0.87774167  0.53047998 -0.49326979  1.66270546]\n"
          ]
        }
      ]
    },
    {
      "cell_type": "code",
      "source": [
        "import matplotlib.pyplot as plt\n",
        "import numpy as np\n",
        "\n",
        "marks = np.array([35, 25, 45, 15])\n",
        "year=[2020,2021,2022,2023]\n",
        "\n",
        "plt.pie(marks,labels=year)\n",
        "plt.show()"
      ],
      "metadata": {
        "colab": {
          "base_uri": "https://localhost:8080/",
          "height": 406
        },
        "id": "NDv6CPkhObgd",
        "outputId": "16a194ff-f7e1-4c48-de36-96bed7054fed"
      },
      "execution_count": null,
      "outputs": [
        {
          "output_type": "display_data",
          "data": {
            "text/plain": [
              "<Figure size 640x480 with 1 Axes>"
            ],
            "image/png": "[encoded data removed]"
          },
          "metadata": {}
        }
      ]
    },
    {
      "cell_type": "code",
      "source": [
        "print(\"Hello world\")\n",
        "age=22\n",
        "marks=55.99\n",
        "print(\"My age is \",age)\n",
        "print(marks)\n",
        "\n",
        "c=37.00\n",
        "f=(9*c)/5+32\n",
        "print(f)\n",
        "\n",
        "second=60*60*24\n",
        "print(second)\n"
      ],
      "metadata": {
        "colab": {
          "base_uri": "https://localhost:8080/"
        },
        "id": "JBXbpP0TP0-U",
        "outputId": "4deda5ae-eba9-4c7c-d378-3da26011e60e"
      },
      "execution_count": null,
      "outputs": [
        {
          "output_type": "stream",
          "name": "stdout",
          "text": [
            "Hello world\n",
            "My age is  22\n",
            "55.99\n",
            "98.6\n",
            "86400\n"
          ]
        }
      ]
    },
    {
      "cell_type": "code",
      "source": [
        "#bionomial distribution\n",
        "from numpy import random\n",
        "import matplotlib.pyplot as plt\n",
        "import seaborn as sns\n",
        "import statistics as st\n",
        "import numpy as np\n",
        "y=random.binomial(n=10, p=0.5, size=1000)\n",
        "print(y)\n",
        "x=list(y)\n",
        "print(\" count= \",len(y))\n",
        "print(st.mode(y))\n",
        "print(x.count(5))\n",
        "\n",
        "for n in range(10):\n",
        "  print(n,\"=>\",x.count(n))\n",
        "\n",
        "sns.distplot(random.binomial(n=10, p=0.5, size=1000), hist=True, kde=False)\n",
        "\n",
        "plt.show()\n"
      ],
      "metadata": {
        "colab": {
          "base_uri": "https://localhost:8080/",
          "height": 1000
        },
        "id": "Asuhf2oKRwSb",
        "outputId": "ddaefa1b-c62e-4a04-944f-f16f3a184628"
      },
      "execution_count": null,
      "outputs": [
        {
          "output_type": "stream",
          "name": "stdout",
          "text": [
            "[ 3  3  5  9  5  6  4  5  6  6  4  4  5  8  4  1  4  5  7  6  6  3  5  5\n",
            "  4  6  8  6  5  3  5  4  6  6  3  4  6  4  4  4  5  5  5  6  6  3  8  4\n",
            "  4  5  4  4  6  5  3  6  3  7  5  4  3  7  6  5  4  8  4  6  5  5  3  6\n",
            "  4  6  3  6  6  8  7  4  6  3  4  4  3  6  5  4  4  4  6  7  5  5  6  3\n",
            "  6  3  4  5  7  8  9  4  2  7  4  5  1  3  5  5  8  2  4  4  1  5  5  7\n",
            "  5  3  2  6  4  5  3  4  5  5  4  7  6  5  3  8  5  2  5  6  7  8  5  2\n",
            "  6  5  6  5  7  5  8  3  5  5  5  5  6  5  6  5  4  6  2  4  5  4  4  3\n",
            "  3  5  4  6  4  7  4  6  6  5  6  4  6  5  5  5  7  4  5  7  3  6  7  4\n",
            "  7  5  4  6  9  6  7  5  3  5  3  5  6  6  6  4  7  5  6  5  8  4  5  6\n",
            "  6  7  7  2  3  7  4  6  6  7  6  6  4  7  5  3  3  5  5  6  5  5  6  4\n",
            "  5  4  6  8  2  6  4  5  3  7  4  4  5  4  6  3  4  6  7  8  3  5  5  5\n",
            "  6  3  6  7  5  5  4  5  1  5  7  5  6  5  5  7  5  6  6  1  2  4  6  4\n",
            "  4  6  6  7  2  4  6  4  4  4  8  7  2  5  3  2  6  6  5  4  3  4  5  4\n",
            "  5  5  7  3  4  5  2  6  9  3  5  6  4  6  5  7  9  5  7  6  4  6  5  7\n",
            "  4  2  6  5  6  3  6  6  9  3  6  5  4  3  6  7  7  7  4  3  6  5  5  6\n",
            "  6  6  6  7  6  2  4  4  6  4  6  7  3  2  4  4  4  6  6  6  7  7  2  4\n",
            "  6  4  5  4  5  5  5  5  6  5  5  3  7  7  4  7  7  7  5  4  7  5  4  5\n",
            "  4  5  2  5  6  5  5  7  4  4  3  5  3  8  6  5  6  4  6  4  6  6  6  5\n",
            "  4  6  6  6  3  2  5  6  4  5  5  6  7  6  2  6  4  5  4  5  1  5  5  6\n",
            "  6  6  6  6  5  5  5  4  4  5  4  7  4  6  8  5  6  3  5  5  4  7  5  5\n",
            "  5  3  5  7  3  6  5  8  5  5  6  4  6  5  4  6  8  3  7  6  4  7  7  7\n",
            "  5  6  6  3  4  4  6  6  4  3  2  5  6  5  7  6  5  4  5  6  1  5  7  6\n",
            "  4  7  4  3  3  6  5  5  5  6  7  4  5  6  7  5  6  3  5  1  7  7  8  4\n",
            "  5  5  5  4  7  2  7  7  5  3  3  5  5  2  5  6  5  5  7  5  6  6  7  6\n",
            "  5  8  1  4  7  4  5  7  3  3  6  5  4  7  4  5  3  3  5  5  3  6  6  4\n",
            "  6  5  3  6  2  4  4  7  5  5  6  5  5  6  5  5  3  4  6  4  5  4  7  4\n",
            "  8  4  7  7  7  5  5  7  6  4  5  4  5  6  5  5  7  4  5  5  5  5  2  7\n",
            "  5  6  6  8  5  6  5  6  6  5  4  5  6  4  8  6  5  5  7  7  2  3  6  4\n",
            "  4  4  4  3  3  5  6  8  5  3  5  4  6  4  3  5  5  4  6  4  5  2  3  5\n",
            "  3  7  5  4  8  4  6  5  4  4  7  4  4  2  6  7  6  5  5  6  5  6  6  3\n",
            "  4  4 10  3  5  5  8  9  7  3  6  5  2  5  6  7  5  5  6  7  6  5  2  2\n",
            "  3  7  5  5  4  7  4  5  4  6  6  5  4  6  4  5  4  5  5  7  3  4  7  6\n",
            "  4  3  4  7  5  6  8  3  7  1  5  3  4  4  7  5  5  5  7  7  6  3  4  2\n",
            "  3  6  4  5  3  5  6  3  5  4  3  9  3  7  6  7  2  5  6  3  6  3  7  4\n",
            "  6  4  3  4  2  7  8  3  7  2  8  6  3  4  6  7  4  3  6  3  6  3  4  5\n",
            "  6  4  5  6  5  6  5  5  2  6  3  6  3  6  4  8  4  3  8  5  7  4  7  6\n",
            "  5  7  6  3  3  5  2  5  5  7  5  4  6  2  6  4  4  4  9  5  6  4  5  6\n",
            "  6  6  6  5  4  4  4  4  3  3  4  7  1  6  6  6  3  3  7  6  4  6  6  4\n",
            "  5  5  6  5  7  4  5  5  7  3  4  5  4  7  7  6  4  3  8  6  8  4  5  5\n",
            "  6  3  1  7  5  5  4  7  4  5  4  7  7  7  4  3  0  6  7  5  6  5  7  5\n",
            "  5  7  2  4  3  5  7  8  2  7  2  4  4  5  5  6  3  4  7  2  5  8  5  1\n",
            "  4  5  4  4  4  5  6  5  5  5  8  4  5  4  3  2]\n",
            " count=  1000\n",
            "5\n",
            "258\n",
            "0 => 1\n",
            "1 => 13\n",
            "2 => 43\n",
            "3 => 108\n",
            "4 => 198\n",
            "5 => 258\n",
            "6 => 210\n",
            "7 => 123\n",
            "8 => 36\n",
            "9 => 9\n"
          ]
        },
        {
          "output_type": "stream",
          "name": "stderr",
          "text": [
            "<ipython-input-19-1863df84ab94>:17: UserWarning: \n",
            "\n",
            "`distplot` is a deprecated function and will be removed in seaborn v0.14.0.\n",
            "\n",
            "Please adapt your code to use either `displot` (a figure-level function with\n",
            "similar flexibility) or `histplot` (an axes-level function for histograms).\n",
            "\n",
            "For a guide to updating your code to use the new functions, please see\n",
            "https://gist.github.com/mwaskom/de44147ed2974457ad6372750bbe5751\n",
            "\n",
            "  sns.distplot(random.binomial(n=10, p=0.5, size=1000), hist=True, kde=False)\n"
          ]
        },
        {
          "output_type": "display_data",
          "data": {
            "text/plain": [
              "<Figure size 640x480 with 1 Axes>"
            ],
            "image/png": "[encoded data removed]"
          },
          "metadata": {}
        }
      ]
    },
    {
      "cell_type": "code",
      "source": [
        "from numpy import random\n",
        "import matplotlib.pyplot as plt\n",
        "import seaborn as sns\n",
        "\n",
        "sns.distplot(random.normal(loc=50, scale=5, size=1000), hist=False, label='normal')\n",
        "sns.distplot(random.binomial(n=100, p=0.5, size=1000), hist=False, label='binomial')\n",
        "\n",
        "plt.show()"
      ],
      "metadata": {
        "colab": {
          "base_uri": "https://localhost:8080/",
          "height": 812
        },
        "id": "2pk5_EUTcNrp",
        "outputId": "dc940491-eb93-4e93-e243-712f53f01e37"
      },
      "execution_count": null,
      "outputs": [
        {
          "output_type": "stream",
          "name": "stderr",
          "text": [
            "<ipython-input-20-a77a88c19db8>:5: UserWarning: \n",
            "\n",
            "`distplot` is a deprecated function and will be removed in seaborn v0.14.0.\n",
            "\n",
            "Please adapt your code to use either `displot` (a figure-level function with\n",
            "similar flexibility) or `kdeplot` (an axes-level function for kernel density plots).\n",
            "\n",
            "For a guide to updating your code to use the new functions, please see\n",
            "https://gist.github.com/mwaskom/de44147ed2974457ad6372750bbe5751\n",
            "\n",
            "  sns.distplot(random.normal(loc=50, scale=5, size=1000), hist=False, label='normal')\n",
            "<ipython-input-20-a77a88c19db8>:6: UserWarning: \n",
            "\n",
            "`distplot` is a deprecated function and will be removed in seaborn v0.14.0.\n",
            "\n",
            "Please adapt your code to use either `displot` (a figure-level function with\n",
            "similar flexibility) or `kdeplot` (an axes-level function for kernel density plots).\n",
            "\n",
            "For a guide to updating your code to use the new functions, please see\n",
            "https://gist.github.com/mwaskom/de44147ed2974457ad6372750bbe5751\n",
            "\n",
            "  sns.distplot(random.binomial(n=100, p=0.5, size=1000), hist=False, label='binomial')\n"
          ]
        },
        {
          "output_type": "display_data",
          "data": {
            "text/plain": [
              "<Figure size 640x480 with 1 Axes>"
            ],
            "image/png": "[encoded data removed]"
          },
          "metadata": {}
        }
      ]
    },
    {
      "cell_type": "code",
      "source": [
        "# Poisson distribution\n",
        "#lam=mean\n",
        "#size = size of retrurned array\n",
        "\n",
        "from numpy import random\n",
        "\n",
        "x = random.poisson(lam=2, size=10)\n",
        "\n",
        "print(x)"
      ],
      "metadata": {
        "colab": {
          "base_uri": "https://localhost:8080/"
        },
        "id": "KCShAcRIgEAo",
        "outputId": "c659927e-ca81-4829-8d9c-32f3efda78c2"
      },
      "execution_count": null,
      "outputs": [
        {
          "output_type": "stream",
          "name": "stdout",
          "text": [
            "[0 2 2 5 1 2 3 3 4 0]\n"
          ]
        }
      ]
    },
    {
      "cell_type": "code",
      "source": [
        "from numpy import random\n",
        "import matplotlib.pyplot as plt\n",
        "import seaborn as sns\n",
        "import statistics as st\n",
        "\n",
        "x=random.poisson(lam=2, size=1000)\n",
        "print(x)\n",
        "print(\"highest frequency-\",st.mode(x))\n",
        "sns.histplot(random.poisson(lam=2, size=1000), kde=False)\n",
        "\n",
        "plt.show()"
      ],
      "metadata": {
        "colab": {
          "base_uri": "https://localhost:8080/",
          "height": 933
        },
        "id": "_gHUa6fGhGFC",
        "outputId": "1cdb2cc5-3083-4f7d-b2e9-5f1cfaaf50b3"
      },
      "execution_count": null,
      "outputs": [
        {
          "output_type": "stream",
          "name": "stdout",
          "text": [
            "[1 2 2 3 0 2 0 2 0 8 0 0 3 0 1 2 1 2 1 3 1 1 0 3 4 1 2 2 2 1 0 3 2 2 2 2 2\n",
            " 2 3 5 2 1 2 1 2 1 2 0 2 1 1 0 2 1 4 0 2 3 3 3 2 1 3 2 2 3 2 0 2 0 0 1 1 2\n",
            " 1 3 1 2 0 4 3 4 2 2 4 0 2 2 4 2 0 3 4 0 2 3 2 0 2 3 0 2 1 2 2 2 3 4 2 1 2\n",
            " 1 2 2 2 2 3 0 2 3 3 1 1 3 2 0 1 1 1 4 0 1 1 1 1 2 1 3 1 5 1 1 2 3 3 5 2 1\n",
            " 1 2 0 1 4 2 2 3 2 2 2 1 3 1 5 4 1 2 0 1 1 4 2 1 3 0 3 3 2 3 0 2 4 2 2 2 0\n",
            " 3 2 3 3 3 2 3 0 1 3 1 4 3 1 0 4 4 1 0 1 2 0 2 5 0 3 1 3 2 2 2 1 0 0 1 2 1\n",
            " 5 3 2 2 1 4 4 3 1 3 4 3 2 1 2 0 1 3 3 2 0 1 3 3 5 2 2 1 0 1 2 0 4 5 1 1 3\n",
            " 3 2 1 4 0 5 0 0 1 5 1 0 2 0 2 3 3 3 3 3 0 2 1 1 3 0 2 0 2 1 2 1 2 1 2 5 3\n",
            " 1 2 1 3 4 1 3 1 4 2 2 0 0 2 3 1 1 1 0 4 0 4 1 1 1 1 3 0 2 3 2 1 1 1 1 0 3\n",
            " 4 2 0 3 1 5 2 1 1 1 3 3 2 1 3 1 4 2 1 2 2 0 2 3 2 1 1 1 0 0 4 2 4 4 1 0 1\n",
            " 2 2 1 4 1 2 1 0 4 1 1 3 1 1 3 3 2 3 1 1 0 3 2 5 0 4 3 3 2 1 4 2 3 5 3 0 3\n",
            " 4 1 1 3 4 2 3 1 5 4 5 1 3 2 1 1 1 1 1 2 3 0 2 5 2 7 1 1 3 2 1 1 1 2 3 3 2\n",
            " 1 3 2 1 1 1 3 2 3 4 2 0 4 2 2 3 3 1 2 2 0 2 2 0 1 1 4 4 2 0 2 3 4 1 3 2 3\n",
            " 1 2 2 3 3 3 4 0 7 2 0 1 2 1 1 0 3 1 3 1 1 3 1 1 3 1 2 2 8 2 2 1 2 1 1 1 1\n",
            " 3 1 3 2 2 1 2 2 2 1 2 4 1 0 2 5 3 1 4 3 2 2 2 3 4 3 3 4 2 4 1 2 5 3 1 1 1\n",
            " 1 0 3 2 1 0 3 2 2 2 3 3 3 0 1 3 3 2 2 0 3 1 1 4 0 2 5 3 2 0 6 2 3 0 2 4 5\n",
            " 1 2 0 2 1 2 2 3 3 2 0 2 4 2 0 5 5 2 3 2 3 0 4 1 0 1 3 1 1 0 0 1 4 1 1 0 1\n",
            " 2 4 3 4 1 2 2 3 1 3 4 0 1 5 1 3 0 1 0 1 4 1 1 2 1 4 2 1 2 1 0 3 2 0 2 1 1\n",
            " 1 3 0 2 2 3 2 3 2 0 4 2 2 1 5 4 0 1 2 2 2 2 1 1 1 2 2 1 1 0 1 2 1 4 1 2 1\n",
            " 4 0 2 1 1 2 0 4 2 5 2 0 2 0 0 3 4 1 1 2 4 1 0 3 0 2 1 5 0 2 2 1 1 3 1 1 1\n",
            " 1 4 1 5 0 1 3 1 3 3 1 1 2 3 4 3 1 4 1 5 3 1 1 2 1 3 3 1 1 1 2 1 2 0 1 0 5\n",
            " 3 0 1 1 3 0 2 1 2 3 3 2 0 6 3 2 3 4 2 1 1 2 0 1 0 3 3 1 1 2 0 3 1 1 2 0 0\n",
            " 2 2 1 1 4 3 3 2 1 1 5 1 5 2 1 2 4 1 2 3 1 2 0 0 3 1 2 4 2 2 3 0 1 1 2 3 1\n",
            " 3 1 3 5 2 1 2 4 0 1 0 2 2 2 2 1 4 3 2 3 0 3 1 5 4 3 3 0 4 4 1 4 2 3 1 2 2\n",
            " 0 2 1 4 0 2 2 2 3 3 2 1 3 3 2 1 5 2 0 4 1 2 0 2 1 2 5 1 1 3 1 0 2 3 1 3 1\n",
            " 1 3 1 2 1 2 2 2 1 4 4 1 2 1 3 3 1 3 1 0 2 1 1 2 1 2 1 1 1 0 0 3 3 2 4 0 1\n",
            " 2 4 0 0 1 4 3 3 6 3 6 2 2 1 2 4 1 0 3 2 4 3 1 6 2 0 4 3 0 1 1 1 6 2 0 4 1\n",
            " 2]\n",
            "highest frequency- 1\n"
          ]
        },
        {
          "output_type": "display_data",
          "data": {
            "text/plain": [
              "<Figure size 640x480 with 1 Axes>"
            ],
            "image/png": "[encoded data removed]"
          },
          "metadata": {}
        }
      ]
    },
    {
      "cell_type": "code",
      "source": [
        "#Difference Between Binomial and Poisson Distribution\n",
        "from numpy import random\n",
        "import matplotlib.pyplot as plt\n",
        "import seaborn as sns\n",
        "\n",
        "sns.distplot(random.binomial(n=1000, p=0.01, size=1000), hist=False, label='binomial')\n",
        "sns.distplot(random.poisson(lam=10, size=1000), hist=False, label='poisson')\n",
        "\n",
        "plt.show()"
      ],
      "metadata": {
        "colab": {
          "base_uri": "https://localhost:8080/",
          "height": 812
        },
        "id": "nnO1-_4ai6HR",
        "outputId": "9d99442f-dbec-48be-e0ce-35021f11dfbd"
      },
      "execution_count": null,
      "outputs": [
        {
          "output_type": "stream",
          "name": "stderr",
          "text": [
            "<ipython-input-8-f69bb321906f>:6: UserWarning: \n",
            "\n",
            "`distplot` is a deprecated function and will be removed in seaborn v0.14.0.\n",
            "\n",
            "Please adapt your code to use either `displot` (a figure-level function with\n",
            "similar flexibility) or `kdeplot` (an axes-level function for kernel density plots).\n",
            "\n",
            "For a guide to updating your code to use the new functions, please see\n",
            "https://gist.github.com/mwaskom/de44147ed2974457ad6372750bbe5751\n",
            "\n",
            "  sns.distplot(random.binomial(n=1000, p=0.01, size=1000), hist=False, label='binomial')\n",
            "<ipython-input-8-f69bb321906f>:7: UserWarning: \n",
            "\n",
            "`distplot` is a deprecated function and will be removed in seaborn v0.14.0.\n",
            "\n",
            "Please adapt your code to use either `displot` (a figure-level function with\n",
            "similar flexibility) or `kdeplot` (an axes-level function for kernel density plots).\n",
            "\n",
            "For a guide to updating your code to use the new functions, please see\n",
            "https://gist.github.com/mwaskom/de44147ed2974457ad6372750bbe5751\n",
            "\n",
            "  sns.distplot(random.poisson(lam=10, size=1000), hist=False, label='poisson')\n"
          ]
        },
        {
          "output_type": "display_data",
          "data": {
            "text/plain": [
              "<Figure size 640x480 with 1 Axes>"
            ],
            "image/png": "[encoded data removed]"
          },
          "metadata": {}
        }
      ]
    },
    {
      "cell_type": "code",
      "source": [
        "#Create a 4x3 uniform distribution sample:\n",
        "from numpy import random\n",
        "\n",
        "x = random.uniform(size=(4, 3))\n",
        "\n",
        "print(x)"
      ],
      "metadata": {
        "colab": {
          "base_uri": "https://localhost:8080/"
        },
        "id": "LsCKlE56kLYp",
        "outputId": "244e2ae0-114c-4d2c-9370-458790e5a2aa"
      },
      "execution_count": null,
      "outputs": [
        {
          "output_type": "stream",
          "name": "stdout",
          "text": [
            "[[0.07052488 0.36173282 0.89562223]\n",
            " [0.53930433 0.36583571 0.32576986]\n",
            " [0.89444112 0.64103843 0.36153474]\n",
            " [0.9270405  0.42583828 0.70604725]]\n"
          ]
        }
      ]
    },
    {
      "cell_type": "code",
      "source": [
        "#Visualization of Uniform Distribution\n",
        "from numpy import random\n",
        "import matplotlib.pyplot as plt\n",
        "import seaborn as sns\n",
        "k=random.uniform(size=1000)\n",
        "print(k)\n",
        "sns.distplot(random.uniform(size=1000), hist=False)\n",
        "\n",
        "plt.show()"
      ],
      "metadata": {
        "colab": {
          "base_uri": "https://localhost:8080/",
          "height": 1000
        },
        "id": "VhovWKjOkbMw",
        "outputId": "55d263fd-d730-4dfd-f91a-84043df7aff0"
      },
      "execution_count": null,
      "outputs": [
        {
          "output_type": "stream",
          "name": "stdout",
          "text": [
            "[0.31123698 0.98458874 0.42197412 0.70516609 0.20922533 0.61180828\n",
            " 0.18293975 0.83925683 0.93535545 0.53924726 0.81972255 0.8796412\n",
            " 0.22463076 0.2424909  0.63968498 0.43801822 0.38751714 0.32532836\n",
            " 0.12940244 0.91781856 0.62979955 0.31873278 0.80900694 0.1208595\n",
            " 0.07406195 0.83429904 0.20628481 0.63610846 0.63738616 0.84495705\n",
            " 0.24273959 0.93041133 0.52805363 0.75530931 0.05562816 0.76445998\n",
            " 0.7870794  0.80736394 0.26076917 0.77587494 0.70092529 0.45697188\n",
            " 0.91926267 0.71320924 0.66996403 0.43915652 0.11617201 0.16890776\n",
            " 0.15086921 0.90298128 0.31052571 0.11075224 0.89906454 0.53519353\n",
            " 0.42018767 0.52145405 0.33145065 0.18472169 0.73708126 0.423971\n",
            " 0.79328185 0.89799583 0.82736557 0.6981708  0.99779975 0.68812164\n",
            " 0.23603595 0.93640547 0.31996153 0.43033346 0.42410681 0.36360157\n",
            " 0.70526629 0.04502019 0.92265765 0.90621103 0.43118545 0.12167501\n",
            " 0.0265923  0.41026329 0.75068743 0.10790072 0.25763385 0.55609423\n",
            " 0.42938222 0.62743883 0.01015515 0.44615842 0.83823456 0.44188931\n",
            " 0.05058217 0.11728683 0.07607387 0.07958607 0.06893952 0.75735418\n",
            " 0.13815441 0.02500987 0.52162378 0.38717962 0.57817673 0.80946092\n",
            " 0.23347199 0.5322006  0.75708439 0.48217701 0.93295611 0.97941388\n",
            " 0.84691977 0.37122089 0.43963402 0.85327726 0.50329863 0.3750678\n",
            " 0.08035651 0.85556757 0.39349872 0.70546988 0.32380363 0.26970373\n",
            " 0.06775198 0.93139083 0.26496653 0.10156115 0.87211578 0.63114227\n",
            " 0.10970807 0.07335554 0.27820074 0.29684031 0.40500286 0.19696895\n",
            " 0.47040728 0.52370498 0.40107911 0.46351024 0.31750445 0.11185527\n",
            " 0.21417619 0.19257419 0.00237364 0.05875583 0.36627989 0.74314027\n",
            " 0.87748435 0.24936359 0.19619068 0.63202543 0.18576762 0.54290312\n",
            " 0.94183874 0.11520647 0.95820447 0.7311162  0.66843771 0.71713417\n",
            " 0.59128135 0.86374126 0.59762296 0.7401837  0.44087179 0.78036564\n",
            " 0.35704993 0.32469907 0.96757574 0.3386699  0.63209789 0.22628379\n",
            " 0.09728426 0.37104322 0.52089984 0.5777139  0.98102665 0.83280209\n",
            " 0.69561474 0.86422197 0.16581139 0.45362313 0.07580901 0.31153534\n",
            " 0.41334237 0.08480831 0.89053869 0.59927654 0.23285937 0.23943979\n",
            " 0.59497473 0.77593418 0.05430692 0.83043209 0.65105015 0.59757956\n",
            " 0.71249761 0.14691493 0.26007305 0.49480305 0.45787456 0.51615751\n",
            " 0.67048734 0.8966751  0.43862237 0.93649757 0.86563561 0.68490102\n",
            " 0.43457926 0.23449742 0.53293223 0.19890023 0.0975898  0.40515724\n",
            " 0.49007706 0.31550174 0.73227168 0.26057657 0.57198935 0.97246107\n",
            " 0.74636736 0.66309988 0.39799301 0.52438684 0.97289361 0.87690518\n",
            " 0.90883327 0.0115662  0.3338139  0.87199045 0.87015397 0.03241882\n",
            " 0.73414551 0.57664435 0.5650771  0.95868648 0.04864973 0.0467177\n",
            " 0.51500655 0.89161696 0.44059029 0.77718697 0.71927563 0.14347533\n",
            " 0.85108338 0.54774526 0.18894931 0.09466706 0.1724836  0.94295855\n",
            " 0.67204028 0.99597516 0.91616872 0.61231133 0.28837889 0.98480527\n",
            " 0.3001207  0.350237   0.85540423 0.93049751 0.22177036 0.42675643\n",
            " 0.50512311 0.5348452  0.00784018 0.46035143 0.50518052 0.61872512\n",
            " 0.35140073 0.23434622 0.15663645 0.58653151 0.02917899 0.5537993\n",
            " 0.02656934 0.99006645 0.89281746 0.98364461 0.52192955 0.16921031\n",
            " 0.85889101 0.77611408 0.88136833 0.92628254 0.397867   0.41806456\n",
            " 0.84505521 0.91922938 0.70012236 0.68247871 0.5112983  0.94543111\n",
            " 0.75709004 0.63449473 0.01969519 0.71940108 0.39437998 0.0316435\n",
            " 0.84199609 0.11167729 0.1273505  0.03486537 0.17013536 0.08920772\n",
            " 0.85130953 0.76062528 0.95912719 0.18865825 0.34204387 0.07965366\n",
            " 0.81312118 0.35542587 0.61188388 0.07164845 0.45493312 0.38107883\n",
            " 0.99723153 0.66378497 0.95187801 0.68176027 0.67987364 0.99177849\n",
            " 0.52890777 0.04082281 0.98606291 0.86799777 0.02633296 0.56857653\n",
            " 0.68183263 0.43073715 0.03681652 0.36780144 0.65236413 0.11064199\n",
            " 0.19955052 0.21590742 0.6977611  0.21542094 0.74757182 0.16693565\n",
            " 0.76758039 0.8932237  0.02744786 0.2361463  0.8674433  0.1054914\n",
            " 0.54751314 0.02108654 0.43607122 0.14985312 0.57014497 0.84578193\n",
            " 0.9340207  0.92946643 0.25870185 0.28643068 0.62447793 0.82443701\n",
            " 0.30655232 0.56012111 0.13261856 0.43123478 0.05479739 0.24247467\n",
            " 0.82390626 0.66539629 0.37101813 0.07299378 0.81689247 0.72214922\n",
            " 0.42437501 0.80722275 0.08932774 0.5008687  0.7413997  0.62574858\n",
            " 0.34888617 0.65218019 0.85703726 0.29505134 0.49642983 0.46438318\n",
            " 0.15631743 0.71706592 0.57482925 0.31468709 0.68578601 0.3554516\n",
            " 0.04725869 0.88227747 0.55047986 0.64827324 0.92568747 0.27897456\n",
            " 0.17250873 0.75742247 0.29287781 0.15772964 0.19026795 0.56405023\n",
            " 0.66762845 0.74624376 0.40818259 0.13954132 0.36875263 0.54426121\n",
            " 0.6304287  0.37962888 0.67235713 0.18968417 0.036305   0.51268976\n",
            " 0.40018797 0.52668874 0.1202102  0.88608506 0.65886075 0.04502497\n",
            " 0.11457657 0.15076825 0.25548343 0.21335694 0.59481573 0.62464506\n",
            " 0.98823726 0.44667264 0.02001023 0.14285486 0.69807666 0.68196524\n",
            " 0.81712219 0.6360047  0.18989156 0.12470237 0.59805925 0.71675822\n",
            " 0.0829542  0.92435249 0.4731257  0.07079874 0.76262088 0.94529539\n",
            " 0.79061896 0.83636207 0.72598813 0.92728913 0.30095732 0.75385565\n",
            " 0.00248609 0.44045519 0.09001744 0.74423988 0.20575232 0.93629292\n",
            " 0.34705839 0.12934619 0.37723849 0.90084834 0.84236887 0.33775077\n",
            " 0.31968245 0.13893889 0.64774075 0.44373959 0.57577459 0.98598696\n",
            " 0.67335482 0.99967643 0.85412476 0.64023267 0.79266976 0.79958187\n",
            " 0.89341526 0.38068779 0.61069225 0.95810088 0.92694186 0.88421815\n",
            " 0.74626281 0.9288258  0.87260099 0.64998637 0.12053154 0.35702367\n",
            " 0.9207412  0.08632868 0.77130595 0.94015518 0.9831991  0.14743696\n",
            " 0.69556011 0.0799541  0.87874035 0.57901409 0.38317772 0.78864994\n",
            " 0.42868312 0.40100016 0.19626077 0.24268043 0.3980841  0.33716058\n",
            " 0.23529358 0.61753326 0.87409978 0.95710624 0.83228096 0.75727827\n",
            " 0.32764095 0.6979872  0.71960836 0.27243651 0.41156643 0.18587725\n",
            " 0.8460747  0.05874509 0.64164352 0.47830742 0.39423436 0.71073001\n",
            " 0.95623728 0.18947238 0.38617938 0.77354369 0.22879882 0.25578036\n",
            " 0.02840323 0.71017412 0.73557858 0.3361834  0.40362607 0.01766692\n",
            " 0.60857222 0.11092099 0.28921543 0.08237273 0.32798188 0.7830732\n",
            " 0.99887014 0.7434391  0.91217881 0.56864602 0.63883467 0.9714371\n",
            " 0.67238635 0.80881062 0.40998814 0.28807661 0.62531264 0.66788142\n",
            " 0.20239615 0.26097576 0.81114772 0.97253421 0.54922818 0.89314661\n",
            " 0.49454049 0.48289918 0.80501348 0.34528983 0.69941865 0.15082835\n",
            " 0.05142875 0.65995575 0.37566059 0.72175617 0.9396776  0.15594706\n",
            " 0.60256052 0.99012469 0.67807348 0.52392803 0.53348858 0.5936211\n",
            " 0.210846   0.85975156 0.15943024 0.86238907 0.84922262 0.60598503\n",
            " 0.0164219  0.42875014 0.60373896 0.0605128  0.72944522 0.20809244\n",
            " 0.55167844 0.89733199 0.95001394 0.89861547 0.91838583 0.09803255\n",
            " 0.92970822 0.93772442 0.9477305  0.00601136 0.40456739 0.00982381\n",
            " 0.97336294 0.32454757 0.98864709 0.99998578 0.15158786 0.85160617\n",
            " 0.96313099 0.53155455 0.87445001 0.9485015  0.49252202 0.73761983\n",
            " 0.13102456 0.71117358 0.62055983 0.0930962  0.40767274 0.1174745\n",
            " 0.36686553 0.0593683  0.91857249 0.30360607 0.67328983 0.71966799\n",
            " 0.01603709 0.82436169 0.68913524 0.22493365 0.89395716 0.42680455\n",
            " 0.20527468 0.33185574 0.13883367 0.51326452 0.54827037 0.31782402\n",
            " 0.8374305  0.75775967 0.49155376 0.63955892 0.47298057 0.53935746\n",
            " 0.21954784 0.07737038 0.20817528 0.4066347  0.0400682  0.82466359\n",
            " 0.29539458 0.93892373 0.26361647 0.43843072 0.21617113 0.67178712\n",
            " 0.49723859 0.08705407 0.31810726 0.03452502 0.13050773 0.33329519\n",
            " 0.73466093 0.12414624 0.25223175 0.05158083 0.03432696 0.6506849\n",
            " 0.48685808 0.75414456 0.12472057 0.5501349  0.90148524 0.0959743\n",
            " 0.67172117 0.30781359 0.2061539  0.35556976 0.79393402 0.96184964\n",
            " 0.48844616 0.94436597 0.48685017 0.93611937 0.74048071 0.96373672\n",
            " 0.18469025 0.25090103 0.68347563 0.39043895 0.86266687 0.68090735\n",
            " 0.05809747 0.21268316 0.98620377 0.4175564  0.95523472 0.56404584\n",
            " 0.77455158 0.5194141  0.54403494 0.05790728 0.13379974 0.35333218\n",
            " 0.25919053 0.5149172  0.79455227 0.1794584  0.90328676 0.63854944\n",
            " 0.039961   0.64839576 0.48629203 0.88921501 0.25338989 0.08819029\n",
            " 0.81101209 0.623119   0.89985448 0.16981328 0.5584899  0.84171482\n",
            " 0.24284638 0.66653579 0.44862118 0.88315292 0.97135601 0.47087678\n",
            " 0.84251191 0.10318687 0.3007523  0.55405804 0.59526794 0.95498107\n",
            " 0.97839663 0.29363911 0.73637136 0.96741635 0.45531002 0.30802469\n",
            " 0.20181558 0.21567946 0.13473871 0.06306793 0.66655922 0.70087951\n",
            " 0.07353879 0.70437856 0.71576335 0.85487927 0.16135538 0.34903907\n",
            " 0.87311212 0.22581631 0.14312193 0.97837985 0.69011356 0.73468597\n",
            " 0.50854453 0.29443812 0.62920028 0.15867004 0.06927386 0.81094375\n",
            " 0.43475944 0.69629865 0.492639   0.79842833 0.25215449 0.68874249\n",
            " 0.03117105 0.22757347 0.81214735 0.39127201 0.23314967 0.43211538\n",
            " 0.29292486 0.43797018 0.30329815 0.25684497 0.88340288 0.43859738\n",
            " 0.86656512 0.06462749 0.64199894 0.36769792 0.6691288  0.00599237\n",
            " 0.52558494 0.39309114 0.6290272  0.43575685 0.89206361 0.30429894\n",
            " 0.53800973 0.40087301 0.65422471 0.82903976 0.62635344 0.49617335\n",
            " 0.76230997 0.57491408 0.60816826 0.28570172 0.08670507 0.45316306\n",
            " 0.76770096 0.97862567 0.56747031 0.02577306 0.76952641 0.33068085\n",
            " 0.56343249 0.56051885 0.38597931 0.019924   0.3871115  0.43540383\n",
            " 0.72433771 0.08331525 0.95810635 0.75237369 0.25411275 0.41285198\n",
            " 0.01343956 0.49424054 0.18788816 0.78315543 0.028358   0.84457435\n",
            " 0.28262845 0.23652219 0.43528235 0.81518189 0.78308817 0.91264564\n",
            " 0.56628414 0.25458272 0.31749029 0.35966502 0.02710423 0.11351328\n",
            " 0.27698797 0.94663768 0.9480479  0.31855536 0.44316866 0.1544651\n",
            " 0.94088503 0.61710227 0.09991065 0.36477273 0.72023179 0.94252344\n",
            " 0.8209501  0.7028443  0.37249628 0.02910323 0.06965478 0.14107248\n",
            " 0.70246418 0.93486031 0.22428115 0.9005769  0.09633728 0.98169778\n",
            " 0.37290141 0.57126603 0.98889671 0.64824567 0.72132036 0.48138335\n",
            " 0.40283242 0.0518689  0.41579277 0.42234856 0.38891482 0.551978\n",
            " 0.07182271 0.03648766 0.08137337 0.68130598 0.29396093 0.70893158\n",
            " 0.92751872 0.26334469 0.54319426 0.59208913 0.25454661 0.59611623\n",
            " 0.99759761 0.86641764 0.10843058 0.49525894 0.70743116 0.04945576\n",
            " 0.53489419 0.98661144 0.98762186 0.81991778 0.35143255 0.08696854\n",
            " 0.34104072 0.32353462 0.08845954 0.64552453 0.13389201 0.86292203\n",
            " 0.98906667 0.34517669 0.2105075  0.5376286  0.83502482 0.64441487\n",
            " 0.18051829 0.07511757 0.64175816 0.41088913 0.94687653 0.87428655\n",
            " 0.68820284 0.09697034 0.39183963 0.2655175  0.00892384 0.4985272\n",
            " 0.57271533 0.02743064 0.88877992 0.73684176 0.82621153 0.32836941\n",
            " 0.14839054 0.58811243 0.39934689 0.49569943 0.66363901 0.69896632\n",
            " 0.16283658 0.62911286 0.42608264 0.69732373 0.86499414 0.73846152\n",
            " 0.60284897 0.83847952 0.54806018 0.95403592 0.47155322 0.83625182\n",
            " 0.88257245 0.12093278 0.31202262 0.74436872 0.77912569 0.08043684\n",
            " 0.39405848 0.50202321 0.73803976 0.95812986 0.99428823 0.96618718\n",
            " 0.8403967  0.72887119 0.67000548 0.02564345 0.70597595 0.5167705\n",
            " 0.7194852  0.0996982  0.45888755 0.94471697 0.73565726 0.82012017\n",
            " 0.03340398 0.66674991 0.82891728 0.84736578 0.89750877 0.27490291\n",
            " 0.1581408  0.78165073 0.52360875 0.43816385 0.65402119 0.99012585\n",
            " 0.3304445  0.96439143 0.53672757 0.94756861 0.16167092 0.5460535\n",
            " 0.55874994 0.3809854  0.75031236 0.28645117 0.62144912 0.65350765\n",
            " 0.3727809  0.35756697 0.08746015 0.93356795 0.29564775 0.41540028\n",
            " 0.72291832 0.50183398 0.56452125 0.52957439]\n"
          ]
        },
        {
          "output_type": "stream",
          "name": "stderr",
          "text": [
            "<ipython-input-10-2ad26d7f9d7c>:7: UserWarning: \n",
            "\n",
            "`distplot` is a deprecated function and will be removed in seaborn v0.14.0.\n",
            "\n",
            "Please adapt your code to use either `displot` (a figure-level function with\n",
            "similar flexibility) or `kdeplot` (an axes-level function for kernel density plots).\n",
            "\n",
            "For a guide to updating your code to use the new functions, please see\n",
            "https://gist.github.com/mwaskom/de44147ed2974457ad6372750bbe5751\n",
            "\n",
            "  sns.distplot(random.uniform(size=1000), hist=False)\n"
          ]
        },
        {
          "output_type": "display_data",
          "data": {
            "text/plain": [
              "<Figure size 640x480 with 1 Axes>"
            ],
            "image/png": "[encoded data removed]"
          },
          "metadata": {}
        }
      ]
    },
    {
      "cell_type": "code",
      "source": [
        "#Draw 2x3 samples from a logistic distribution with mean at 1 and stddev 2.0:\n",
        "from numpy import random\n",
        "\n",
        "x = random.logistic(loc=1, scale=2, size=(2, 3))\n",
        "\n",
        "print(x)"
      ],
      "metadata": {
        "colab": {
          "base_uri": "https://localhost:8080/"
        },
        "id": "WDRtpq4ZmpbQ",
        "outputId": "73bfc513-638c-40f5-c4b1-29b26848d910"
      },
      "execution_count": null,
      "outputs": [
        {
          "output_type": "stream",
          "name": "stdout",
          "text": [
            "[[ 2.85402133  2.49869133  0.12444426]\n",
            " [-0.81184244  3.55411136  0.69899025]]\n"
          ]
        }
      ]
    },
    {
      "cell_type": "code",
      "source": [
        "#Visualization of Logistic Distribution\n",
        "from numpy import random\n",
        "import matplotlib.pyplot as plt\n",
        "import seaborn as sns\n",
        "import statistics as stat\n",
        "import numpy as np\n",
        "X=random.logistic(size=10)\n",
        "print(X)\n",
        "h=np.max(X)\n",
        "print(h)\n",
        "highf=stat.mode(X)\n",
        "print(highf)\n",
        "y1=list(X)\n",
        "c=y1.count(highf)\n",
        "\n",
        "print(c)\n",
        "sns.distplot(random.logistic(size=10), hist=False)\n",
        "\n",
        "plt.show()"
      ],
      "metadata": {
        "colab": {
          "base_uri": "https://localhost:8080/",
          "height": 708
        },
        "id": "V23OTLm9m8LQ",
        "outputId": "929307a1-b2f5-4891-b243-b7ba8792c488"
      },
      "execution_count": null,
      "outputs": [
        {
          "output_type": "stream",
          "name": "stdout",
          "text": [
            "[ 2.21409829  2.26676814 -1.10138875 -0.98553021 -3.88328512  1.32722421\n",
            "  2.92893619  4.00965711  3.0390451  -0.93986602]\n",
            "4.009657113788902\n",
            "2.214098285902853\n",
            "1\n"
          ]
        },
        {
          "output_type": "stream",
          "name": "stderr",
          "text": [
            "<ipython-input-25-601bea96566d>:17: UserWarning: \n",
            "\n",
            "`distplot` is a deprecated function and will be removed in seaborn v0.14.0.\n",
            "\n",
            "Please adapt your code to use either `displot` (a figure-level function with\n",
            "similar flexibility) or `kdeplot` (an axes-level function for kernel density plots).\n",
            "\n",
            "For a guide to updating your code to use the new functions, please see\n",
            "https://gist.github.com/mwaskom/de44147ed2974457ad6372750bbe5751\n",
            "\n",
            "  sns.distplot(random.logistic(size=10), hist=False)\n"
          ]
        },
        {
          "output_type": "display_data",
          "data": {
            "text/plain": [
              "<Figure size 640x480 with 1 Axes>"
            ],
            "image/png": "[encoded data removed]"
          },
          "metadata": {}
        }
      ]
    },
    {
      "cell_type": "code",
      "source": [
        "from numpy import random\n",
        "import matplotlib.pyplot as plt\n",
        "import seaborn as sns\n",
        "\n",
        "sns.distplot(random.normal(scale=2, size=1000), hist=False, label='normal')\n",
        "sns.distplot(random.logistic(size=1000), hist=False, label='logistic')\n",
        "\n",
        "plt.show()"
      ],
      "metadata": {
        "colab": {
          "base_uri": "https://localhost:8080/",
          "height": 812
        },
        "id": "e9TWCun1rsfO",
        "outputId": "9fd308df-6f34-499f-b406-fc47fb1b980a"
      },
      "execution_count": null,
      "outputs": [
        {
          "output_type": "stream",
          "name": "stderr",
          "text": [
            "<ipython-input-32-6acba8cdc034>:5: UserWarning: \n",
            "\n",
            "`distplot` is a deprecated function and will be removed in seaborn v0.14.0.\n",
            "\n",
            "Please adapt your code to use either `displot` (a figure-level function with\n",
            "similar flexibility) or `kdeplot` (an axes-level function for kernel density plots).\n",
            "\n",
            "For a guide to updating your code to use the new functions, please see\n",
            "https://gist.github.com/mwaskom/de44147ed2974457ad6372750bbe5751\n",
            "\n",
            "  sns.distplot(random.normal(scale=2, size=1000), hist=False, label='normal')\n",
            "<ipython-input-32-6acba8cdc034>:6: UserWarning: \n",
            "\n",
            "`distplot` is a deprecated function and will be removed in seaborn v0.14.0.\n",
            "\n",
            "Please adapt your code to use either `displot` (a figure-level function with\n",
            "similar flexibility) or `kdeplot` (an axes-level function for kernel density plots).\n",
            "\n",
            "For a guide to updating your code to use the new functions, please see\n",
            "https://gist.github.com/mwaskom/de44147ed2974457ad6372750bbe5751\n",
            "\n",
            "  sns.distplot(random.logistic(size=1000), hist=False, label='logistic')\n"
          ]
        },
        {
          "output_type": "display_data",
          "data": {
            "text/plain": [
              "<Figure size 640x480 with 1 Axes>"
            ],
            "image/png": "[encoded data removed]"
          },
          "metadata": {}
        }
      ]
    },
    {
      "cell_type": "code",
      "source": [
        "# Multinomial Distribution\n",
        "# Multinomial distribution is a generalization of binomial distribution.\n",
        "\n",
        "# It describes outcomes of multi-nomial scenarios unlike binomial where scenarios must be only one of two. e.g. Blood type of a population, dice roll outcome.\n",
        "\n",
        "# It has three parameters:\n",
        "\n",
        "# n - number of possible outcomes (e.g. 6 for dice roll).\n",
        "\n",
        "# pvals - list of probabilties of outcomes (e.g. [1/6, 1/6, 1/6, 1/6, 1/6, 1/6] for dice roll).\n",
        "\n",
        "# size - The shape of the returned array.\n"
      ],
      "metadata": {
        "id": "nZ2Scj6OwUP_"
      },
      "execution_count": null,
      "outputs": []
    },
    {
      "cell_type": "code",
      "source": [
        "from numpy import random\n",
        "\n",
        "x = random.multinomial(n=6, pvals=[1/6, 1/6, 1/6, 1/6, 1/6, 1/6])\n",
        "\n",
        "print(x)\n",
        "\n"
      ],
      "metadata": {
        "colab": {
          "base_uri": "https://localhost:8080/"
        },
        "id": "Hx9VDbCywmj9",
        "outputId": "f5467631-6cc5-43ac-c930-cdea434ced2d"
      },
      "execution_count": null,
      "outputs": [
        {
          "output_type": "stream",
          "name": "stdout",
          "text": [
            "[0 1 1 1 1 2]\n"
          ]
        }
      ]
    },
    {
      "cell_type": "code",
      "source": [
        "# probability of getting all four shape\n",
        "from numpy import random\n",
        "\n",
        "x = random.multinomial(n=52, pvals=[1/13, 1/13, 1/13, 1/13])\n",
        "\n",
        "print(x)\n"
      ],
      "metadata": {
        "colab": {
          "base_uri": "https://localhost:8080/"
        },
        "id": "ank4uv3MxsLG",
        "outputId": "7a92d9ff-9e89-4fb7-fcbd-50ac69e10b70"
      },
      "execution_count": null,
      "outputs": [
        {
          "output_type": "stream",
          "name": "stdout",
          "text": [
            "[ 3  7  4 38]\n"
          ]
        }
      ]
    },
    {
      "cell_type": "code",
      "source": [
        "from numpy import random\n",
        "import matplotlib.pyplot as plt\n",
        "import seaborn as sns\n",
        "v=random.exponential(size=1000)\n",
        "print(v)\n",
        "sns.distplot(random.exponential(size=1000), hist=False)\n",
        "\n",
        "plt.show()\n"
      ],
      "metadata": {
        "colab": {
          "base_uri": "https://localhost:8080/",
          "height": 1000
        },
        "id": "-HIJ3M5859VD",
        "outputId": "7effbd7b-2869-47ba-a837-ac67b47bbb83"
      },
      "execution_count": null,
      "outputs": [
        {
          "output_type": "stream",
          "name": "stdout",
          "text": [
            "[9.96743468e-01 1.57512503e+00 2.32221395e+00 5.35030154e-02\n",
            " 1.19747026e+00 8.78998977e-01 9.93816381e-02 1.20423963e-01\n",
            " 3.79166616e-01 2.45908989e-01 4.37037365e-01 4.52137704e-01\n",
            " 1.97215966e+00 3.00961027e+00 1.28864595e+00 1.60295813e+00\n",
            " 7.27428033e-01 1.11431296e+00 7.30154750e-01 5.94265631e-01\n",
            " 1.77142955e-01 3.43385913e-01 1.72271112e+00 4.97608542e-01\n",
            " 4.52296909e-01 9.02667594e-01 1.43872463e-03 5.67807295e-01\n",
            " 1.81864895e+00 2.71053066e-02 1.58046166e-01 1.49637365e+00\n",
            " 1.11617812e-01 1.82368971e+00 3.47078894e-01 1.97125795e-01\n",
            " 9.75836433e-02 6.00093093e-01 6.64551293e-01 9.21410012e-01\n",
            " 1.22988360e+00 1.30632382e+00 2.31577262e-01 9.25959330e-01\n",
            " 8.99981290e-01 2.42035807e+00 3.81894065e+00 3.34992169e-01\n",
            " 2.14818469e-01 2.42402018e-01 3.08113708e-01 3.66693013e-01\n",
            " 1.95363098e+00 5.53700043e-01 1.25170915e+00 4.18664407e+00\n",
            " 4.34394545e+00 9.25039235e-01 3.26404622e-01 1.53772173e-01\n",
            " 1.22923691e-01 1.09646141e+00 1.35163182e+00 3.55566282e+00\n",
            " 1.80958572e-03 8.40888097e-01 1.88087832e+00 6.40509748e-01\n",
            " 9.07065158e-01 5.52619939e-01 1.11856653e+00 4.51358425e-02\n",
            " 1.43993864e+00 1.99386292e-01 3.21061842e-03 1.20886731e-01\n",
            " 3.56451588e-03 5.22713066e-01 2.08546892e+00 1.30849703e+00\n",
            " 4.59067572e-01 1.77034668e+00 3.80709566e-01 5.52037909e-01\n",
            " 5.24638977e-02 2.32468006e-01 1.07353621e+00 7.64859468e-01\n",
            " 9.26266099e-01 3.36601103e-01 5.87155111e-01 1.99930579e+00\n",
            " 8.83909425e-01 9.56590597e-01 2.45097787e+00 1.51705281e+00\n",
            " 1.72721450e-01 2.96357413e+00 2.06117631e+00 5.75993722e-01\n",
            " 4.29176753e-01 1.36972283e-01 3.87245583e-01 1.31522862e+00\n",
            " 6.16596904e-01 1.49341710e-01 2.23851892e+00 5.66953671e-02\n",
            " 1.65121372e-01 5.74294940e-01 4.32367869e-01 1.35019783e+00\n",
            " 8.64565034e-02 1.96389303e+00 3.84096392e+00 1.26095777e+00\n",
            " 1.17859137e+00 4.26981559e-01 3.14316643e-01 1.17527530e+00\n",
            " 6.67569416e-01 2.43533253e-01 9.18856162e-02 3.16729802e+00\n",
            " 1.50119253e-01 8.14765959e-01 9.85173690e-01 4.91494042e-01\n",
            " 1.46743133e+00 2.05739368e-01 4.18084730e-01 7.86403236e-01\n",
            " 2.75731716e+00 4.64147759e+00 4.57678251e-01 2.68839918e-01\n",
            " 6.19059349e-01 4.48186401e-01 1.78589129e-01 1.38149933e+00\n",
            " 1.77092808e-02 1.56598669e+00 7.82544711e-01 2.72198770e-01\n",
            " 8.77547913e-02 6.02280735e-02 6.51287531e-01 1.12235665e-01\n",
            " 6.22458120e-01 1.10928335e-01 2.47714187e+00 1.11846909e+00\n",
            " 3.88545316e-02 1.74458254e+00 1.28488380e+00 4.12633600e-01\n",
            " 1.02097726e+00 2.75557118e+00 6.99689655e-01 5.19169404e-01\n",
            " 2.52825913e-01 4.92815530e-02 1.04940309e+00 4.87079188e-01\n",
            " 1.18266623e+00 1.09626679e+00 1.31674207e+00 4.84613820e-01\n",
            " 5.83909846e-01 7.89280394e-01 1.04961430e+00 1.00338683e+00\n",
            " 7.45787255e-01 2.66698258e+00 1.48672881e-01 1.87808023e+00\n",
            " 8.03666860e-01 1.08671874e-01 7.94555639e-01 1.42807168e+00\n",
            " 2.40861564e+00 1.29905465e+00 8.08412827e-01 3.14744735e-01\n",
            " 3.68046454e-01 6.20705500e-01 5.26515238e-01 2.44314128e-01\n",
            " 7.69778497e-01 1.23321653e-01 1.31170522e+00 3.73913648e-01\n",
            " 1.89850097e+00 2.48021895e+00 1.10178478e+00 2.10120555e+00\n",
            " 2.08713309e-02 3.68931417e-02 1.38757311e-01 1.41443550e-01\n",
            " 1.80446665e+00 5.61593057e-01 5.93510593e-01 1.73854697e+00\n",
            " 1.74733198e-01 2.98442879e+00 1.09450628e+00 4.50682423e-01\n",
            " 3.95859477e+00 7.75573682e-02 9.75974152e-02 1.40462096e+00\n",
            " 1.23229502e+00 7.79801054e-01 1.86157563e-02 1.39444770e+00\n",
            " 2.47909563e+00 5.87980029e-01 1.28561611e+00 4.61710242e-01\n",
            " 1.80092956e-01 5.62746541e-01 5.30243864e-02 4.73591930e-01\n",
            " 1.93995270e+00 9.32749117e-01 9.33968893e-01 2.99158180e+00\n",
            " 1.27380771e-01 4.48390579e+00 5.02296158e+00 1.31798776e+00\n",
            " 3.07533474e+00 3.40292683e+00 1.86683303e-01 2.63068439e-01\n",
            " 3.08806735e-01 4.01525569e+00 6.90637102e-01 4.20725103e-02\n",
            " 4.96853669e-01 2.79158764e+00 4.87153323e-01 3.79960713e-01\n",
            " 2.81471716e-01 1.25884095e+00 1.97634454e+00 7.93824422e-01\n",
            " 5.57872580e-01 1.36293750e-01 1.61716191e-01 3.91247136e-01\n",
            " 5.34779519e-01 1.11146493e+00 6.39306144e-01 4.56297464e-01\n",
            " 3.95126975e-01 3.06534316e+00 7.35928363e-01 1.93368867e+00\n",
            " 6.15329759e-02 9.23809529e-01 2.19567946e+00 2.21618785e+00\n",
            " 1.37423572e+00 3.71737608e-01 1.19461664e-01 4.01780145e-01\n",
            " 8.98037061e-02 3.05672322e-01 1.19164364e-01 3.03317550e+00\n",
            " 7.24472269e-01 6.31824854e+00 1.44478139e+00 1.13714232e+00\n",
            " 2.82529113e+00 1.25730619e+00 1.04903136e+00 6.46241444e-01\n",
            " 1.05590781e+00 1.44511569e+00 8.13981389e-01 6.26847483e-01\n",
            " 1.18466273e+00 3.85676599e-01 9.56001627e-01 1.05897530e+00\n",
            " 2.15455180e+00 1.15774292e+00 7.45024117e-01 3.02705439e+00\n",
            " 1.06055479e-01 3.05082638e+00 2.14407442e+00 1.15883857e+00\n",
            " 2.56205117e+00 1.04437632e+00 1.31887572e-02 4.04811389e-01\n",
            " 3.88326867e-01 3.82487748e-01 1.51443124e+00 3.08075053e+00\n",
            " 3.66400907e-01 8.07978303e-01 2.03348811e+00 4.62911204e-01\n",
            " 7.67428075e-01 1.67579478e-01 6.75250879e-02 1.68611867e-02\n",
            " 1.79021354e-01 1.15045392e-01 9.31605255e-01 1.64470847e+00\n",
            " 2.54748025e+00 1.22435757e+00 3.70237452e-01 2.91360661e+00\n",
            " 2.07293101e-01 4.08340442e-01 4.62268154e-01 7.44576033e-01\n",
            " 6.54046231e-01 1.16512676e+00 1.58431857e+00 9.35441644e-01\n",
            " 1.42262389e-01 2.72766848e+00 6.32266016e-01 2.38120904e+00\n",
            " 8.42681725e-01 2.37606496e-01 2.83587901e-02 1.96718303e+00\n",
            " 1.78008569e-01 8.53916398e-01 9.55571610e-01 1.04736511e+00\n",
            " 2.86591652e+00 1.03859257e+00 2.35757283e-01 2.93855879e-01\n",
            " 1.86955456e+00 2.89275020e-01 1.58248323e-01 5.80241143e+00\n",
            " 2.72383142e+00 1.07846498e+00 1.33444151e+00 7.88341722e-03\n",
            " 1.88701978e+00 9.08168334e-01 5.33489533e-01 1.27455119e+00\n",
            " 1.08878558e+00 3.50419584e-01 6.25258098e-02 3.70891337e-01\n",
            " 2.89636645e+00 3.42801789e-01 5.38989616e-01 4.29453840e-01\n",
            " 2.47343252e-01 4.03559817e-01 5.31818574e-01 2.86378729e+00\n",
            " 1.09763242e+00 1.52664923e+00 1.53828959e-01 4.00006150e-01\n",
            " 1.84981793e-01 1.21069151e+00 2.23148812e+00 9.75560396e-01\n",
            " 1.46032258e-01 6.64479712e-01 2.11755948e-01 1.19239071e+00\n",
            " 1.17340499e+00 9.47446845e-01 1.41081428e-01 1.13842079e+00\n",
            " 2.45228797e+00 2.03291317e+00 1.82867005e+00 4.32233117e-01\n",
            " 1.54379582e+00 7.43596222e-01 3.07919297e-01 1.57761529e-01\n",
            " 1.35140055e+00 3.82134451e+00 4.93671117e-02 1.05518497e+00\n",
            " 2.33790349e+00 2.74249733e-02 5.17191867e-01 9.41340395e-01\n",
            " 2.47506480e-01 4.84433907e-01 1.15576305e+00 9.39242243e-01\n",
            " 2.16637970e+00 9.20055097e-01 4.61416863e-01 3.79400011e-02\n",
            " 1.37294829e+00 2.81741444e+00 1.96623026e-01 6.40682878e-01\n",
            " 1.35397564e-01 5.90582785e-01 8.03668206e-01 1.98630974e-01\n",
            " 1.10170963e+00 5.05200960e-01 1.48224024e+00 3.04963605e+00\n",
            " 6.48621857e-01 5.71726412e-01 3.71437154e-01 2.20662629e-01\n",
            " 2.40658833e+00 4.67932255e-01 5.74998918e-02 1.74817097e-02\n",
            " 5.33638251e-02 1.07732623e-01 2.28155758e+00 3.11571607e+00\n",
            " 1.30000590e+00 3.07090720e-01 1.46892460e+00 6.16199246e-01\n",
            " 1.60107491e+00 3.06599475e-01 2.02604150e-01 3.30176418e-01\n",
            " 4.80865811e-01 7.53733983e-01 1.36100954e+00 3.30723501e-01\n",
            " 1.44949551e+00 1.72810729e+00 3.69409815e-01 5.97985633e-01\n",
            " 8.29179452e-01 2.08768970e+00 7.93857387e-01 5.50449949e-02\n",
            " 1.05272333e+00 5.65710032e-01 1.05811635e-01 4.23633091e-03\n",
            " 4.07362264e-01 8.99324639e-01 2.64113711e+00 2.06466550e-01\n",
            " 5.68235013e-01 1.89374655e-02 2.93232982e-01 1.39212181e-01\n",
            " 1.58608799e+00 9.33567342e-01 2.28579080e+00 2.32792827e-01\n",
            " 4.45595142e-01 1.04706524e+00 1.20213366e+00 8.25319596e-02\n",
            " 1.28612700e+00 3.48552815e-01 1.64047842e+00 2.56449879e-01\n",
            " 8.25065205e-01 3.83970850e-02 4.56351497e-01 3.06295552e-01\n",
            " 6.33162587e-01 1.66984958e+00 1.30186306e+00 1.18058778e-01\n",
            " 6.02163168e-01 1.99835010e-02 1.25932202e-01 1.27173236e+00\n",
            " 7.29730976e-01 1.33898361e+00 1.07958365e-01 1.45093342e+00\n",
            " 1.15857964e-01 1.84376288e+00 5.12193781e-01 2.36813802e-01\n",
            " 9.74488285e-02 4.19620083e-01 1.48832899e+00 6.73050767e-01\n",
            " 2.21597387e-01 5.72961405e-02 1.10677589e+00 6.39814864e-01\n",
            " 1.13116227e+00 1.06652972e+00 1.22388871e+00 8.69782407e+00\n",
            " 1.83123533e+00 1.34536041e+00 2.75497302e-01 6.28123362e-01\n",
            " 9.62476817e-01 7.44134450e-01 3.42021477e-01 2.37416128e-01\n",
            " 9.23782304e-01 1.67417101e-01 1.36967017e+00 2.49299758e-01\n",
            " 2.05495331e+00 1.63051232e+00 4.73468581e-01 4.73243049e+00\n",
            " 5.52467071e-01 3.60283037e-01 5.06972838e+00 3.10027852e-01\n",
            " 1.54186647e+00 2.58797554e+00 3.69603742e-01 5.47520333e-01\n",
            " 6.54586262e-01 7.97601163e-01 2.23487254e+00 1.25425232e+00\n",
            " 1.19557223e+00 3.14398648e-01 3.94661875e-02 1.20062028e-01\n",
            " 1.78201702e-01 1.31615909e-01 3.59213514e+00 5.35093527e-01\n",
            " 1.10424421e+00 4.47261350e-01 4.76992734e-01 1.87355835e+00\n",
            " 5.85583950e-01 5.73491408e-01 1.63583163e+00 1.75397871e+00\n",
            " 1.48667199e-01 8.87577546e-02 7.97130812e-01 1.02622240e+00\n",
            " 5.81699239e-02 9.10476810e-01 7.45489083e-01 1.48103389e-02\n",
            " 1.88369284e+00 8.73838084e-01 3.85408344e-01 4.33444633e-01\n",
            " 5.50211535e-02 4.46781575e-01 1.34105041e+00 1.43121504e-01\n",
            " 6.52897427e-01 5.22391528e-01 2.15194671e-01 3.29040977e+00\n",
            " 1.35405137e+00 1.58052418e+00 3.07683423e+00 2.82327661e+00\n",
            " 6.68112736e-01 7.27437716e-01 3.66259946e+00 9.17689813e-02\n",
            " 9.81238860e-01 1.26923927e+00 4.12013066e+00 3.97199248e+00\n",
            " 7.47349450e-01 1.14944562e+00 2.09875972e-01 4.55362069e-01\n",
            " 4.09847568e-01 2.16481452e-01 1.02983789e+00 1.59481422e+00\n",
            " 1.45147560e-01 1.39954776e+00 3.22189741e-02 2.38830371e+00\n",
            " 2.22317715e-02 1.90420759e+00 9.69508382e-01 8.13956689e-01\n",
            " 1.31260288e+00 2.19505795e-01 5.78454080e-01 1.69957067e+00\n",
            " 1.07235289e+00 5.31680252e-01 9.74570446e-01 6.90891289e-01\n",
            " 6.53393431e-01 4.48993203e-01 3.60503341e-01 4.57303006e+00\n",
            " 1.45350644e-01 9.36633018e-01 4.70711364e-01 1.41097511e-01\n",
            " 4.61946879e-01 1.69949884e+00 2.13573104e+00 5.15341781e-01\n",
            " 6.07784092e-01 1.98627180e-01 2.48919079e+00 2.17014615e-01\n",
            " 4.33836939e-01 9.22320980e-01 2.72690020e+00 7.07233803e-01\n",
            " 1.63058501e+00 3.51141054e-01 3.77423764e-01 7.71148921e-01\n",
            " 2.95927162e+00 9.08010883e-01 5.75836621e-01 1.21437174e+00\n",
            " 1.84818127e+00 3.21204408e-01 9.43195585e-01 1.09900850e+00\n",
            " 2.04918018e-01 2.36284068e-01 3.22655322e+00 2.34808016e+00\n",
            " 7.63667420e-01 7.87512505e-01 2.44067335e+00 1.51275335e-01\n",
            " 2.17978123e+00 1.07219103e-01 2.57828360e+00 2.43657407e-01\n",
            " 8.37376602e-01 4.74907614e-01 2.75977401e-01 2.27996804e-03\n",
            " 1.55188319e+00 2.80765429e-01 1.73738154e+00 1.82341585e+00\n",
            " 1.29777083e+00 4.81823056e-01 3.76248293e-01 9.74812379e-01\n",
            " 1.20302534e+00 3.03804862e+00 8.48958427e-01 1.31196545e+00\n",
            " 1.06291367e+00 3.39956105e+00 2.06695125e+00 2.61005323e-01\n",
            " 5.12524986e-02 2.33832522e+00 2.00481783e-01 1.96240773e-01\n",
            " 2.14783828e-01 8.56696758e-01 8.64841906e-01 1.83421949e-01\n",
            " 4.50302352e-01 5.08456311e-01 9.02656102e-01 1.37374279e+00\n",
            " 4.39114345e-01 2.64149949e-02 6.85078726e-01 2.02447995e+00\n",
            " 2.67561079e+00 7.48905611e-01 1.44828691e+00 7.99132872e-03\n",
            " 3.09734545e-01 1.69371164e-01 1.19495004e+00 1.34052162e+00\n",
            " 2.65441494e-01 2.92515087e-01 8.99812194e-01 1.03834269e+00\n",
            " 1.03418978e+00 8.81016228e-02 1.90326539e+00 2.76113905e+00\n",
            " 1.11141507e-01 1.78942592e+00 5.65330986e-01 5.44442670e-02\n",
            " 7.24905293e-01 8.00345703e-01 4.25714980e-01 1.33317107e-01\n",
            " 1.47315850e-01 1.21815831e+00 6.37990343e-01 3.89660436e-01\n",
            " 2.09853689e+00 8.13910629e-01 1.54031879e-02 2.24074484e+00\n",
            " 4.83292406e-02 1.39908297e+00 1.75635837e-01 8.19561185e-01\n",
            " 2.73095676e+00 4.71474341e-01 2.52459534e+00 4.63191619e-01\n",
            " 1.76408587e+00 2.29264050e-01 1.61303054e+00 1.11254921e+00\n",
            " 5.62944321e-02 1.52408439e-02 4.18671578e-01 1.89787111e-01\n",
            " 1.59774192e+00 2.18416474e+00 1.37428953e-01 1.23369680e+00\n",
            " 2.88674149e+00 1.74850789e+00 1.93679325e+00 1.55265754e+00\n",
            " 1.86253829e+00 8.00921745e-02 6.66660174e+00 5.42236460e-01\n",
            " 7.42204637e-01 4.16715628e-01 2.65831001e-01 1.08256107e+00\n",
            " 9.85470027e-01 1.64636400e+00 5.75799151e-01 2.65451066e-01\n",
            " 2.30984855e-01 1.68520489e+00 1.15811314e+00 3.75415705e+00\n",
            " 1.53755841e+00 3.98431821e-01 1.10515072e+00 1.05836529e+00\n",
            " 1.80849283e+00 3.40808384e-01 6.37046890e-02 1.44196276e+00\n",
            " 8.39323707e-01 3.91548527e-01 5.15865262e-01 8.62241179e-02\n",
            " 1.26073862e-01 6.38898574e-01 1.27340073e-01 3.65090265e-01\n",
            " 1.13672035e+00 9.85045344e-01 1.33335832e+00 1.30537278e+00\n",
            " 9.93015285e-01 1.89433197e-01 2.13587859e-01 1.38353037e-01\n",
            " 2.35542611e-01 1.02761405e-01 4.92938864e+00 4.82325978e-01\n",
            " 1.00986650e+00 5.73144416e-01 5.35853182e-01 1.38445695e-01\n",
            " 2.57267344e+00 7.65992121e-01 9.55104731e-02 7.58380414e-01\n",
            " 1.82366313e+00 8.50835923e-01 4.64750599e-01 2.25815746e+00\n",
            " 3.70004006e-02 1.39742845e+00 1.21018520e+00 1.10072599e+00\n",
            " 1.21489929e+00 1.42374058e-01 4.63310482e-01 4.91404872e-01\n",
            " 1.03350183e+00 6.49533685e-01 3.51406221e-01 9.02782827e-01\n",
            " 3.40622688e-01 4.93167934e-01 1.02279532e+00 1.28308185e+00\n",
            " 2.21762571e+00 1.77651465e+00 2.44216220e+00 5.38851289e-02\n",
            " 1.63530898e-01 1.90262677e+00 6.89166997e-01 2.05512277e+00\n",
            " 5.12030908e-01 3.81363219e+00 1.95085138e-01 2.65311639e-01\n",
            " 7.49431951e-01 1.08472590e-02 1.13287283e+00 6.24576018e-01\n",
            " 7.79478723e-01 9.95644471e-02 8.52782042e-02 1.09794030e+00\n",
            " 9.36167545e-01 2.07549601e-01 2.07897913e-01 9.55421154e-01\n",
            " 5.22686214e-01 1.00232897e-02 3.91835309e-01 3.55706294e-01\n",
            " 8.41695966e-01 1.53727156e+00 7.91505283e-01 4.97648013e-01\n",
            " 1.02815039e+00 1.82105799e+00 2.10343354e-01 1.53939093e+00\n",
            " 5.58474837e-01 4.33129034e-01 6.60110904e+00 2.25685436e-01\n",
            " 1.05423086e+00 1.28206935e+00 2.09856471e-01 2.49472579e+00\n",
            " 1.54781953e-01 7.09352061e-01 4.25271317e-01 1.87683257e-01\n",
            " 8.34717788e-01 1.40002258e-01 2.03551644e+00 1.18765084e+00\n",
            " 9.84549070e-03 7.03494895e-01 1.28311798e-02 5.45520044e-01\n",
            " 2.41974776e+00 8.27028981e-02 5.60213910e-01 1.48196815e+00\n",
            " 5.25081065e-01 2.55302447e-01 2.39720505e-01 6.77955172e-01\n",
            " 4.44990826e-02 4.44352206e+00 1.26495583e-01 1.35299909e-02\n",
            " 5.78623053e-01 3.20969731e-01 5.04579941e-01 5.69544435e-01\n",
            " 2.25861328e-01 9.78998856e-01 2.03474939e-01 2.11965679e+00\n",
            " 1.53007604e-01 1.85299594e-01 4.00793645e-01 7.90502226e-02\n",
            " 2.21346416e+00 1.06706059e+00 4.59836012e-01 6.52221133e+00\n",
            " 2.69215944e+00 4.61212142e-01 8.59469459e-01 6.89946646e-01\n",
            " 3.73255227e+00 7.48590760e-02 4.53681164e-02 3.43377313e-01\n",
            " 1.15317328e+00 5.40007694e-01 1.53686999e-01 2.28663747e+00\n",
            " 1.77638622e-01 2.88928262e-02 1.14801594e+00 2.00286890e+00\n",
            " 2.34530222e-01 5.40488692e-02 1.75221972e+00 2.93784021e+00\n",
            " 7.89691704e-02 7.08962782e-01 9.32879345e-01 6.79598696e-01\n",
            " 3.52658898e+00 4.68860451e-01 3.85413033e-01 9.35204054e-01\n",
            " 3.60226751e-01 2.38167059e+00 4.59702372e-01 2.72197387e-01\n",
            " 2.39486685e-01 7.79902968e-01 1.30867552e+00 1.87479623e-01\n",
            " 1.02334380e-01 4.59165014e-01 1.32848106e+00 1.00067057e+00\n",
            " 1.80469507e-01 1.10342515e-01 4.58159576e-01 1.16529150e+00\n",
            " 1.14523989e+00 3.71817967e-01 1.60533565e+00 6.35449080e-01\n",
            " 2.42638845e-02 2.78065582e+00 6.87221051e-01 4.97360949e-01\n",
            " 6.37074581e-01 1.47970603e+00 2.48035942e+00 7.35524669e-01\n",
            " 1.73833009e-01 7.41166420e-01 4.05679823e+00 2.07902632e-01\n",
            " 1.14675233e+00 7.43174329e-01 1.26971025e+00 1.86318681e-01\n",
            " 9.84365261e-01 1.52104633e+00 1.58905481e-01 6.95613522e-01\n",
            " 3.35791650e-01 1.17502675e+00 1.75105367e+00 3.87329949e-01\n",
            " 9.71342857e-01 1.72767761e-01 2.03600238e-01 1.56220347e+00\n",
            " 3.63493928e-02 1.05018614e+00 2.17506769e+00 6.03019570e-01\n",
            " 1.36262380e-01 1.54735288e+00 3.02038602e-01 1.74203469e-01\n",
            " 1.13031496e+00 4.28756774e-01 3.11062152e+00 7.74298354e-02\n",
            " 2.77192304e-01 4.73684201e-01 5.44013459e-01 2.69784550e-01\n",
            " 1.42519958e+00 6.92832318e-01 1.34513831e+00 7.02657674e-01\n",
            " 2.52853083e+00 8.03518656e-01 4.24782457e+00 1.26478388e+00]\n"
          ]
        },
        {
          "output_type": "stream",
          "name": "stderr",
          "text": [
            "<ipython-input-1-7fb0e7d67690>:6: UserWarning: \n",
            "\n",
            "`distplot` is a deprecated function and will be removed in seaborn v0.14.0.\n",
            "\n",
            "Please adapt your code to use either `displot` (a figure-level function with\n",
            "similar flexibility) or `kdeplot` (an axes-level function for kernel density plots).\n",
            "\n",
            "For a guide to updating your code to use the new functions, please see\n",
            "https://gist.github.com/mwaskom/de44147ed2974457ad6372750bbe5751\n",
            "\n",
            "  sns.distplot(random.exponential(size=1000), hist=False)\n"
          ]
        },
        {
          "output_type": "display_data",
          "data": {
            "text/plain": [
              "<Figure size 640x480 with 1 Axes>"
            ],
            "image/png": "[encoded data removed]"
          },
          "metadata": {}
        }
      ]
    },
    {
      "cell_type": "code",
      "source": [
        "from numpy import random\n",
        "import matplotlib.pyplot as plt\n",
        "import seaborn as sns\n",
        "q=-random.chisquare(df=1,size=100)\n",
        "print(q)\n",
        "sns.distplot(random.chisquare(df=1, size=100), hist=False)\n",
        "\n",
        "plt.show()"
      ],
      "metadata": {
        "colab": {
          "base_uri": "https://localhost:8080/",
          "height": 1000
        },
        "id": "gce6o3Nc8FWc",
        "outputId": "aa1067f4-aea3-4abf-d2db-09b736ce099b"
      },
      "execution_count": null,
      "outputs": [
        {
          "output_type": "stream",
          "name": "stdout",
          "text": [
            "[-6.29612744e-02 -1.15789044e+00 -2.45043582e-01 -5.59573887e+00\n",
            " -1.42821762e+00 -4.84275196e-01 -6.09747221e-02 -3.86435606e-01\n",
            " -1.00932542e+00 -8.52782118e-02 -2.73163614e-05 -1.07686657e+00\n",
            " -3.80332647e-01 -2.16759227e-01 -3.73032769e-01 -7.25789070e-02\n",
            " -4.26210770e+00 -4.75076783e-01 -9.21067945e-02 -1.14923633e-01\n",
            " -1.66624419e-05 -1.76808166e-02 -1.71814608e-01 -1.49645520e+00\n",
            " -1.94981421e+00 -3.91633195e-01 -1.91420470e+00 -5.30743799e-02\n",
            " -3.05531885e-02 -2.92452862e-03 -1.41238354e-01 -4.68444613e-01\n",
            " -4.86858190e-01 -8.37176314e-04 -4.38192621e-01 -7.07484317e-04\n",
            " -2.93660010e+00 -8.42539174e-01 -1.81150374e-01 -2.93354878e+00\n",
            " -1.88183352e-01 -6.64721987e-01 -4.98369741e-01 -5.35844132e-02\n",
            " -1.12058796e+00 -5.75480145e-04 -3.51713759e+00 -8.67811693e-02\n",
            " -6.69379240e+00 -4.46943739e-01 -1.77301439e-01 -3.02921057e+00\n",
            " -2.72466307e-01 -1.61135728e-02 -1.20271485e-01 -5.01609650e-01\n",
            " -1.82549147e-01 -8.47311027e-01 -8.48913871e-02 -2.22226752e-02\n",
            " -1.69460800e+00 -6.11005133e-01 -1.13962884e+00 -1.78533493e+00\n",
            " -9.80050530e-01 -1.37463106e-02 -6.76856199e-01 -3.88545490e-01\n",
            " -3.60004270e-02 -1.23810603e-04 -4.55746995e+00 -4.01713836e-02\n",
            " -6.90498473e-01 -7.80548646e-01 -5.35105875e+00 -1.14133757e+00\n",
            " -3.13514177e+00 -1.43285034e+00 -2.07166829e-01 -3.32605123e-01\n",
            " -3.19873629e-01 -2.65764006e+00 -7.44298700e+00 -2.46130356e-02\n",
            " -2.16931969e+00 -1.94292560e+00 -2.65813406e-07 -5.44980862e-02\n",
            " -6.93049383e-02 -5.02079056e-02 -9.78710998e-01 -1.28425014e+00\n",
            " -3.57383070e-01 -2.38143872e+00 -9.94078635e-01 -2.25439337e-01\n",
            " -5.34282610e-02 -2.29142220e-01 -5.32991423e-02 -6.89011974e-02]\n"
          ]
        },
        {
          "output_type": "stream",
          "name": "stderr",
          "text": [
            "<ipython-input-2-72b6ef99af1b>:6: UserWarning: \n",
            "\n",
            "`distplot` is a deprecated function and will be removed in seaborn v0.14.0.\n",
            "\n",
            "Please adapt your code to use either `displot` (a figure-level function with\n",
            "similar flexibility) or `kdeplot` (an axes-level function for kernel density plots).\n",
            "\n",
            "For a guide to updating your code to use the new functions, please see\n",
            "https://gist.github.com/mwaskom/de44147ed2974457ad6372750bbe5751\n",
            "\n",
            "  sns.distplot(random.chisquare(df=1, size=100), hist=False)\n"
          ]
        },
        {
          "output_type": "display_data",
          "data": {
            "text/plain": [
              "<Figure size 640x480 with 1 Axes>"
            ],
            "image/png": "[encoded data removed]"
          },
          "metadata": {}
        }
      ]
    },
    {
      "cell_type": "code",
      "source": [
        "# python program to create\n",
        "# Empty and Full Numpy arrays\n",
        "\n",
        "import numpy as np\n",
        "\n",
        "\n",
        "# Create an 1-D empty array\n",
        "arr=np.empty(5, dtype=int)\n",
        "print(arr)\n",
        "arr[0]=33;\n",
        "arr[1]=99;\n",
        "arr[2]=7;\n",
        "arr[3]=86;\n",
        "arr[4]=93;\n",
        "print(arr)\n",
        "print(arr.size,type(arr))\n",
        "'''\n",
        "#user input\n",
        "for i in range(arr.size):\n",
        "    n=int(input(\"enter a number :\"))\n",
        "    arr[i]=n\n",
        "print(arr)\n",
        "'''\n",
        "\n",
        "#creating 1-D array with data\n",
        "arr2=np.array([77,88,44,33,22])\n",
        "\n",
        "print(arr2)\n",
        "\n",
        "#2d empty array\n",
        "empa = np.empty((3, 4), dtype=int)\n",
        "print(\"Empty Array\")\n",
        "print(empa)\n",
        "\n",
        "# Create a 2D full array\n",
        "flla = np.full([3, 3], 55, dtype=int)\n",
        "print(\"\\n Full Array\")\n",
        "print(flla)\n",
        "\n",
        "arr2d=np.array([[6,6,6],[8,8,8]])\n",
        "print(\"create 2d array\")\n",
        "print(arr2d)\n",
        "\n",
        "temp=[7,16,20,8,5]\n",
        "arr3=np.array(temp)\n",
        "print(\"changing list into array\")\n",
        "print(arr3)\n",
        "\n",
        "#creating a 3-D array\n",
        "arr3d=np.array([[[5,9,7,3],[23,23,12,65],[55,99,77,66]]])\n",
        "print(\"3-D array\")\n",
        "print(arr3d)\n",
        "print(arr3d[0,0,0])\n",
        "print()\n",
        "\n",
        "l=(x*x for x in range(1,11))\n",
        "\n",
        "arr4=np.fromiter(l,dtype=int)\n",
        "print(arr4)\n",
        "arr5=np.copy(arr4)\n",
        "print(arr5)\n",
        "\n",
        "print(np.sum(arr5))\n",
        "print(np.mean(arr5))\n",
        "print(np.median(arr5))\n",
        "arr6=np.stack((arr4,arr5),axis=1)\n",
        "print(arr6)\n",
        "arr7=np.hstack((arr4,arr5))\n",
        "print(arr7)\n",
        "arr8=np.vstack((arr4,arr5))\n",
        "print(arr8)\n",
        "arr9=np.array_split(arr4,5)\n",
        "print(arr9)\n",
        "#2-D array\n",
        "a1=np.array([[1,9,7],[9,9,7],[8,5,7]])\n",
        "b1=np.array([[4,5,6],[7,9,3],[8,6,4]])\n",
        "print(\"A1\")\n",
        "print(a1)\n",
        "print(\"B1\")\n",
        "print(b1)\n",
        "sum1=np.add(a1,b1)\n",
        "print(\"SUM OF A1 and B1\")\n",
        "print(sum1)\n",
        "sub1=np.subtract(a1,b1)\n",
        "print(\"SUB OF A1 and B1\")\n",
        "print(sub1)\n",
        "mul1=np.multiply(a1,b1)\n",
        "print(\"MULTIPLY OF A1 and B1\")\n",
        "print(mul1)\n",
        "div1=np.divide(a1,b1)\n",
        "print(\"DIVISION OF A1 and B1\")\n",
        "print(div1)\n",
        "sq1=np.sqrt(a1)\n",
        "print(\"SQUARE ROOT of A1\")\n",
        "print(sq1)"
      ],
      "metadata": {
        "colab": {
          "base_uri": "https://localhost:8080/"
        },
        "id": "E5cw5wDC_GsL",
        "outputId": "d35e8516-a2dd-4374-af15-39817cf00803"
      },
      "execution_count": null,
      "outputs": [
        {
          "output_type": "stream",
          "name": "stdout",
          "text": [
            "[5 6 7 8 9]\n",
            "[33 99  7 86 93]\n",
            "5 <class 'numpy.ndarray'>\n",
            "[77 88 44 33 22]\n",
            "Empty Array\n",
            "[[ 2171465 13486539 -3237113 25226685]\n",
            " [-9595542 15493566 15493566 -9595542]\n",
            " [25226685 -3237113 13486539  2171465]]\n",
            "\n",
            " Full Array\n",
            "[[55 55 55]\n",
            " [55 55 55]\n",
            " [55 55 55]]\n",
            "create 2d array\n",
            "[[6 6 6]\n",
            " [8 8 8]]\n",
            "changing list into array\n",
            "[ 7 16 20  8  5]\n",
            "3-D array\n",
            "[[[ 5  9  7  3]\n",
            "  [23 23 12 65]\n",
            "  [55 99 77 66]]]\n",
            "5\n",
            "\n",
            "[  1   4   9  16  25  36  49  64  81 100]\n",
            "[  1   4   9  16  25  36  49  64  81 100]\n",
            "385\n",
            "38.5\n",
            "30.5\n",
            "[[  1   1]\n",
            " [  4   4]\n",
            " [  9   9]\n",
            " [ 16  16]\n",
            " [ 25  25]\n",
            " [ 36  36]\n",
            " [ 49  49]\n",
            " [ 64  64]\n",
            " [ 81  81]\n",
            " [100 100]]\n",
            "[  1   4   9  16  25  36  49  64  81 100   1   4   9  16  25  36  49  64\n",
            "  81 100]\n",
            "[[  1   4   9  16  25  36  49  64  81 100]\n",
            " [  1   4   9  16  25  36  49  64  81 100]]\n",
            "[array([1, 4]), array([ 9, 16]), array([25, 36]), array([49, 64]), array([ 81, 100])]\n",
            "A1\n",
            "[[1 9 7]\n",
            " [9 9 7]\n",
            " [8 5 7]]\n",
            "B1\n",
            "[[4 5 6]\n",
            " [7 9 3]\n",
            " [8 6 4]]\n",
            "SUM OF A1 and B1\n",
            "[[ 5 14 13]\n",
            " [16 18 10]\n",
            " [16 11 11]]\n",
            "SUB OF A1 and B1\n",
            "[[-3  4  1]\n",
            " [ 2  0  4]\n",
            " [ 0 -1  3]]\n",
            "MULTIPLY OF A1 and B1\n",
            "[[ 4 45 42]\n",
            " [63 81 21]\n",
            " [64 30 28]]\n",
            "DIVISION OF A1 and B1\n",
            "[[0.25       1.8        1.16666667]\n",
            " [1.28571429 1.         2.33333333]\n",
            " [1.         0.83333333 1.75      ]]\n",
            "SQUARE ROOT of A1\n",
            "[[1.         3.         2.64575131]\n",
            " [3.         3.         2.64575131]\n",
            " [2.82842712 2.23606798 2.64575131]]\n"
          ]
        }
      ]
    },
    {
      "cell_type": "code",
      "source": [
        "#2-D array\n",
        "a1=np.array([[1,9,7],[9,9,7],[8,5,7]])\n",
        "b1=np.array([[4,5,6],[7,9,3],[8,6,4]])\n",
        "print(\"A1\")\n",
        "print(a1)\n",
        "print(\"B1\")\n",
        "print(b1)\n",
        "sum1=np.add(a1,b1)\n",
        "print(\"SUM OF A1 and B1\")\n",
        "print(sum1)\n",
        "sub1=np.subtract(a1,b1)\n",
        "print(\"SUB OF A1 and B1\")\n",
        "print(sub1)\n",
        "mul1=np.multiply(a1,b1)\n",
        "print(\"MULTIPLY OF A1 and B1\")\n",
        "print(mul1)\n",
        "div1=np.divide(a1,b1)\n",
        "print(\"DIVISION OF A1 and B1\")\n",
        "print(div1)\n",
        "sq1=np.sqrt(a1)\n",
        "print(\"SQUARE ROOT of A1\")\n",
        "print(sq1)"
      ],
      "metadata": {
        "colab": {
          "base_uri": "https://localhost:8080/"
        },
        "id": "IwFd6l6IIhWz",
        "outputId": "399ccc46-0b99-4b0f-ca39-463573a8bfb4"
      },
      "execution_count": null,
      "outputs": [
        {
          "output_type": "stream",
          "name": "stdout",
          "text": [
            "A1\n",
            "[[1 9 7]\n",
            " [9 9 7]\n",
            " [8 5 7]]\n",
            "B1\n",
            "[[4 5 6]\n",
            " [7 9 3]\n",
            " [8 6 4]]\n",
            "SUM OF A1 and B1\n",
            "[[ 5 14 13]\n",
            " [16 18 10]\n",
            " [16 11 11]]\n",
            "SUB OF A1 and B1\n",
            "[[-3  4  1]\n",
            " [ 2  0  4]\n",
            " [ 0 -1  3]]\n",
            "MULTIPLY OF A1 and B1\n",
            "[[ 4 45 42]\n",
            " [63 81 21]\n",
            " [64 30 28]]\n",
            "DIVISION OF A1 and B1\n",
            "[[0.25       1.8        1.16666667]\n",
            " [1.28571429 1.         2.33333333]\n",
            " [1.         0.83333333 1.75      ]]\n",
            "SQUARE ROOT of A1\n",
            "[[1.         3.         2.64575131]\n",
            " [3.         3.         2.64575131]\n",
            " [2.82842712 2.23606798 2.64575131]]\n"
          ]
        }
      ]
    },
    {
      "cell_type": "code",
      "source": [],
      "metadata": {
        "id": "1sRmMu0iIli5"
      },
      "execution_count": null,
      "outputs": []
    },
    {
      "cell_type": "code",
      "source": [
        "#05-10-2023\n",
        "#transpose of a sqaure matrix\n",
        "a1=np.array([[1,9,7],[9,9,7],[8,5,7]])\n",
        "print(a1)\n",
        "Ta1=np.transpose(a1)\n",
        "print()\n",
        "print(Ta1)"
      ],
      "metadata": {
        "colab": {
          "base_uri": "https://localhost:8080/"
        },
        "id": "79Ayv_f6AXo9",
        "outputId": "5bd15038-9ed8-46a8-a05f-69df37aff4ec"
      },
      "execution_count": null,
      "outputs": [
        {
          "output_type": "stream",
          "name": "stdout",
          "text": [
            "[[1 9 7]\n",
            " [9 9 7]\n",
            " [8 5 7]]\n",
            "\n",
            "[[1 9 8]\n",
            " [9 9 5]\n",
            " [7 7 7]]\n"
          ]
        }
      ]
    },
    {
      "cell_type": "code",
      "source": [
        "#NumPy flatten()\n",
        "import numpy as np\n",
        "\n",
        "# create a two-dimensional array\n",
        "array1 = np.array([[0, 1], [2, 3]])\n",
        "\n",
        "# flatten an array\n",
        "array2 = array1.flatten()\n",
        "\n",
        "print(array2)\n",
        "\n",
        "# Output: [0 1 2 3]"
      ],
      "metadata": {
        "colab": {
          "base_uri": "https://localhost:8080/"
        },
        "id": "mNoknhXrEiRM",
        "outputId": "22b4baa9-0d6d-4db9-dbbc-07abf5bd9031"
      },
      "execution_count": null,
      "outputs": [
        {
          "output_type": "stream",
          "name": "stdout",
          "text": [
            "[0 1 2 3]\n"
          ]
        }
      ]
    },
    {
      "cell_type": "code",
      "source": [
        "#Example 1: Flatten a Multidimensional Array\n",
        "import numpy as np\n",
        "\n",
        "# create a 3-D array\n",
        "array1 = np.array([[[0, 1], [2, 3]], [[4, 5], [6, 7]]])\n",
        "\n",
        "# flatten the array\n",
        "array2 = array1.flatten()\n",
        "\n",
        "print(array2)"
      ],
      "metadata": {
        "colab": {
          "base_uri": "https://localhost:8080/"
        },
        "id": "6OHYA_EMEtZT",
        "outputId": "4ef8ad84-a192-4ab9-9b44-207ac7a51c44"
      },
      "execution_count": null,
      "outputs": [
        {
          "output_type": "stream",
          "name": "stdout",
          "text": [
            "[0 1 2 3 4 5 6 7]\n"
          ]
        }
      ]
    },
    {
      "cell_type": "code",
      "source": [
        "#NumPy trace()\n",
        "#The numpy.trace() function is used to return the sum of the diagonals of the matrix.\n",
        "import numpy as np\n",
        "\n",
        "# create a 2D matrix\n",
        "matrix = np.array([[1, 2,3],\n",
        "                   [4, 6,8],\n",
        "                   [5, 7, 9]])\n",
        "\n",
        "# calculate the trace of the matrix\n",
        "result = np.trace(matrix)\n",
        "\n",
        "print(result)\n",
        "\n",
        "# Output: 7"
      ],
      "metadata": {
        "colab": {
          "base_uri": "https://localhost:8080/"
        },
        "id": "xvq846xtFjRg",
        "outputId": "03b41f57-2bfb-4edf-f666-a0e2f3f9e6d8"
      },
      "execution_count": null,
      "outputs": [
        {
          "output_type": "stream",
          "name": "stdout",
          "text": [
            "16\n"
          ]
        }
      ]
    },
    {
      "cell_type": "code",
      "source": [
        "#Example 1: Calculate Trace of a Matrix\n",
        "import numpy as np\n",
        "\n",
        "# create a matrix\n",
        "matrix1 = np.array([[1, 2, 3],\n",
        "                    [4, 5, 6],\n",
        "                    [7, 8, 9]])\n",
        "\n",
        "# calculate the trace of the matrix and return integer value\n",
        "result = np.trace(matrix1, dtype=int)\n",
        "\n",
        "print(result)\n"
      ],
      "metadata": {
        "colab": {
          "base_uri": "https://localhost:8080/"
        },
        "id": "hTPg448-F-4I",
        "outputId": "658897d9-84c3-4add-ad5d-5b1a4fdd021a"
      },
      "execution_count": null,
      "outputs": [
        {
          "output_type": "stream",
          "name": "stdout",
          "text": [
            "15\n"
          ]
        }
      ]
    },
    {
      "cell_type": "code",
      "source": [
        "#NumPy det()\n",
        "#The determinant of a matrix is a scalar value that provides information about the properties and behavior of the matrix.\n",
        "\n",
        "#Example\n",
        "#The numpy.linalg.det() function is used to compute the determinant of a square matrix.\n",
        "import numpy as np\n",
        "\n",
        "# create a 2x2 matrix\n",
        "matrix1 = np.array([[2, 4],\n",
        "                                  [1, 6]])\n",
        "\n",
        "# compute the determinant\n",
        "result = np.linalg.det(matrix1)\n",
        "\n",
        "print(result)\n",
        "\n",
        "# Output: 7.999999999999998"
      ],
      "metadata": {
        "colab": {
          "base_uri": "https://localhost:8080/"
        },
        "id": "bRvg8bhQGJm7",
        "outputId": "9b78e7a7-80eb-4df8-becd-3b31f1af90b5"
      },
      "execution_count": null,
      "outputs": [
        {
          "output_type": "stream",
          "name": "stdout",
          "text": [
            "7.999999999999998\n"
          ]
        }
      ]
    },
    {
      "cell_type": "code",
      "source": [
        "import numpy as np\n",
        "\n",
        "# create a matrix\n",
        "matrix1 = np.array([[1, 2, 3],\n",
        "             \t\t      [4, 5, 1],\n",
        "             \t\t      [2, 3, 4]])\n",
        "\n",
        "# find determinant of matrix1\n",
        "result = np.linalg.det(matrix1)\n",
        "\n",
        "print(result)"
      ],
      "metadata": {
        "colab": {
          "base_uri": "https://localhost:8080/"
        },
        "id": "UwJaAGNZGVrD",
        "outputId": "6b9bb61f-2b7b-433c-d7a7-8996fee600c4"
      },
      "execution_count": null,
      "outputs": [
        {
          "output_type": "stream",
          "name": "stdout",
          "text": [
            "-5.000000000000001\n"
          ]
        }
      ]
    },
    {
      "cell_type": "code",
      "source": [
        "#Inverse of a matrix\n",
        "# Python program to inverse\n",
        "# a matrix using numpy\n",
        "\n",
        "# Import required package\n",
        "import numpy as np\n",
        "\n",
        "# Taking a 3 * 3 matrix\n",
        "A = np.array([[3, 2],[1, 5]])\n",
        "\n",
        "# Calculating the inverse of the matrix\n",
        "print(np.linalg.inv(A))\n"
      ],
      "metadata": {
        "colab": {
          "base_uri": "https://localhost:8080/"
        },
        "id": "6Af62lddG_M0",
        "outputId": "6058a4a7-2a3c-4e54-eee3-5f6d7a1b72ee"
      },
      "execution_count": null,
      "outputs": [
        {
          "output_type": "stream",
          "name": "stdout",
          "text": [
            "[[ 0.38461538 -0.15384615]\n",
            " [-0.07692308  0.23076923]]\n"
          ]
        }
      ]
    },
    {
      "cell_type": "code",
      "source": [
        "#Solve Systems of Linear Equations in Python\n",
        "\n",
        "\n",
        "import numpy as np\n",
        "\n",
        "A = np.array([[4, 3, -5],\n",
        "              [-2, -4, 5],\n",
        "              [8, 8, 0]])\n",
        "y = np.array([2, 5, -3])\n",
        "\n",
        "x = np.linalg.solve(A, y)\n",
        "print(x)"
      ],
      "metadata": {
        "colab": {
          "base_uri": "https://localhost:8080/"
        },
        "id": "5Fdr1Q1bHgNU",
        "outputId": "f2e01fc3-22ed-4839-b328-d508007bb3d5"
      },
      "execution_count": null,
      "outputs": [
        {
          "output_type": "stream",
          "name": "stdout",
          "text": [
            "[ 2.20833333 -2.58333333 -0.18333333]\n"
          ]
        }
      ]
    },
    {
      "cell_type": "code",
      "source": [
        "# importing library sympy\n",
        "from sympy import symbols, Eq, solve\n",
        "\n",
        "# defining symbols used in equations\n",
        "# or unknown variables\n",
        "x, y = symbols('x,y')\n",
        "\n",
        "# defining equations\n",
        "eq1 = Eq((x+y), 1)\n",
        "print(\"Equation 1:\")\n",
        "print(eq1)\n",
        "eq2 = Eq((x-y), 1)\n",
        "print(\"Equation 2\")\n",
        "print(eq2)\n",
        "\n",
        "# solving the equation\n",
        "print(\"Values of 2 unknown variable are as follows:\")\n",
        "\n",
        "print(solve((eq1, eq2), (x, y)))\n"
      ],
      "metadata": {
        "colab": {
          "base_uri": "https://localhost:8080/"
        },
        "id": "fEyaXwLjH_SM",
        "outputId": "43f8ce63-1527-4742-d90e-9a88c86e0384"
      },
      "execution_count": null,
      "outputs": [
        {
          "output_type": "stream",
          "name": "stdout",
          "text": [
            "Equation 1:\n",
            "Eq(x + y, 1)\n",
            "Equation 2\n",
            "Eq(x - y, 1)\n",
            "Values of 2 unknown variable are as follows:\n",
            "{x: 1, y: 0}\n"
          ]
        }
      ]
    },
    {
      "cell_type": "code",
      "source": [
        "# importing library sympy\n",
        "from sympy import symbols, Eq, solve\n",
        "\n",
        "# defining symbols used in equations\n",
        "# or unknown variables\n",
        "x, y, z = symbols('x,y,z')\n",
        "\n",
        "# defining equations\n",
        "eq1 = Eq((x+y+z), 1)\n",
        "print(\"Equation 1:\")\n",
        "print(eq1)\n",
        "\n",
        "eq2 = Eq((x-y+2*z), 1)\n",
        "print(\"Equation 2\")\n",
        "print(eq2)\n",
        "\n",
        "eq3 = Eq((2*x-y+2*z), 1)\n",
        "print(\"Equation 3\")\n",
        "\n",
        "# solving the equation and printing the\n",
        "# value of unknown variables\n",
        "print(\"Values of 3 unknown variable are as follows:\")\n",
        "print(solve((eq1, eq2, eq3), (x, y, z)))\n"
      ],
      "metadata": {
        "colab": {
          "base_uri": "https://localhost:8080/"
        },
        "id": "N-YwQQ3dILBt",
        "outputId": "e559d0ea-6b9a-4daa-ad32-fd06ce417f45"
      },
      "execution_count": null,
      "outputs": [
        {
          "output_type": "stream",
          "name": "stdout",
          "text": [
            "Equation 1:\n",
            "Eq(x + y + z, 1)\n",
            "Equation 2\n",
            "Eq(x - y + 2*z, 1)\n",
            "Equation 3\n",
            "Values of 3 unknown variable are as follows:\n",
            "{x: 0, y: 1/3, z: 2/3}\n"
          ]
        }
      ]
    },
    {
      "cell_type": "code",
      "source": [
        "from statsmodels.stats.weightstats import ztest as ztest\n",
        "\n",
        "#enter IQ levels for 20 patients\n",
        "data = [88, 92, 94, 94, 96, 97, 97, 97, 99, 99,\n",
        "        105, 109, 109, 109, 110, 112, 112, 113, 114, 115]\n",
        "\n",
        "#perform one sample z-test\n",
        "ztest(data, value=100)\n",
        "\n",
        "#(1.5976240527147705, 0.1101266701438426)\n",
        "\n"
      ],
      "metadata": {
        "colab": {
          "base_uri": "https://localhost:8080/"
        },
        "id": "ZWEsGmdF-xQT",
        "outputId": "f7879fe6-a0c5-4c1e-ad47-159175798c0c"
      },
      "execution_count": null,
      "outputs": [
        {
          "output_type": "execute_result",
          "data": {
            "text/plain": [
              "(1.5976240527147705, 0.1101266701438426)"
            ]
          },
          "metadata": {},
          "execution_count": 1
        }
      ]
    },
    {
      "cell_type": "code",
      "source": [
        "from numpy import random\n",
        "import matplotlib.pyplot as plt\n",
        "import seaborn as sns\n",
        "data=random.normal(size=10)\n",
        "print(data)\n",
        "sns.distplot(data, hist=False)\n",
        "\n",
        "plt.show()\n"
      ],
      "metadata": {
        "colab": {
          "base_uri": "https://localhost:8080/",
          "height": 656
        },
        "id": "R1hpqpcpJ6d5",
        "outputId": "d1a298fe-a139-49f5-90fe-5cf10dfa886a"
      },
      "execution_count": null,
      "outputs": [
        {
          "output_type": "stream",
          "name": "stdout",
          "text": [
            "[-0.99639256  1.03353641  1.39726721  1.27264197 -0.905194    0.48709506\n",
            "  1.80287152  0.24500557  1.20225022  1.51658135]\n"
          ]
        },
        {
          "output_type": "stream",
          "name": "stderr",
          "text": [
            "<ipython-input-5-fb88b01ad2ee>:6: UserWarning: \n",
            "\n",
            "`distplot` is a deprecated function and will be removed in seaborn v0.14.0.\n",
            "\n",
            "Please adapt your code to use either `displot` (a figure-level function with\n",
            "similar flexibility) or `kdeplot` (an axes-level function for kernel density plots).\n",
            "\n",
            "For a guide to updating your code to use the new functions, please see\n",
            "https://gist.github.com/mwaskom/de44147ed2974457ad6372750bbe5751\n",
            "\n",
            "  sns.distplot(data, hist=False)\n"
          ]
        },
        {
          "output_type": "display_data",
          "data": {
            "text/plain": [
              "<Figure size 640x480 with 1 Axes>"
            ],
            "image/png": "[encoded data removed]"
          },
          "metadata": {}
        }
      ]
    }
  ]
}