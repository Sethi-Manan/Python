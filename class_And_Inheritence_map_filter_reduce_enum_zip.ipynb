{
  "nbformat": 4,
  "nbformat_minor": 0,
  "metadata": {
    "colab": {
      "provenance": []
    },
    "kernelspec": {
      "name": "python3",
      "display_name": "Python 3"
    },
    "language_info": {
      "name": "python"
    }
  },
  "cells": [
    {
      "cell_type": "code",
      "execution_count": null,
      "metadata": {
        "id": "g7eVoztpSGNB"
      },
      "outputs": [],
      "source": [
        "# IMPLEMENTATION OF INHERITENCE IN PYTHON\n",
        "\n",
        "class Item:\n",
        "  # data members\n",
        "  itemcode=101\n",
        "  title=\"waterbottle\"\n",
        "  price=188.99\n",
        "  color=\"blue\"\n",
        "  quantity=1000\n",
        "  company=\"milton\"\n",
        "  #function members\n",
        "  def ShowItem(self):\n",
        "    print(self.itemcode,\"\\t\",self.title,\"\\t\",self.price,\"\\t\",self.color,\"\\t\",self.quantity,\"\\t\",self.company)\n",
        "  def Inputitem(self):\n",
        "    self.itemcode=int(input(\"Enter Item code: \"))\n",
        "    self.title=input(\"Enter Item Name : \")\n",
        "    self.price=float(input(\"Enter Item unit cost: \"))\n",
        "    self.color=input(\"Enter item color: \")\n",
        "    self.quantity=int(input(\"Enter Item quantity: \"))\n",
        "    self.company=input(\"Enter Item brand: \")\n",
        "  def UpdateItemPrice(self):\n",
        "\n",
        "     itemcost=float(input(\"Enter new Item cost: \"))\n",
        "     self.price=itemcost"
      ]
    },
    {
      "cell_type": "code",
      "source": [
        "item1=Item()\n",
        "item1.ShowItem()\n",
        "\n",
        "item2=Item()\n",
        "\n",
        "item2.itemcode=102\n",
        "item2.title=\"Keyboard\"\n",
        "item2.price=1299.00\n",
        "item2.color=\"black\"\n",
        "item2.quantity=1200\n",
        "item2.company=\"Hp\"\n",
        "item2.ShowItem()\n",
        "item3=Item()\n",
        "item3.Inputitem()\n",
        "item3.ShowItem()\n",
        "item3.UpdateItem()\n",
        "item3.ShowItem()"
      ],
      "metadata": {
        "colab": {
          "base_uri": "https://localhost:8080/"
        },
        "id": "X1vqhK4hTp4b",
        "outputId": "5012895c-fcea-4973-8dbc-0cb8f57fd351"
      },
      "execution_count": null,
      "outputs": [
        {
          "output_type": "stream",
          "name": "stdout",
          "text": [
            "101 \t waterbottle \t 188.99 \t blue \t 1000 \t milton\n",
            "102 \t Keyboard \t 1299.0 \t black \t 1200 \t Hp\n",
            "Enter Item code: 111\n",
            "Enter Item Name : mouse\n",
            "Enter Item unit cost: 199.00\n",
            "Enter item color: red\n",
            "Enter Item quantity: 10\n",
            "Enter Item brand: hp\n",
            "111 \t mouse \t 199.0 \t red \t 10 \t hp\n",
            "Enter Item Price: 299.00\n",
            "Enter new Item cost: 399.00\n",
            "111 \t mouse \t 399.0 \t red \t 10 \t hp\n"
          ]
        }
      ]
    },
    {
      "cell_type": "code",
      "source": [
        "class Animal:\n",
        "  name=\"Tiger\"\n",
        "  category=\"Bengal Tiger\"\n",
        "  color=\"brown to black\"\n",
        "  height=\"3feet\"\n",
        "  weight=120\n",
        "  def Getdata(self):\n",
        "    self.name=input(\"Enter animal name:-\")\n",
        "    self.category=input(\"Enter animal category:-\")\n",
        "    self.color=input(\"Enter animal color:-\")\n",
        "    self.height=input(\"Enter animal height:-\")\n",
        "    self.weight=input(\"Enter animal weight:-\")\n",
        "  def Showanimal(self):\n",
        "    print(\"Animal Details\")\n",
        "    print(self.name,\"\\t\",self.category,\"\\t\",self.color,\"\\t\",self.height,\"\\t\",self.weight,\"\\t\",)\n",
        "  def Eat(self):\n",
        "    print(\"Tiger eats meat or dead Animal\")\n",
        "  def Sound(self):\n",
        "    print(\"Tiger Raoring .......\")\n",
        "  def Move(self):\n",
        "    print(\"Tiger Running and jumping very fastly......\")\n",
        "\n",
        "#main()\n",
        "t1=Animal()\n",
        "t1.Showanimal()\n",
        "t1.Eat()\n",
        "t1.Sound()\n",
        "t1.Move()\n",
        "\n",
        "a1=Animal()\n",
        "a1.Getdata();\n",
        "a1.Showanimal()\n",
        "\n",
        "a2=Animal()\n",
        "a2.Getdata()\n",
        "a2.Showanimal()\n"
      ],
      "metadata": {
        "colab": {
          "base_uri": "https://localhost:8080/"
        },
        "id": "OZdrd2mwu8b9",
        "outputId": "a2de3a8b-99aa-4a15-b712-311ca37dc4f4"
      },
      "execution_count": null,
      "outputs": [
        {
          "output_type": "stream",
          "name": "stdout",
          "text": [
            "Animal Details\n",
            "Tiger \t Bengal Tiger \t brown to black \t 3feet \t 120 \t\n",
            "Tiger eats meat or dead Animal\n",
            "Tiger Raoring .......\n",
            "Tiger Running and jumping very fastly......\n",
            "Enter animal name:-Dog\n",
            "Enter animal category:-pet\n",
            "Enter animal color:-black\n",
            "Enter animal height:-2\n",
            "Enter animal weight:-30\n",
            "Animal Details\n",
            "Dog \t pet \t black \t 2 \t 30 \t\n",
            "Enter animal name:-camel\n",
            "Enter animal category:-animal\n",
            "Enter animal color:-yellow\n",
            "Enter animal height:-10feet\n",
            "Enter animal weight:-500kg\n",
            "Animal Details\n",
            "camel \t animal \t yellow \t 10feet \t 500kg \t\n"
          ]
        }
      ]
    },
    {
      "cell_type": "code",
      "source": [
        "class Calculator:\n",
        "  def __init__(self,num1,num2):\n",
        "    self.num1= num1\n",
        "    self.num2=num2\n",
        "  def Display(self):\n",
        "    print(\"number1=\",self.num1)\n",
        "    print(\"Number2=\",self.num2)\n",
        "  def add(self):\n",
        "    print(\"sum is \",(self.num1+self.num2))\n",
        "  def sub(self):\n",
        "    print(\"sub is \",(self.num1-self.num2))\n",
        "  def mul(self):\n",
        "    print(\"mul is \",(self.num1*self.num2))\n",
        "\n",
        "  def div(self):\n",
        "    print(\"div is \",(self.num1/self.num2))\n",
        "\n"
      ],
      "metadata": {
        "id": "eF0eUnoEfbhI"
      },
      "execution_count": null,
      "outputs": []
    },
    {
      "cell_type": "code",
      "source": [
        "if __name__=='__main__':\n",
        "  c1=Calculator(888,99)\n",
        "  c1.Display()\n",
        "  c1.add()\n",
        "  c1.sub()\n",
        "  c1.mul()\n",
        "  c1.div()\n"
      ],
      "metadata": {
        "colab": {
          "base_uri": "https://localhost:8080/"
        },
        "id": "02Z2z75igtgK",
        "outputId": "bcaa6daf-6744-4886-9980-8685cf111e9c"
      },
      "execution_count": null,
      "outputs": [
        {
          "output_type": "stream",
          "name": "stdout",
          "text": [
            "number1= 888\n",
            "Number2= 99\n",
            "sum is  987\n",
            "sub is  789\n",
            "mul is  87912\n",
            "div is  8.969696969696969\n"
          ]
        }
      ]
    },
    {
      "cell_type": "code",
      "source": [
        "class Person:\n",
        "  def __init__(self, name, age,address,city,salary):\n",
        "    self.name = name\n",
        "    self.age = age\n",
        "    self.address=address\n",
        "    self.city=city\n",
        "    self.salary=salary\n",
        "  def Show(self):\n",
        "    print(\"person Details:\",self.name,\"\\t\", self.age,\"\\t\",self.address,\"\\t\",self.city,\"\\t\",self.salary)"
      ],
      "metadata": {
        "id": "yqf1a2XanOai"
      },
      "execution_count": null,
      "outputs": []
    },
    {
      "cell_type": "code",
      "source": [
        "p1=Person(\"Harsh\",19,\"azadpur\",\"delhi\",12000)\n",
        "p1.Show()\n",
        "p2=Person(\"Shamun\",19,\"azadpur\",\"delhi\",12000)\n",
        "p2.Show()"
      ],
      "metadata": {
        "colab": {
          "base_uri": "https://localhost:8080/"
        },
        "id": "o2ckp7nooMRy",
        "outputId": "a2408f3d-ef0f-4948-903e-a23475c60c13"
      },
      "execution_count": null,
      "outputs": [
        {
          "output_type": "stream",
          "name": "stdout",
          "text": [
            "person Details: Harsh \t 19 \t azadpur \t delhi \t 12000\n",
            "person Details: Shamun \t 19 \t azadpur \t delhi \t 12000\n"
          ]
        }
      ]
    },
    {
      "cell_type": "code",
      "source": [
        "# Python exception\n",
        "x=\"hello world\"\n",
        "try:\n",
        "  print(x)\n",
        "except:\n",
        "  print(\" X is not defined\")\n",
        "msg=\"Good morning India\"\n",
        "print(msg)"
      ],
      "metadata": {
        "colab": {
          "base_uri": "https://localhost:8080/"
        },
        "id": "vCCyVXwm51wg",
        "outputId": "8d79bbbf-6786-4899-92d0-17aac2c0ffa6"
      },
      "execution_count": null,
      "outputs": [
        {
          "output_type": "stream",
          "name": "stdout",
          "text": [
            "hello world\n",
            "Good morning India\n"
          ]
        }
      ]
    },
    {
      "cell_type": "code",
      "source": [
        "# prompt: numpy methods\n",
        "\n",
        "import numpy as np\n",
        "\n",
        "# Create a numpy array\n",
        "arr = np.array([1, 2, 3, 4, 5])\n",
        "\n",
        "# Get the shape of the array\n",
        "print(arr.shape)\n",
        "\n",
        "# Get the data type of the array\n",
        "print(arr.dtype)\n",
        "\n",
        "# Get the size of the array in bytes\n",
        "print(arr.nbytes)\n",
        "\n",
        "# Get the number of dimensions of the array\n",
        "print(arr.ndim)\n",
        "\n",
        "# Get the total number of elements in the array\n",
        "print(arr.size)\n",
        "\n",
        "# Get the minimum value in the array\n",
        "print(arr.min())\n",
        "\n",
        "# Get the maximum value in the array\n",
        "print(arr.max())\n",
        "\n",
        "# Get the mean value of the array\n",
        "print(arr.mean())\n",
        "\n",
        "# Get the median value of the array\n",
        "print(np.median(arr))\n",
        "\n",
        "# Get the standard deviation of the array\n",
        "print(arr.std())\n",
        "\n",
        "# Get the variance of the array\n",
        "print(arr.var())\n",
        "\n",
        "# Get the sum of the array\n",
        "print(arr.sum())\n",
        "\n",
        "# Get the product of the array\n",
        "print(arr.prod())\n",
        "\n",
        "# Get the cumulative sum of the array\n",
        "print(np.cumsum(arr))\n",
        "\n",
        "# Get the cumulative product of the array\n",
        "print(np.cumprod(arr))\n",
        "\n",
        "# Get the sorted array\n",
        "print(np.sort(arr))\n",
        "\n",
        "# Get the unique elements in the array\n",
        "print(np.unique(arr))\n",
        "\n",
        "# Get the indices of the elements in the array that are equal to a given value\n",
        "print(np.where(arr == 3))\n",
        "\n",
        "# Get the indices of the elements in the array that are greater than a given value\n",
        "print(np.where(arr > 3))\n",
        "\n",
        "# Get the indices of the elements in the array that are less than a given value\n",
        "print(np.where(arr < 3))\n",
        "\n",
        "# Get the indices of the elements in the array that are equal to a given value and greater than a given value\n",
        "print(np.where((arr == 3) & (arr > 3)))\n",
        "\n",
        "# Get the indices of the elements in the array that are equal to a given value and less than a given value\n",
        "print(np.where((arr == 3) & (arr < 3)))\n",
        "\n",
        "# Get the indices of the elements in the array that are not equal to a given value\n",
        "print(np.where(arr != 3))\n",
        "\n",
        "# Get the indices of the elements in the array that are not greater than a given value\n",
        "print(np.where(arr <= 3))\n",
        "\n",
        "# Get the indices of the elements in the array that are not less than a given value\n",
        "print(np.where(arr >= 3))\n",
        "\n",
        "# Get the indices of the elements in the array that are not equal to a given value and greater than a given value\n",
        "print(np.where((arr != 3) & (arr > 3)))\n",
        "\n",
        "# Get the indices of the elements in the array that are not equal to a given value and less than a given value\n",
        "print(np.where((arr != 3) & (arr < 3)))\n",
        "\n",
        "# Get the indices of the elements in the array that are not equal to a given value and not greater than a given value\n",
        "print(np.where((arr != 3) & (arr <= 3)))\n",
        "\n",
        "# Get the indices of the elements in the array that are not equal to a given value and not less than a given value\n",
        "print(np.where((arr != 3) & (arr >= 3)))\n",
        "\n",
        "# Get the indices of the elements in the array that are not equal to a given value and not equal to a given value\n",
        "print(np.where((arr != 3) & (arr != 4)))\n",
        "\n",
        "# Get the indices of the elements in the array that are not equal to a given value and not equal to a given value and not equal to a given value\n",
        "print(np.where((arr != 3) & (arr != 4) & (arr != 5)))\n",
        "\n",
        "# Get the indices of the elements in the array that are not equal to a given value and not equal to a given value and not equal to a given value and not equal to a given value\n",
        "print(np.where((arr != 3) & (arr != 4) & (arr != 5) & (arr != 6)))\n",
        "\n",
        "# Get the indices of the elements in the array that are not equal to a given value and not equal to a given value and not equal to a given value and not equal to a given value and not equal to a given value\n",
        "print(np.where((arr != 3) & (arr != 4) & (arr != 5) & (arr != 6) & (arr != 7)))\n",
        "\n",
        "# Get the indices of the elements in the array that are not equal to a given value and not equal to a given value and not equal to a given value and not equal to a given value and not equal to a given value and not equal to a given value\n",
        "print(np.where((arr != 3) & (arr != 4) & (arr != 5) & (arr != 6) & (arr != 7) & (arr != 8)))\n",
        "\n",
        "# Get the indices of the elements in the array that are not equal to a given value and not equal to a given value and not equal to a given value and not equal to a given value and not equal to a given value and not equal to a given value and not equal to a given value\n",
        "print(np.where((arr != 3) & (arr != 4) & (arr != 5) & (arr != 6) & (arr != 7) & (arr != 8) & (arr != 9)))\n",
        "\n",
        "# Get the indices of the elements in the array that are not equal to a given value and not equal to a given value and not equal to a given value and not equal to a given value and not equal to a given value and not equal to a given value and not equal to a given value and not equal to a given value\n",
        "print(np.where((arr != 3) & (arr != 4) & (arr != 5) & (arr != 6) & (arr != 7) & (arr != 8) & (arr != 9) & (arr != 10)))\n",
        "\n",
        "# Get the indices of the elements in the array that are not equal to a given value and not equal to a given value and not equal to a given value and not equal to a given value and not equal to a given value and not equal to a given value and not equal to a given value and not equal to a given value and not equal to a given value\n",
        "print(np.where((arr != 3) & (arr != 4) & (arr != 5) & (arr != 6) & (arr != 7) & (arr != 8) & (arr != 9) & (arr != 10) & (arr != 11)))\n",
        "\n",
        "# Get the indices of the elements in the array that are not equal to a given value and not equal to a given value and not equal to a given value and not equal to a given value and not equal to a given value and not equal to a given value and not equal to a given value and not equal to a given value and not equal to a given value and not equal to a given value\n",
        "print(np.where((arr != 3) & (arr != 4) & (arr != 5) & (arr != 6) & (arr != 7) & (arr != 8) & (arr != 9) & (arr != 10) & (arr != 11) & (arr != 12)))\n",
        "\n",
        "# Get the indices of the elements in the array that are not equal to a given value and not equal to a given value and not equal to a given value and not equal to a given value and not equal to a given value and not equal to a given value and not equal to a given value and not equal to a given value and not equal to a given value and not equal to a given value and not equal to a given value\n",
        "print(np.where((arr != 3) & (arr != 4) & (arr != 5) & (arr != 6) & (arr != 7) & (arr != 8) & (arr != 9) & (arr != 10) & (arr != 11) & (arr != 12) & (arr != 13)))\n",
        "\n",
        "# Get the indices of the elements in the array that are not equal to a given value and not equal to a given value and not equal to a given value and not equal to a given value and not equal to a given value and not equal to a given value and not equal to a given value and not equal to a given value and not equal to a given value and not equal to a given value and not equal to a given value and not equal to a given value\n",
        "print(np.where((arr != 3) & (arr != 4) & (arr != 5) & (arr != 6) & (arr != 7) & (arr != 8) & (arr != 9) & (arr != 10) & (arr != 11) & (arr != 12) & (arr != 13) & (arr != 14)))\n",
        "\n",
        "# Get the indices of the elements"
      ],
      "metadata": {
        "id": "5FSpQQKrSubP"
      },
      "execution_count": null,
      "outputs": []
    },
    {
      "cell_type": "code",
      "source": [
        "a=90\n",
        "b=88\n",
        "try:\n",
        "  c=a+b\n",
        "  print(\"c=\",c)\n",
        "except:\n",
        "  print(\" type  error in code \")\n",
        "\n",
        "print(\"Have a good day\")"
      ],
      "metadata": {
        "colab": {
          "base_uri": "https://localhost:8080/"
        },
        "id": "MO2_Lr1C6xXl",
        "outputId": "aae09128-23f3-44e6-bcc7-ba5fb076e26a"
      },
      "execution_count": null,
      "outputs": [
        {
          "output_type": "stream",
          "name": "stdout",
          "text": [
            "c= 178\n",
            "Have a good day\n"
          ]
        }
      ]
    },
    {
      "cell_type": "code",
      "source": [
        "dict1={\"id\":101,\"name\":\"harish\",\"age\":22}\n",
        "try:\n",
        "  print(dict1[\"age\"])\n",
        "except:\n",
        "  print(\"key Error\")\n",
        "else:\n",
        "  print(dict1)\n",
        "\n",
        "finally:\n",
        "  print(\"have a great day\")\n"
      ],
      "metadata": {
        "colab": {
          "base_uri": "https://localhost:8080/"
        },
        "id": "g5v__tbk7zIL",
        "outputId": "30aad3d3-e338-4d4d-8a55-a3529cd3c005"
      },
      "execution_count": null,
      "outputs": [
        {
          "output_type": "stream",
          "name": "stdout",
          "text": [
            "22\n",
            "{'id': 101, 'name': 'harish', 'age': 22}\n",
            "have a great day\n"
          ]
        }
      ]
    },
    {
      "cell_type": "code",
      "source": [
        "a=123\n",
        "b=7\n",
        "try:\n",
        "  y=a/b\n",
        "except:\n",
        "  print(\"divisor can't be zero\")\n",
        "else:\n",
        "  print(\"y=\",y)\n"
      ],
      "metadata": {
        "colab": {
          "base_uri": "https://localhost:8080/"
        },
        "id": "--7WNLJh8wIr",
        "outputId": "1e573781-6ce8-489e-b192-8d8861ad8316"
      },
      "execution_count": null,
      "outputs": [
        {
          "output_type": "stream",
          "name": "stdout",
          "text": [
            "y= 17.571428571428573\n"
          ]
        }
      ]
    },
    {
      "cell_type": "code",
      "source": [
        "num=[66,88,99,45,34]\n",
        "try:\n",
        "  print(num[5])\n",
        "except:\n",
        " print(\"Out of index range\")\n",
        "try:\n",
        "  s=sum(num)\n",
        "  m=max(num)\n",
        "except:\n",
        "  print(\"error\")\n",
        "else:\n",
        "  print(\"sum=\",s)\n",
        "  print(\"max value is \",m)"
      ],
      "metadata": {
        "colab": {
          "base_uri": "https://localhost:8080/"
        },
        "id": "dptgm1u3-acm",
        "outputId": "2a61129f-f05b-4fa0-e3f1-3f63ad1f6503"
      },
      "execution_count": null,
      "outputs": [
        {
          "output_type": "stream",
          "name": "stdout",
          "text": [
            "Out of index range\n",
            "sum= 332\n",
            "max value is  99\n"
          ]
        }
      ]
    },
    {
      "cell_type": "code",
      "source": [
        "#*****************HOME WORK********************\n",
        "\n",
        "\n",
        "#create an empty list and write function to perform following operation-\n",
        "#all the operations are bind into a menu for make it user interact.\n",
        "\n",
        "#1.AddItem\n",
        "#2.DisplayItem\n",
        "#3.CountItem\n",
        "#4.ComputeTotal\n",
        "#5.FindMax\n",
        "#6.FindMin\n",
        "#7.InsertItem\n",
        "#8.UpdateItem\n",
        "#9.RemoveItem\n",
        "#10.SearchItem\n"
      ],
      "metadata": {
        "id": "yp7ZQva6_ail"
      },
      "execution_count": null,
      "outputs": []
    },
    {
      "cell_type": "code",
      "source": [
        "mylist=[]"
      ],
      "metadata": {
        "id": "elEgZ4nnHgXz"
      },
      "execution_count": null,
      "outputs": []
    },
    {
      "cell_type": "code",
      "source": [
        "def Additem():\n",
        "    item=int(input(\"Enter any number:\"))\n",
        "    mylist.append(item)\n",
        "    print(\"Data added\")\n",
        "\n",
        "def DisplayItem():\n",
        "  print(mylist)\n",
        "\n",
        "\n",
        "\n",
        "def menu():\n",
        "  m='''#1.AddItem\n",
        "      #2.DisplayItem\n",
        "      #3.CountItem\n",
        "      #4.ComputeTotal\n",
        "      #5.FindMax\n",
        "      #6.FindMin\n",
        "      #7.InsertItem\n",
        "      #8.UpdateItem\n",
        "      #9.RemoveItem\n",
        "      #10.SearchItem\n",
        "      # 0. Exit '''\n",
        "  print(m)\n"
      ],
      "metadata": {
        "id": "P5iExt7bH3mp"
      },
      "execution_count": null,
      "outputs": []
    },
    {
      "cell_type": "code",
      "source": [
        "menu()\n",
        "while(1):\n",
        "  op=int(input(\"Enter option value:-\"))\n",
        "  if op==1:\n",
        "    Additem()\n",
        "  if op==2:\n",
        "    DisplayItem()\n",
        "  if op==0:\n",
        "    exit()"
      ],
      "metadata": {
        "id": "uq9KhfDmIv7p"
      },
      "execution_count": null,
      "outputs": []
    },
    {
      "cell_type": "code",
      "source": [
        "from re import L\n",
        "num=14545425\n",
        "n=str(num)\n",
        "a=int(n[0])\n",
        "b=int(n[-1])\n",
        "s=a+b\n",
        "print(s)\n",
        "\n",
        "l=num%10\n",
        "\n",
        "while(num!=0):\n",
        "  d=num%10\n",
        "  num=num//10\n",
        "s1=d+l\n",
        "print(s1)\n"
      ],
      "metadata": {
        "colab": {
          "base_uri": "https://localhost:8080/"
        },
        "id": "DNvbqmMWL9bo",
        "outputId": "4bc2870f-24a8-4dca-b140-dd481829bfb7"
      },
      "execution_count": null,
      "outputs": [
        {
          "output_type": "stream",
          "name": "stdout",
          "text": [
            "6\n",
            "6\n"
          ]
        }
      ]
    },
    {
      "cell_type": "code",
      "source": [
        "List1=[12,34,54,56,25,54,36,5,'e','t','t','E',6,8,'P',55,'K']\n",
        "myIntList = [x for x in List1 if isinstance(x, int)]\n",
        "myStrList = [x for x in List1 if isinstance(x, str)]\n",
        "\n",
        "\n",
        "print(myIntList)\n",
        "print(myStrList)"
      ],
      "metadata": {
        "colab": {
          "base_uri": "https://localhost:8080/"
        },
        "id": "X_R2GgXQNyh_",
        "outputId": "0f7845b6-7f33-478e-c2ab-9d49d0e3d7d2"
      },
      "execution_count": null,
      "outputs": [
        {
          "output_type": "stream",
          "name": "stdout",
          "text": [
            "[12, 34, 54, 56, 25, 54, 36, 5, 6, 8, 55]\n",
            "['e', 't', 't', 'E', 'P', 'K']\n"
          ]
        }
      ]
    },
    {
      "cell_type": "code",
      "source": [
        "#INHERITENCE\n",
        "#parents class\n",
        "class Customer:\n",
        "  def __init__(self,cid,name,age,address,phone):\n",
        "    self.cid=cid\n",
        "    self.name=name\n",
        "    self.age=age\n",
        "    self.address=address\n",
        "    self.phone=phone\n",
        "  def Show(self):\n",
        "    print(\"Customer Details\")\n",
        "    print(self.cid,\"\\t\",self.name,\"\\t\",self.age,\"\\t\",self.address,\"\\t\",self.phone)"
      ],
      "metadata": {
        "id": "HQTp9ujpSoMI"
      },
      "execution_count": null,
      "outputs": []
    },
    {
      "cell_type": "code",
      "source": [
        "if __name__==\"__main__\":\n",
        "  c1=Customer(101,\"Harsh\",21,\"Ranibagh\",'9876566445')\n",
        "  c1.Show()\n",
        "  c2=Customer(104,\"Gaurav\",21,\"Delhi\",\"65465656\")\n",
        "  c2.Show()\n",
        "  c3=Customer(103,\"parul sharma\",18,\"deklhi\",\"122322\")\n",
        "  c3.Show()"
      ],
      "metadata": {
        "colab": {
          "base_uri": "https://localhost:8080/"
        },
        "id": "AGc-M2n4ULdp",
        "outputId": "3c918fd6-b29b-452d-fe36-5eda33bcfa80"
      },
      "execution_count": null,
      "outputs": [
        {
          "output_type": "stream",
          "name": "stdout",
          "text": [
            "Customer Details\n",
            "101 \t Harsh \t 21 \t Ranibagh \t 9876566445\n",
            "Customer Details\n",
            "104 \t Gaurav \t 21 \t Delhi \t 65465656\n",
            "Customer Details\n",
            "103 \t parul sharma \t 18 \t deklhi \t 122322\n"
          ]
        }
      ]
    },
    {
      "cell_type": "code",
      "source": [
        "class Guest(Customer):\n",
        "  def __init__(self, cid, name, age, address, phone,gender):\n",
        "    super().__init__(cid, name, age, address, phone)\n",
        "    self.gender=gender\n",
        "  def Showguest(self):\n",
        "    self.Show()\n",
        "    print(\"Gender \",self.gender)\n",
        "\n"
      ],
      "metadata": {
        "id": "VnwPQKJQiYUp"
      },
      "execution_count": null,
      "outputs": []
    },
    {
      "cell_type": "code",
      "source": [
        "c4=Guest(105,\"Nikita\",17,\"Rohini\",\"10989002\",\"female\")\n",
        "c4.Showguest();"
      ],
      "metadata": {
        "colab": {
          "base_uri": "https://localhost:8080/"
        },
        "id": "vTGoL6WGjmaq",
        "outputId": "d0fe919f-2d81-4bc9-fef6-962419157bb7"
      },
      "execution_count": null,
      "outputs": [
        {
          "output_type": "stream",
          "name": "stdout",
          "text": [
            "Customer Details\n",
            "105 \t Nikita \t 17 \t Rohini \t 10989002\n",
            "Gender  female\n"
          ]
        }
      ]
    },
    {
      "cell_type": "code",
      "source": [
        "#  MULTI LEVEL Inheritence\n",
        "class Alpha:\n",
        "  def __init__(self,num1):\n",
        "    self.num1=num1\n",
        "  def Shownum1(self):\n",
        "    print(\"Num1=\",self.num1)\n",
        "\n",
        "\n",
        "class Beta(Alpha):\n",
        "  def __init__(self,num1,num2):\n",
        "    super().__init__(num1)\n",
        "    self.num2=num2\n",
        "  def Show(self):\n",
        "    self.Shownum1()\n",
        "    print(\"Num2=\",self.num2)\n",
        "\n",
        "  def Add(self):\n",
        "    s=self.num1+self.num2\n",
        "    print(\"sum is \",s)\n",
        "  def Max(self):\n",
        "    if self.num1>self.num2:\n",
        "      print(\"max value is\",self.num1)\n",
        "    else:\n",
        "      print(\"max value is\",self.num2)\n",
        "\n",
        "class Gamma(Beta):\n",
        "  def __init__(self,num1,num2,num3):\n",
        "    super().__init__(num1,num2)\n",
        "    self.num3=num3\n",
        "  def Highest(self):\n",
        "    print(\"Num3=\",self.num3)\n",
        "    x=max(self.num1,self.num2,self.num3)\n",
        "    print(\"Highest value is \",x)"
      ],
      "metadata": {
        "id": "h7cVy2NyXNHx"
      },
      "execution_count": null,
      "outputs": []
    },
    {
      "cell_type": "code",
      "source": [
        "c1=Gamma(888,5697,1098)\n",
        "c1.Show()\n",
        "c1.Add()\n",
        "c1.Max()\n",
        "c1.Highest()"
      ],
      "metadata": {
        "id": "gx85iXAkc3nc",
        "colab": {
          "base_uri": "https://localhost:8080/"
        },
        "outputId": "6297ff31-7ddb-4367-a1de-a516cde4f2c3"
      },
      "execution_count": null,
      "outputs": [
        {
          "output_type": "stream",
          "name": "stdout",
          "text": [
            "Num1= 888\n",
            "Num2= 5697\n",
            "sum is  6585\n",
            "max value is 5697\n",
            "Num3= 1098\n",
            "Highest value is  5697\n"
          ]
        }
      ]
    },
    {
      "cell_type": "code",
      "source": [
        "# HIERARCHICAL INHERITENE\n",
        "class Customer:\n",
        "  city=\"Delhi\"  # static\n",
        "  def __init__(self,cid,name,age,address,phone):\n",
        "    self.cid=cid\n",
        "    self.name=name\n",
        "    self.age=age\n",
        "    self.address=address\n",
        "    self.phone=phone\n",
        "  def Show(self):\n",
        "    print(\"Customer Details\")\n",
        "    print(\"CID      CNAME      AGE    CADDRESSS      CPHONE        STOREADDRESS\")\n",
        "    print(self.cid,\"\\t\",self.name,\"\\t\",self.age,\"\\t\",self.address,\"\\t\",self.phone,\"\\t\",self.city)"
      ],
      "metadata": {
        "id": "URxWDNZHo1KQ"
      },
      "execution_count": null,
      "outputs": []
    },
    {
      "cell_type": "code",
      "source": [
        "class PerCust(Customer):\n",
        "  ctype=\"Permanent\"\n",
        "  def __init__(self,cid,name,age,address,phone):\n",
        "    super().__init__(cid,name,age,address,phone)\n",
        "  def Show2(self):\n",
        "    self.Show()\n",
        "    print(\"TYPE :\",self.ctype)\n"
      ],
      "metadata": {
        "id": "XDsGaowzpR7E"
      },
      "execution_count": null,
      "outputs": []
    },
    {
      "cell_type": "code",
      "source": [
        "class TempCust(Customer):\n",
        "  ctype=\"Temporary\"\n",
        "  def __init__(self,cid,name,age,address,phone):\n",
        "    super().__init__(cid,name,age,address,phone)\n",
        "  def Show3(self):\n",
        "    self.Show()\n",
        "    print(\"TYPE :\",self.ctype)\n"
      ],
      "metadata": {
        "id": "0Mx6N9ItrGjp"
      },
      "execution_count": null,
      "outputs": []
    },
    {
      "cell_type": "code",
      "source": [
        "class GuestCust(Customer):\n",
        "  ctype=\"Guest\"\n",
        "  def __init__(self,cid,name,age,address,phone):\n",
        "    super().__init__(cid,name,age,address,phone)\n",
        "  def Show4(self):\n",
        "    self.Show()\n",
        "    print(\"TYPE :\",self.ctype)\n"
      ],
      "metadata": {
        "id": "2POlS-2zrVvf"
      },
      "execution_count": null,
      "outputs": []
    },
    {
      "cell_type": "code",
      "source": [
        "# main()\n",
        "\n",
        "gc1=GuestCust(1,\"shyam\",23,\"london\",\"57776765\")\n",
        "gc1.Show4()\n",
        "\n",
        "c5=PerCust(3,\"ankit\",21,\"Modal town\",\"36677644\")\n",
        "c5.Show2()\n",
        "\n",
        "c6=TempCust(4,\"Alok\",44,\"kohat\",\"635545\")\n",
        "c6.Show3()"
      ],
      "metadata": {
        "colab": {
          "base_uri": "https://localhost:8080/"
        },
        "id": "32vp5Q9Er-k-",
        "outputId": "992e923a-e8bc-460d-a911-c476e73b409e"
      },
      "execution_count": null,
      "outputs": [
        {
          "output_type": "stream",
          "name": "stdout",
          "text": [
            "Customer Details\n",
            "CID      CNAME      AGE    CADDRESSS      CPHONE        STOREADDRESS\n",
            "1 \t shyam \t 23 \t london \t 57776765 \t Delhi\n",
            "TYPE : Guest\n",
            "Customer Details\n",
            "CID      CNAME      AGE    CADDRESSS      CPHONE        STOREADDRESS\n",
            "3 \t ankit \t 21 \t Modal town \t 36677644 \t Delhi\n",
            "TYPE : Permanent\n",
            "Customer Details\n",
            "CID      CNAME      AGE    CADDRESSS      CPHONE        STOREADDRESS\n",
            "4 \t Alok \t 44 \t kohat \t 635545 \t Delhi\n",
            "TYPE : Temporary\n"
          ]
        }
      ]
    },
    {
      "cell_type": "code",
      "source": [
        "#MULTIPLE INHERITENCE EXAMPLE\n",
        "class Admin:\n",
        "  college=\"TGC\"\n",
        "  def __init__(self):\n",
        "    self.Regno=int(input(\"Enter Reg_number\"))\n",
        "    self.Name=input(\"Enter Your Name :\")\n",
        "    self.Course=input(\"Enter Course :\")\n",
        "  def Display(self):\n",
        "    print(\"REG NO \",self.Regno)\n",
        "    print(\"NAME OF STUDENT \",self.Name)\n",
        "    print(\"COURSE ENROLLED  \",self.Course)\n",
        "    print(\"COLLEGE NAME \",self.college)"
      ],
      "metadata": {
        "id": "dfSTFa3Tvg5f"
      },
      "execution_count": null,
      "outputs": []
    },
    {
      "cell_type": "code",
      "source": [
        "class Fees:\n",
        "  coursefee=0;\n",
        "  def Coursefee(self):\n",
        "    self.coursefee=int(input(\"Enter Course fee \"))\n",
        "  def Displayfee(self):\n",
        "    print(\"COURSE FEES RS.\",self.coursefee)"
      ],
      "metadata": {
        "id": "U9Ve84h7wu17"
      },
      "execution_count": null,
      "outputs": []
    },
    {
      "cell_type": "code",
      "source": [
        "class Exam:\n",
        "  sem=1\n",
        "  sub1,sub2,sub3,sub4=0,0,0,0\n",
        "  pr=0\n",
        "  def GetMarks(self,sem,s1,s2,s3,s4,p):\n",
        "    self.sem=sem;\n",
        "    self.sub1=s1\n",
        "    self.sub2=s2\n",
        "    self.sub3=s3\n",
        "    self.sub4=s4\n",
        "    self.pr=p\n",
        "  def showmarks(self):\n",
        "    print(\"SEMESTER : \",self.sem)\n",
        "    print(\"SUB1 : \",self.sub1)\n",
        "    print(\"SUB2 : \",self.sub2)\n",
        "    print(\"SUB3: \",self.sub3)\n",
        "    print(\"SUB4 : \",self.sub4)\n",
        "    print(\"PRACTICAL : \",self.pr)\n",
        "  def Gettotal(self):\n",
        "    totalmarks=self.sub1+self.sub2+self.sub3+self.sub4+self.pr\n",
        "    print(\"Total Marks \",totalmarks)\n",
        "\n"
      ],
      "metadata": {
        "id": "_bpmPmQoxmCU"
      },
      "execution_count": null,
      "outputs": []
    },
    {
      "cell_type": "code",
      "source": [
        "class Result(Admin,Fees,Exam):\n",
        "  def __init__(self):\n",
        "    super().__init__()\n",
        "  def Showresult(self):\n",
        "    self.Display()\n",
        "    self.Displayfee()\n",
        "    self.showmarks()\n",
        "    self.Gettotal()\n",
        "\n"
      ],
      "metadata": {
        "id": "8qM9ILGyzP2n"
      },
      "execution_count": null,
      "outputs": []
    },
    {
      "cell_type": "code",
      "source": [
        "Harsh=Result()\n",
        "Harsh.Coursefee()\n",
        "Harsh.GetMarks(1,45,66,77,55,88)\n",
        "Harsh.Showresult()"
      ],
      "metadata": {
        "colab": {
          "base_uri": "https://localhost:8080/"
        },
        "id": "uiiTh9DL0LI9",
        "outputId": "c6f279e7-12fd-401f-c40c-522b0b5f6eb0"
      },
      "execution_count": null,
      "outputs": [
        {
          "output_type": "stream",
          "name": "stdout",
          "text": [
            "Enter Reg_number101\n",
            "Enter Your Name :gaurav\n",
            "Enter Course :da\n",
            "Enter Course fee 45000\n",
            "REG NO  101\n",
            "NAME OF STUDENT  gaurav\n",
            "COURSE ENROLLED   da\n",
            "COLLEGE NAME  TGC\n",
            "COURSE FEES RS. 45000\n",
            "SEMESTER :  1\n",
            "SUB1 :  45\n",
            "SUB2 :  66\n",
            "SUB3:  77\n",
            "SUB4 :  55\n",
            "PRACTICAL :  88\n",
            "Total Marks  331\n"
          ]
        }
      ]
    },
    {
      "cell_type": "code",
      "source": [
        "#getter and setter of  class\n",
        "\n",
        "class Employee:\n",
        "  __pancardno=\"234HFA5\" # private\n",
        "  _Bonus=10000.00       # protected\n",
        "  company=\"TCS\"         #public\n",
        "  def __init__(self):\n",
        "    self.id=101\n",
        "    self.name='xyz'\n",
        "    self.Age=18\n",
        "    self.salary=30000.00\n",
        "\n",
        "  def getId(self):\n",
        "    return self.id\n",
        "  def setId(self,id):\n",
        "    self.id=id\n",
        "\n",
        "  def getName(self):\n",
        "    return self.name\n",
        "  def setName(self,name):\n",
        "    self.name=name\n",
        "\n",
        "  def getAge(self):\n",
        "    return self.Age\n",
        "  def setAge(self,age):\n",
        "    self.Age=age\n",
        "\n",
        "\n",
        "  def getSalary(self):\n",
        "    return self.salary\n",
        "  def setSalary(self,s):\n",
        "    self.salary=s\n",
        "\n",
        "  def Updatesal(self,amount):\n",
        "    self.amount=amount\n",
        "    self.salary=self.salary+self.amount\n",
        "  def Getpan(self):\n",
        "    return self.__pancardno\n"
      ],
      "metadata": {
        "id": "NeClVN5a2Ahp"
      },
      "execution_count": null,
      "outputs": []
    },
    {
      "cell_type": "code",
      "source": [
        "class Manager(Employee):\n",
        "  def showbonus(self):\n",
        "    print(self._Bonus)"
      ],
      "metadata": {
        "id": "flP2O0uH_UDL"
      },
      "execution_count": null,
      "outputs": []
    },
    {
      "cell_type": "code",
      "source": [
        "class AsstManager(Manager):\n",
        "  def showBonus(self):\n",
        "    print(self._Bonus)"
      ],
      "metadata": {
        "id": "aitGUOaj_p1M"
      },
      "execution_count": null,
      "outputs": []
    },
    {
      "cell_type": "code",
      "source": [
        "e2=AsstManager()\n",
        "e2.showBonus()\n",
        "e2._Bonus=9000\n",
        "e2.showBonus()\n",
        "\n"
      ],
      "metadata": {
        "colab": {
          "base_uri": "https://localhost:8080/"
        },
        "id": "wuM0rMRX_3pj",
        "outputId": "29c8d37d-3920-4edb-93a9-88e6f5d7703c"
      },
      "execution_count": null,
      "outputs": [
        {
          "output_type": "stream",
          "name": "stdout",
          "text": [
            "10000.0\n",
            "9000\n"
          ]
        }
      ]
    },
    {
      "cell_type": "code",
      "source": [
        "E1=Employee()\n",
        "print(E1.Getpan())\n",
        "print(E1.company)\n",
        "print(E1._Bonus)\n",
        "E1._Bonus=7000\n",
        "print(E1._Bonus)\n"
      ],
      "metadata": {
        "colab": {
          "base_uri": "https://localhost:8080/"
        },
        "id": "ySYDPQWN34nP",
        "outputId": "9c64291e-5201-4e35-f977-68d826669b03"
      },
      "execution_count": null,
      "outputs": [
        {
          "output_type": "stream",
          "name": "stdout",
          "text": [
            "234HFA5\n",
            "TCS\n",
            "10000.0\n",
            "7000\n"
          ]
        }
      ]
    },
    {
      "cell_type": "code",
      "source": [
        "\n",
        "print(E1.getId())\n",
        "E1.setId(1010)\n",
        "print(E1.getId())\n",
        "E1.setName(\"Harsh\")\n",
        "print(E1.getName())\n",
        "E1.setSalary(28000.00)\n",
        "print(E1.getSalary())\n",
        "E1.Updatesal(6000)\n",
        "print(E1.getSalary())"
      ],
      "metadata": {
        "id": "EWKKXt5d-wvE"
      },
      "execution_count": null,
      "outputs": []
    },
    {
      "cell_type": "code",
      "source": [
        "import random as r\n",
        "import math\n",
        "class Banksys:\n",
        "  Ifsc_code='1017'\n",
        "  Bank_name=\"PNB\"\n",
        "  branch=\"Pritampura\"\n",
        "  def __init__(self):\n",
        "    self.acc_no=111\n",
        "    self.firstname=\"arjun\"\n",
        "    self.lastname=\"reddy\"\n",
        "    self.address=\"delhi\"\n",
        "    self.age=18\n",
        "    self.phone=\"67676766767\"\n",
        "    self.balance=0\n",
        "  def Display(self):\n",
        "    print(\"Account Details\")\n",
        "    print(\"Name:\",self.firstname, self.lastname)\n",
        "    print(\"Address:\",self.address)\n",
        "    print(\"Age:\",self.age)\n",
        "    print(\"Mobile Number:\",self.phone)\n",
        "    print(\"Account Balance:\",self.balance)\n",
        "    print(\"IFCS Code:\",self.Ifsc_code)\n",
        "    print(\"Bank Name:\",self.Bank_name)\n",
        "    print(\"Branch:\",self.branch)\n",
        "    print(\"Account number is\",self.Ifsc_code+self.acc_no)\n",
        "    print(\"Account Opened Successfully!\")\n",
        "  def Accountopen(self):\n",
        "    self.firstname=input(\"Enter First Name:\")\n",
        "    self.lastname=input(\"Enter Last Name:\")\n",
        "    self.address=input(\"Enter Address:\")\n",
        "    self.age=int(input(\"Enter age:\"))\n",
        "    self.phone=input(\"Enter Mobile Number:\")\n",
        "    self.balance=int(input(\"Enter Balance:\"))\n",
        "    self.acc_no=self.generateaccno()\n",
        "  def Deposit(self):\n",
        "    amount=int(input(\"Enter depositing amount\"))\n",
        "    self.balance=self.balance+amount\n",
        "    print(\"Amount added\")\n",
        "    print(\"New Balance is:\",self.balance)\n",
        "  def Withdraw(self):\n",
        "    amount=int(input(\"Amount to be withdrawn:\"))\n",
        "    if amount<=self.balance:\n",
        "      print(\"Current balance\",self.balance-amount)\n",
        "    else:\n",
        "      print(\"Insufficient Balance\")\n",
        "  def generateaccno(self):\n",
        "      digits=\"0123456789\"\n",
        "      acc_no=''\n",
        "      for x in range(8):\n",
        "        p=digits[math.floor(r.random()*10)]\n",
        "        acc_no+=p\n",
        "      return acc_no\n",
        "\n",
        "\n",
        "\n",
        "\n",
        "\n",
        "\n",
        "\n",
        "\n"
      ],
      "metadata": {
        "id": "FaFjx9_4wYM8"
      },
      "execution_count": null,
      "outputs": []
    },
    {
      "cell_type": "code",
      "source": [
        "#  Inheritence in python\n",
        "class AXIS(Banksys):\n",
        "  Ifsc_code='2017'\n",
        "  Bank_name=\"AXIS\"\n",
        "  branch=\"KOHAT\"\n",
        "  ROI=10.5\n",
        "  def __init__(self):\n",
        "    self.Accountopen();\n",
        "  def Show1(self):\n",
        "    self.Display()\n",
        "    print(\"ROI\",self.ROI)"
      ],
      "metadata": {
        "id": "l_MVIzUk-Bsm"
      },
      "execution_count": null,
      "outputs": []
    },
    {
      "cell_type": "code",
      "source": [
        "class BOB(Banksys):\n",
        "  Ifsc_code='3017'\n",
        "  Bank_name=\"BOB\"\n",
        "  branch=\"MODEL TOWN\"\n",
        "  ROI=12.5\n",
        "  def __init__(self):\n",
        "    self.Accountopen();\n",
        "  def Show1(self):\n",
        "    self.Display()\n",
        "    print(\"ROI\",self.ROI)"
      ],
      "metadata": {
        "id": "VWIjmDbqB6-v"
      },
      "execution_count": null,
      "outputs": []
    },
    {
      "cell_type": "code",
      "source": [
        "c1=AXIS()\n",
        "c1.Show1()\n",
        "c1.Withdraw()"
      ],
      "metadata": {
        "colab": {
          "base_uri": "https://localhost:8080/"
        },
        "id": "L3a2nKqOxk8T",
        "outputId": "980f25e9-c681-456a-9914-a295c5e743b4"
      },
      "execution_count": null,
      "outputs": [
        {
          "output_type": "stream",
          "name": "stdout",
          "text": [
            "Enter First Name:Nikita\n",
            "Enter Last Name:shrama\n",
            "Enter Address:rohini\n",
            "Enter age:22\n",
            "Enter Mobile Number:16312365\n",
            "Enter Balance:12000\n",
            "Account Details\n",
            "Name: Nikita shrama\n",
            "Address: rohini\n",
            "Age: 22\n",
            "Mobile Number: 16312365\n",
            "Account Balance: 12000\n",
            "IFCS Code: 2017\n",
            "Bank Name: AXIS\n",
            "Branch: KOHAT\n",
            "Account number is 201787311011\n",
            "Account Opened Successfully!\n",
            "ROI 10.5\n",
            "Amount to be withdrawn:3500\n",
            "Current balance 8500\n"
          ]
        }
      ]
    },
    {
      "cell_type": "code",
      "source": [
        "c2=BOB()\n",
        "c2.Show1()\n",
        "c2.Deposit()"
      ],
      "metadata": {
        "colab": {
          "base_uri": "https://localhost:8080/"
        },
        "id": "drciQzkIzyNp",
        "outputId": "ab437436-2bdb-44a2-e7cb-8d2936359991"
      },
      "execution_count": null,
      "outputs": [
        {
          "output_type": "stream",
          "name": "stdout",
          "text": [
            "Enter First Name:Ankit\n",
            "Enter Last Name:Kumar\n",
            "Enter Address:delhi\n",
            "Enter age:21\n",
            "Enter Mobile Number:646235\n",
            "Enter Balance:10000\n",
            "Account Details\n",
            "Name: Ankit Kumar\n",
            "Address: delhi\n",
            "Age: 21\n",
            "Mobile Number: 646235\n",
            "Account Balance: 10000\n",
            "IFCS Code: 3017\n",
            "Bank Name: BOB\n",
            "Branch: MODEL TOWN\n",
            "Account number is 301764685946\n",
            "Account Opened Successfully!\n",
            "ROI 12.5\n",
            "Enter depositing amount5000\n",
            "Amount added\n",
            "New Balance is: 15000\n"
          ]
        }
      ]
    },
    {
      "cell_type": "code",
      "source": [
        "class Animal:\n",
        "  def sound(self):\n",
        "    print(\"Animals have different sound...\")\n",
        "  def eat(self):\n",
        "    print(\"Animal is eating.....\")\n",
        "\n"
      ],
      "metadata": {
        "id": "fA4kCUYZArem"
      },
      "execution_count": null,
      "outputs": []
    },
    {
      "cell_type": "code",
      "source": [
        "class Dog(Animal):\n",
        "  def __init__(self):\n",
        "    self.name=input(\"Enter Dog name\");\n",
        "    self.breed=input(\"Enter Breed\")\n",
        "  def sound(self):\n",
        "    super().sound()\n",
        "    print(\"Dog is barking.......\")\n",
        "  def eat(self):\n",
        "    print(\"Dog eating Bread and Meat\")\n",
        "  def Display(self):\n",
        "    print(self.name,\"\\t\",self.breed)"
      ],
      "metadata": {
        "id": "vWbjp7z33cIi"
      },
      "execution_count": null,
      "outputs": []
    },
    {
      "cell_type": "code",
      "source": [
        "dog1=Dog()\n",
        "dog1.sound()\n",
        "dog1.eat()\n",
        "dog1.Display()\n"
      ],
      "metadata": {
        "colab": {
          "base_uri": "https://localhost:8080/"
        },
        "id": "dx6BPF8Z5O6K",
        "outputId": "09390bf4-955d-4f5d-817b-6f7c5a17d7c5"
      },
      "execution_count": null,
      "outputs": [
        {
          "output_type": "stream",
          "name": "stdout",
          "text": [
            "Enter Dog named\n",
            "Enter Breedppp\n",
            "Animals have different sound...\n",
            "Dog is barking.......\n",
            "Dog eating Bread and Meat\n",
            "d \t ppp\n"
          ]
        }
      ]
    },
    {
      "cell_type": "code",
      "source": [
        "# from google.colab import drive\n",
        "from google.colab import drive\n",
        "drive.mount(\"//content//gdrive\")\n",
        "\n",
        "path='/content/gdrive/MyDrive/Actor.json'"
      ],
      "metadata": {
        "colab": {
          "base_uri": "https://localhost:8080/"
        },
        "id": "vr5s-t1yFR_-",
        "outputId": "2e0a7eee-37f1-48ca-f71a-61b675c5e835"
      },
      "execution_count": null,
      "outputs": [
        {
          "output_type": "stream",
          "name": "stdout",
          "text": [
            "Mounted at //content//gdrive\n"
          ]
        }
      ]
    },
    {
      "cell_type": "code",
      "source": [
        "import json\n",
        "fp=open(path,\"r\")\n",
        "x=fp.read()\n",
        "\n",
        "\n",
        "print(x)\n"
      ],
      "metadata": {
        "colab": {
          "base_uri": "https://localhost:8080/",
          "height": 1000
        },
        "id": "i6d1JmQzF8t_",
        "outputId": "7f820ea3-55f5-4c90-ef55-753866100b52"
      },
      "execution_count": null,
      "outputs": [
        {
          "output_type": "stream",
          "name": "stdout",
          "text": [
            "[\n",
            "\t{\n",
            "\t\t\"actor_id\" : 1,\n",
            "\t\t\"first_name\" : \"PENELOPE\",\n",
            "\t\t\"last_name\" : \"GUINESS\",\n",
            "\t\t\"last_update\" : \"2006-02-15 04:34:33\"\n",
            "\t},\n",
            "\t{\n",
            "\t\t\"actor_id\" : 2,\n",
            "\t\t\"first_name\" : \"NICK\",\n",
            "\t\t\"last_name\" : \"WAHLBERG\",\n",
            "\t\t\"last_update\" : \"2006-02-15 04:34:33\"\n",
            "\t},\n",
            "\t{\n",
            "\t\t\"actor_id\" : 3,\n",
            "\t\t\"first_name\" : \"ED\",\n",
            "\t\t\"last_name\" : \"CHASE\",\n",
            "\t\t\"last_update\" : \"2006-02-15 04:34:33\"\n",
            "\t},\n",
            "\t{\n",
            "\t\t\"actor_id\" : 4,\n",
            "\t\t\"first_name\" : \"JENNIFER\",\n",
            "\t\t\"last_name\" : \"DAVIS\",\n",
            "\t\t\"last_update\" : \"2006-02-15 04:34:33\"\n",
            "\t},\n",
            "\t{\n",
            "\t\t\"actor_id\" : 5,\n",
            "\t\t\"first_name\" : \"JOHNNY\",\n",
            "\t\t\"last_name\" : \"LOLLOBRIGIDA\",\n",
            "\t\t\"last_update\" : \"2006-02-15 04:34:33\"\n",
            "\t},\n",
            "\t{\n",
            "\t\t\"actor_id\" : 6,\n",
            "\t\t\"first_name\" : \"BETTE\",\n",
            "\t\t\"last_name\" : \"NICHOLSON\",\n",
            "\t\t\"last_update\" : \"2006-02-15 04:34:33\"\n",
            "\t},\n",
            "\t{\n",
            "\t\t\"actor_id\" : 7,\n",
            "\t\t\"first_name\" : \"GRACE\",\n",
            "\t\t\"last_name\" : \"MOSTEL\",\n",
            "\t\t\"last_update\" : \"2006-02-15 04:34:33\"\n",
            "\t},\n",
            "\t{\n",
            "\t\t\"actor_id\" : 8,\n",
            "\t\t\"first_name\" : \"MATTHEW\",\n",
            "\t\t\"last_name\" : \"JOHANSSON\",\n",
            "\t\t\"last_update\" : \"2006-02-15 04:34:33\"\n",
            "\t},\n",
            "\t{\n",
            "\t\t\"actor_id\" : 9,\n",
            "\t\t\"first_name\" : \"JOE\",\n",
            "\t\t\"last_name\" : \"SWANK\",\n",
            "\t\t\"last_update\" : \"2006-02-15 04:34:33\"\n",
            "\t},\n",
            "\t{\n",
            "\t\t\"actor_id\" : 10,\n",
            "\t\t\"first_name\" : \"CHRISTIAN\",\n",
            "\t\t\"last_name\" : \"GABLE\",\n",
            "\t\t\"last_update\" : \"2006-02-15 04:34:33\"\n",
            "\t},\n",
            "\t{\n",
            "\t\t\"actor_id\" : 11,\n",
            "\t\t\"first_name\" : \"ZERO\",\n",
            "\t\t\"last_name\" : \"CAGE\",\n",
            "\t\t\"last_update\" : \"2006-02-15 04:34:33\"\n",
            "\t},\n",
            "\t{\n",
            "\t\t\"actor_id\" : 12,\n",
            "\t\t\"first_name\" : \"KARL\",\n",
            "\t\t\"last_name\" : \"BERRY\",\n",
            "\t\t\"last_update\" : \"2006-02-15 04:34:33\"\n",
            "\t},\n",
            "\t{\n",
            "\t\t\"actor_id\" : 13,\n",
            "\t\t\"first_name\" : \"UMA\",\n",
            "\t\t\"last_name\" : \"WOOD\",\n",
            "\t\t\"last_update\" : \"2006-02-15 04:34:33\"\n",
            "\t},\n",
            "\t{\n",
            "\t\t\"actor_id\" : 14,\n",
            "\t\t\"first_name\" : \"VIVIEN\",\n",
            "\t\t\"last_name\" : \"BERGEN\",\n",
            "\t\t\"last_update\" : \"2006-02-15 04:34:33\"\n",
            "\t},\n",
            "\t{\n",
            "\t\t\"actor_id\" : 15,\n",
            "\t\t\"first_name\" : \"CUBA\",\n",
            "\t\t\"last_name\" : \"OLIVIER\",\n",
            "\t\t\"last_update\" : \"2006-02-15 04:34:33\"\n",
            "\t},\n",
            "\t{\n",
            "\t\t\"actor_id\" : 16,\n",
            "\t\t\"first_name\" : \"FRED\",\n",
            "\t\t\"last_name\" : \"COSTNER\",\n",
            "\t\t\"last_update\" : \"2006-02-15 04:34:33\"\n",
            "\t},\n",
            "\t{\n",
            "\t\t\"actor_id\" : 17,\n",
            "\t\t\"first_name\" : \"HELEN\",\n",
            "\t\t\"last_name\" : \"VOIGHT\",\n",
            "\t\t\"last_update\" : \"2006-02-15 04:34:33\"\n",
            "\t},\n",
            "\t{\n",
            "\t\t\"actor_id\" : 18,\n",
            "\t\t\"first_name\" : \"DAN\",\n",
            "\t\t\"last_name\" : \"TORN\",\n",
            "\t\t\"last_update\" : \"2006-02-15 04:34:33\"\n",
            "\t},\n",
            "\t{\n",
            "\t\t\"actor_id\" : 19,\n",
            "\t\t\"first_name\" : \"BOB\",\n",
            "\t\t\"last_name\" : \"FAWCETT\",\n",
            "\t\t\"last_update\" : \"2006-02-15 04:34:33\"\n",
            "\t},\n",
            "\t{\n",
            "\t\t\"actor_id\" : 20,\n",
            "\t\t\"first_name\" : \"LUCILLE\",\n",
            "\t\t\"last_name\" : \"TRACY\",\n",
            "\t\t\"last_update\" : \"2006-02-15 04:34:33\"\n",
            "\t},\n",
            "\t{\n",
            "\t\t\"actor_id\" : 21,\n",
            "\t\t\"first_name\" : \"KIRSTEN\",\n",
            "\t\t\"last_name\" : \"PALTROW\",\n",
            "\t\t\"last_update\" : \"2006-02-15 04:34:33\"\n",
            "\t},\n",
            "\t{\n",
            "\t\t\"actor_id\" : 22,\n",
            "\t\t\"first_name\" : \"ELVIS\",\n",
            "\t\t\"last_name\" : \"MARX\",\n",
            "\t\t\"last_update\" : \"2006-02-15 04:34:33\"\n",
            "\t},\n",
            "\t{\n",
            "\t\t\"actor_id\" : 23,\n",
            "\t\t\"first_name\" : \"SANDRA\",\n",
            "\t\t\"last_name\" : \"KILMER\",\n",
            "\t\t\"last_update\" : \"2006-02-15 04:34:33\"\n",
            "\t},\n",
            "\t{\n",
            "\t\t\"actor_id\" : 24,\n",
            "\t\t\"first_name\" : \"CAMERON\",\n",
            "\t\t\"last_name\" : \"STREEP\",\n",
            "\t\t\"last_update\" : \"2006-02-15 04:34:33\"\n",
            "\t},\n",
            "\t{\n",
            "\t\t\"actor_id\" : 25,\n",
            "\t\t\"first_name\" : \"KEVIN\",\n",
            "\t\t\"last_name\" : \"BLOOM\",\n",
            "\t\t\"last_update\" : \"2006-02-15 04:34:33\"\n",
            "\t},\n",
            "\t{\n",
            "\t\t\"actor_id\" : 26,\n",
            "\t\t\"first_name\" : \"RIP\",\n",
            "\t\t\"last_name\" : \"CRAWFORD\",\n",
            "\t\t\"last_update\" : \"2006-02-15 04:34:33\"\n",
            "\t},\n",
            "\t{\n",
            "\t\t\"actor_id\" : 27,\n",
            "\t\t\"first_name\" : \"JULIA\",\n",
            "\t\t\"last_name\" : \"MCQUEEN\",\n",
            "\t\t\"last_update\" : \"2006-02-15 04:34:33\"\n",
            "\t},\n",
            "\t{\n",
            "\t\t\"actor_id\" : 28,\n",
            "\t\t\"first_name\" : \"WOODY\",\n",
            "\t\t\"last_name\" : \"HOFFMAN\",\n",
            "\t\t\"last_update\" : \"2006-02-15 04:34:33\"\n",
            "\t},\n",
            "\t{\n",
            "\t\t\"actor_id\" : 29,\n",
            "\t\t\"first_name\" : \"ALEC\",\n",
            "\t\t\"last_name\" : \"WAYNE\",\n",
            "\t\t\"last_update\" : \"2006-02-15 04:34:33\"\n",
            "\t},\n",
            "\t{\n",
            "\t\t\"actor_id\" : 30,\n",
            "\t\t\"first_name\" : \"SANDRA\",\n",
            "\t\t\"last_name\" : \"PECK\",\n",
            "\t\t\"last_update\" : \"2006-02-15 04:34:33\"\n",
            "\t},\n",
            "\t{\n",
            "\t\t\"actor_id\" : 31,\n",
            "\t\t\"first_name\" : \"SISSY\",\n",
            "\t\t\"last_name\" : \"SOBIESKI\",\n",
            "\t\t\"last_update\" : \"2006-02-15 04:34:33\"\n",
            "\t},\n",
            "\t{\n",
            "\t\t\"actor_id\" : 32,\n",
            "\t\t\"first_name\" : \"TIM\",\n",
            "\t\t\"last_name\" : \"HACKMAN\",\n",
            "\t\t\"last_update\" : \"2006-02-15 04:34:33\"\n",
            "\t},\n",
            "\t{\n",
            "\t\t\"actor_id\" : 33,\n",
            "\t\t\"first_name\" : \"MILLA\",\n",
            "\t\t\"last_name\" : \"PECK\",\n",
            "\t\t\"last_update\" : \"2006-02-15 04:34:33\"\n",
            "\t},\n",
            "\t{\n",
            "\t\t\"actor_id\" : 34,\n",
            "\t\t\"first_name\" : \"AUDREY\",\n",
            "\t\t\"last_name\" : \"OLIVIER\",\n",
            "\t\t\"last_update\" : \"2006-02-15 04:34:33\"\n",
            "\t},\n",
            "\t{\n",
            "\t\t\"actor_id\" : 35,\n",
            "\t\t\"first_name\" : \"JUDY\",\n",
            "\t\t\"last_name\" : \"DEAN\",\n",
            "\t\t\"last_update\" : \"2006-02-15 04:34:33\"\n",
            "\t},\n",
            "\t{\n",
            "\t\t\"actor_id\" : 36,\n",
            "\t\t\"first_name\" : \"BURT\",\n",
            "\t\t\"last_name\" : \"DUKAKIS\",\n",
            "\t\t\"last_update\" : \"2006-02-15 04:34:33\"\n",
            "\t},\n",
            "\t{\n",
            "\t\t\"actor_id\" : 37,\n",
            "\t\t\"first_name\" : \"VAL\",\n",
            "\t\t\"last_name\" : \"BOLGER\",\n",
            "\t\t\"last_update\" : \"2006-02-15 04:34:33\"\n",
            "\t},\n",
            "\t{\n",
            "\t\t\"actor_id\" : 38,\n",
            "\t\t\"first_name\" : \"TOM\",\n",
            "\t\t\"last_name\" : \"MCKELLEN\",\n",
            "\t\t\"last_update\" : \"2006-02-15 04:34:33\"\n",
            "\t},\n",
            "\t{\n",
            "\t\t\"actor_id\" : 39,\n",
            "\t\t\"first_name\" : \"GOLDIE\",\n",
            "\t\t\"last_name\" : \"BRODY\",\n",
            "\t\t\"last_update\" : \"2006-02-15 04:34:33\"\n",
            "\t},\n",
            "\t{\n",
            "\t\t\"actor_id\" : 40,\n",
            "\t\t\"first_name\" : \"JOHNNY\",\n",
            "\t\t\"last_name\" : \"CAGE\",\n",
            "\t\t\"last_update\" : \"2006-02-15 04:34:33\"\n",
            "\t},\n",
            "\t{\n",
            "\t\t\"actor_id\" : 41,\n",
            "\t\t\"first_name\" : \"JODIE\",\n",
            "\t\t\"last_name\" : \"DEGENERES\",\n",
            "\t\t\"last_update\" : \"2006-02-15 04:34:33\"\n",
            "\t},\n",
            "\t{\n",
            "\t\t\"actor_id\" : 42,\n",
            "\t\t\"first_name\" : \"TOM\",\n",
            "\t\t\"last_name\" : \"MIRANDA\",\n",
            "\t\t\"last_update\" : \"2006-02-15 04:34:33\"\n",
            "\t},\n",
            "\t{\n",
            "\t\t\"actor_id\" : 43,\n",
            "\t\t\"first_name\" : \"KIRK\",\n",
            "\t\t\"last_name\" : \"JOVOVICH\",\n",
            "\t\t\"last_update\" : \"2006-02-15 04:34:33\"\n",
            "\t},\n",
            "\t{\n",
            "\t\t\"actor_id\" : 44,\n",
            "\t\t\"first_name\" : \"NICK\",\n",
            "\t\t\"last_name\" : \"STALLONE\",\n",
            "\t\t\"last_update\" : \"2006-02-15 04:34:33\"\n",
            "\t},\n",
            "\t{\n",
            "\t\t\"actor_id\" : 45,\n",
            "\t\t\"first_name\" : \"REESE\",\n",
            "\t\t\"last_name\" : \"KILMER\",\n",
            "\t\t\"last_update\" : \"2006-02-15 04:34:33\"\n",
            "\t},\n",
            "\t{\n",
            "\t\t\"actor_id\" : 46,\n",
            "\t\t\"first_name\" : \"PARKER\",\n",
            "\t\t\"last_name\" : \"GOLDBERG\",\n",
            "\t\t\"last_update\" : \"2006-02-15 04:34:33\"\n",
            "\t},\n",
            "\t{\n",
            "\t\t\"actor_id\" : 47,\n",
            "\t\t\"first_name\" : \"JULIA\",\n",
            "\t\t\"last_name\" : \"BARRYMORE\",\n",
            "\t\t\"last_update\" : \"2006-02-15 04:34:33\"\n",
            "\t},\n",
            "\t{\n",
            "\t\t\"actor_id\" : 48,\n",
            "\t\t\"first_name\" : \"FRANCES\",\n",
            "\t\t\"last_name\" : \"DAY-LEWIS\",\n",
            "\t\t\"last_update\" : \"2006-02-15 04:34:33\"\n",
            "\t},\n",
            "\t{\n",
            "\t\t\"actor_id\" : 49,\n",
            "\t\t\"first_name\" : \"ANNE\",\n",
            "\t\t\"last_name\" : \"CRONYN\",\n",
            "\t\t\"last_update\" : \"2006-02-15 04:34:33\"\n",
            "\t},\n",
            "\t{\n",
            "\t\t\"actor_id\" : 50,\n",
            "\t\t\"first_name\" : \"NATALIE\",\n",
            "\t\t\"last_name\" : \"HOPKINS\",\n",
            "\t\t\"last_update\" : \"2006-02-15 04:34:33\"\n",
            "\t},\n",
            "\t{\n",
            "\t\t\"actor_id\" : 51,\n",
            "\t\t\"first_name\" : \"GARY\",\n",
            "\t\t\"last_name\" : \"PHOENIX\",\n",
            "\t\t\"last_update\" : \"2006-02-15 04:34:33\"\n",
            "\t},\n",
            "\t{\n",
            "\t\t\"actor_id\" : 52,\n",
            "\t\t\"first_name\" : \"CARMEN\",\n",
            "\t\t\"last_name\" : \"HUNT\",\n",
            "\t\t\"last_update\" : \"2006-02-15 04:34:33\"\n",
            "\t},\n",
            "\t{\n",
            "\t\t\"actor_id\" : 53,\n",
            "\t\t\"first_name\" : \"MENA\",\n",
            "\t\t\"last_name\" : \"TEMPLE\",\n",
            "\t\t\"last_update\" : \"2006-02-15 04:34:33\"\n",
            "\t},\n",
            "\t{\n",
            "\t\t\"actor_id\" : 54,\n",
            "\t\t\"first_name\" : \"PENELOPE\",\n",
            "\t\t\"last_name\" : \"PINKETT\",\n",
            "\t\t\"last_update\" : \"2006-02-15 04:34:33\"\n",
            "\t},\n",
            "\t{\n",
            "\t\t\"actor_id\" : 55,\n",
            "\t\t\"first_name\" : \"FAY\",\n",
            "\t\t\"last_name\" : \"KILMER\",\n",
            "\t\t\"last_update\" : \"2006-02-15 04:34:33\"\n",
            "\t},\n",
            "\t{\n",
            "\t\t\"actor_id\" : 56,\n",
            "\t\t\"first_name\" : \"DAN\",\n",
            "\t\t\"last_name\" : \"HARRIS\",\n",
            "\t\t\"last_update\" : \"2006-02-15 04:34:33\"\n",
            "\t},\n",
            "\t{\n",
            "\t\t\"actor_id\" : 57,\n",
            "\t\t\"first_name\" : \"JUDE\",\n",
            "\t\t\"last_name\" : \"CRUISE\",\n",
            "\t\t\"last_update\" : \"2006-02-15 04:34:33\"\n",
            "\t},\n",
            "\t{\n",
            "\t\t\"actor_id\" : 58,\n",
            "\t\t\"first_name\" : \"CHRISTIAN\",\n",
            "\t\t\"last_name\" : \"AKROYD\",\n",
            "\t\t\"last_update\" : \"2006-02-15 04:34:33\"\n",
            "\t},\n",
            "\t{\n",
            "\t\t\"actor_id\" : 59,\n",
            "\t\t\"first_name\" : \"DUSTIN\",\n",
            "\t\t\"last_name\" : \"TAUTOU\",\n",
            "\t\t\"last_update\" : \"2006-02-15 04:34:33\"\n",
            "\t},\n",
            "\t{\n",
            "\t\t\"actor_id\" : 60,\n",
            "\t\t\"first_name\" : \"HENRY\",\n",
            "\t\t\"last_name\" : \"BERRY\",\n",
            "\t\t\"last_update\" : \"2006-02-15 04:34:33\"\n",
            "\t},\n",
            "\t{\n",
            "\t\t\"actor_id\" : 61,\n",
            "\t\t\"first_name\" : \"CHRISTIAN\",\n",
            "\t\t\"last_name\" : \"NEESON\",\n",
            "\t\t\"last_update\" : \"2006-02-15 04:34:33\"\n",
            "\t},\n",
            "\t{\n",
            "\t\t\"actor_id\" : 62,\n",
            "\t\t\"first_name\" : \"JAYNE\",\n",
            "\t\t\"last_name\" : \"NEESON\",\n",
            "\t\t\"last_update\" : \"2006-02-15 04:34:33\"\n",
            "\t},\n",
            "\t{\n",
            "\t\t\"actor_id\" : 63,\n",
            "\t\t\"first_name\" : \"CAMERON\",\n",
            "\t\t\"last_name\" : \"WRAY\",\n",
            "\t\t\"last_update\" : \"2006-02-15 04:34:33\"\n",
            "\t},\n",
            "\t{\n",
            "\t\t\"actor_id\" : 64,\n",
            "\t\t\"first_name\" : \"RAY\",\n",
            "\t\t\"last_name\" : \"JOHANSSON\",\n",
            "\t\t\"last_update\" : \"2006-02-15 04:34:33\"\n",
            "\t},\n",
            "\t{\n",
            "\t\t\"actor_id\" : 65,\n",
            "\t\t\"first_name\" : \"ANGELA\",\n",
            "\t\t\"last_name\" : \"HUDSON\",\n",
            "\t\t\"last_update\" : \"2006-02-15 04:34:33\"\n",
            "\t},\n",
            "\t{\n",
            "\t\t\"actor_id\" : 66,\n",
            "\t\t\"first_name\" : \"MARY\",\n",
            "\t\t\"last_name\" : \"TANDY\",\n",
            "\t\t\"last_update\" : \"2006-02-15 04:34:33\"\n",
            "\t},\n",
            "\t{\n",
            "\t\t\"actor_id\" : 67,\n",
            "\t\t\"first_name\" : \"JESSICA\",\n",
            "\t\t\"last_name\" : \"BAILEY\",\n",
            "\t\t\"last_update\" : \"2006-02-15 04:34:33\"\n",
            "\t},\n",
            "\t{\n",
            "\t\t\"actor_id\" : 68,\n",
            "\t\t\"first_name\" : \"RIP\",\n",
            "\t\t\"last_name\" : \"WINSLET\",\n",
            "\t\t\"last_update\" : \"2006-02-15 04:34:33\"\n",
            "\t},\n",
            "\t{\n",
            "\t\t\"actor_id\" : 69,\n",
            "\t\t\"first_name\" : \"KENNETH\",\n",
            "\t\t\"last_name\" : \"PALTROW\",\n",
            "\t\t\"last_update\" : \"2006-02-15 04:34:33\"\n",
            "\t},\n",
            "\t{\n",
            "\t\t\"actor_id\" : 70,\n",
            "\t\t\"first_name\" : \"MICHELLE\",\n",
            "\t\t\"last_name\" : \"MCCONAUGHEY\",\n",
            "\t\t\"last_update\" : \"2006-02-15 04:34:33\"\n",
            "\t},\n",
            "\t{\n",
            "\t\t\"actor_id\" : 71,\n",
            "\t\t\"first_name\" : \"ADAM\",\n",
            "\t\t\"last_name\" : \"GRANT\",\n",
            "\t\t\"last_update\" : \"2006-02-15 04:34:33\"\n",
            "\t},\n",
            "\t{\n",
            "\t\t\"actor_id\" : 72,\n",
            "\t\t\"first_name\" : \"SEAN\",\n",
            "\t\t\"last_name\" : \"WILLIAMS\",\n",
            "\t\t\"last_update\" : \"2006-02-15 04:34:33\"\n",
            "\t},\n",
            "\t{\n",
            "\t\t\"actor_id\" : 73,\n",
            "\t\t\"first_name\" : \"GARY\",\n",
            "\t\t\"last_name\" : \"PENN\",\n",
            "\t\t\"last_update\" : \"2006-02-15 04:34:33\"\n",
            "\t},\n",
            "\t{\n",
            "\t\t\"actor_id\" : 74,\n",
            "\t\t\"first_name\" : \"MILLA\",\n",
            "\t\t\"last_name\" : \"KEITEL\",\n",
            "\t\t\"last_update\" : \"2006-02-15 04:34:33\"\n",
            "\t},\n",
            "\t{\n",
            "\t\t\"actor_id\" : 75,\n",
            "\t\t\"first_name\" : \"BURT\",\n",
            "\t\t\"last_name\" : \"POSEY\",\n",
            "\t\t\"last_update\" : \"2006-02-15 04:34:33\"\n",
            "\t},\n",
            "\t{\n",
            "\t\t\"actor_id\" : 76,\n",
            "\t\t\"first_name\" : \"ANGELINA\",\n",
            "\t\t\"last_name\" : \"ASTAIRE\",\n",
            "\t\t\"last_update\" : \"2006-02-15 04:34:33\"\n",
            "\t},\n",
            "\t{\n",
            "\t\t\"actor_id\" : 77,\n",
            "\t\t\"first_name\" : \"CARY\",\n",
            "\t\t\"last_name\" : \"MCCONAUGHEY\",\n",
            "\t\t\"last_update\" : \"2006-02-15 04:34:33\"\n",
            "\t},\n",
            "\t{\n",
            "\t\t\"actor_id\" : 78,\n",
            "\t\t\"first_name\" : \"GROUCHO\",\n",
            "\t\t\"last_name\" : \"SINATRA\",\n",
            "\t\t\"last_update\" : \"2006-02-15 04:34:33\"\n",
            "\t},\n",
            "\t{\n",
            "\t\t\"actor_id\" : 79,\n",
            "\t\t\"first_name\" : \"MAE\",\n",
            "\t\t\"last_name\" : \"HOFFMAN\",\n",
            "\t\t\"last_update\" : \"2006-02-15 04:34:33\"\n",
            "\t},\n",
            "\t{\n",
            "\t\t\"actor_id\" : 80,\n",
            "\t\t\"first_name\" : \"RALPH\",\n",
            "\t\t\"last_name\" : \"CRUZ\",\n",
            "\t\t\"last_update\" : \"2006-02-15 04:34:33\"\n",
            "\t},\n",
            "\t{\n",
            "\t\t\"actor_id\" : 81,\n",
            "\t\t\"first_name\" : \"SCARLETT\",\n",
            "\t\t\"last_name\" : \"DAMON\",\n",
            "\t\t\"last_update\" : \"2006-02-15 04:34:33\"\n",
            "\t},\n",
            "\t{\n",
            "\t\t\"actor_id\" : 82,\n",
            "\t\t\"first_name\" : \"WOODY\",\n",
            "\t\t\"last_name\" : \"JOLIE\",\n",
            "\t\t\"last_update\" : \"2006-02-15 04:34:33\"\n",
            "\t},\n",
            "\t{\n",
            "\t\t\"actor_id\" : 83,\n",
            "\t\t\"first_name\" : \"BEN\",\n",
            "\t\t\"last_name\" : \"WILLIS\",\n",
            "\t\t\"last_update\" : \"2006-02-15 04:34:33\"\n",
            "\t},\n",
            "\t{\n",
            "\t\t\"actor_id\" : 84,\n",
            "\t\t\"first_name\" : \"JAMES\",\n",
            "\t\t\"last_name\" : \"PITT\",\n",
            "\t\t\"last_update\" : \"2006-02-15 04:34:33\"\n",
            "\t},\n",
            "\t{\n",
            "\t\t\"actor_id\" : 85,\n",
            "\t\t\"first_name\" : \"MINNIE\",\n",
            "\t\t\"last_name\" : \"ZELLWEGER\",\n",
            "\t\t\"last_update\" : \"2006-02-15 04:34:33\"\n",
            "\t},\n",
            "\t{\n",
            "\t\t\"actor_id\" : 86,\n",
            "\t\t\"first_name\" : \"GREG\",\n",
            "\t\t\"last_name\" : \"CHAPLIN\",\n",
            "\t\t\"last_update\" : \"2006-02-15 04:34:33\"\n",
            "\t},\n",
            "\t{\n",
            "\t\t\"actor_id\" : 87,\n",
            "\t\t\"first_name\" : \"SPENCER\",\n",
            "\t\t\"last_name\" : \"PECK\",\n",
            "\t\t\"last_update\" : \"2006-02-15 04:34:33\"\n",
            "\t},\n",
            "\t{\n",
            "\t\t\"actor_id\" : 88,\n",
            "\t\t\"first_name\" : \"KENNETH\",\n",
            "\t\t\"last_name\" : \"PESCI\",\n",
            "\t\t\"last_update\" : \"2006-02-15 04:34:33\"\n",
            "\t},\n",
            "\t{\n",
            "\t\t\"actor_id\" : 89,\n",
            "\t\t\"first_name\" : \"CHARLIZE\",\n",
            "\t\t\"last_name\" : \"DENCH\",\n",
            "\t\t\"last_update\" : \"2006-02-15 04:34:33\"\n",
            "\t},\n",
            "\t{\n",
            "\t\t\"actor_id\" : 90,\n",
            "\t\t\"first_name\" : \"SEAN\",\n",
            "\t\t\"last_name\" : \"GUINESS\",\n",
            "\t\t\"last_update\" : \"2006-02-15 04:34:33\"\n",
            "\t},\n",
            "\t{\n",
            "\t\t\"actor_id\" : 91,\n",
            "\t\t\"first_name\" : \"CHRISTOPHER\",\n",
            "\t\t\"last_name\" : \"BERRY\",\n",
            "\t\t\"last_update\" : \"2006-02-15 04:34:33\"\n",
            "\t},\n",
            "\t{\n",
            "\t\t\"actor_id\" : 92,\n",
            "\t\t\"first_name\" : \"KIRSTEN\",\n",
            "\t\t\"last_name\" : \"AKROYD\",\n",
            "\t\t\"last_update\" : \"2006-02-15 04:34:33\"\n",
            "\t},\n",
            "\t{\n",
            "\t\t\"actor_id\" : 93,\n",
            "\t\t\"first_name\" : \"ELLEN\",\n",
            "\t\t\"last_name\" : \"PRESLEY\",\n",
            "\t\t\"last_update\" : \"2006-02-15 04:34:33\"\n",
            "\t},\n",
            "\t{\n",
            "\t\t\"actor_id\" : 94,\n",
            "\t\t\"first_name\" : \"KENNETH\",\n",
            "\t\t\"last_name\" : \"TORN\",\n",
            "\t\t\"last_update\" : \"2006-02-15 04:34:33\"\n",
            "\t},\n",
            "\t{\n",
            "\t\t\"actor_id\" : 95,\n",
            "\t\t\"first_name\" : \"DARYL\",\n",
            "\t\t\"last_name\" : \"WAHLBERG\",\n",
            "\t\t\"last_update\" : \"2006-02-15 04:34:33\"\n",
            "\t},\n",
            "\t{\n",
            "\t\t\"actor_id\" : 96,\n",
            "\t\t\"first_name\" : \"GENE\",\n",
            "\t\t\"last_name\" : \"WILLIS\",\n",
            "\t\t\"last_update\" : \"2006-02-15 04:34:33\"\n",
            "\t},\n",
            "\t{\n",
            "\t\t\"actor_id\" : 97,\n",
            "\t\t\"first_name\" : \"MEG\",\n",
            "\t\t\"last_name\" : \"HAWKE\",\n",
            "\t\t\"last_update\" : \"2006-02-15 04:34:33\"\n",
            "\t},\n",
            "\t{\n",
            "\t\t\"actor_id\" : 98,\n",
            "\t\t\"first_name\" : \"CHRIS\",\n",
            "\t\t\"last_name\" : \"BRIDGES\",\n",
            "\t\t\"last_update\" : \"2006-02-15 04:34:33\"\n",
            "\t},\n",
            "\t{\n",
            "\t\t\"actor_id\" : 99,\n",
            "\t\t\"first_name\" : \"JIM\",\n",
            "\t\t\"last_name\" : \"MOSTEL\",\n",
            "\t\t\"last_update\" : \"2006-02-15 04:34:33\"\n",
            "\t},\n",
            "\t{\n",
            "\t\t\"actor_id\" : 100,\n",
            "\t\t\"first_name\" : \"SPENCER\",\n",
            "\t\t\"last_name\" : \"DEPP\",\n",
            "\t\t\"last_update\" : \"2006-02-15 04:34:33\"\n",
            "\t},\n",
            "\t{\n",
            "\t\t\"actor_id\" : 101,\n",
            "\t\t\"first_name\" : \"SUSAN\",\n",
            "\t\t\"last_name\" : \"DAVIS\",\n",
            "\t\t\"last_update\" : \"2006-02-15 04:34:33\"\n",
            "\t},\n",
            "\t{\n",
            "\t\t\"actor_id\" : 102,\n",
            "\t\t\"first_name\" : \"WALTER\",\n",
            "\t\t\"last_name\" : \"TORN\",\n",
            "\t\t\"last_update\" : \"2006-02-15 04:34:33\"\n",
            "\t},\n",
            "\t{\n",
            "\t\t\"actor_id\" : 103,\n",
            "\t\t\"first_name\" : \"MATTHEW\",\n",
            "\t\t\"last_name\" : \"LEIGH\",\n",
            "\t\t\"last_update\" : \"2006-02-15 04:34:33\"\n",
            "\t},\n",
            "\t{\n",
            "\t\t\"actor_id\" : 104,\n",
            "\t\t\"first_name\" : \"PENELOPE\",\n",
            "\t\t\"last_name\" : \"CRONYN\",\n",
            "\t\t\"last_update\" : \"2006-02-15 04:34:33\"\n",
            "\t},\n",
            "\t{\n",
            "\t\t\"actor_id\" : 105,\n",
            "\t\t\"first_name\" : \"SIDNEY\",\n",
            "\t\t\"last_name\" : \"CROWE\",\n",
            "\t\t\"last_update\" : \"2006-02-15 04:34:33\"\n",
            "\t},\n",
            "\t{\n",
            "\t\t\"actor_id\" : 106,\n",
            "\t\t\"first_name\" : \"GROUCHO\",\n",
            "\t\t\"last_name\" : \"DUNST\",\n",
            "\t\t\"last_update\" : \"2006-02-15 04:34:33\"\n",
            "\t},\n",
            "\t{\n",
            "\t\t\"actor_id\" : 107,\n",
            "\t\t\"first_name\" : \"GINA\",\n",
            "\t\t\"last_name\" : \"DEGENERES\",\n",
            "\t\t\"last_update\" : \"2006-02-15 04:34:33\"\n",
            "\t},\n",
            "\t{\n",
            "\t\t\"actor_id\" : 108,\n",
            "\t\t\"first_name\" : \"WARREN\",\n",
            "\t\t\"last_name\" : \"NOLTE\",\n",
            "\t\t\"last_update\" : \"2006-02-15 04:34:33\"\n",
            "\t},\n",
            "\t{\n",
            "\t\t\"actor_id\" : 109,\n",
            "\t\t\"first_name\" : \"SYLVESTER\",\n",
            "\t\t\"last_name\" : \"DERN\",\n",
            "\t\t\"last_update\" : \"2006-02-15 04:34:33\"\n",
            "\t},\n",
            "\t{\n",
            "\t\t\"actor_id\" : 110,\n",
            "\t\t\"first_name\" : \"SUSAN\",\n",
            "\t\t\"last_name\" : \"DAVIS\",\n",
            "\t\t\"last_update\" : \"2006-02-15 04:34:33\"\n",
            "\t},\n",
            "\t{\n",
            "\t\t\"actor_id\" : 111,\n",
            "\t\t\"first_name\" : \"CAMERON\",\n",
            "\t\t\"last_name\" : \"ZELLWEGER\",\n",
            "\t\t\"last_update\" : \"2006-02-15 04:34:33\"\n",
            "\t},\n",
            "\t{\n",
            "\t\t\"actor_id\" : 112,\n",
            "\t\t\"first_name\" : \"RUSSELL\",\n",
            "\t\t\"last_name\" : \"BACALL\",\n",
            "\t\t\"last_update\" : \"2006-02-15 04:34:33\"\n",
            "\t},\n",
            "\t{\n",
            "\t\t\"actor_id\" : 113,\n",
            "\t\t\"first_name\" : \"MORGAN\",\n",
            "\t\t\"last_name\" : \"HOPKINS\",\n",
            "\t\t\"last_update\" : \"2006-02-15 04:34:33\"\n",
            "\t},\n",
            "\t{\n",
            "\t\t\"actor_id\" : 114,\n",
            "\t\t\"first_name\" : \"MORGAN\",\n",
            "\t\t\"last_name\" : \"MCDORMAND\",\n",
            "\t\t\"last_update\" : \"2006-02-15 04:34:33\"\n",
            "\t},\n",
            "\t{\n",
            "\t\t\"actor_id\" : 115,\n",
            "\t\t\"first_name\" : \"HARRISON\",\n",
            "\t\t\"last_name\" : \"BALE\",\n",
            "\t\t\"last_update\" : \"2006-02-15 04:34:33\"\n",
            "\t},\n",
            "\t{\n",
            "\t\t\"actor_id\" : 116,\n",
            "\t\t\"first_name\" : \"DAN\",\n",
            "\t\t\"last_name\" : \"STREEP\",\n",
            "\t\t\"last_update\" : \"2006-02-15 04:34:33\"\n",
            "\t},\n",
            "\t{\n",
            "\t\t\"actor_id\" : 117,\n",
            "\t\t\"first_name\" : \"RENEE\",\n",
            "\t\t\"last_name\" : \"TRACY\",\n",
            "\t\t\"last_update\" : \"2006-02-15 04:34:33\"\n",
            "\t},\n",
            "\t{\n",
            "\t\t\"actor_id\" : 118,\n",
            "\t\t\"first_name\" : \"CUBA\",\n",
            "\t\t\"last_name\" : \"ALLEN\",\n",
            "\t\t\"last_update\" : \"2006-02-15 04:34:33\"\n",
            "\t},\n",
            "\t{\n",
            "\t\t\"actor_id\" : 119,\n",
            "\t\t\"first_name\" : \"WARREN\",\n",
            "\t\t\"last_name\" : \"JACKMAN\",\n",
            "\t\t\"last_update\" : \"2006-02-15 04:34:33\"\n",
            "\t},\n",
            "\t{\n",
            "\t\t\"actor_id\" : 120,\n",
            "\t\t\"first_name\" : \"PENELOPE\",\n",
            "\t\t\"last_name\" : \"MONROE\",\n",
            "\t\t\"last_update\" : \"2006-02-15 04:34:33\"\n",
            "\t},\n",
            "\t{\n",
            "\t\t\"actor_id\" : 121,\n",
            "\t\t\"first_name\" : \"LIZA\",\n",
            "\t\t\"last_name\" : \"BERGMAN\",\n",
            "\t\t\"last_update\" : \"2006-02-15 04:34:33\"\n",
            "\t},\n",
            "\t{\n",
            "\t\t\"actor_id\" : 122,\n",
            "\t\t\"first_name\" : \"SALMA\",\n",
            "\t\t\"last_name\" : \"NOLTE\",\n",
            "\t\t\"last_update\" : \"2006-02-15 04:34:33\"\n",
            "\t},\n",
            "\t{\n",
            "\t\t\"actor_id\" : 123,\n",
            "\t\t\"first_name\" : \"JULIANNE\",\n",
            "\t\t\"last_name\" : \"DENCH\",\n",
            "\t\t\"last_update\" : \"2006-02-15 04:34:33\"\n",
            "\t},\n",
            "\t{\n",
            "\t\t\"actor_id\" : 124,\n",
            "\t\t\"first_name\" : \"SCARLETT\",\n",
            "\t\t\"last_name\" : \"BENING\",\n",
            "\t\t\"last_update\" : \"2006-02-15 04:34:33\"\n",
            "\t},\n",
            "\t{\n",
            "\t\t\"actor_id\" : 125,\n",
            "\t\t\"first_name\" : \"ALBERT\",\n",
            "\t\t\"last_name\" : \"NOLTE\",\n",
            "\t\t\"last_update\" : \"2006-02-15 04:34:33\"\n",
            "\t},\n",
            "\t{\n",
            "\t\t\"actor_id\" : 126,\n",
            "\t\t\"first_name\" : \"FRANCES\",\n",
            "\t\t\"last_name\" : \"TOMEI\",\n",
            "\t\t\"last_update\" : \"2006-02-15 04:34:33\"\n",
            "\t},\n",
            "\t{\n",
            "\t\t\"actor_id\" : 127,\n",
            "\t\t\"first_name\" : \"KEVIN\",\n",
            "\t\t\"last_name\" : \"GARLAND\",\n",
            "\t\t\"last_update\" : \"2006-02-15 04:34:33\"\n",
            "\t},\n",
            "\t{\n",
            "\t\t\"actor_id\" : 128,\n",
            "\t\t\"first_name\" : \"CATE\",\n",
            "\t\t\"last_name\" : \"MCQUEEN\",\n",
            "\t\t\"last_update\" : \"2006-02-15 04:34:33\"\n",
            "\t},\n",
            "\t{\n",
            "\t\t\"actor_id\" : 129,\n",
            "\t\t\"first_name\" : \"DARYL\",\n",
            "\t\t\"last_name\" : \"CRAWFORD\",\n",
            "\t\t\"last_update\" : \"2006-02-15 04:34:33\"\n",
            "\t},\n",
            "\t{\n",
            "\t\t\"actor_id\" : 130,\n",
            "\t\t\"first_name\" : \"GRETA\",\n",
            "\t\t\"last_name\" : \"KEITEL\",\n",
            "\t\t\"last_update\" : \"2006-02-15 04:34:33\"\n",
            "\t},\n",
            "\t{\n",
            "\t\t\"actor_id\" : 131,\n",
            "\t\t\"first_name\" : \"JANE\",\n",
            "\t\t\"last_name\" : \"JACKMAN\",\n",
            "\t\t\"last_update\" : \"2006-02-15 04:34:33\"\n",
            "\t},\n",
            "\t{\n",
            "\t\t\"actor_id\" : 132,\n",
            "\t\t\"first_name\" : \"ADAM\",\n",
            "\t\t\"last_name\" : \"HOPPER\",\n",
            "\t\t\"last_update\" : \"2006-02-15 04:34:33\"\n",
            "\t},\n",
            "\t{\n",
            "\t\t\"actor_id\" : 133,\n",
            "\t\t\"first_name\" : \"RICHARD\",\n",
            "\t\t\"last_name\" : \"PENN\",\n",
            "\t\t\"last_update\" : \"2006-02-15 04:34:33\"\n",
            "\t},\n",
            "\t{\n",
            "\t\t\"actor_id\" : 134,\n",
            "\t\t\"first_name\" : \"GENE\",\n",
            "\t\t\"last_name\" : \"HOPKINS\",\n",
            "\t\t\"last_update\" : \"2006-02-15 04:34:33\"\n",
            "\t},\n",
            "\t{\n",
            "\t\t\"actor_id\" : 135,\n",
            "\t\t\"first_name\" : \"RITA\",\n",
            "\t\t\"last_name\" : \"REYNOLDS\",\n",
            "\t\t\"last_update\" : \"2006-02-15 04:34:33\"\n",
            "\t},\n",
            "\t{\n",
            "\t\t\"actor_id\" : 136,\n",
            "\t\t\"first_name\" : \"ED\",\n",
            "\t\t\"last_name\" : \"MANSFIELD\",\n",
            "\t\t\"last_update\" : \"2006-02-15 04:34:33\"\n",
            "\t},\n",
            "\t{\n",
            "\t\t\"actor_id\" : 137,\n",
            "\t\t\"first_name\" : \"MORGAN\",\n",
            "\t\t\"last_name\" : \"WILLIAMS\",\n",
            "\t\t\"last_update\" : \"2006-02-15 04:34:33\"\n",
            "\t},\n",
            "\t{\n",
            "\t\t\"actor_id\" : 138,\n",
            "\t\t\"first_name\" : \"LUCILLE\",\n",
            "\t\t\"last_name\" : \"DEE\",\n",
            "\t\t\"last_update\" : \"2006-02-15 04:34:33\"\n",
            "\t},\n",
            "\t{\n",
            "\t\t\"actor_id\" : 139,\n",
            "\t\t\"first_name\" : \"EWAN\",\n",
            "\t\t\"last_name\" : \"GOODING\",\n",
            "\t\t\"last_update\" : \"2006-02-15 04:34:33\"\n",
            "\t},\n",
            "\t{\n",
            "\t\t\"actor_id\" : 140,\n",
            "\t\t\"first_name\" : \"WHOOPI\",\n",
            "\t\t\"last_name\" : \"HURT\",\n",
            "\t\t\"last_update\" : \"2006-02-15 04:34:33\"\n",
            "\t},\n",
            "\t{\n",
            "\t\t\"actor_id\" : 141,\n",
            "\t\t\"first_name\" : \"CATE\",\n",
            "\t\t\"last_name\" : \"HARRIS\",\n",
            "\t\t\"last_update\" : \"2006-02-15 04:34:33\"\n",
            "\t},\n",
            "\t{\n",
            "\t\t\"actor_id\" : 142,\n",
            "\t\t\"first_name\" : \"JADA\",\n",
            "\t\t\"last_name\" : \"RYDER\",\n",
            "\t\t\"last_update\" : \"2006-02-15 04:34:33\"\n",
            "\t},\n",
            "\t{\n",
            "\t\t\"actor_id\" : 143,\n",
            "\t\t\"first_name\" : \"RIVER\",\n",
            "\t\t\"last_name\" : \"DEAN\",\n",
            "\t\t\"last_update\" : \"2006-02-15 04:34:33\"\n",
            "\t},\n",
            "\t{\n",
            "\t\t\"actor_id\" : 144,\n",
            "\t\t\"first_name\" : \"ANGELA\",\n",
            "\t\t\"last_name\" : \"WITHERSPOON\",\n",
            "\t\t\"last_update\" : \"2006-02-15 04:34:33\"\n",
            "\t},\n",
            "\t{\n",
            "\t\t\"actor_id\" : 145,\n",
            "\t\t\"first_name\" : \"KIM\",\n",
            "\t\t\"last_name\" : \"ALLEN\",\n",
            "\t\t\"last_update\" : \"2006-02-15 04:34:33\"\n",
            "\t},\n",
            "\t{\n",
            "\t\t\"actor_id\" : 146,\n",
            "\t\t\"first_name\" : \"ALBERT\",\n",
            "\t\t\"last_name\" : \"JOHANSSON\",\n",
            "\t\t\"last_update\" : \"2006-02-15 04:34:33\"\n",
            "\t},\n",
            "\t{\n",
            "\t\t\"actor_id\" : 147,\n",
            "\t\t\"first_name\" : \"FAY\",\n",
            "\t\t\"last_name\" : \"WINSLET\",\n",
            "\t\t\"last_update\" : \"2006-02-15 04:34:33\"\n",
            "\t},\n",
            "\t{\n",
            "\t\t\"actor_id\" : 148,\n",
            "\t\t\"first_name\" : \"EMILY\",\n",
            "\t\t\"last_name\" : \"DEE\",\n",
            "\t\t\"last_update\" : \"2006-02-15 04:34:33\"\n",
            "\t},\n",
            "\t{\n",
            "\t\t\"actor_id\" : 149,\n",
            "\t\t\"first_name\" : \"RUSSELL\",\n",
            "\t\t\"last_name\" : \"TEMPLE\",\n",
            "\t\t\"last_update\" : \"2006-02-15 04:34:33\"\n",
            "\t},\n",
            "\t{\n",
            "\t\t\"actor_id\" : 150,\n",
            "\t\t\"first_name\" : \"JAYNE\",\n",
            "\t\t\"last_name\" : \"NOLTE\",\n",
            "\t\t\"last_update\" : \"2006-02-15 04:34:33\"\n",
            "\t},\n",
            "\t{\n",
            "\t\t\"actor_id\" : 151,\n",
            "\t\t\"first_name\" : \"GEOFFREY\",\n",
            "\t\t\"last_name\" : \"HESTON\",\n",
            "\t\t\"last_update\" : \"2006-02-15 04:34:33\"\n",
            "\t},\n",
            "\t{\n",
            "\t\t\"actor_id\" : 152,\n",
            "\t\t\"first_name\" : \"BEN\",\n",
            "\t\t\"last_name\" : \"HARRIS\",\n",
            "\t\t\"last_update\" : \"2006-02-15 04:34:33\"\n",
            "\t},\n",
            "\t{\n",
            "\t\t\"actor_id\" : 153,\n",
            "\t\t\"first_name\" : \"MINNIE\",\n",
            "\t\t\"last_name\" : \"KILMER\",\n",
            "\t\t\"last_update\" : \"2006-02-15 04:34:33\"\n",
            "\t},\n",
            "\t{\n",
            "\t\t\"actor_id\" : 154,\n",
            "\t\t\"first_name\" : \"MERYL\",\n",
            "\t\t\"last_name\" : \"GIBSON\",\n",
            "\t\t\"last_update\" : \"2006-02-15 04:34:33\"\n",
            "\t},\n",
            "\t{\n",
            "\t\t\"actor_id\" : 155,\n",
            "\t\t\"first_name\" : \"IAN\",\n",
            "\t\t\"last_name\" : \"TANDY\",\n",
            "\t\t\"last_update\" : \"2006-02-15 04:34:33\"\n",
            "\t},\n",
            "\t{\n",
            "\t\t\"actor_id\" : 156,\n",
            "\t\t\"first_name\" : \"FAY\",\n",
            "\t\t\"last_name\" : \"WOOD\",\n",
            "\t\t\"last_update\" : \"2006-02-15 04:34:33\"\n",
            "\t},\n",
            "\t{\n",
            "\t\t\"actor_id\" : 157,\n",
            "\t\t\"first_name\" : \"GRETA\",\n",
            "\t\t\"last_name\" : \"MALDEN\",\n",
            "\t\t\"last_update\" : \"2006-02-15 04:34:33\"\n",
            "\t},\n",
            "\t{\n",
            "\t\t\"actor_id\" : 158,\n",
            "\t\t\"first_name\" : \"VIVIEN\",\n",
            "\t\t\"last_name\" : \"BASINGER\",\n",
            "\t\t\"last_update\" : \"2006-02-15 04:34:33\"\n",
            "\t},\n",
            "\t{\n",
            "\t\t\"actor_id\" : 159,\n",
            "\t\t\"first_name\" : \"LAURA\",\n",
            "\t\t\"last_name\" : \"BRODY\",\n",
            "\t\t\"last_update\" : \"2006-02-15 04:34:33\"\n",
            "\t},\n",
            "\t{\n",
            "\t\t\"actor_id\" : 160,\n",
            "\t\t\"first_name\" : \"CHRIS\",\n",
            "\t\t\"last_name\" : \"DEPP\",\n",
            "\t\t\"last_update\" : \"2006-02-15 04:34:33\"\n",
            "\t},\n",
            "\t{\n",
            "\t\t\"actor_id\" : 161,\n",
            "\t\t\"first_name\" : \"HARVEY\",\n",
            "\t\t\"last_name\" : \"HOPE\",\n",
            "\t\t\"last_update\" : \"2006-02-15 04:34:33\"\n",
            "\t},\n",
            "\t{\n",
            "\t\t\"actor_id\" : 162,\n",
            "\t\t\"first_name\" : \"OPRAH\",\n",
            "\t\t\"last_name\" : \"KILMER\",\n",
            "\t\t\"last_update\" : \"2006-02-15 04:34:33\"\n",
            "\t},\n",
            "\t{\n",
            "\t\t\"actor_id\" : 163,\n",
            "\t\t\"first_name\" : \"CHRISTOPHER\",\n",
            "\t\t\"last_name\" : \"WEST\",\n",
            "\t\t\"last_update\" : \"2006-02-15 04:34:33\"\n",
            "\t},\n",
            "\t{\n",
            "\t\t\"actor_id\" : 164,\n",
            "\t\t\"first_name\" : \"HUMPHREY\",\n",
            "\t\t\"last_name\" : \"WILLIS\",\n",
            "\t\t\"last_update\" : \"2006-02-15 04:34:33\"\n",
            "\t},\n",
            "\t{\n",
            "\t\t\"actor_id\" : 165,\n",
            "\t\t\"first_name\" : \"AL\",\n",
            "\t\t\"last_name\" : \"GARLAND\",\n",
            "\t\t\"last_update\" : \"2006-02-15 04:34:33\"\n",
            "\t},\n",
            "\t{\n",
            "\t\t\"actor_id\" : 166,\n",
            "\t\t\"first_name\" : \"NICK\",\n",
            "\t\t\"last_name\" : \"DEGENERES\",\n",
            "\t\t\"last_update\" : \"2006-02-15 04:34:33\"\n",
            "\t},\n",
            "\t{\n",
            "\t\t\"actor_id\" : 167,\n",
            "\t\t\"first_name\" : \"LAURENCE\",\n",
            "\t\t\"last_name\" : \"BULLOCK\",\n",
            "\t\t\"last_update\" : \"2006-02-15 04:34:33\"\n",
            "\t},\n",
            "\t{\n",
            "\t\t\"actor_id\" : 168,\n",
            "\t\t\"first_name\" : \"WILL\",\n",
            "\t\t\"last_name\" : \"WILSON\",\n",
            "\t\t\"last_update\" : \"2006-02-15 04:34:33\"\n",
            "\t},\n",
            "\t{\n",
            "\t\t\"actor_id\" : 169,\n",
            "\t\t\"first_name\" : \"KENNETH\",\n",
            "\t\t\"last_name\" : \"HOFFMAN\",\n",
            "\t\t\"last_update\" : \"2006-02-15 04:34:33\"\n",
            "\t},\n",
            "\t{\n",
            "\t\t\"actor_id\" : 170,\n",
            "\t\t\"first_name\" : \"MENA\",\n",
            "\t\t\"last_name\" : \"HOPPER\",\n",
            "\t\t\"last_update\" : \"2006-02-15 04:34:33\"\n",
            "\t},\n",
            "\t{\n",
            "\t\t\"actor_id\" : 171,\n",
            "\t\t\"first_name\" : \"OLYMPIA\",\n",
            "\t\t\"last_name\" : \"PFEIFFER\",\n",
            "\t\t\"last_update\" : \"2006-02-15 04:34:33\"\n",
            "\t},\n",
            "\t{\n",
            "\t\t\"actor_id\" : 172,\n",
            "\t\t\"first_name\" : \"GROUCHO\",\n",
            "\t\t\"last_name\" : \"WILLIAMS\",\n",
            "\t\t\"last_update\" : \"2006-02-15 04:34:33\"\n",
            "\t},\n",
            "\t{\n",
            "\t\t\"actor_id\" : 173,\n",
            "\t\t\"first_name\" : \"ALAN\",\n",
            "\t\t\"last_name\" : \"DREYFUSS\",\n",
            "\t\t\"last_update\" : \"2006-02-15 04:34:33\"\n",
            "\t},\n",
            "\t{\n",
            "\t\t\"actor_id\" : 174,\n",
            "\t\t\"first_name\" : \"MICHAEL\",\n",
            "\t\t\"last_name\" : \"BENING\",\n",
            "\t\t\"last_update\" : \"2006-02-15 04:34:33\"\n",
            "\t},\n",
            "\t{\n",
            "\t\t\"actor_id\" : 175,\n",
            "\t\t\"first_name\" : \"WILLIAM\",\n",
            "\t\t\"last_name\" : \"HACKMAN\",\n",
            "\t\t\"last_update\" : \"2006-02-15 04:34:33\"\n",
            "\t},\n",
            "\t{\n",
            "\t\t\"actor_id\" : 176,\n",
            "\t\t\"first_name\" : \"JON\",\n",
            "\t\t\"last_name\" : \"CHASE\",\n",
            "\t\t\"last_update\" : \"2006-02-15 04:34:33\"\n",
            "\t},\n",
            "\t{\n",
            "\t\t\"actor_id\" : 177,\n",
            "\t\t\"first_name\" : \"GENE\",\n",
            "\t\t\"last_name\" : \"MCKELLEN\",\n",
            "\t\t\"last_update\" : \"2006-02-15 04:34:33\"\n",
            "\t},\n",
            "\t{\n",
            "\t\t\"actor_id\" : 178,\n",
            "\t\t\"first_name\" : \"LISA\",\n",
            "\t\t\"last_name\" : \"MONROE\",\n",
            "\t\t\"last_update\" : \"2006-02-15 04:34:33\"\n",
            "\t},\n",
            "\t{\n",
            "\t\t\"actor_id\" : 179,\n",
            "\t\t\"first_name\" : \"ED\",\n",
            "\t\t\"last_name\" : \"GUINESS\",\n",
            "\t\t\"last_update\" : \"2006-02-15 04:34:33\"\n",
            "\t},\n",
            "\t{\n",
            "\t\t\"actor_id\" : 180,\n",
            "\t\t\"first_name\" : \"JEFF\",\n",
            "\t\t\"last_name\" : \"SILVERSTONE\",\n",
            "\t\t\"last_update\" : \"2006-02-15 04:34:33\"\n",
            "\t},\n",
            "\t{\n",
            "\t\t\"actor_id\" : 181,\n",
            "\t\t\"first_name\" : \"MATTHEW\",\n",
            "\t\t\"last_name\" : \"CARREY\",\n",
            "\t\t\"last_update\" : \"2006-02-15 04:34:33\"\n",
            "\t},\n",
            "\t{\n",
            "\t\t\"actor_id\" : 182,\n",
            "\t\t\"first_name\" : \"DEBBIE\",\n",
            "\t\t\"last_name\" : \"AKROYD\",\n",
            "\t\t\"last_update\" : \"2006-02-15 04:34:33\"\n",
            "\t},\n",
            "\t{\n",
            "\t\t\"actor_id\" : 183,\n",
            "\t\t\"first_name\" : \"RUSSELL\",\n",
            "\t\t\"last_name\" : \"CLOSE\",\n",
            "\t\t\"last_update\" : \"2006-02-15 04:34:33\"\n",
            "\t},\n",
            "\t{\n",
            "\t\t\"actor_id\" : 184,\n",
            "\t\t\"first_name\" : \"HUMPHREY\",\n",
            "\t\t\"last_name\" : \"GARLAND\",\n",
            "\t\t\"last_update\" : \"2006-02-15 04:34:33\"\n",
            "\t},\n",
            "\t{\n",
            "\t\t\"actor_id\" : 185,\n",
            "\t\t\"first_name\" : \"MICHAEL\",\n",
            "\t\t\"last_name\" : \"BOLGER\",\n",
            "\t\t\"last_update\" : \"2006-02-15 04:34:33\"\n",
            "\t},\n",
            "\t{\n",
            "\t\t\"actor_id\" : 186,\n",
            "\t\t\"first_name\" : \"JULIA\",\n",
            "\t\t\"last_name\" : \"ZELLWEGER\",\n",
            "\t\t\"last_update\" : \"2006-02-15 04:34:33\"\n",
            "\t},\n",
            "\t{\n",
            "\t\t\"actor_id\" : 187,\n",
            "\t\t\"first_name\" : \"RENEE\",\n",
            "\t\t\"last_name\" : \"BALL\",\n",
            "\t\t\"last_update\" : \"2006-02-15 04:34:33\"\n",
            "\t},\n",
            "\t{\n",
            "\t\t\"actor_id\" : 188,\n",
            "\t\t\"first_name\" : \"ROCK\",\n",
            "\t\t\"last_name\" : \"DUKAKIS\",\n",
            "\t\t\"last_update\" : \"2006-02-15 04:34:33\"\n",
            "\t},\n",
            "\t{\n",
            "\t\t\"actor_id\" : 189,\n",
            "\t\t\"first_name\" : \"CUBA\",\n",
            "\t\t\"last_name\" : \"BIRCH\",\n",
            "\t\t\"last_update\" : \"2006-02-15 04:34:33\"\n",
            "\t},\n",
            "\t{\n",
            "\t\t\"actor_id\" : 190,\n",
            "\t\t\"first_name\" : \"AUDREY\",\n",
            "\t\t\"last_name\" : \"BAILEY\",\n",
            "\t\t\"last_update\" : \"2006-02-15 04:34:33\"\n",
            "\t},\n",
            "\t{\n",
            "\t\t\"actor_id\" : 191,\n",
            "\t\t\"first_name\" : \"GREGORY\",\n",
            "\t\t\"last_name\" : \"GOODING\",\n",
            "\t\t\"last_update\" : \"2006-02-15 04:34:33\"\n",
            "\t},\n",
            "\t{\n",
            "\t\t\"actor_id\" : 192,\n",
            "\t\t\"first_name\" : \"JOHN\",\n",
            "\t\t\"last_name\" : \"SUVARI\",\n",
            "\t\t\"last_update\" : \"2006-02-15 04:34:33\"\n",
            "\t},\n",
            "\t{\n",
            "\t\t\"actor_id\" : 193,\n",
            "\t\t\"first_name\" : \"BURT\",\n",
            "\t\t\"last_name\" : \"TEMPLE\",\n",
            "\t\t\"last_update\" : \"2006-02-15 04:34:33\"\n",
            "\t},\n",
            "\t{\n",
            "\t\t\"actor_id\" : 194,\n",
            "\t\t\"first_name\" : \"MERYL\",\n",
            "\t\t\"last_name\" : \"ALLEN\",\n",
            "\t\t\"last_update\" : \"2006-02-15 04:34:33\"\n",
            "\t},\n",
            "\t{\n",
            "\t\t\"actor_id\" : 195,\n",
            "\t\t\"first_name\" : \"JAYNE\",\n",
            "\t\t\"last_name\" : \"SILVERSTONE\",\n",
            "\t\t\"last_update\" : \"2006-02-15 04:34:33\"\n",
            "\t},\n",
            "\t{\n",
            "\t\t\"actor_id\" : 196,\n",
            "\t\t\"first_name\" : \"BELA\",\n",
            "\t\t\"last_name\" : \"WALKEN\",\n",
            "\t\t\"last_update\" : \"2006-02-15 04:34:33\"\n",
            "\t},\n",
            "\t{\n",
            "\t\t\"actor_id\" : 197,\n",
            "\t\t\"first_name\" : \"REESE\",\n",
            "\t\t\"last_name\" : \"WEST\",\n",
            "\t\t\"last_update\" : \"2006-02-15 04:34:33\"\n",
            "\t},\n",
            "\t{\n",
            "\t\t\"actor_id\" : 198,\n",
            "\t\t\"first_name\" : \"MARY\",\n",
            "\t\t\"last_name\" : \"KEITEL\",\n",
            "\t\t\"last_update\" : \"2006-02-15 04:34:33\"\n",
            "\t},\n",
            "\t{\n",
            "\t\t\"actor_id\" : 199,\n",
            "\t\t\"first_name\" : \"JULIA\",\n",
            "\t\t\"last_name\" : \"FAWCETT\",\n",
            "\t\t\"last_update\" : \"2006-02-15 04:34:33\"\n",
            "\t},\n",
            "\t{\n",
            "\t\t\"actor_id\" : 200,\n",
            "\t\t\"first_name\" : \"THORA\",\n",
            "\t\t\"last_name\" : \"TEMPLE\",\n",
            "\t\t\"last_update\" : \"2006-02-15 04:34:33\"\n",
            "\t}\n",
            "]\n",
            "\n"
          ]
        },
        {
          "output_type": "execute_result",
          "data": {
            "text/plain": [
              "'y = json.loads(x)\\nprint(y)\\nfor rec in y:\\n  print(rec)'"
            ],
            "application/vnd.google.colaboratory.intrinsic+json": {
              "type": "string"
            }
          },
          "metadata": {},
          "execution_count": 2
        }
      ]
    },
    {
      "cell_type": "code",
      "source": [
        "y = json.loads(x)\n",
        "print(y)\n",
        "for rec in y:\n",
        "  print(f\"{rec['first_name']} {rec['last_name']}\")"
      ],
      "metadata": {
        "colab": {
          "base_uri": "https://localhost:8080/"
        },
        "id": "a32HCG-R30pV",
        "outputId": "e502f50e-725b-4ee4-d798-da5e38cd9a73"
      },
      "execution_count": null,
      "outputs": [
        {
          "output_type": "stream",
          "name": "stdout",
          "text": [
            "[{'actor_id': 1, 'first_name': 'PENELOPE', 'last_name': 'GUINESS', 'last_update': '2006-02-15 04:34:33'}, {'actor_id': 2, 'first_name': 'NICK', 'last_name': 'WAHLBERG', 'last_update': '2006-02-15 04:34:33'}, {'actor_id': 3, 'first_name': 'ED', 'last_name': 'CHASE', 'last_update': '2006-02-15 04:34:33'}, {'actor_id': 4, 'first_name': 'JENNIFER', 'last_name': 'DAVIS', 'last_update': '2006-02-15 04:34:33'}, {'actor_id': 5, 'first_name': 'JOHNNY', 'last_name': 'LOLLOBRIGIDA', 'last_update': '2006-02-15 04:34:33'}, {'actor_id': 6, 'first_name': 'BETTE', 'last_name': 'NICHOLSON', 'last_update': '2006-02-15 04:34:33'}, {'actor_id': 7, 'first_name': 'GRACE', 'last_name': 'MOSTEL', 'last_update': '2006-02-15 04:34:33'}, {'actor_id': 8, 'first_name': 'MATTHEW', 'last_name': 'JOHANSSON', 'last_update': '2006-02-15 04:34:33'}, {'actor_id': 9, 'first_name': 'JOE', 'last_name': 'SWANK', 'last_update': '2006-02-15 04:34:33'}, {'actor_id': 10, 'first_name': 'CHRISTIAN', 'last_name': 'GABLE', 'last_update': '2006-02-15 04:34:33'}, {'actor_id': 11, 'first_name': 'ZERO', 'last_name': 'CAGE', 'last_update': '2006-02-15 04:34:33'}, {'actor_id': 12, 'first_name': 'KARL', 'last_name': 'BERRY', 'last_update': '2006-02-15 04:34:33'}, {'actor_id': 13, 'first_name': 'UMA', 'last_name': 'WOOD', 'last_update': '2006-02-15 04:34:33'}, {'actor_id': 14, 'first_name': 'VIVIEN', 'last_name': 'BERGEN', 'last_update': '2006-02-15 04:34:33'}, {'actor_id': 15, 'first_name': 'CUBA', 'last_name': 'OLIVIER', 'last_update': '2006-02-15 04:34:33'}, {'actor_id': 16, 'first_name': 'FRED', 'last_name': 'COSTNER', 'last_update': '2006-02-15 04:34:33'}, {'actor_id': 17, 'first_name': 'HELEN', 'last_name': 'VOIGHT', 'last_update': '2006-02-15 04:34:33'}, {'actor_id': 18, 'first_name': 'DAN', 'last_name': 'TORN', 'last_update': '2006-02-15 04:34:33'}, {'actor_id': 19, 'first_name': 'BOB', 'last_name': 'FAWCETT', 'last_update': '2006-02-15 04:34:33'}, {'actor_id': 20, 'first_name': 'LUCILLE', 'last_name': 'TRACY', 'last_update': '2006-02-15 04:34:33'}, {'actor_id': 21, 'first_name': 'KIRSTEN', 'last_name': 'PALTROW', 'last_update': '2006-02-15 04:34:33'}, {'actor_id': 22, 'first_name': 'ELVIS', 'last_name': 'MARX', 'last_update': '2006-02-15 04:34:33'}, {'actor_id': 23, 'first_name': 'SANDRA', 'last_name': 'KILMER', 'last_update': '2006-02-15 04:34:33'}, {'actor_id': 24, 'first_name': 'CAMERON', 'last_name': 'STREEP', 'last_update': '2006-02-15 04:34:33'}, {'actor_id': 25, 'first_name': 'KEVIN', 'last_name': 'BLOOM', 'last_update': '2006-02-15 04:34:33'}, {'actor_id': 26, 'first_name': 'RIP', 'last_name': 'CRAWFORD', 'last_update': '2006-02-15 04:34:33'}, {'actor_id': 27, 'first_name': 'JULIA', 'last_name': 'MCQUEEN', 'last_update': '2006-02-15 04:34:33'}, {'actor_id': 28, 'first_name': 'WOODY', 'last_name': 'HOFFMAN', 'last_update': '2006-02-15 04:34:33'}, {'actor_id': 29, 'first_name': 'ALEC', 'last_name': 'WAYNE', 'last_update': '2006-02-15 04:34:33'}, {'actor_id': 30, 'first_name': 'SANDRA', 'last_name': 'PECK', 'last_update': '2006-02-15 04:34:33'}, {'actor_id': 31, 'first_name': 'SISSY', 'last_name': 'SOBIESKI', 'last_update': '2006-02-15 04:34:33'}, {'actor_id': 32, 'first_name': 'TIM', 'last_name': 'HACKMAN', 'last_update': '2006-02-15 04:34:33'}, {'actor_id': 33, 'first_name': 'MILLA', 'last_name': 'PECK', 'last_update': '2006-02-15 04:34:33'}, {'actor_id': 34, 'first_name': 'AUDREY', 'last_name': 'OLIVIER', 'last_update': '2006-02-15 04:34:33'}, {'actor_id': 35, 'first_name': 'JUDY', 'last_name': 'DEAN', 'last_update': '2006-02-15 04:34:33'}, {'actor_id': 36, 'first_name': 'BURT', 'last_name': 'DUKAKIS', 'last_update': '2006-02-15 04:34:33'}, {'actor_id': 37, 'first_name': 'VAL', 'last_name': 'BOLGER', 'last_update': '2006-02-15 04:34:33'}, {'actor_id': 38, 'first_name': 'TOM', 'last_name': 'MCKELLEN', 'last_update': '2006-02-15 04:34:33'}, {'actor_id': 39, 'first_name': 'GOLDIE', 'last_name': 'BRODY', 'last_update': '2006-02-15 04:34:33'}, {'actor_id': 40, 'first_name': 'JOHNNY', 'last_name': 'CAGE', 'last_update': '2006-02-15 04:34:33'}, {'actor_id': 41, 'first_name': 'JODIE', 'last_name': 'DEGENERES', 'last_update': '2006-02-15 04:34:33'}, {'actor_id': 42, 'first_name': 'TOM', 'last_name': 'MIRANDA', 'last_update': '2006-02-15 04:34:33'}, {'actor_id': 43, 'first_name': 'KIRK', 'last_name': 'JOVOVICH', 'last_update': '2006-02-15 04:34:33'}, {'actor_id': 44, 'first_name': 'NICK', 'last_name': 'STALLONE', 'last_update': '2006-02-15 04:34:33'}, {'actor_id': 45, 'first_name': 'REESE', 'last_name': 'KILMER', 'last_update': '2006-02-15 04:34:33'}, {'actor_id': 46, 'first_name': 'PARKER', 'last_name': 'GOLDBERG', 'last_update': '2006-02-15 04:34:33'}, {'actor_id': 47, 'first_name': 'JULIA', 'last_name': 'BARRYMORE', 'last_update': '2006-02-15 04:34:33'}, {'actor_id': 48, 'first_name': 'FRANCES', 'last_name': 'DAY-LEWIS', 'last_update': '2006-02-15 04:34:33'}, {'actor_id': 49, 'first_name': 'ANNE', 'last_name': 'CRONYN', 'last_update': '2006-02-15 04:34:33'}, {'actor_id': 50, 'first_name': 'NATALIE', 'last_name': 'HOPKINS', 'last_update': '2006-02-15 04:34:33'}, {'actor_id': 51, 'first_name': 'GARY', 'last_name': 'PHOENIX', 'last_update': '2006-02-15 04:34:33'}, {'actor_id': 52, 'first_name': 'CARMEN', 'last_name': 'HUNT', 'last_update': '2006-02-15 04:34:33'}, {'actor_id': 53, 'first_name': 'MENA', 'last_name': 'TEMPLE', 'last_update': '2006-02-15 04:34:33'}, {'actor_id': 54, 'first_name': 'PENELOPE', 'last_name': 'PINKETT', 'last_update': '2006-02-15 04:34:33'}, {'actor_id': 55, 'first_name': 'FAY', 'last_name': 'KILMER', 'last_update': '2006-02-15 04:34:33'}, {'actor_id': 56, 'first_name': 'DAN', 'last_name': 'HARRIS', 'last_update': '2006-02-15 04:34:33'}, {'actor_id': 57, 'first_name': 'JUDE', 'last_name': 'CRUISE', 'last_update': '2006-02-15 04:34:33'}, {'actor_id': 58, 'first_name': 'CHRISTIAN', 'last_name': 'AKROYD', 'last_update': '2006-02-15 04:34:33'}, {'actor_id': 59, 'first_name': 'DUSTIN', 'last_name': 'TAUTOU', 'last_update': '2006-02-15 04:34:33'}, {'actor_id': 60, 'first_name': 'HENRY', 'last_name': 'BERRY', 'last_update': '2006-02-15 04:34:33'}, {'actor_id': 61, 'first_name': 'CHRISTIAN', 'last_name': 'NEESON', 'last_update': '2006-02-15 04:34:33'}, {'actor_id': 62, 'first_name': 'JAYNE', 'last_name': 'NEESON', 'last_update': '2006-02-15 04:34:33'}, {'actor_id': 63, 'first_name': 'CAMERON', 'last_name': 'WRAY', 'last_update': '2006-02-15 04:34:33'}, {'actor_id': 64, 'first_name': 'RAY', 'last_name': 'JOHANSSON', 'last_update': '2006-02-15 04:34:33'}, {'actor_id': 65, 'first_name': 'ANGELA', 'last_name': 'HUDSON', 'last_update': '2006-02-15 04:34:33'}, {'actor_id': 66, 'first_name': 'MARY', 'last_name': 'TANDY', 'last_update': '2006-02-15 04:34:33'}, {'actor_id': 67, 'first_name': 'JESSICA', 'last_name': 'BAILEY', 'last_update': '2006-02-15 04:34:33'}, {'actor_id': 68, 'first_name': 'RIP', 'last_name': 'WINSLET', 'last_update': '2006-02-15 04:34:33'}, {'actor_id': 69, 'first_name': 'KENNETH', 'last_name': 'PALTROW', 'last_update': '2006-02-15 04:34:33'}, {'actor_id': 70, 'first_name': 'MICHELLE', 'last_name': 'MCCONAUGHEY', 'last_update': '2006-02-15 04:34:33'}, {'actor_id': 71, 'first_name': 'ADAM', 'last_name': 'GRANT', 'last_update': '2006-02-15 04:34:33'}, {'actor_id': 72, 'first_name': 'SEAN', 'last_name': 'WILLIAMS', 'last_update': '2006-02-15 04:34:33'}, {'actor_id': 73, 'first_name': 'GARY', 'last_name': 'PENN', 'last_update': '2006-02-15 04:34:33'}, {'actor_id': 74, 'first_name': 'MILLA', 'last_name': 'KEITEL', 'last_update': '2006-02-15 04:34:33'}, {'actor_id': 75, 'first_name': 'BURT', 'last_name': 'POSEY', 'last_update': '2006-02-15 04:34:33'}, {'actor_id': 76, 'first_name': 'ANGELINA', 'last_name': 'ASTAIRE', 'last_update': '2006-02-15 04:34:33'}, {'actor_id': 77, 'first_name': 'CARY', 'last_name': 'MCCONAUGHEY', 'last_update': '2006-02-15 04:34:33'}, {'actor_id': 78, 'first_name': 'GROUCHO', 'last_name': 'SINATRA', 'last_update': '2006-02-15 04:34:33'}, {'actor_id': 79, 'first_name': 'MAE', 'last_name': 'HOFFMAN', 'last_update': '2006-02-15 04:34:33'}, {'actor_id': 80, 'first_name': 'RALPH', 'last_name': 'CRUZ', 'last_update': '2006-02-15 04:34:33'}, {'actor_id': 81, 'first_name': 'SCARLETT', 'last_name': 'DAMON', 'last_update': '2006-02-15 04:34:33'}, {'actor_id': 82, 'first_name': 'WOODY', 'last_name': 'JOLIE', 'last_update': '2006-02-15 04:34:33'}, {'actor_id': 83, 'first_name': 'BEN', 'last_name': 'WILLIS', 'last_update': '2006-02-15 04:34:33'}, {'actor_id': 84, 'first_name': 'JAMES', 'last_name': 'PITT', 'last_update': '2006-02-15 04:34:33'}, {'actor_id': 85, 'first_name': 'MINNIE', 'last_name': 'ZELLWEGER', 'last_update': '2006-02-15 04:34:33'}, {'actor_id': 86, 'first_name': 'GREG', 'last_name': 'CHAPLIN', 'last_update': '2006-02-15 04:34:33'}, {'actor_id': 87, 'first_name': 'SPENCER', 'last_name': 'PECK', 'last_update': '2006-02-15 04:34:33'}, {'actor_id': 88, 'first_name': 'KENNETH', 'last_name': 'PESCI', 'last_update': '2006-02-15 04:34:33'}, {'actor_id': 89, 'first_name': 'CHARLIZE', 'last_name': 'DENCH', 'last_update': '2006-02-15 04:34:33'}, {'actor_id': 90, 'first_name': 'SEAN', 'last_name': 'GUINESS', 'last_update': '2006-02-15 04:34:33'}, {'actor_id': 91, 'first_name': 'CHRISTOPHER', 'last_name': 'BERRY', 'last_update': '2006-02-15 04:34:33'}, {'actor_id': 92, 'first_name': 'KIRSTEN', 'last_name': 'AKROYD', 'last_update': '2006-02-15 04:34:33'}, {'actor_id': 93, 'first_name': 'ELLEN', 'last_name': 'PRESLEY', 'last_update': '2006-02-15 04:34:33'}, {'actor_id': 94, 'first_name': 'KENNETH', 'last_name': 'TORN', 'last_update': '2006-02-15 04:34:33'}, {'actor_id': 95, 'first_name': 'DARYL', 'last_name': 'WAHLBERG', 'last_update': '2006-02-15 04:34:33'}, {'actor_id': 96, 'first_name': 'GENE', 'last_name': 'WILLIS', 'last_update': '2006-02-15 04:34:33'}, {'actor_id': 97, 'first_name': 'MEG', 'last_name': 'HAWKE', 'last_update': '2006-02-15 04:34:33'}, {'actor_id': 98, 'first_name': 'CHRIS', 'last_name': 'BRIDGES', 'last_update': '2006-02-15 04:34:33'}, {'actor_id': 99, 'first_name': 'JIM', 'last_name': 'MOSTEL', 'last_update': '2006-02-15 04:34:33'}, {'actor_id': 100, 'first_name': 'SPENCER', 'last_name': 'DEPP', 'last_update': '2006-02-15 04:34:33'}, {'actor_id': 101, 'first_name': 'SUSAN', 'last_name': 'DAVIS', 'last_update': '2006-02-15 04:34:33'}, {'actor_id': 102, 'first_name': 'WALTER', 'last_name': 'TORN', 'last_update': '2006-02-15 04:34:33'}, {'actor_id': 103, 'first_name': 'MATTHEW', 'last_name': 'LEIGH', 'last_update': '2006-02-15 04:34:33'}, {'actor_id': 104, 'first_name': 'PENELOPE', 'last_name': 'CRONYN', 'last_update': '2006-02-15 04:34:33'}, {'actor_id': 105, 'first_name': 'SIDNEY', 'last_name': 'CROWE', 'last_update': '2006-02-15 04:34:33'}, {'actor_id': 106, 'first_name': 'GROUCHO', 'last_name': 'DUNST', 'last_update': '2006-02-15 04:34:33'}, {'actor_id': 107, 'first_name': 'GINA', 'last_name': 'DEGENERES', 'last_update': '2006-02-15 04:34:33'}, {'actor_id': 108, 'first_name': 'WARREN', 'last_name': 'NOLTE', 'last_update': '2006-02-15 04:34:33'}, {'actor_id': 109, 'first_name': 'SYLVESTER', 'last_name': 'DERN', 'last_update': '2006-02-15 04:34:33'}, {'actor_id': 110, 'first_name': 'SUSAN', 'last_name': 'DAVIS', 'last_update': '2006-02-15 04:34:33'}, {'actor_id': 111, 'first_name': 'CAMERON', 'last_name': 'ZELLWEGER', 'last_update': '2006-02-15 04:34:33'}, {'actor_id': 112, 'first_name': 'RUSSELL', 'last_name': 'BACALL', 'last_update': '2006-02-15 04:34:33'}, {'actor_id': 113, 'first_name': 'MORGAN', 'last_name': 'HOPKINS', 'last_update': '2006-02-15 04:34:33'}, {'actor_id': 114, 'first_name': 'MORGAN', 'last_name': 'MCDORMAND', 'last_update': '2006-02-15 04:34:33'}, {'actor_id': 115, 'first_name': 'HARRISON', 'last_name': 'BALE', 'last_update': '2006-02-15 04:34:33'}, {'actor_id': 116, 'first_name': 'DAN', 'last_name': 'STREEP', 'last_update': '2006-02-15 04:34:33'}, {'actor_id': 117, 'first_name': 'RENEE', 'last_name': 'TRACY', 'last_update': '2006-02-15 04:34:33'}, {'actor_id': 118, 'first_name': 'CUBA', 'last_name': 'ALLEN', 'last_update': '2006-02-15 04:34:33'}, {'actor_id': 119, 'first_name': 'WARREN', 'last_name': 'JACKMAN', 'last_update': '2006-02-15 04:34:33'}, {'actor_id': 120, 'first_name': 'PENELOPE', 'last_name': 'MONROE', 'last_update': '2006-02-15 04:34:33'}, {'actor_id': 121, 'first_name': 'LIZA', 'last_name': 'BERGMAN', 'last_update': '2006-02-15 04:34:33'}, {'actor_id': 122, 'first_name': 'SALMA', 'last_name': 'NOLTE', 'last_update': '2006-02-15 04:34:33'}, {'actor_id': 123, 'first_name': 'JULIANNE', 'last_name': 'DENCH', 'last_update': '2006-02-15 04:34:33'}, {'actor_id': 124, 'first_name': 'SCARLETT', 'last_name': 'BENING', 'last_update': '2006-02-15 04:34:33'}, {'actor_id': 125, 'first_name': 'ALBERT', 'last_name': 'NOLTE', 'last_update': '2006-02-15 04:34:33'}, {'actor_id': 126, 'first_name': 'FRANCES', 'last_name': 'TOMEI', 'last_update': '2006-02-15 04:34:33'}, {'actor_id': 127, 'first_name': 'KEVIN', 'last_name': 'GARLAND', 'last_update': '2006-02-15 04:34:33'}, {'actor_id': 128, 'first_name': 'CATE', 'last_name': 'MCQUEEN', 'last_update': '2006-02-15 04:34:33'}, {'actor_id': 129, 'first_name': 'DARYL', 'last_name': 'CRAWFORD', 'last_update': '2006-02-15 04:34:33'}, {'actor_id': 130, 'first_name': 'GRETA', 'last_name': 'KEITEL', 'last_update': '2006-02-15 04:34:33'}, {'actor_id': 131, 'first_name': 'JANE', 'last_name': 'JACKMAN', 'last_update': '2006-02-15 04:34:33'}, {'actor_id': 132, 'first_name': 'ADAM', 'last_name': 'HOPPER', 'last_update': '2006-02-15 04:34:33'}, {'actor_id': 133, 'first_name': 'RICHARD', 'last_name': 'PENN', 'last_update': '2006-02-15 04:34:33'}, {'actor_id': 134, 'first_name': 'GENE', 'last_name': 'HOPKINS', 'last_update': '2006-02-15 04:34:33'}, {'actor_id': 135, 'first_name': 'RITA', 'last_name': 'REYNOLDS', 'last_update': '2006-02-15 04:34:33'}, {'actor_id': 136, 'first_name': 'ED', 'last_name': 'MANSFIELD', 'last_update': '2006-02-15 04:34:33'}, {'actor_id': 137, 'first_name': 'MORGAN', 'last_name': 'WILLIAMS', 'last_update': '2006-02-15 04:34:33'}, {'actor_id': 138, 'first_name': 'LUCILLE', 'last_name': 'DEE', 'last_update': '2006-02-15 04:34:33'}, {'actor_id': 139, 'first_name': 'EWAN', 'last_name': 'GOODING', 'last_update': '2006-02-15 04:34:33'}, {'actor_id': 140, 'first_name': 'WHOOPI', 'last_name': 'HURT', 'last_update': '2006-02-15 04:34:33'}, {'actor_id': 141, 'first_name': 'CATE', 'last_name': 'HARRIS', 'last_update': '2006-02-15 04:34:33'}, {'actor_id': 142, 'first_name': 'JADA', 'last_name': 'RYDER', 'last_update': '2006-02-15 04:34:33'}, {'actor_id': 143, 'first_name': 'RIVER', 'last_name': 'DEAN', 'last_update': '2006-02-15 04:34:33'}, {'actor_id': 144, 'first_name': 'ANGELA', 'last_name': 'WITHERSPOON', 'last_update': '2006-02-15 04:34:33'}, {'actor_id': 145, 'first_name': 'KIM', 'last_name': 'ALLEN', 'last_update': '2006-02-15 04:34:33'}, {'actor_id': 146, 'first_name': 'ALBERT', 'last_name': 'JOHANSSON', 'last_update': '2006-02-15 04:34:33'}, {'actor_id': 147, 'first_name': 'FAY', 'last_name': 'WINSLET', 'last_update': '2006-02-15 04:34:33'}, {'actor_id': 148, 'first_name': 'EMILY', 'last_name': 'DEE', 'last_update': '2006-02-15 04:34:33'}, {'actor_id': 149, 'first_name': 'RUSSELL', 'last_name': 'TEMPLE', 'last_update': '2006-02-15 04:34:33'}, {'actor_id': 150, 'first_name': 'JAYNE', 'last_name': 'NOLTE', 'last_update': '2006-02-15 04:34:33'}, {'actor_id': 151, 'first_name': 'GEOFFREY', 'last_name': 'HESTON', 'last_update': '2006-02-15 04:34:33'}, {'actor_id': 152, 'first_name': 'BEN', 'last_name': 'HARRIS', 'last_update': '2006-02-15 04:34:33'}, {'actor_id': 153, 'first_name': 'MINNIE', 'last_name': 'KILMER', 'last_update': '2006-02-15 04:34:33'}, {'actor_id': 154, 'first_name': 'MERYL', 'last_name': 'GIBSON', 'last_update': '2006-02-15 04:34:33'}, {'actor_id': 155, 'first_name': 'IAN', 'last_name': 'TANDY', 'last_update': '2006-02-15 04:34:33'}, {'actor_id': 156, 'first_name': 'FAY', 'last_name': 'WOOD', 'last_update': '2006-02-15 04:34:33'}, {'actor_id': 157, 'first_name': 'GRETA', 'last_name': 'MALDEN', 'last_update': '2006-02-15 04:34:33'}, {'actor_id': 158, 'first_name': 'VIVIEN', 'last_name': 'BASINGER', 'last_update': '2006-02-15 04:34:33'}, {'actor_id': 159, 'first_name': 'LAURA', 'last_name': 'BRODY', 'last_update': '2006-02-15 04:34:33'}, {'actor_id': 160, 'first_name': 'CHRIS', 'last_name': 'DEPP', 'last_update': '2006-02-15 04:34:33'}, {'actor_id': 161, 'first_name': 'HARVEY', 'last_name': 'HOPE', 'last_update': '2006-02-15 04:34:33'}, {'actor_id': 162, 'first_name': 'OPRAH', 'last_name': 'KILMER', 'last_update': '2006-02-15 04:34:33'}, {'actor_id': 163, 'first_name': 'CHRISTOPHER', 'last_name': 'WEST', 'last_update': '2006-02-15 04:34:33'}, {'actor_id': 164, 'first_name': 'HUMPHREY', 'last_name': 'WILLIS', 'last_update': '2006-02-15 04:34:33'}, {'actor_id': 165, 'first_name': 'AL', 'last_name': 'GARLAND', 'last_update': '2006-02-15 04:34:33'}, {'actor_id': 166, 'first_name': 'NICK', 'last_name': 'DEGENERES', 'last_update': '2006-02-15 04:34:33'}, {'actor_id': 167, 'first_name': 'LAURENCE', 'last_name': 'BULLOCK', 'last_update': '2006-02-15 04:34:33'}, {'actor_id': 168, 'first_name': 'WILL', 'last_name': 'WILSON', 'last_update': '2006-02-15 04:34:33'}, {'actor_id': 169, 'first_name': 'KENNETH', 'last_name': 'HOFFMAN', 'last_update': '2006-02-15 04:34:33'}, {'actor_id': 170, 'first_name': 'MENA', 'last_name': 'HOPPER', 'last_update': '2006-02-15 04:34:33'}, {'actor_id': 171, 'first_name': 'OLYMPIA', 'last_name': 'PFEIFFER', 'last_update': '2006-02-15 04:34:33'}, {'actor_id': 172, 'first_name': 'GROUCHO', 'last_name': 'WILLIAMS', 'last_update': '2006-02-15 04:34:33'}, {'actor_id': 173, 'first_name': 'ALAN', 'last_name': 'DREYFUSS', 'last_update': '2006-02-15 04:34:33'}, {'actor_id': 174, 'first_name': 'MICHAEL', 'last_name': 'BENING', 'last_update': '2006-02-15 04:34:33'}, {'actor_id': 175, 'first_name': 'WILLIAM', 'last_name': 'HACKMAN', 'last_update': '2006-02-15 04:34:33'}, {'actor_id': 176, 'first_name': 'JON', 'last_name': 'CHASE', 'last_update': '2006-02-15 04:34:33'}, {'actor_id': 177, 'first_name': 'GENE', 'last_name': 'MCKELLEN', 'last_update': '2006-02-15 04:34:33'}, {'actor_id': 178, 'first_name': 'LISA', 'last_name': 'MONROE', 'last_update': '2006-02-15 04:34:33'}, {'actor_id': 179, 'first_name': 'ED', 'last_name': 'GUINESS', 'last_update': '2006-02-15 04:34:33'}, {'actor_id': 180, 'first_name': 'JEFF', 'last_name': 'SILVERSTONE', 'last_update': '2006-02-15 04:34:33'}, {'actor_id': 181, 'first_name': 'MATTHEW', 'last_name': 'CARREY', 'last_update': '2006-02-15 04:34:33'}, {'actor_id': 182, 'first_name': 'DEBBIE', 'last_name': 'AKROYD', 'last_update': '2006-02-15 04:34:33'}, {'actor_id': 183, 'first_name': 'RUSSELL', 'last_name': 'CLOSE', 'last_update': '2006-02-15 04:34:33'}, {'actor_id': 184, 'first_name': 'HUMPHREY', 'last_name': 'GARLAND', 'last_update': '2006-02-15 04:34:33'}, {'actor_id': 185, 'first_name': 'MICHAEL', 'last_name': 'BOLGER', 'last_update': '2006-02-15 04:34:33'}, {'actor_id': 186, 'first_name': 'JULIA', 'last_name': 'ZELLWEGER', 'last_update': '2006-02-15 04:34:33'}, {'actor_id': 187, 'first_name': 'RENEE', 'last_name': 'BALL', 'last_update': '2006-02-15 04:34:33'}, {'actor_id': 188, 'first_name': 'ROCK', 'last_name': 'DUKAKIS', 'last_update': '2006-02-15 04:34:33'}, {'actor_id': 189, 'first_name': 'CUBA', 'last_name': 'BIRCH', 'last_update': '2006-02-15 04:34:33'}, {'actor_id': 190, 'first_name': 'AUDREY', 'last_name': 'BAILEY', 'last_update': '2006-02-15 04:34:33'}, {'actor_id': 191, 'first_name': 'GREGORY', 'last_name': 'GOODING', 'last_update': '2006-02-15 04:34:33'}, {'actor_id': 192, 'first_name': 'JOHN', 'last_name': 'SUVARI', 'last_update': '2006-02-15 04:34:33'}, {'actor_id': 193, 'first_name': 'BURT', 'last_name': 'TEMPLE', 'last_update': '2006-02-15 04:34:33'}, {'actor_id': 194, 'first_name': 'MERYL', 'last_name': 'ALLEN', 'last_update': '2006-02-15 04:34:33'}, {'actor_id': 195, 'first_name': 'JAYNE', 'last_name': 'SILVERSTONE', 'last_update': '2006-02-15 04:34:33'}, {'actor_id': 196, 'first_name': 'BELA', 'last_name': 'WALKEN', 'last_update': '2006-02-15 04:34:33'}, {'actor_id': 197, 'first_name': 'REESE', 'last_name': 'WEST', 'last_update': '2006-02-15 04:34:33'}, {'actor_id': 198, 'first_name': 'MARY', 'last_name': 'KEITEL', 'last_update': '2006-02-15 04:34:33'}, {'actor_id': 199, 'first_name': 'JULIA', 'last_name': 'FAWCETT', 'last_update': '2006-02-15 04:34:33'}, {'actor_id': 200, 'first_name': 'THORA', 'last_name': 'TEMPLE', 'last_update': '2006-02-15 04:34:33'}]\n",
            "PENELOPE GUINESS\n",
            "NICK WAHLBERG\n",
            "ED CHASE\n",
            "JENNIFER DAVIS\n",
            "JOHNNY LOLLOBRIGIDA\n",
            "BETTE NICHOLSON\n",
            "GRACE MOSTEL\n",
            "MATTHEW JOHANSSON\n",
            "JOE SWANK\n",
            "CHRISTIAN GABLE\n",
            "ZERO CAGE\n",
            "KARL BERRY\n",
            "UMA WOOD\n",
            "VIVIEN BERGEN\n",
            "CUBA OLIVIER\n",
            "FRED COSTNER\n",
            "HELEN VOIGHT\n",
            "DAN TORN\n",
            "BOB FAWCETT\n",
            "LUCILLE TRACY\n",
            "KIRSTEN PALTROW\n",
            "ELVIS MARX\n",
            "SANDRA KILMER\n",
            "CAMERON STREEP\n",
            "KEVIN BLOOM\n",
            "RIP CRAWFORD\n",
            "JULIA MCQUEEN\n",
            "WOODY HOFFMAN\n",
            "ALEC WAYNE\n",
            "SANDRA PECK\n",
            "SISSY SOBIESKI\n",
            "TIM HACKMAN\n",
            "MILLA PECK\n",
            "AUDREY OLIVIER\n",
            "JUDY DEAN\n",
            "BURT DUKAKIS\n",
            "VAL BOLGER\n",
            "TOM MCKELLEN\n",
            "GOLDIE BRODY\n",
            "JOHNNY CAGE\n",
            "JODIE DEGENERES\n",
            "TOM MIRANDA\n",
            "KIRK JOVOVICH\n",
            "NICK STALLONE\n",
            "REESE KILMER\n",
            "PARKER GOLDBERG\n",
            "JULIA BARRYMORE\n",
            "FRANCES DAY-LEWIS\n",
            "ANNE CRONYN\n",
            "NATALIE HOPKINS\n",
            "GARY PHOENIX\n",
            "CARMEN HUNT\n",
            "MENA TEMPLE\n",
            "PENELOPE PINKETT\n",
            "FAY KILMER\n",
            "DAN HARRIS\n",
            "JUDE CRUISE\n",
            "CHRISTIAN AKROYD\n",
            "DUSTIN TAUTOU\n",
            "HENRY BERRY\n",
            "CHRISTIAN NEESON\n",
            "JAYNE NEESON\n",
            "CAMERON WRAY\n",
            "RAY JOHANSSON\n",
            "ANGELA HUDSON\n",
            "MARY TANDY\n",
            "JESSICA BAILEY\n",
            "RIP WINSLET\n",
            "KENNETH PALTROW\n",
            "MICHELLE MCCONAUGHEY\n",
            "ADAM GRANT\n",
            "SEAN WILLIAMS\n",
            "GARY PENN\n",
            "MILLA KEITEL\n",
            "BURT POSEY\n",
            "ANGELINA ASTAIRE\n",
            "CARY MCCONAUGHEY\n",
            "GROUCHO SINATRA\n",
            "MAE HOFFMAN\n",
            "RALPH CRUZ\n",
            "SCARLETT DAMON\n",
            "WOODY JOLIE\n",
            "BEN WILLIS\n",
            "JAMES PITT\n",
            "MINNIE ZELLWEGER\n",
            "GREG CHAPLIN\n",
            "SPENCER PECK\n",
            "KENNETH PESCI\n",
            "CHARLIZE DENCH\n",
            "SEAN GUINESS\n",
            "CHRISTOPHER BERRY\n",
            "KIRSTEN AKROYD\n",
            "ELLEN PRESLEY\n",
            "KENNETH TORN\n",
            "DARYL WAHLBERG\n",
            "GENE WILLIS\n",
            "MEG HAWKE\n",
            "CHRIS BRIDGES\n",
            "JIM MOSTEL\n",
            "SPENCER DEPP\n",
            "SUSAN DAVIS\n",
            "WALTER TORN\n",
            "MATTHEW LEIGH\n",
            "PENELOPE CRONYN\n",
            "SIDNEY CROWE\n",
            "GROUCHO DUNST\n",
            "GINA DEGENERES\n",
            "WARREN NOLTE\n",
            "SYLVESTER DERN\n",
            "SUSAN DAVIS\n",
            "CAMERON ZELLWEGER\n",
            "RUSSELL BACALL\n",
            "MORGAN HOPKINS\n",
            "MORGAN MCDORMAND\n",
            "HARRISON BALE\n",
            "DAN STREEP\n",
            "RENEE TRACY\n",
            "CUBA ALLEN\n",
            "WARREN JACKMAN\n",
            "PENELOPE MONROE\n",
            "LIZA BERGMAN\n",
            "SALMA NOLTE\n",
            "JULIANNE DENCH\n",
            "SCARLETT BENING\n",
            "ALBERT NOLTE\n",
            "FRANCES TOMEI\n",
            "KEVIN GARLAND\n",
            "CATE MCQUEEN\n",
            "DARYL CRAWFORD\n",
            "GRETA KEITEL\n",
            "JANE JACKMAN\n",
            "ADAM HOPPER\n",
            "RICHARD PENN\n",
            "GENE HOPKINS\n",
            "RITA REYNOLDS\n",
            "ED MANSFIELD\n",
            "MORGAN WILLIAMS\n",
            "LUCILLE DEE\n",
            "EWAN GOODING\n",
            "WHOOPI HURT\n",
            "CATE HARRIS\n",
            "JADA RYDER\n",
            "RIVER DEAN\n",
            "ANGELA WITHERSPOON\n",
            "KIM ALLEN\n",
            "ALBERT JOHANSSON\n",
            "FAY WINSLET\n",
            "EMILY DEE\n",
            "RUSSELL TEMPLE\n",
            "JAYNE NOLTE\n",
            "GEOFFREY HESTON\n",
            "BEN HARRIS\n",
            "MINNIE KILMER\n",
            "MERYL GIBSON\n",
            "IAN TANDY\n",
            "FAY WOOD\n",
            "GRETA MALDEN\n",
            "VIVIEN BASINGER\n",
            "LAURA BRODY\n",
            "CHRIS DEPP\n",
            "HARVEY HOPE\n",
            "OPRAH KILMER\n",
            "CHRISTOPHER WEST\n",
            "HUMPHREY WILLIS\n",
            "AL GARLAND\n",
            "NICK DEGENERES\n",
            "LAURENCE BULLOCK\n",
            "WILL WILSON\n",
            "KENNETH HOFFMAN\n",
            "MENA HOPPER\n",
            "OLYMPIA PFEIFFER\n",
            "GROUCHO WILLIAMS\n",
            "ALAN DREYFUSS\n",
            "MICHAEL BENING\n",
            "WILLIAM HACKMAN\n",
            "JON CHASE\n",
            "GENE MCKELLEN\n",
            "LISA MONROE\n",
            "ED GUINESS\n",
            "JEFF SILVERSTONE\n",
            "MATTHEW CARREY\n",
            "DEBBIE AKROYD\n",
            "RUSSELL CLOSE\n",
            "HUMPHREY GARLAND\n",
            "MICHAEL BOLGER\n",
            "JULIA ZELLWEGER\n",
            "RENEE BALL\n",
            "ROCK DUKAKIS\n",
            "CUBA BIRCH\n",
            "AUDREY BAILEY\n",
            "GREGORY GOODING\n",
            "JOHN SUVARI\n",
            "BURT TEMPLE\n",
            "MERYL ALLEN\n",
            "JAYNE SILVERSTONE\n",
            "BELA WALKEN\n",
            "REESE WEST\n",
            "MARY KEITEL\n",
            "JULIA FAWCETT\n",
            "THORA TEMPLE\n"
          ]
        }
      ]
    },
    {
      "cell_type": "code",
      "source": [
        "def add(*any):\n",
        "  print(\"sum is \",sum(any))\n",
        "\n",
        "add(66,88,99)"
      ],
      "metadata": {
        "colab": {
          "base_uri": "https://localhost:8080/"
        },
        "id": "k61G3toLFsNN",
        "outputId": "71ee9add-f122-4914-aa98-5f0a1926721b"
      },
      "execution_count": null,
      "outputs": [
        {
          "output_type": "stream",
          "name": "stdout",
          "text": [
            "sum is  253\n"
          ]
        }
      ]
    },
    {
      "cell_type": "code",
      "source": [
        "class Father:\n",
        "  def __init__(self,fathername):\n",
        "    self.fathername=fathername\n",
        "\n",
        "class Son(Father):\n",
        "  def __init__(self,fathername,sonname):\n",
        "    super().__init__(fathername)\n",
        "    self.sonname=sonname\n",
        "  def show(self):\n",
        "    print(self.fathername, self.sonname)\n",
        "\n"
      ],
      "metadata": {
        "id": "us5aoLsfgeaN"
      },
      "execution_count": null,
      "outputs": []
    },
    {
      "cell_type": "code",
      "source": [
        "s1=Son(\"RAM\",\"Shyam\")\n",
        "s1.show()"
      ],
      "metadata": {
        "colab": {
          "base_uri": "https://localhost:8080/"
        },
        "id": "PtBdfdnRhmEt",
        "outputId": "15774a54-0e2d-4b9a-f036-2ed552daec64"
      },
      "execution_count": null,
      "outputs": [
        {
          "output_type": "stream",
          "name": "stdout",
          "text": [
            "RAM Shyam\n"
          ]
        }
      ]
    },
    {
      "cell_type": "code",
      "source": [
        "# program to illustrate access modifiers of a class\n",
        "\n",
        "# super class\n",
        "class Super:\n",
        "\n",
        "\t# public data member\n",
        "\tvar1 = None\n",
        "\n",
        "\t# protected data member\n",
        "\t_var2 = None\n",
        "\n",
        "\t# private data member\n",
        "\t__var3 = None\n",
        "\n",
        "\t# constructor\n",
        "\tdef __init__(self, var1, var2, var3):\n",
        "\t\tself.var1 = var1\n",
        "\t\tself._var2 = var2\n",
        "\t\tself.__var3 = var3\n",
        "\n",
        "\t# public member function\n",
        "\tdef displayPublicMembers(self):\n",
        "\n",
        "\t\t# accessing public data members\n",
        "\t\tprint(\"Public Data Member: \", self.var1)\n",
        "\n",
        "\t# protected member function\n",
        "\tdef _displayProtectedMembers(self):\n",
        "\n",
        "\t\t# accessing protected data members\n",
        "\t\tprint(\"Protected Data Member: \", self._var2)\n",
        "\n",
        "\t# private member function\n",
        "\tdef __displayPrivateMembers(self):\n",
        "\n",
        "\t\t# accessing private data members\n",
        "\t\tprint(\"Private Data Member: \", self.__var3)\n",
        "\n",
        "\t# public member function\n",
        "\tdef accessPrivateMembers(self):\n",
        "\n",
        "\t\t# accessing private member function\n",
        "\t\tself.__displayPrivateMembers()\n",
        "\n",
        "# derived class\n",
        "class Sub(Super):\n",
        "\n",
        "\t# constructor\n",
        "\tdef __init__(self, var1, var2, var3):\n",
        "\t\t\t\tSuper.__init__(self, var1, var2, var3)\n",
        "\n",
        "\t# public member function\n",
        "\tdef accessProtectedMembers(self):\n",
        "\n",
        "\t\t\t\t# accessing protected member functions of super class\n",
        "\t\t\t\tself._displayProtectedMembers()\n",
        "\n",
        "# creating objects of the derived class\n",
        "obj = Sub(\"Geeks\", 4, \"Geeks !\")\n",
        "\n",
        "# calling public member functions of the class\n",
        "obj.displayPublicMembers()\n",
        "obj.accessProtectedMembers()\n",
        "obj.accessPrivateMembers()\n",
        "\n",
        "# Object can access protected member\n",
        "print(\"Object is accessing protected member:\", obj._var2)\n",
        "\n",
        "# object can not access private member, so it will generate Attribute error\n",
        "#print(obj.__var3)\n"
      ],
      "metadata": {
        "colab": {
          "base_uri": "https://localhost:8080/"
        },
        "id": "MLdYYGpAztGw",
        "outputId": "ea7f7f6c-7df4-4f4f-effa-84b6c31628c4"
      },
      "execution_count": null,
      "outputs": [
        {
          "output_type": "stream",
          "name": "stdout",
          "text": [
            "Public Data Member:  Geeks\n",
            "Protected Data Member:  4\n",
            "Private Data Member:  Geeks !\n",
            "Object is accessing protected member: 4\n"
          ]
        }
      ]
    },
    {
      "cell_type": "code",
      "source": [
        "class Manav:\n",
        "  name=None   # public\n",
        "  _age=None   # protected\n",
        "  __Gender=None #private\n",
        "  def __init__(self): # constructor\n",
        "    self.name=\"Ankit\"\n",
        "    self._age=21\n",
        "    self.__Gender='Male'\n",
        "  def GetGender(self):\n",
        "    print(self.__Gender)\n",
        "    self.__Display()\n",
        "  def __Display(self):\n",
        "    print(\"Hello Good Morning\")\n",
        "\n"
      ],
      "metadata": {
        "id": "xS-qWToR0lH6"
      },
      "execution_count": null,
      "outputs": []
    },
    {
      "cell_type": "code",
      "source": [
        "p1=Manav()\n",
        "print(p1.name)\n",
        "print(p1._age)\n",
        "p1.GetGender()\n"
      ],
      "metadata": {
        "colab": {
          "base_uri": "https://localhost:8080/"
        },
        "id": "kOH1bLc11jMZ",
        "outputId": "b9457f9f-6526-404b-a28c-ab3792e3b47a"
      },
      "execution_count": null,
      "outputs": [
        {
          "output_type": "stream",
          "name": "stdout",
          "text": [
            "Ankit\n",
            "21\n",
            "Male\n",
            "Hello Good Morning\n"
          ]
        }
      ]
    },
    {
      "cell_type": "code",
      "source": [
        "class Insaan(Manav):\n",
        "\n",
        "  def __init__(self):\n",
        "     super().__init__()\n",
        "     pass\n"
      ],
      "metadata": {
        "id": "qQbrvT5m3-V4"
      },
      "execution_count": null,
      "outputs": []
    },
    {
      "cell_type": "code",
      "source": [
        "p2=Insaan()\n",
        "p2._age=23\n",
        "print(p2.name,p2._age)\n",
        "p2.__Gender=\"Female\"\n",
        "p2.GetGender()"
      ],
      "metadata": {
        "colab": {
          "base_uri": "https://localhost:8080/"
        },
        "id": "itHcXx5J4g86",
        "outputId": "0db19549-4e70-40b2-beb4-58ed126631f3"
      },
      "execution_count": null,
      "outputs": [
        {
          "output_type": "stream",
          "name": "stdout",
          "text": [
            "Ankit 23\n",
            "Male\n",
            "Hello Good Morning\n"
          ]
        }
      ]
    },
    {
      "cell_type": "code",
      "source": [
        "#iterator\n",
        "\n",
        "pricelist=(1200,2300,6700,5600,4500,12500)\n",
        "\n",
        "myiter=iter(pricelist)"
      ],
      "metadata": {
        "id": "yLvDCZlAi65h"
      },
      "execution_count": null,
      "outputs": []
    },
    {
      "cell_type": "code",
      "source": [
        "print(next(myiter))\n",
        "\n"
      ],
      "metadata": {
        "colab": {
          "base_uri": "https://localhost:8080/"
        },
        "id": "HS32VZAnjPkO",
        "outputId": "1ca4bc95-2d2f-4aef-cda6-efda47a6d5d6"
      },
      "execution_count": null,
      "outputs": [
        {
          "output_type": "stream",
          "name": "stdout",
          "text": [
            "1200\n"
          ]
        }
      ]
    },
    {
      "cell_type": "code",
      "source": [
        "class MySequence:\n",
        "  def __iter__(self):\n",
        "    self.a = 101\n",
        "    return self\n",
        "\n",
        "  def __next__(self):\n",
        "    x = self.a\n",
        "    self.a += 1\n",
        "    return x"
      ],
      "metadata": {
        "id": "LASsyDI1kZQ-"
      },
      "execution_count": null,
      "outputs": []
    },
    {
      "cell_type": "code",
      "source": [
        "myseq=MySequence()\n",
        "miter=iter(myseq)"
      ],
      "metadata": {
        "id": "_2vXhUUvkr8G"
      },
      "execution_count": null,
      "outputs": []
    },
    {
      "cell_type": "code",
      "source": [
        "for i in range(1,10,1):\n",
        "  print(next(miter))\n",
        "\n",
        "\n"
      ],
      "metadata": {
        "colab": {
          "base_uri": "https://localhost:8080/"
        },
        "id": "QlqIi4f6kWDY",
        "outputId": "ae690a60-acd6-498a-d6df-a72aa71869c3"
      },
      "execution_count": null,
      "outputs": [
        {
          "output_type": "stream",
          "name": "stdout",
          "text": [
            "108\n",
            "109\n",
            "110\n",
            "111\n",
            "112\n",
            "113\n",
            "114\n",
            "115\n",
            "116\n"
          ]
        }
      ]
    },
    {
      "cell_type": "code",
      "source": [
        "#lambda Function\n",
        "x=lambda a,b:a if a>b else b\n",
        "\n",
        "add = lambda a,b,c: a+b+c"
      ],
      "metadata": {
        "id": "et5zD_DejBH_"
      },
      "execution_count": null,
      "outputs": []
    },
    {
      "cell_type": "code",
      "source": [
        "print(add(8,9,7))"
      ],
      "metadata": {
        "colab": {
          "base_uri": "https://localhost:8080/"
        },
        "id": "GDXyeK8IjwL3",
        "outputId": "d72fedce-a787-47d8-87a0-1e26b05d4ebc"
      },
      "execution_count": null,
      "outputs": [
        {
          "output_type": "stream",
          "name": "stdout",
          "text": [
            "24\n"
          ]
        }
      ]
    },
    {
      "cell_type": "code",
      "source": [
        "print(x(67,87))"
      ],
      "metadata": {
        "colab": {
          "base_uri": "https://localhost:8080/"
        },
        "id": "VujgoWVbjX3l",
        "outputId": "ea49a951-2788-4397-eeb7-ccd642e82095"
      },
      "execution_count": null,
      "outputs": [
        {
          "output_type": "stream",
          "name": "stdout",
          "text": [
            "87\n"
          ]
        }
      ]
    },
    {
      "cell_type": "code",
      "source": [
        "def multiplier(n):\n",
        "  if n>0:\n",
        "    return lambda a:n*a\n",
        "  else:\n",
        "    pass\n"
      ],
      "metadata": {
        "id": "u_WQWBq5kJaU"
      },
      "execution_count": null,
      "outputs": []
    },
    {
      "cell_type": "code",
      "source": [
        "r=multiplier(100)\n",
        "y=r(2)\n",
        "print(y)\n"
      ],
      "metadata": {
        "colab": {
          "base_uri": "https://localhost:8080/"
        },
        "id": "agsTbmY2k-wd",
        "outputId": "943f9799-5b98-4238-ed8b-efdfa55753fc"
      },
      "execution_count": null,
      "outputs": [
        {
          "output_type": "stream",
          "name": "stdout",
          "text": [
            "200\n"
          ]
        }
      ]
    },
    {
      "cell_type": "code",
      "source": [
        "c=lambda n:n**3"
      ],
      "metadata": {
        "id": "dosFEWDvl3o7"
      },
      "execution_count": null,
      "outputs": []
    },
    {
      "cell_type": "code",
      "source": [
        "r=c(100)\n",
        "print(r)"
      ],
      "metadata": {
        "colab": {
          "base_uri": "https://localhost:8080/"
        },
        "id": "BLU2_vifmT_L",
        "outputId": "7de7945b-e3e2-45ed-afe9-039c4a1e09e6"
      },
      "execution_count": null,
      "outputs": [
        {
          "output_type": "stream",
          "name": "stdout",
          "text": [
            "1000000\n"
          ]
        }
      ]
    },
    {
      "cell_type": "code",
      "source": [
        "textupper=lambda str:str.upper()"
      ],
      "metadata": {
        "id": "LwqRCay3mcCq"
      },
      "execution_count": null,
      "outputs": []
    },
    {
      "cell_type": "code",
      "source": [
        "textupper(\"manan\")\n"
      ],
      "metadata": {
        "colab": {
          "base_uri": "https://localhost:8080/",
          "height": 36
        },
        "id": "MPQOjgUUnG6r",
        "outputId": "3c2dddc9-c8f4-458c-8492-12f762c32c02"
      },
      "execution_count": null,
      "outputs": [
        {
          "output_type": "execute_result",
          "data": {
            "text/plain": [
              "'MANAN'"
            ],
            "application/vnd.google.colaboratory.intrinsic+json": {
              "type": "string"
            }
          },
          "metadata": {},
          "execution_count": 18
        }
      ]
    },
    {
      "cell_type": "code",
      "source": [
        "def Fullname(fname,lname):\n",
        "  fn=fname+\" \"+lname\n",
        "  s=lambda fn:fn.upper()\n",
        "  print(s)\n"
      ],
      "metadata": {
        "id": "dXBHvm5unUES"
      },
      "execution_count": null,
      "outputs": []
    },
    {
      "cell_type": "code",
      "source": [
        "Fullname(\"Manan\",\"sethi\")"
      ],
      "metadata": {
        "colab": {
          "base_uri": "https://localhost:8080/"
        },
        "id": "YwuammeUoH3D",
        "outputId": "e3d6fe04-1ce3-4cae-ea1c-b11fb6a8bf62"
      },
      "execution_count": null,
      "outputs": [
        {
          "output_type": "stream",
          "name": "stdout",
          "text": [
            "<function Fullname.<locals>.<lambda> at 0x7caa70718040>\n"
          ]
        }
      ]
    },
    {
      "cell_type": "code",
      "source": [
        "class Vehicle:\n",
        "  def __init__(self, brand, model):\n",
        "    self.brand = brand\n",
        "    self.model = model\n",
        "\n",
        "  def move(self):\n",
        "    print(\"Move!\")\n",
        "\n",
        "class Car(Vehicle):\n",
        "  pass\n",
        "\n",
        "class Boat(Vehicle):\n",
        "  def move(self):\n",
        "    print(\"Sail!\")\n",
        "\n",
        "class Plane(Vehicle):\n",
        "  def move(self):\n",
        "    print(\"Fly!\")\n",
        "\n",
        "class Bike(Vehicle):\n",
        "  def move(self):\n",
        "    print(\"Ride !\")\n",
        "\n",
        "car1 = Car(\"Ford\", \"Mustang\") #Create a Car object\n",
        "boat1 = Boat(\"Ibiza\", \"Touring 20\") #Create a Boat object\n",
        "plane1 = Plane(\"Boeing Jet\", \"747\") #Create a Plane object\n",
        "bike1=Bike(\"Royal Feild\",\"hunter350\")\n",
        "\n",
        "for x in (car1, boat1, plane1,bike1):\n",
        "  print(x.brand)\n",
        "  print(x.model)\n",
        "  x.move()"
      ],
      "metadata": {
        "colab": {
          "base_uri": "https://localhost:8080/"
        },
        "id": "1LvtXigKtl6L",
        "outputId": "24cd662e-afc8-4f64-cf77-3658a841884d"
      },
      "execution_count": null,
      "outputs": [
        {
          "output_type": "stream",
          "name": "stdout",
          "text": [
            "Ford\n",
            "Mustang\n",
            "Move!\n",
            "Ibiza\n",
            "Touring 20\n",
            "Sail!\n",
            "Boeing Jet\n",
            "747\n",
            "Fly!\n",
            "Royal Feild\n",
            "hunter350\n",
            "Ride !\n"
          ]
        }
      ]
    },
    {
      "cell_type": "code",
      "source": [
        "import datetime as dt\n",
        "import os\n",
        "\n",
        "x = dt.datetime.now()\n",
        "\n",
        "print(x)\n"
      ],
      "metadata": {
        "colab": {
          "base_uri": "https://localhost:8080/"
        },
        "id": "n2hvTIpf44jp",
        "outputId": "cd17fb55-7672-4afa-860d-21ba4a0b1a4a"
      },
      "execution_count": null,
      "outputs": [
        {
          "output_type": "stream",
          "name": "stdout",
          "text": [
            "2024-03-14 07:21:53.805607\n"
          ]
        }
      ]
    },
    {
      "cell_type": "code",
      "source": [
        "# prompt: datetime methods\n",
        "\n",
        "import datetime\n",
        "\n",
        "# Current date and time\n",
        "now = datetime.datetime.now()\n",
        "# Print date\n",
        "print(\"Current date:\")\n",
        "print(now.date())"
      ],
      "metadata": {
        "colab": {
          "base_uri": "https://localhost:8080/"
        },
        "id": "jxIye2A314gc",
        "outputId": "0a5adb18-d1e9-4be9-b793-d92cda3117ca"
      },
      "execution_count": null,
      "outputs": [
        {
          "output_type": "stream",
          "name": "stdout",
          "text": [
            "Current date:\n",
            "2024-03-15\n"
          ]
        }
      ]
    },
    {
      "cell_type": "code",
      "source": [
        "now = datetime.datetime.now()\n",
        "# Print date\n",
        "print(\"Current date:\")\n",
        "print(now.time())"
      ],
      "metadata": {
        "colab": {
          "base_uri": "https://localhost:8080/"
        },
        "id": "MRjybOzc17Yr",
        "outputId": "17c2dda8-d9fb-4638-c241-061b49a363f4"
      },
      "execution_count": null,
      "outputs": [
        {
          "output_type": "stream",
          "name": "stdout",
          "text": [
            "Current date:\n",
            "07:23:28.223047\n"
          ]
        }
      ]
    },
    {
      "cell_type": "code",
      "source": [
        "\n",
        "# Print current date and time\n",
        "print(\"Current date and time:\")\n",
        "print(now.strftime(\"%Y-%m-%d %H:%M:%S\"))"
      ],
      "metadata": {
        "colab": {
          "base_uri": "https://localhost:8080/"
        },
        "id": "ufEmzNWO2MAj",
        "outputId": "67c2c9a4-5d00-4750-93ff-bdc6f2371371"
      },
      "execution_count": null,
      "outputs": [
        {
          "output_type": "stream",
          "name": "stdout",
          "text": [
            "Current date and time:\n",
            "2024-03-14 07:23:28\n"
          ]
        }
      ]
    },
    {
      "cell_type": "code",
      "source": [
        "\n",
        "# Print year\n",
        "print(\"Current year:\")\n",
        "print(now.year)\n"
      ],
      "metadata": {
        "colab": {
          "base_uri": "https://localhost:8080/"
        },
        "id": "Xg0MgM6N2YIo",
        "outputId": "a4e8372c-7575-4606-fc3e-a9cf68adc9e8"
      },
      "execution_count": null,
      "outputs": [
        {
          "output_type": "stream",
          "name": "stdout",
          "text": [
            "Current year:\n",
            "2024\n"
          ]
        }
      ]
    },
    {
      "cell_type": "code",
      "source": [
        "\n",
        "# Print year\n",
        "print(\"Current month:\")\n",
        "print(now.month)\n"
      ],
      "metadata": {
        "colab": {
          "base_uri": "https://localhost:8080/"
        },
        "id": "uj87g2Xw2a7Q",
        "outputId": "7b9f5fec-6181-42ed-f14b-1585185c9e71"
      },
      "execution_count": null,
      "outputs": [
        {
          "output_type": "stream",
          "name": "stdout",
          "text": [
            "Current year:\n",
            "3\n"
          ]
        }
      ]
    },
    {
      "cell_type": "code",
      "source": [
        "\n",
        "# Print year\n",
        "print(\"Current day:\")\n",
        "print(now.day)\n"
      ],
      "metadata": {
        "colab": {
          "base_uri": "https://localhost:8080/"
        },
        "id": "wg_PzmJf2iGB",
        "outputId": "b387c040-b68f-48b1-e481-2acdabf7b9a2"
      },
      "execution_count": null,
      "outputs": [
        {
          "output_type": "stream",
          "name": "stdout",
          "text": [
            "Current day:\n",
            "14\n"
          ]
        }
      ]
    },
    {
      "cell_type": "code",
      "source": [
        "\n",
        "# Create a datetime object from a specific date and time\n",
        "date_time = datetime.datetime(2024, 3, 14, 12, 56, 45)\n",
        "\n",
        "# Print the datetime object\n",
        "print(\"Specific date and time:\")\n",
        "print(date_time)\n",
        "\n",
        "# Print the year\n",
        "print(\"Year:\")\n",
        "print(date_time.year)\n",
        "\n",
        "# Print the month\n",
        "print(\"Month:\")\n",
        "print(date_time.month)\n",
        "\n",
        "# Print the day\n",
        "print(\"Day:\")\n",
        "print(date_time.day)\n",
        "\n",
        "# Print the hour\n",
        "print(\"Hour:\")\n",
        "print(date_time.hour)\n",
        "\n",
        "# Print the minute\n",
        "print(\"Minute:\")\n",
        "print(date_time.minute)\n",
        "\n",
        "# Print the second\n",
        "print(\"Second:\")\n",
        "print(date_time.second)\n",
        "\n",
        "# Print the microsecond\n",
        "print(\"Microsecond:\")\n",
        "print(date_time.microsecond)"
      ],
      "metadata": {
        "colab": {
          "base_uri": "https://localhost:8080/"
        },
        "id": "tnNan59k27IJ",
        "outputId": "8c58bc25-1503-4429-fda4-9002416546f0"
      },
      "execution_count": null,
      "outputs": [
        {
          "output_type": "stream",
          "name": "stdout",
          "text": [
            "Specific date and time:\n",
            "2024-03-14 12:56:45\n",
            "Year:\n",
            "2024\n",
            "Month:\n",
            "3\n",
            "Day:\n",
            "14\n",
            "Hour:\n",
            "12\n",
            "Minute:\n",
            "56\n",
            "Second:\n",
            "45\n",
            "Microsecond:\n",
            "0\n"
          ]
        }
      ]
    },
    {
      "cell_type": "code",
      "source": [
        "# prompt: datetime methods\n",
        "\n",
        "import datetime\n",
        "\n",
        "# Current date and time\n",
        "now = datetime.datetime.now()\n",
        "# Print date\n",
        "print(\"Current date:\")\n",
        "print(now.date())\n",
        "\n",
        "# Print time\n",
        "print(\"Current time:\")\n",
        "print(now.time())\n",
        "\n",
        "\n",
        "# Print current date and time\n",
        "print(\"Current date and time:\")\n",
        "print(now.strftime(\"%Y-%m-%d %H:%M:%S\"))\n",
        "\n",
        "# Print year\n",
        "print(\"Current year:\")\n",
        "print(now.year)\n",
        "\n",
        "# Print month\n",
        "print(\"Current month:\")\n",
        "print(now.month)\n",
        "\n",
        "# Print day\n",
        "print(\"Current day:\")\n",
        "print(now.day)\n",
        "\n",
        "# Print hour\n",
        "print(\"Current hour:\")\n",
        "print(now.hour)\n",
        "\n",
        "# Print minute\n",
        "print(\"Current minute:\")\n",
        "print(now.minute)\n",
        "\n",
        "# Print second\n",
        "print(\"Current second:\")\n",
        "print(now.second)\n",
        "\n",
        "# Print microsecond\n",
        "print(\"Current microsecond:\")\n",
        "print(now.microsecond)\n",
        "\n",
        "# Print timezone\n",
        "print(\"Current timezone:\")\n",
        "print(now.tzinfo)\n",
        "\n",
        "# Create a datetime object from a specific date and time\n",
        "date_time = datetime.datetime(2024, 3, 14, 12, 56, 45)\n",
        "\n",
        "# Print the datetime object\n",
        "print(\"Specific date and time:\")\n",
        "print(date_time)\n",
        "\n",
        "# Print the year\n",
        "print(\"Year:\")\n",
        "print(date_time.year)\n",
        "\n",
        "# Print the month\n",
        "print(\"Month:\")\n",
        "print(date_time.month)\n",
        "\n",
        "# Print the day\n",
        "print(\"Day:\")\n",
        "print(date_time.day)\n",
        "\n",
        "# Print the hour\n",
        "print(\"Hour:\")\n",
        "print(date_time.hour)\n",
        "\n",
        "# Print the minute\n",
        "print(\"Minute:\")\n",
        "print(date_time.minute)\n",
        "\n",
        "# Print the second\n",
        "print(\"Second:\")\n",
        "print(date_time.second)\n",
        "\n",
        "# Print the microsecond\n",
        "print(\"Microsecond:\")\n",
        "print(date_time.microsecond)\n",
        "\n",
        "# Print the timezone\n",
        "print(\"Timezone:\")\n",
        "print(date_time.tzinfo)\n",
        "\n",
        "# Create a datetime object from a timestamp\n",
        "timestamp = 16893790123\n",
        "\n",
        "date_time = datetime.datetime.fromtimestamp(timestamp)\n",
        "\n",
        "# Print the datetime object\n",
        "print(\"Timestamp:\")\n",
        "print(date_time)\n",
        "\n",
        "# Print the year\n",
        "print(\"Year:\")\n",
        "print(date_time.year)\n",
        "\n",
        "# Print the month\n",
        "print(\"Month:\")\n",
        "print(date_time.month)\n",
        "\n",
        "# Print the day\n",
        "print(\"Day:\")\n",
        "print(date_time.day)\n",
        "\n",
        "# Print the hour\n",
        "print(\"Hour:\")\n",
        "print(date_time.hour)\n",
        "\n",
        "# Print the minute\n",
        "print(\"Minute:\")\n",
        "print(date_time.minute)\n",
        "\n",
        "# Print the second\n",
        "print(\"Second:\")\n",
        "print(date_time.second)\n",
        "\n",
        "# Print the microsecond\n",
        "print(\"Microsecond:\")\n",
        "print(date_time.microsecond)\n",
        "\n",
        "# Print the timezone\n",
        "print(\"Timezone:\")\n",
        "print(date_time.tzinfo)\n"
      ],
      "metadata": {
        "colab": {
          "base_uri": "https://localhost:8080/"
        },
        "id": "6eKFBPN39nCv",
        "outputId": "94012552-f98d-4821-8673-74ef95d23b90"
      },
      "execution_count": null,
      "outputs": [
        {
          "output_type": "stream",
          "name": "stdout",
          "text": [
            "Current date:\n",
            "2024-03-14\n",
            "Current time:\n",
            "07:29:23.003677\n",
            "Current date and time:\n",
            "2024-03-14 07:29:23\n",
            "Current year:\n",
            "2024\n",
            "Current month:\n",
            "3\n",
            "Current day:\n",
            "14\n",
            "Current hour:\n",
            "7\n",
            "Current minute:\n",
            "29\n",
            "Current second:\n",
            "23\n",
            "Current microsecond:\n",
            "3677\n",
            "Current timezone:\n",
            "None\n",
            "Specific date and time:\n",
            "2024-03-14 12:56:45\n",
            "Year:\n",
            "2024\n",
            "Month:\n",
            "3\n",
            "Day:\n",
            "14\n",
            "Hour:\n",
            "12\n",
            "Minute:\n",
            "56\n",
            "Second:\n",
            "45\n",
            "Microsecond:\n",
            "0\n",
            "Timezone:\n",
            "None\n",
            "Timestamp:\n",
            "2505-05-05 23:28:43\n",
            "Year:\n",
            "2505\n",
            "Month:\n",
            "5\n",
            "Day:\n",
            "5\n",
            "Hour:\n",
            "23\n",
            "Minute:\n",
            "28\n",
            "Second:\n",
            "43\n",
            "Microsecond:\n",
            "0\n",
            "Timezone:\n",
            "None\n"
          ]
        }
      ]
    },
    {
      "cell_type": "code",
      "source": [
        "# prompt: random methods\n",
        "\n",
        "import random as r\n",
        "#randint\n",
        "print(r.randint(100,200))\n",
        "#random\n",
        "print(r.random())\n",
        "#uniform\n",
        "print(r.uniform(100,200))\n",
        "#randrange\n",
        "print(r.randrange(100,200,2))\n",
        "#choice\n",
        "list1=[12,34,56,78,90,100]\n",
        "print(r.choice(list1))\n",
        "#sample\n",
        "print(r.sample(list1,4))\n",
        "#shuffle\n",
        "r.shuffle(list1)\n",
        "print(list1)\n",
        "#seed\n",
        "r.seed(10)\n",
        "print(r.random())\n"
      ],
      "metadata": {
        "colab": {
          "base_uri": "https://localhost:8080/"
        },
        "id": "kfmGrQpS-wtN",
        "outputId": "b78153aa-7a74-4d11-9786-d39c7ded8c95"
      },
      "execution_count": null,
      "outputs": [
        {
          "output_type": "stream",
          "name": "stdout",
          "text": [
            "161\n",
            "0.5780913011344704\n",
            "120.60982321395016\n",
            "162\n",
            "56\n",
            "[100, 34, 12, 56]\n",
            "[90, 34, 100, 12, 56, 78]\n",
            "0.5714025946899135\n"
          ]
        }
      ]
    },
    {
      "cell_type": "code",
      "source": [
        "\n",
        "import random as r\n",
        "#randint\n",
        "print(r.randint(1,200))"
      ],
      "metadata": {
        "colab": {
          "base_uri": "https://localhost:8080/"
        },
        "id": "7vGwhwuH7QDB",
        "outputId": "b06a3f84-cb78-455f-85c8-6f3b8f55bb55"
      },
      "execution_count": null,
      "outputs": [
        {
          "output_type": "stream",
          "name": "stdout",
          "text": [
            "40\n"
          ]
        }
      ]
    },
    {
      "cell_type": "code",
      "source": [
        "print(r.random())\n"
      ],
      "metadata": {
        "colab": {
          "base_uri": "https://localhost:8080/"
        },
        "id": "Mzbz5bv27fph",
        "outputId": "38ebe4bc-eba7-42a2-a9d0-491a601c3f76"
      },
      "execution_count": null,
      "outputs": [
        {
          "output_type": "stream",
          "name": "stdout",
          "text": [
            "0.9683530690236697\n"
          ]
        }
      ]
    },
    {
      "cell_type": "code",
      "source": [
        "print(r.uniform(100,200))"
      ],
      "metadata": {
        "colab": {
          "base_uri": "https://localhost:8080/"
        },
        "id": "M8-mo8vV7pGn",
        "outputId": "6d12ec15-f3ae-48d6-9cb7-71ca2f259d84"
      },
      "execution_count": null,
      "outputs": [
        {
          "output_type": "stream",
          "name": "stdout",
          "text": [
            "128.3560047677924\n"
          ]
        }
      ]
    },
    {
      "cell_type": "code",
      "source": [
        "print(r.randrange(1,200,2))"
      ],
      "metadata": {
        "colab": {
          "base_uri": "https://localhost:8080/"
        },
        "id": "h2nSYnqk70qH",
        "outputId": "21b3cfb2-2a91-48d9-d098-913fa218824b"
      },
      "execution_count": null,
      "outputs": [
        {
          "output_type": "stream",
          "name": "stdout",
          "text": [
            "197\n"
          ]
        }
      ]
    },
    {
      "cell_type": "code",
      "source": [
        "list1=[12,34,56,78,90,100,77,99,55,43]\n",
        "print(r.choice(list1))"
      ],
      "metadata": {
        "colab": {
          "base_uri": "https://localhost:8080/"
        },
        "id": "_ZfTi5-C8O8i",
        "outputId": "50c50531-8bff-42f5-9198-fa4d32c0ae81"
      },
      "execution_count": null,
      "outputs": [
        {
          "output_type": "stream",
          "name": "stdout",
          "text": [
            "99\n"
          ]
        }
      ]
    },
    {
      "cell_type": "code",
      "source": [
        "print(r.sample(list1,4))"
      ],
      "metadata": {
        "colab": {
          "base_uri": "https://localhost:8080/"
        },
        "id": "DKMUtR3t81jP",
        "outputId": "7e5f3931-90e5-4df6-ec4c-d199ca7e6890"
      },
      "execution_count": null,
      "outputs": [
        {
          "output_type": "stream",
          "name": "stdout",
          "text": [
            "[34, 90, 77, 12]\n"
          ]
        }
      ]
    },
    {
      "cell_type": "code",
      "source": [
        "list2=[9,7,4,5,3]\n",
        "\n",
        "r.shuffle(list2)\n",
        "print(list2)\n",
        "\n"
      ],
      "metadata": {
        "colab": {
          "base_uri": "https://localhost:8080/"
        },
        "id": "Fa-5PZC69JtP",
        "outputId": "03f4ae15-a90f-4834-d6b3-1e158c59a01e"
      },
      "execution_count": null,
      "outputs": [
        {
          "output_type": "stream",
          "name": "stdout",
          "text": [
            "[9, 3, 7, 5, 4]\n"
          ]
        }
      ]
    },
    {
      "cell_type": "code",
      "source": [
        "# prompt: try except in python\n",
        "\n",
        "try:\n",
        "    # Code that may raise an exception\n",
        "    x = 100/'y'\n",
        "except ZeroDivisionError:\n",
        "    # Code to handle the exception\n",
        "    print(\"Division by zero is not allowed\")\n",
        "except:\n",
        "    # Code to handle any other exception\n",
        "    print(\"An unexpected error occurred\")\n",
        "else:\n",
        "    # Code to execute if no exception is raised\n",
        "    print(\"The code executed successfully\",x)\n",
        "finally:\n",
        "    # Code to execute regardless of whether an exception is raised or not\n",
        "    print(\"This code will always be executed\")\n"
      ],
      "metadata": {
        "id": "9tx1ux_h_Dad",
        "colab": {
          "base_uri": "https://localhost:8080/"
        },
        "outputId": "54edfc79-f624-4ded-becb-aa000a3bf0ee"
      },
      "execution_count": null,
      "outputs": [
        {
          "output_type": "stream",
          "name": "stdout",
          "text": [
            "An unexpected error occurred\n",
            "This code will always be executed\n"
          ]
        }
      ]
    },
    {
      "cell_type": "code",
      "source": [
        "try:\n",
        "  x=100/8\n",
        "\n",
        "except:\n",
        "  print(\"Zero Division Error\")\n",
        "else:\n",
        "  print(x)\n",
        "print(\"Hello Python\")"
      ],
      "metadata": {
        "colab": {
          "base_uri": "https://localhost:8080/"
        },
        "id": "fIDJ-E3DuXLk",
        "outputId": "993c7360-d7ed-41c8-8003-c044ebb82a71"
      },
      "execution_count": null,
      "outputs": [
        {
          "output_type": "stream",
          "name": "stdout",
          "text": [
            "12.5\n",
            "Hello Python\n"
          ]
        }
      ]
    },
    {
      "cell_type": "code",
      "source": [
        "try:\n",
        "  print(y)\n",
        "except:\n",
        "  print(\"Name error\")\n",
        "print(\"Hello parth\")"
      ],
      "metadata": {
        "colab": {
          "base_uri": "https://localhost:8080/"
        },
        "id": "37j5bHFvvwPZ",
        "outputId": "180e1249-377d-4694-a6dd-2a488d1aaf10"
      },
      "execution_count": null,
      "outputs": [
        {
          "output_type": "stream",
          "name": "stdout",
          "text": [
            "Name error\n",
            "Hello parth\n"
          ]
        }
      ]
    },
    {
      "cell_type": "code",
      "source": [
        "try:\n",
        "  x=100/0\n",
        "\n",
        "except:\n",
        "  print(\"Zero Division error\")\n",
        "else:\n",
        "  print(\"result \",x)\n",
        "\n",
        "\n",
        "print(\"Hello Kamal\")"
      ],
      "metadata": {
        "colab": {
          "base_uri": "https://localhost:8080/"
        },
        "id": "r0RKhl2KImHG",
        "outputId": "ffbc17f9-5c65-4ac2-d3f4-486924502b79"
      },
      "execution_count": null,
      "outputs": [
        {
          "output_type": "stream",
          "name": "stdout",
          "text": [
            "Zero Division error\n",
            "Hello Kamal\n"
          ]
        }
      ]
    },
    {
      "cell_type": "code",
      "source": [
        "k=\"Hello Kamal\"\n",
        "try:\n",
        "  print(k)\n",
        "except:\n",
        "  print(\"Variable not Defined\")"
      ],
      "metadata": {
        "colab": {
          "base_uri": "https://localhost:8080/"
        },
        "id": "o584aRDtJmHc",
        "outputId": "232c22b3-4f6a-4824-90af-c01e4fe82a30"
      },
      "execution_count": null,
      "outputs": [
        {
          "output_type": "stream",
          "name": "stdout",
          "text": [
            "Hello Kamal\n"
          ]
        }
      ]
    },
    {
      "cell_type": "code",
      "source": [
        "l=[77,88,99,44]\n",
        "try:\n",
        "  print(l[3])\n",
        "except:\n",
        "  print(\"Out of Range index\")"
      ],
      "metadata": {
        "colab": {
          "base_uri": "https://localhost:8080/"
        },
        "id": "lrNY4_EAKKFr",
        "outputId": "56c99457-1d11-4e8c-a172-e083fa585d10"
      },
      "execution_count": null,
      "outputs": [
        {
          "output_type": "stream",
          "name": "stdout",
          "text": [
            "44\n"
          ]
        }
      ]
    },
    {
      "cell_type": "code",
      "source": [
        "# AssertionError with error_message.\n",
        "x = 10\n",
        "y = 0\n",
        "assert y != 0, \"Invalid\" # denominator can't be 0\n",
        "print(x / y)\n"
      ],
      "metadata": {
        "colab": {
          "base_uri": "https://localhost:8080/",
          "height": 193
        },
        "id": "vphlil980GvA",
        "outputId": "3edd18e4-85ce-4385-ce56-51ffec870cd5"
      },
      "execution_count": null,
      "outputs": [
        {
          "output_type": "error",
          "ename": "AssertionError",
          "evalue": "Invalid",
          "traceback": [
            "\u001b[0;31m---------------------------------------------------------------------------\u001b[0m",
            "\u001b[0;31mAssertionError\u001b[0m                            Traceback (most recent call last)",
            "\u001b[0;32m<ipython-input-14-eb98a6f8c5e0>\u001b[0m in \u001b[0;36m<cell line: 4>\u001b[0;34m()\u001b[0m\n\u001b[1;32m      2\u001b[0m \u001b[0mx\u001b[0m \u001b[0;34m=\u001b[0m \u001b[0;36m10\u001b[0m\u001b[0;34m\u001b[0m\u001b[0;34m\u001b[0m\u001b[0m\n\u001b[1;32m      3\u001b[0m \u001b[0my\u001b[0m \u001b[0;34m=\u001b[0m \u001b[0;36m0\u001b[0m\u001b[0;34m\u001b[0m\u001b[0;34m\u001b[0m\u001b[0m\n\u001b[0;32m----> 4\u001b[0;31m \u001b[0;32massert\u001b[0m \u001b[0my\u001b[0m \u001b[0;34m!=\u001b[0m \u001b[0;36m0\u001b[0m\u001b[0;34m,\u001b[0m \u001b[0;34m\"Invalid\"\u001b[0m \u001b[0;31m# denominator can't be 0\u001b[0m\u001b[0;34m\u001b[0m\u001b[0;34m\u001b[0m\u001b[0m\n\u001b[0m\u001b[1;32m      5\u001b[0m \u001b[0mprint\u001b[0m\u001b[0;34m(\u001b[0m\u001b[0mx\u001b[0m \u001b[0;34m/\u001b[0m \u001b[0my\u001b[0m\u001b[0;34m)\u001b[0m\u001b[0;34m\u001b[0m\u001b[0;34m\u001b[0m\u001b[0m\n",
            "\u001b[0;31mAssertionError\u001b[0m: Invalid"
          ]
        }
      ]
    },
    {
      "cell_type": "code",
      "source": [
        "# Roots of a quadratic equation\n",
        "import math\n",
        "def Findroot(a, b, c):\n",
        "\ttry:\n",
        "\t\tassert a != 0, \"Not a quadratic equation as coefficient of x ^ 2 can't be 0\"\n",
        "\t\tD = (b * b - 4 * a*c)\n",
        "\t\tassert D>= 0, \"Roots are imaginary\"\n",
        "\t\tr1 = (-b + math.sqrt(D))/(2 * a)\n",
        "\t\tr2 = (-b - math.sqrt(D))/(2 * a)\n",
        "\t\tprint(\"Roots of the quadratic equation are :\", r1, \"\", r2)\n",
        "\texcept AssertionError as msg:\n",
        "\t\tprint(msg)\n",
        "\n",
        "\n",
        "Findroot(-1, 5, -6)\n",
        "Findroot(1, 1, 6)\n",
        "Findroot(2, 12, 18)\n"
      ],
      "metadata": {
        "colab": {
          "base_uri": "https://localhost:8080/"
        },
        "id": "i3w7qBN106bf",
        "outputId": "6314c242-6daa-4558-bd83-806467071ea2"
      },
      "execution_count": null,
      "outputs": [
        {
          "output_type": "stream",
          "name": "stdout",
          "text": [
            "Roots of the quadratic equation are : 2.0  3.0\n",
            "Roots are imaginary\n",
            "Roots of the quadratic equation are : -3.0  -3.0\n"
          ]
        }
      ]
    },
    {
      "cell_type": "code",
      "source": [],
      "metadata": {
        "id": "Ht0eB5bAJURl"
      },
      "execution_count": null,
      "outputs": []
    },
    {
      "cell_type": "code",
      "source": [
        "# prompt: try except\n",
        "\n",
        "try:\n",
        "  x = 1 / 0\n",
        "except ZeroDivisionError:\n",
        "  print(\"Division by zero is not allowed\")\n",
        "else:\n",
        "  print(\"The code executed successfully\")\n",
        "finally:\n",
        "  print(\"This code will always be executed\")\n"
      ],
      "metadata": {
        "id": "VXQzrpwP_N7u"
      },
      "execution_count": null,
      "outputs": []
    },
    {
      "cell_type": "code",
      "source": [
        "# prompt: python RegEx\n",
        "\n",
        "import re\n",
        "\n",
        "# Create a regular expression object to match strings that start with 'a' and end with 'c'\n",
        "pattern = re.compile(r'^a.*c$')\n",
        "\n",
        "# Test the pattern against different strings\n",
        "print(pattern.match('abc'))  # Match\n",
        "print(pattern.match('abcd'))  # Match\n",
        "print(pattern.match('bac'))  # No match\n",
        "print(pattern.match('ab'))  # No match\n",
        "\n",
        "# Create a regular expression object to match strings that contain the word 'python'\n",
        "pattern = re.compile(r'.*python.*')\n",
        "\n",
        "# Test the pattern against different strings\n",
        "print(pattern.match('I love python'))  # Match\n",
        "print(pattern.match('python is easy'))  # Match\n",
        "print(pattern.match('I hate java'))  # No match\n",
        "\n",
        "# Create a regular expression object to match strings that contain either 'python' or 'java'\n",
        "pattern = re.compile(r'.*(python|java).*')\n",
        "\n",
        "# Test the pattern against different strings\n",
        "print(pattern.match('I love python'))  # Match\n",
        "print(pattern.match('java is easy'))  # Match\n",
        "print(pattern.match('I hate c++'))  # No match\n",
        "\n",
        "# Create a regular expression object to match strings that contain a digit\n",
        "pattern = re.compile(r'.*\\d.*')\n",
        "\n",
        "# Test the pattern against different strings\n",
        "print(pattern.match('I have 10 apples'))  # Match\n",
        "print(pattern.match('The price is $10'))  # Match\n",
        "print(pattern.match('I love python'))  # No match\n",
        "\n",
        "# Create a regular expression object to match strings that contain a word boundary followed by 'python'\n",
        "pattern = re.compile(r'\\bpython\\b')\n",
        "\n",
        "# Test the pattern against different strings\n",
        "print(pattern.match('I love python'))  # Match\n",
        "print(pattern.match('python is easy'))  # Match\n",
        "print(pattern.match('pythonpython'))  # No match\n"
      ],
      "metadata": {
        "colab": {
          "base_uri": "https://localhost:8080/"
        },
        "id": "Bm3HuKq2AXVM",
        "outputId": "b2967903-4b08-4278-9766-2039abaa5faf"
      },
      "execution_count": null,
      "outputs": [
        {
          "output_type": "stream",
          "name": "stdout",
          "text": [
            "<re.Match object; span=(0, 3), match='abc'>\n",
            "None\n",
            "None\n",
            "None\n",
            "<re.Match object; span=(0, 13), match='I love python'>\n",
            "<re.Match object; span=(0, 14), match='python is easy'>\n",
            "None\n",
            "<re.Match object; span=(0, 13), match='I love python'>\n",
            "<re.Match object; span=(0, 12), match='java is easy'>\n",
            "None\n",
            "<re.Match object; span=(0, 16), match='I have 10 apples'>\n",
            "<re.Match object; span=(0, 16), match='The price is $10'>\n",
            "None\n",
            "None\n",
            "<re.Match object; span=(0, 6), match='python'>\n",
            "None\n"
          ]
        }
      ]
    },
    {
      "cell_type": "code",
      "source": [
        "# prompt: file handling in python\n",
        "\n",
        "# Open a file in read mode\n",
        "with open(\"my_file.txt\", \"r\") as f:\n",
        "    # Read the entire file content\n",
        "    contents = f.read()\n",
        "    # Print the content\n",
        "    print(contents)\n",
        "\n",
        "# Open a file in write mode\n",
        "with open(\"my_file.txt\", \"w\") as f:\n",
        "    # Write some text to the file\n",
        "    f.write(\"Hello, world!\")\n",
        "\n",
        "# Open a file in append mode\n",
        "with open(\"my_file.txt\", \"a\") as f:\n",
        "    # Append some text to the file\n",
        "    f.write(\"\\nThis is another line.\")\n",
        "\n",
        "# Open a file in binary mode\n",
        "with open(\"my_image.jpg\", \"rb\") as f:\n",
        "    # Read the binary data from the file\n",
        "    image_data = f.read()\n"
      ],
      "metadata": {
        "id": "K4zuM5w-mLgv"
      },
      "execution_count": null,
      "outputs": []
    },
    {
      "cell_type": "code",
      "source": [
        "!pip install Pandas\n"
      ],
      "metadata": {
        "colab": {
          "base_uri": "https://localhost:8080/"
        },
        "id": "ZKYphMDBmyk0",
        "outputId": "14076c4e-1d86-4505-bda9-d8adce9302cf"
      },
      "execution_count": null,
      "outputs": [
        {
          "output_type": "stream",
          "name": "stdout",
          "text": [
            "Requirement already satisfied: Pandas in /usr/local/lib/python3.10/dist-packages (1.5.3)\n",
            "Requirement already satisfied: python-dateutil>=2.8.1 in /usr/local/lib/python3.10/dist-packages (from Pandas) (2.8.2)\n",
            "Requirement already satisfied: pytz>=2020.1 in /usr/local/lib/python3.10/dist-packages (from Pandas) (2023.4)\n",
            "Requirement already satisfied: numpy>=1.21.0 in /usr/local/lib/python3.10/dist-packages (from Pandas) (1.25.2)\n",
            "Requirement already satisfied: six>=1.5 in /usr/local/lib/python3.10/dist-packages (from python-dateutil>=2.8.1->Pandas) (1.16.0)\n"
          ]
        }
      ]
    },
    {
      "cell_type": "code",
      "source": [
        "# Python 3  Map(), Filter(), Reduce(), Enumerator(),Zip()\n",
        "#map(fun_name,iterable)\n",
        "\n",
        "my_pets = ['alfred', 'tabitha', 'william', 'arla','Tomy',\"puppy\"]\n",
        "\n",
        "my_pets1 = list(map(str.upper, my_pets))\n",
        "\n",
        "print(my_pets1)"
      ],
      "metadata": {
        "colab": {
          "base_uri": "https://localhost:8080/"
        },
        "id": "QSwfPyxToIkT",
        "outputId": "07a9823a-cb64-4f3d-90b3-453e062f48e1"
      },
      "execution_count": null,
      "outputs": [
        {
          "output_type": "stream",
          "name": "stdout",
          "text": [
            "['ALFRED', 'TABITHA', 'WILLIAM', 'ARLA', 'TOMY', 'PUPPY']\n"
          ]
        }
      ]
    },
    {
      "cell_type": "code",
      "source": [
        "def votingAge(age):\n",
        "   # checking whether the number is greater than or equal to 18\n",
        "   if age>=18:\n",
        "    return age\n",
        "\n",
        "inputList = [3, 20, 18, 6, 14, 25, 19,88,99,56,45,13,12,17]\n",
        "result = list(filter(votingAge, inputList))\n",
        "\n",
        "print((result))"
      ],
      "metadata": {
        "colab": {
          "base_uri": "https://localhost:8080/"
        },
        "id": "0b2DfRdK34dk",
        "outputId": "6c932c7d-bb62-48b9-daae-838b0e78e17d"
      },
      "execution_count": null,
      "outputs": [
        {
          "output_type": "stream",
          "name": "stdout",
          "text": [
            "[20, 18, 25, 19, 88, 99, 56, 45]\n"
          ]
        }
      ]
    },
    {
      "cell_type": "code",
      "source": [
        "# prompt: filter function\n",
        "\n",
        "!pip install numpy\n"
      ],
      "metadata": {
        "id": "BR3XRkBg3J4e"
      },
      "execution_count": null,
      "outputs": []
    },
    {
      "cell_type": "code",
      "source": [
        "from functools import reduce\n",
        "# function that returns the sum of all list items\n",
        "def addNum(x, y):\n",
        "   return x+y\n",
        "# input list\n",
        "inputList = [12, 4, 10, 15, 6, 5,99,90,66,45,11,6,3,66,909,55,3232]\n",
        "# Print the sum of the list items using reduce() function\n",
        "print(\"The sum of all list items:\")\n",
        "res=reduce(addNum, inputList)\n",
        "print(res)"
      ],
      "metadata": {
        "colab": {
          "base_uri": "https://localhost:8080/"
        },
        "id": "D4KK1OiC4tfs",
        "outputId": "8551604f-7540-4b0f-9eba-9f425a3632cb"
      },
      "execution_count": null,
      "outputs": [
        {
          "output_type": "stream",
          "name": "stdout",
          "text": [
            "The sum of all list items:\n",
            "4634\n"
          ]
        }
      ]
    },
    {
      "cell_type": "code",
      "source": [
        "l1 = [\"eat\", \"sleep\", \"repeat\",\"read\",\"watch\"]\n",
        "s1 = \"MUKESH\"\n",
        "dir=[\"East\",\"west\",\"North\",\"South\",\"Up\",\"Down\"]\n",
        "print (\"Return type:\", type(l1),type(dir),type(s1))\n",
        "\n",
        "# creating enumerate objects\n",
        "obj1 = enumerate(l1)\n",
        "obj2 = enumerate(s1)\n",
        "\n",
        "print (\"Return type:\", type(obj1),type(obj2))\n",
        "\n",
        "\n",
        "print (list(enumerate(l1)))\n",
        "print (list(enumerate(l1))[2][1])\n",
        "\n",
        "\n",
        "# changing start index to 2 from 0\n",
        "#print(list(enumerate(s1,11)))\n",
        "\n",
        "#print(list(enumerate(dir)))\n"
      ],
      "metadata": {
        "colab": {
          "base_uri": "https://localhost:8080/"
        },
        "id": "faaOBuUQ5Tfc",
        "outputId": "81a01afa-bb4a-4ad8-aa8a-e84b02443617"
      },
      "execution_count": null,
      "outputs": [
        {
          "output_type": "stream",
          "name": "stdout",
          "text": [
            "Return type: <class 'list'> <class 'list'> <class 'str'>\n",
            "Return type: <class 'enumerate'> <class 'enumerate'>\n",
            "[(0, 'eat'), (1, 'sleep'), (2, 'repeat'), (3, 'read'), (4, 'watch')]\n",
            "repeat\n"
          ]
        }
      ]
    },
    {
      "cell_type": "code",
      "source": [
        "# create a list of names\n",
        "names = ['sravan', 'bobby', 'ojaswi', 'rohith', 'gnanesh']\n",
        "\n",
        "# create a list of subjects\n",
        "subjects = ['java', 'python', 'R', 'cpp', 'bigdata']\n",
        "\n",
        "# create a list of marks\n",
        "marks = [78, 100, 97, 89, 80]\n",
        "\n",
        "gender=['M','F','M','M','M']\n",
        "\n",
        "# use enumerate() and zip() function\n",
        "# to iterate the lists\n",
        "t=enumerate(zip(names, subjects, marks,gender))\n",
        "\n",
        "for i, (names, subjects, marks,gender) in t :\n",
        "\tprint(i, names, subjects, marks,gender)\n",
        "\n",
        "\n",
        "\n",
        "\n",
        "\n"
      ],
      "metadata": {
        "colab": {
          "base_uri": "https://localhost:8080/"
        },
        "id": "GPNCNlwE5unK",
        "outputId": "2ccfa018-3e65-4186-adab-0345ca489725"
      },
      "execution_count": null,
      "outputs": [
        {
          "output_type": "stream",
          "name": "stdout",
          "text": [
            "0 sravan java 78 M\n",
            "1 bobby python 100 F\n",
            "2 ojaswi R 97 M\n",
            "3 rohith cpp 89 M\n",
            "4 gnanesh bigdata 80 M\n"
          ]
        }
      ]
    },
    {
      "cell_type": "code",
      "source": [
        "# create a list of names\n",
        "names = ['sravan', 'bobby', 'ojaswi', 'rohith', 'gnanesh']\n",
        "\n",
        "# create a list of subjects\n",
        "subjects = ['java', 'python', 'R', 'cpp', 'bigdata']\n",
        "\n",
        "# create a list of marks\n",
        "marks = [78, 100, 97, 89, 80]\n",
        "gender=['M','F','M','M','M']\n",
        "\n",
        "# use enumerate() and zip() function\n",
        "# to iterate the lists with t function\n",
        "for i, t in enumerate(zip(names, subjects, marks,gender)):\n",
        "\tprint(i, t)\n"
      ],
      "metadata": {
        "colab": {
          "base_uri": "https://localhost:8080/"
        },
        "id": "QjgAW_DA53Xy",
        "outputId": "228a5022-a361-4bf6-b83f-bf1e6adfaa34"
      },
      "execution_count": null,
      "outputs": [
        {
          "output_type": "stream",
          "name": "stdout",
          "text": [
            "0 ('sravan', 'java', 78, 'M')\n",
            "1 ('bobby', 'python', 100, 'F')\n",
            "2 ('ojaswi', 'R', 97, 'M')\n",
            "3 ('rohith', 'cpp', 89, 'M')\n",
            "4 ('gnanesh', 'bigdata', 80, 'M')\n"
          ]
        }
      ]
    },
    {
      "cell_type": "code",
      "source": [
        "# create a list of names\n",
        "names = ['sravan', 'bobby', 'ojaswi', 'rohith', 'gnanesh']\n",
        "\n",
        "# create a list of subjects\n",
        "subjects = ['java', 'python', 'R', 'cpp', 'bigdata']\n",
        "\n",
        "# create a list of marks\n",
        "marks = [78, 100, 97, 89, 80]\n",
        "gender=['M','F','M','M','M']\n",
        "# use enumerate() and zip() function\n",
        "# to iterate the lists with t function\n",
        "zipfile=zip(names, subjects, marks,gender)\n",
        "\n",
        "st_marks_details=enumerate(zipfile)\n",
        "\n",
        "for i, t in st_marks_details :\n",
        "\tprint(i, t[0], t[1],t[2],t[3])\n"
      ],
      "metadata": {
        "colab": {
          "base_uri": "https://localhost:8080/"
        },
        "id": "n2oSw7LN56tz",
        "outputId": "df1f3cd1-6c9a-425d-c72a-430e0d77accf"
      },
      "execution_count": null,
      "outputs": [
        {
          "output_type": "stream",
          "name": "stdout",
          "text": [
            "0 sravan java 78 M\n",
            "1 bobby python 100 F\n",
            "2 ojaswi R 97 M\n",
            "3 rohith cpp 89 M\n",
            "4 gnanesh bigdata 80 M\n"
          ]
        }
      ]
    },
    {
      "cell_type": "code",
      "source": [
        "#eval()\n",
        "print('55+66-5')\n",
        "a=9\n",
        "p=2\n",
        "print(eval('55+66-5+a+p'))"
      ],
      "metadata": {
        "colab": {
          "base_uri": "https://localhost:8080/"
        },
        "id": "_FoGwKYwEJ2k",
        "outputId": "4d55c5fd-d179-4176-ddcb-df0a05fd7a19"
      },
      "execution_count": null,
      "outputs": [
        {
          "output_type": "stream",
          "name": "stdout",
          "text": [
            "55+66-5\n",
            "127\n"
          ]
        }
      ]
    },
    {
      "cell_type": "code",
      "source": [],
      "metadata": {
        "id": "8waAf-zjHkOz"
      },
      "execution_count": null,
      "outputs": []
    },
    {
      "cell_type": "code",
      "source": [
        "r=10.5\n",
        "r1=(eval('55+66-6+r'))\n",
        "print(r1,type(r1))"
      ],
      "metadata": {
        "colab": {
          "base_uri": "https://localhost:8080/"
        },
        "id": "teM4lsdJERxZ",
        "outputId": "0d71c29b-5b23-49f0-cded-aa51f80976ef"
      },
      "execution_count": null,
      "outputs": [
        {
          "output_type": "stream",
          "name": "stdout",
          "text": [
            "125.5 <class 'float'>\n"
          ]
        }
      ]
    },
    {
      "cell_type": "code",
      "source": [
        "#Exercise - Sales data analysis using File handling  Home Work"
      ],
      "metadata": {
        "id": "TQ2kH4FRHku2"
      },
      "execution_count": null,
      "outputs": []
    },
    {
      "cell_type": "code",
      "source": [
        "#python Decorator\n",
        "def Sayhello(name):\n",
        "  return name.upper()\n",
        "\n",
        "Sayhello(\"Parth\")\n"
      ],
      "metadata": {
        "id": "dNTHJomJIiwP",
        "colab": {
          "base_uri": "https://localhost:8080/",
          "height": 35
        },
        "outputId": "1f3f2861-6161-47dc-dab3-875fdfa8c1c8"
      },
      "execution_count": null,
      "outputs": [
        {
          "output_type": "execute_result",
          "data": {
            "text/plain": [
              "'PARTH'"
            ],
            "application/vnd.google.colaboratory.intrinsic+json": {
              "type": "string"
            }
          },
          "metadata": {},
          "execution_count": 1
        }
      ]
    },
    {
      "cell_type": "code",
      "source": [
        "x=Sayhello\n",
        "print(x(\"india\"))"
      ],
      "metadata": {
        "colab": {
          "base_uri": "https://localhost:8080/"
        },
        "id": "wQzRiigVI21e",
        "outputId": "590a0bed-65dc-437e-d775-ef124d2f00cb"
      },
      "execution_count": null,
      "outputs": [
        {
          "output_type": "stream",
          "name": "stdout",
          "text": [
            "INDIA\n"
          ]
        }
      ]
    },
    {
      "cell_type": "code",
      "source": [
        "# Python program to illustrate functions\n",
        "# can be passed as arguments to other functions\n",
        "def fun1(text):\n",
        "\treturn text.upper()\n",
        "\n",
        "def fun2(text):\n",
        "\treturn text.lower()\n",
        "\n",
        "def Add(n1,n2):\n",
        "    s=n1+n2\n",
        "    return s\n",
        "\n",
        "def AddNumber(func):\n",
        "  res=func(55,88)\n",
        "  print(res)\n",
        "\n",
        "def greet(func):\n",
        "\t# storing the function in a variable\n",
        "\tgreeting = func(\"Hi i am Indian\")\n",
        "\tprint(greeting)\n",
        "\n",
        "greet(fun1)\n",
        "greet(fun2)\n",
        "\n",
        "\n",
        "AddNumber(Add)"
      ],
      "metadata": {
        "colab": {
          "base_uri": "https://localhost:8080/"
        },
        "id": "CEp84UxIJVhu",
        "outputId": "3c1c7cc2-449e-4081-c135-bd3ee3fa2dd5"
      },
      "execution_count": null,
      "outputs": [
        {
          "output_type": "stream",
          "name": "stdout",
          "text": [
            "HI I AM INDIAN\n",
            "hi i am indian\n",
            "143\n"
          ]
        }
      ]
    },
    {
      "cell_type": "code",
      "source": [
        "# Python program to illustrate functions\n",
        "# Functions can return another function\n",
        "\n",
        "def adder(x):\n",
        "  print(x)\n",
        "  def add(y):\n",
        "    print(y)\n",
        "    return x+y\n",
        "  return add\n",
        "\n",
        "add_15 = adder(15)\n",
        "\n",
        "print(add_15(10))\n"
      ],
      "metadata": {
        "colab": {
          "base_uri": "https://localhost:8080/"
        },
        "id": "90QiSiLwMEc8",
        "outputId": "5583c918-8301-4e8a-aca2-1a5f9c35a7e2"
      },
      "execution_count": null,
      "outputs": [
        {
          "output_type": "stream",
          "name": "stdout",
          "text": [
            "15\n",
            "10\n",
            "25\n"
          ]
        }
      ]
    },
    {
      "cell_type": "code",
      "source": [
        "# prompt: krishnamurti number\n",
        "def fact(num):\n",
        "  if num==0 or num==1:\n",
        "    return 1\n",
        "  else:\n",
        "    return(num*fact(num-1))\n",
        "\n",
        "\n",
        "print(fact(5))"
      ],
      "metadata": {
        "colab": {
          "base_uri": "https://localhost:8080/"
        },
        "id": "2-zy_lETpyu5",
        "outputId": "a906eb1a-b5d6-4417-c390-ea24585fc44a"
      },
      "execution_count": null,
      "outputs": [
        {
          "output_type": "stream",
          "name": "stdout",
          "text": [
            "120\n"
          ]
        }
      ]
    },
    {
      "cell_type": "code",
      "source": [
        "def Krishnamurthy(num):\n",
        "  sum = 0\n",
        "  temp = num\n",
        "  while temp!=0:\n",
        "    d=temp%10\n",
        "    f=fact(d)\n",
        "    print(f)\n",
        "    sum = sum + f\n",
        "    temp = temp // 10\n",
        "  if num == sum:\n",
        "    print(num,\"is a Krishnamurthy number\")\n",
        "  else:\n",
        "    print(num,\"is not a Krishnamurthy number\")\n",
        "Krishnamurthy(145)\n",
        "Krishnamurthy(371)\n",
        "\n"
      ],
      "metadata": {
        "colab": {
          "base_uri": "https://localhost:8080/"
        },
        "id": "7yt4OM__qTAI",
        "outputId": "f085ad24-abdb-4c2c-84d3-026222a99aa1"
      },
      "execution_count": null,
      "outputs": [
        {
          "output_type": "stream",
          "name": "stdout",
          "text": [
            "120\n",
            "24\n",
            "1\n",
            "145 is a Krishnamurthy number\n",
            "1\n",
            "5040\n",
            "6\n",
            "371 is not a Krishnamurthy number\n"
          ]
        }
      ]
    },
    {
      "cell_type": "code",
      "source": [],
      "metadata": {
        "id": "o-RUusBWsjEz"
      },
      "execution_count": null,
      "outputs": []
    },
    {
      "cell_type": "code",
      "source": [
        "# code for testing decorator chaining\n",
        "def decor1(func):\n",
        "\tdef inner():\n",
        "\t\tx = func()\n",
        "\t\treturn x * x\n",
        "\treturn inner\n",
        "\n",
        "def decor2(func):\n",
        "\tdef inner():\n",
        "\t\tx = func()\n",
        "\t\treturn 2 * x\n",
        "\treturn inner\n",
        "\n",
        "@decor1\n",
        "@decor2\n",
        "def num():\n",
        "\treturn 10\n",
        "\n",
        "@decor2\n",
        "@decor1\n",
        "def num2():\n",
        "\treturn 10\n",
        "\n",
        "print(num())\n",
        "print(num2())\n"
      ],
      "metadata": {
        "colab": {
          "base_uri": "https://localhost:8080/"
        },
        "id": "i3UtxF5bNwoT",
        "outputId": "2bc73dc5-2f56-4673-88b4-6b5816d08b6e"
      },
      "execution_count": null,
      "outputs": [
        {
          "output_type": "stream",
          "name": "stdout",
          "text": [
            "400\n",
            "200\n"
          ]
        }
      ]
    },
    {
      "cell_type": "code",
      "source": [
        "# math module"
      ],
      "metadata": {
        "id": "JwR_KjJQBJiQ"
      },
      "execution_count": null,
      "outputs": []
    },
    {
      "cell_type": "code",
      "source": [
        "# prompt: math functions\n",
        "\n",
        "import math\n",
        "\n",
        "# Find the square root of a number\n",
        "print(math.sqrt(2))\n",
        "\n",
        "# Find the absolute value of a number\n",
        "print(math.fabs(-5))\n",
        "\n",
        "# Find the ceiling of a number\n",
        "print(math.ceil(4.5))\n",
        "\n",
        "# Find the floor of a number\n",
        "print(math.floor(4.5))\n",
        "\n",
        "# Find the exponential of a number\n",
        "print(math.exp(1))\n",
        "\n",
        "# Find the natural logarithm of a number\n",
        "print(math.log(10))\n",
        "\n",
        "# Find the base 10 logarithm of a number\n",
        "print(math.log10(10))\n",
        "\n",
        "# Find the sine of an angle in radians\n",
        "print(math.sin(math.pi/2))\n",
        "\n",
        "# Find the cosine of an angle in radians\n",
        "print(math.cos(math.pi/2))\n",
        "\n",
        "# Find the tangent of an angle in radians\n",
        "print(math.tan(math.pi/4))\n",
        "\n",
        "# Find the arc sine of a value\n",
        "print(math.asin(1))\n",
        "\n",
        "# Find the arc cosine of a value\n",
        "print(math.acos(0))\n",
        "\n",
        "# Find the arc tangent of a value\n",
        "print(math.atan(1))\n",
        "\n",
        "# Find the hyperbolic sine of a value\n",
        "print(math.sinh(1))\n",
        "\n",
        "# Find the hyperbolic cosine of a value\n",
        "print(math.cosh(1))\n",
        "\n",
        "# Find the hyperbolic tangent of a value\n",
        "print(math.tanh(1))\n",
        "\n",
        "# Find the inverse hyperbolic sine of a value\n",
        "print(math.asinh(1))\n",
        "\n",
        "# Find the inverse hyperbolic cosine of a value\n",
        "print(math.acosh(1))\n",
        "\n",
        "# Find the inverse hyperbolic tangent of a value\n",
        "print(math.atanh(1))\n",
        "\n",
        "# Find the gamma function of a value\n",
        "print(math.gamma(1))\n",
        "\n",
        "# Find the factorial of a value\n",
        "print(math.factorial(5))\n",
        "\n",
        "# Find the greatest common divisor of two values\n",
        "print(math.gcd(12, 8))\n",
        "\n",
        "# Find the least common multiple of two values\n",
        "print(math.lcm(12, 8))\n",
        "\n",
        "# Find the value of pi\n",
        "print(math.pi)\n",
        "\n",
        "# Find the value of e\n",
        "print(math.e)\n",
        "\n",
        "# Find the value of the golden ratio\n",
        "print(math.phi)\n",
        "\n",
        "# Find the value of the square root of 2\n",
        "print(math.sqrt(2))\n",
        "\n",
        "# Find the value of the cube root of 2\n",
        "print(math.cbrt(2))\n",
        "\n",
        "# Find the value of the natural logarithm of 2\n",
        "print(math.log(2))\n",
        "\n",
        "# Find the value of the base 10 logarithm of 2\n",
        "print(math.log10(2))\n",
        "\n",
        "# Find the value of the sine of 30 degrees\n",
        "print(math.sin(math.pi/6))\n",
        "\n",
        "# Find the value of the cosine of 30 degrees\n",
        "print(math.cos(math.pi/6))\n",
        "\n",
        "# Find the value of the tangent of 30 degrees\n",
        "print(math.tan(math.pi/6))\n",
        "\n",
        "# Find the value of the arc sine of 0.5\n",
        "print(math.asin(0.5))\n",
        "\n",
        "# Find the value of the arc cosine of 0.5\n",
        "print(math.acos(0.5))\n",
        "\n",
        "# Find the value of the arc tangent of 0.5\n",
        "print(math.atan(0.5))\n",
        "\n",
        "# Find the value of the hyperbolic sine of 1\n",
        "print(math.sinh(1))\n",
        "\n",
        "# Find the value of the hyperbolic cosine of 1\n",
        "print(math.cosh(1))\n",
        "\n",
        "# Find the value of the hyperbolic tangent of 1\n",
        "print(math.tanh(1))\n",
        "\n",
        "# Find the value of the inverse hyperbolic sine of 1\n",
        "print(math.asinh(1))\n",
        "\n",
        "# Find the value of the inverse hyperbolic cosine of 1\n",
        "print(math.acosh(1))\n",
        "\n",
        "# Find the value of the inverse hyperbolic tangent of 1\n",
        "print(math.atanh(1))\n",
        "\n",
        "# Find the value of the gamma function of 1\n",
        "print(math.gamma(1))\n",
        "\n",
        "# Find the value of the factorial of 5\n",
        "print(math.factorial(5))\n",
        "\n",
        "# Find the value of the greatest common divisor of 12 and 8\n",
        "print(math.gcd(12, 8))\n",
        "\n",
        "# Find the value of the least common multiple of 12 and 8\n",
        "print(math.lcm(12, 8))\n",
        "\n",
        "# Find the value of pi\n",
        "print(math.pi)\n",
        "\n",
        "# Find the value of e\n",
        "print(math.e)\n",
        "\n",
        "# Find the value of the golden ratio\n",
        "print(math.phi)\n",
        "\n",
        "# Find the value of the square root of 2\n",
        "print(math.sqrt(2))\n",
        "\n",
        "# Find the value of the cube root of 2\n",
        "print(math.cbrt(2))\n",
        "\n",
        "# Find the value of the natural logarithm of 2\n",
        "print(math.log(2))\n",
        "\n",
        "# Find the value of the base 10 logarithm of 2\n",
        "print(math.log10(2))\n",
        "\n",
        "# Find the value of the sine of 30 degrees\n",
        "print(math.sin(math.pi/6))\n",
        "\n",
        "# Find the value of the cosine of 30 degrees\n",
        "print(math.cos(math.pi/6))\n",
        "\n",
        "# Find the value of the tangent of 30 degrees\n",
        "print(math.tan(math.pi/6))\n",
        "\n",
        "# Find the value of the arc sine of 0.5\n",
        "print(math.asin(0.5))\n",
        "\n",
        "# Find the value of the arc cosine of 0.5\n",
        "print(math.acos(0.5))\n",
        "\n",
        "# Find the value of the arc tangent of 0.5\n",
        "print(math.atan(0.5))\n",
        "\n",
        "# Find the value of the hyperbolic sine of 1\n",
        "print(math.sinh(1))\n",
        "\n",
        "# Find the value of the hyperbolic cosine of 1\n",
        "print(math.cosh(1))\n",
        "\n",
        "# Find the value of the hyperbolic tangent of 1\n",
        "print(math.tanh(1))\n",
        "\n",
        "# Find the value of the inverse hyperbolic sine of 1\n",
        "print(math.asinh(1))\n",
        "\n",
        "# Find the value of the inverse hyperbolic cosine of 1\n",
        "print(math.acosh(1))\n",
        "\n",
        "# Find the value of the inverse hyperbolic tangent of 1\n",
        "print(math.atanh(1))\n",
        "\n",
        "# Find the value of the gamma function of 1\n",
        "print(math.gamma(1))\n",
        "\n",
        "# Find the value of the factorial of 5\n",
        "print(math.factorial(5))\n",
        "\n",
        "# Find the value of the greatest common divisor of 12 and 8\n",
        "print(math.gcd(12, 8))\n",
        "\n",
        "# Find the value of the least common multiple of 12 and 8\n",
        "print(math.lcm(12, 8))\n",
        "\n",
        "# Find the value of pi\n",
        "print(math.pi)\n",
        "\n",
        "# Find the value of e\n",
        "print(math.e)\n",
        "\n",
        "# Find the value of the golden ratio\n",
        "print(math.phi)\n",
        "\n",
        "# Find the value of the square root of 2\n",
        "print(math.sqrt(2))\n",
        "\n",
        "# Find the value of the cube root of 2\n",
        "print(math.cbrt(2))\n",
        "\n",
        "# Find the value of the natural logarithm of 2\n",
        "print(math.log(2))\n",
        "\n",
        "# Find the value of the base 10 logarithm of 2\n",
        "print(math.log10(2))\n",
        "\n",
        "# Find the value of the sine of 30 degrees\n",
        "print(math.sin(math.pi/6))\n",
        "\n",
        "# Find the value of the cosine of 30 degrees\n",
        "print(math.cos(math.pi/6))\n",
        "\n",
        "# Find the value of the tangent of 30 degrees\n",
        "print(math.tan(math.pi/6))\n",
        "\n",
        "# Find the value of the arc sine of 0.5\n",
        "print(math.asin(0.5))\n",
        "\n",
        "# Find the value of the arc cosine of 0.5\n",
        "print(math.acos(0.5))\n",
        "\n",
        "# Find the value of the arc tangent of 0.5\n",
        "print(math.atan(0.5))\n",
        "\n",
        "# Find the value of the hyperbolic sine of 1\n",
        "print(math.sinh(1))\n",
        "\n",
        "# Find the value of the hyperbolic cosine of 1\n",
        "print(math.cosh(1))\n",
        "\n",
        "# Find the value of the hyperbolic tangent of 1\n",
        "print(math.tanh(1))\n",
        "\n",
        "# Find the value of the inverse hyperbolic sine of 1\n",
        "print(math.asinh(1))\n",
        "\n",
        "# Find the value of the inverse hyperbolic cosine of 1\n",
        "print(math.acosh(1))\n",
        "\n",
        "# Find the value of the inverse hyperbolic tangent of 1\n",
        "print(math.atanh(1))\n",
        "\n",
        "# Find the value of the gamma function of 1\n",
        "print(math.gamma(1))\n",
        "\n",
        "# Find the value of the factorial of 5\n",
        "print(math.factorial(5))\n",
        "\n",
        "# Find the value of the greatest common divisor of 12 and 8\n",
        "print(math.gcd(12, 8))\n",
        "\n",
        "# Find the value of the least common multiple of 12 and 8\n",
        "print(math.lcm(12, 8))\n",
        "\n",
        "# Find the value of pi\n",
        "print(math.pi)\n",
        "\n",
        "# Find the value of e\n",
        "print(math.e)\n",
        "\n",
        "# Find the value"
      ],
      "metadata": {
        "id": "3yl7BL0dBMW4"
      },
      "execution_count": null,
      "outputs": []
    },
    {
      "cell_type": "code",
      "source": [
        "import math\n",
        "\n",
        "# Find the square root of a number\n",
        "s=math.sqrt(27)\n",
        "print(s)\n",
        "\n",
        "x=math.floor(s)\n",
        "\n",
        "y=math.ceil(s)\n",
        "\n",
        "print(x)\n",
        "print(y)\n",
        "\n",
        "print(math.fabs(-5))\n",
        "\n",
        "print(math.pi)\n",
        "\n",
        "r=28.99\n",
        "area=math.pi*r**2\n",
        "\n",
        "print(\"Area of Circle is\",area)\n",
        "a=15\n",
        "f=math.factorial(a)\n",
        "print(f\"Factoprial of {a} is {f}\")\n",
        "\n",
        "n1=32\n",
        "n2=68\n",
        "\n",
        "hcf=math.gcd(n1,n2,88)\n",
        "print(hcf)\n",
        "\n",
        "lcm=math.lcm(n1,n2,88)\n",
        "print(lcm)\n",
        "\n",
        "\n"
      ],
      "metadata": {
        "colab": {
          "base_uri": "https://localhost:8080/"
        },
        "id": "kxDSihPOCmtQ",
        "outputId": "f0fee4af-6064-4690-f37b-3a25f097d551"
      },
      "execution_count": null,
      "outputs": [
        {
          "output_type": "stream",
          "name": "stdout",
          "text": [
            "5.196152422706632\n",
            "5\n",
            "6\n",
            "5.0\n",
            "3.141592653589793\n",
            "Area of Circle is 2640.257612089199\n",
            "Factoprial of 15 is 1307674368000\n",
            "4\n",
            "5984\n"
          ]
        }
      ]
    },
    {
      "cell_type": "code",
      "source": [
        "def findfactor(num):\n",
        "  j=1\n",
        "  while(j<=num):\n",
        "    if num%j==0:\n",
        "      print(j,end=',')\n",
        "    j+=1\n",
        "\n",
        "\n"
      ],
      "metadata": {
        "id": "5Hgbs_nsH3jr"
      },
      "execution_count": null,
      "outputs": []
    },
    {
      "cell_type": "code",
      "source": [
        "findfactor(168)\n",
        "\n",
        "numlist=[1,2,3,4,6,7,8,12,14,21,24,28,42,56,84,168]\n",
        "print()\n",
        "\n",
        "print(sum(numlist))\n",
        "print(max(numlist))"
      ],
      "metadata": {
        "colab": {
          "base_uri": "https://localhost:8080/"
        },
        "id": "a4yNaSPAI9u0",
        "outputId": "b070a7d9-2c36-4c0f-b049-2af711e474ba"
      },
      "execution_count": null,
      "outputs": [
        {
          "output_type": "stream",
          "name": "stdout",
          "text": [
            "1,2,3,4,6,7,8,12,14,21,24,28,42,56,84,168,\n",
            "480\n",
            "168\n"
          ]
        }
      ]
    },
    {
      "cell_type": "code",
      "source": [
        "#iterator\n",
        "class MySequencer:\n",
        "  def __iter__(self):\n",
        "    self.a = 101\n",
        "    return self\n",
        "\n",
        "  def __next__(self):\n",
        "\n",
        "    x = self.a\n",
        "    self.a += 1\n",
        "    return x\n",
        "\n"
      ],
      "metadata": {
        "id": "ZRQpWp3k-cio"
      },
      "execution_count": null,
      "outputs": []
    },
    {
      "cell_type": "code",
      "source": [
        "myseq = MySequencer()\n",
        "myiter = iter(myseq)\n",
        "\n",
        "for i in range(100):\n",
        "  print(next(myiter),\"TGC\")\n",
        "\n"
      ],
      "metadata": {
        "colab": {
          "base_uri": "https://localhost:8080/"
        },
        "id": "tfmY7fSvGZ3-",
        "outputId": "1b621a99-e7c8-4dc2-b384-88ce66fa86bd"
      },
      "execution_count": null,
      "outputs": [
        {
          "output_type": "stream",
          "name": "stdout",
          "text": [
            "101 TGC\n",
            "102 TGC\n",
            "103 TGC\n",
            "104 TGC\n",
            "105 TGC\n",
            "106 TGC\n",
            "107 TGC\n",
            "108 TGC\n",
            "109 TGC\n",
            "110 TGC\n",
            "111 TGC\n",
            "112 TGC\n",
            "113 TGC\n",
            "114 TGC\n",
            "115 TGC\n",
            "116 TGC\n",
            "117 TGC\n",
            "118 TGC\n",
            "119 TGC\n",
            "120 TGC\n",
            "121 TGC\n",
            "122 TGC\n",
            "123 TGC\n",
            "124 TGC\n",
            "125 TGC\n",
            "126 TGC\n",
            "127 TGC\n",
            "128 TGC\n",
            "129 TGC\n",
            "130 TGC\n",
            "131 TGC\n",
            "132 TGC\n",
            "133 TGC\n",
            "134 TGC\n",
            "135 TGC\n",
            "136 TGC\n",
            "137 TGC\n",
            "138 TGC\n",
            "139 TGC\n",
            "140 TGC\n",
            "141 TGC\n",
            "142 TGC\n",
            "143 TGC\n",
            "144 TGC\n",
            "145 TGC\n",
            "146 TGC\n",
            "147 TGC\n",
            "148 TGC\n",
            "149 TGC\n",
            "150 TGC\n",
            "151 TGC\n",
            "152 TGC\n",
            "153 TGC\n",
            "154 TGC\n",
            "155 TGC\n",
            "156 TGC\n",
            "157 TGC\n",
            "158 TGC\n",
            "159 TGC\n",
            "160 TGC\n",
            "161 TGC\n",
            "162 TGC\n",
            "163 TGC\n",
            "164 TGC\n",
            "165 TGC\n",
            "166 TGC\n",
            "167 TGC\n",
            "168 TGC\n",
            "169 TGC\n",
            "170 TGC\n",
            "171 TGC\n",
            "172 TGC\n",
            "173 TGC\n",
            "174 TGC\n",
            "175 TGC\n",
            "176 TGC\n",
            "177 TGC\n",
            "178 TGC\n",
            "179 TGC\n",
            "180 TGC\n",
            "181 TGC\n",
            "182 TGC\n",
            "183 TGC\n",
            "184 TGC\n",
            "185 TGC\n",
            "186 TGC\n",
            "187 TGC\n",
            "188 TGC\n",
            "189 TGC\n",
            "190 TGC\n",
            "191 TGC\n",
            "192 TGC\n",
            "193 TGC\n",
            "194 TGC\n",
            "195 TGC\n",
            "196 TGC\n",
            "197 TGC\n",
            "198 TGC\n",
            "199 TGC\n",
            "200 TGC\n"
          ]
        }
      ]
    },
    {
      "cell_type": "code",
      "source": [
        "#Dunder methods or Magic Function\n",
        "\n",
        "\n",
        "num=10\n",
        "print(type(num))\n",
        "#res=num+5\n",
        "#print(res)\n",
        "res = num.__add__(15)\n",
        "print(res)"
      ],
      "metadata": {
        "colab": {
          "base_uri": "https://localhost:8080/"
        },
        "id": "QVIp34RJBjX1",
        "outputId": "7ca9f739-9e56-4585-d85b-37d1080e0fdc"
      },
      "execution_count": null,
      "outputs": [
        {
          "output_type": "stream",
          "name": "stdout",
          "text": [
            "<class 'int'>\n",
            "25\n"
          ]
        }
      ]
    },
    {
      "cell_type": "code",
      "source": [
        "import math\n",
        "a=100\n",
        "b=90\n",
        "c=a+b\n",
        "print(c.__add__(55))\n",
        "print(c.__sub__(20))\n",
        "print(dir())\n",
        "\n",
        "print(math.sqrt(5))"
      ],
      "metadata": {
        "colab": {
          "base_uri": "https://localhost:8080/"
        },
        "id": "6VpvVnfWJ5nt",
        "outputId": "39661e5c-cb33-4e74-e65b-0fdb4ec67af0"
      },
      "execution_count": null,
      "outputs": [
        {
          "output_type": "stream",
          "name": "stdout",
          "text": [
            "245\n",
            "170\n",
            "['In', 'MySequencer', 'Out', '_', '_2', '_3', '_5', '__', '___', '__builtin__', '__builtins__', '__doc__', '__loader__', '__name__', '__package__', '__spec__', '_dh', '_i', '_i1', '_i10', '_i11', '_i12', '_i13', '_i14', '_i15', '_i16', '_i17', '_i18', '_i2', '_i3', '_i4', '_i5', '_i6', '_i7', '_i8', '_i9', '_ih', '_ii', '_iii', '_oh', 'a', 'b', 'c', 'exit', 'get_ipython', 'i', 'math', 'myiter', 'myseq', 'num', 'quit', 'res']\n",
            "2.23606797749979\n"
          ]
        }
      ]
    }
  ]
}