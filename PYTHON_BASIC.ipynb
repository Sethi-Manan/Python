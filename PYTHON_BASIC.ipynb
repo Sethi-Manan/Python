{
  "cells": [
    {
      "cell_type": "code",
      "execution_count": null,
      "metadata": {
        "id": "GkD1h3b-u71J"
      },
      "outputs": [],
      "source": [
        "\n",
        "def Factorial(n):\n",
        "  if n==0 or n==1:\n",
        "    return 1\n",
        "  else:\n",
        "    fact=n*Factorial(n-1)\n",
        "\n",
        "  return fact"
      ]
    },
    {
      "cell_type": "code",
      "source": [],
      "metadata": {
        "id": "PyvAmbJ3OGQA"
      },
      "execution_count": null,
      "outputs": []
    },
    {
      "cell_type": "code",
      "execution_count": null,
      "metadata": {
        "id": "FGEsdsbgJKqO"
      },
      "outputs": [],
      "source": []
    },
    {
      "cell_type": "code",
      "execution_count": null,
      "metadata": {
        "colab": {
          "base_uri": "https://localhost:8080/"
        },
        "id": "L-89X-xWvkk2",
        "outputId": "e6d5d3bc-fcb3-451f-9e54-468376b980e1"
      },
      "outputs": [
        {
          "name": "stdout",
          "output_type": "stream",
          "text": [
            "Enter value of n:10\n",
            "factorial of 10 is 3628800\n"
          ]
        }
      ],
      "source": [
        "n=int(input(\"Enter value of n:\"))\n",
        "r=Factorial(n)\n",
        "print(f\"factorial of {n} is {r}\")"
      ]
    },
    {
      "cell_type": "code",
      "execution_count": null,
      "metadata": {
        "id": "zYddeVM5xQli"
      },
      "outputs": [],
      "source": [
        "def Nsum(n):\n",
        "  if n==0 :\n",
        "    return 0\n",
        "  else:\n",
        "    s=n+Nsum(n-1)\n",
        "\n",
        "  return s\n"
      ]
    },
    {
      "cell_type": "code",
      "execution_count": null,
      "metadata": {
        "colab": {
          "base_uri": "https://localhost:8080/"
        },
        "id": "eusDoddXxk1r",
        "outputId": "834ba5ee-8cef-4d0f-e635-23aa4e5708ef"
      },
      "outputs": [
        {
          "name": "stdout",
          "output_type": "stream",
          "text": [
            "Enter value of n:100\n",
            "Sum of First100 natural number is 5050\n"
          ]
        }
      ],
      "source": [
        "n=int(input(\"Enter value of n:\"))\n",
        "r=Nsum(n)\n",
        "print(f\"Sum of First{n} natural number is {r}\")"
      ]
    },
    {
      "cell_type": "code",
      "execution_count": null,
      "metadata": {
        "id": "-QalAnxHzbzZ"
      },
      "outputs": [],
      "source": [
        "#variable length arguments\n",
        "def Traverse(*data):\n",
        "  for a in data:\n",
        "    print(a,end=' ')"
      ]
    },
    {
      "cell_type": "code",
      "source": [
        "def Total(*data):\n",
        "  t=0\n",
        "  for a in data:\n",
        "    t=t+a\n",
        "  print(\"Total is \",t)\n"
      ],
      "metadata": {
        "id": "b3IVn0vqZKxx"
      },
      "execution_count": null,
      "outputs": []
    },
    {
      "cell_type": "code",
      "execution_count": null,
      "metadata": {
        "colab": {
          "base_uri": "https://localhost:8080/"
        },
        "id": "_DpuQzee0Cbe",
        "outputId": "35f475f3-b22b-4db4-c145-74ecad121d53"
      },
      "outputs": [
        {
          "output_type": "stream",
          "name": "stdout",
          "text": [
            "\n",
            "123 \n",
            "33 66 77 \n",
            "76 37 4 86 37 46 37 \n",
            "Total is  323\n"
          ]
        }
      ],
      "source": [
        "Traverse()\n",
        "print()\n",
        "Traverse(123)\n",
        "print()\n",
        "Traverse(33,66,77)\n",
        "print()\n",
        "Traverse(76,37,4,86,37,46,37)\n",
        "print()\n",
        "Total(76,37,4,86,37,46,37)"
      ]
    },
    {
      "cell_type": "code",
      "execution_count": null,
      "metadata": {
        "id": "0W4LlvS009hf"
      },
      "outputs": [],
      "source": [
        "def Dispdata(**person):\n",
        "  for k in person:\n",
        "    print(f\"{k} : {person[k]}\")"
      ]
    },
    {
      "cell_type": "code",
      "execution_count": null,
      "metadata": {
        "colab": {
          "base_uri": "https://localhost:8080/"
        },
        "id": "d5D-1llo1nXt",
        "outputId": "a7ffa3a9-f1b5-4362-a6e7-7e7f65c5a130"
      },
      "outputs": [
        {
          "output_type": "stream",
          "name": "stdout",
          "text": [
            "name : Manan\n",
            "age : 18\n",
            "Address : NewDelhi\n",
            "occupation : Student\n"
          ]
        }
      ],
      "source": [
        "Dispdata(name=\"Manan\",age=18,Address=\"NewDelhi\",occupation=\"Student\")"
      ]
    },
    {
      "cell_type": "code",
      "execution_count": null,
      "metadata": {
        "id": "mxlAVoNq2ULE"
      },
      "outputs": [],
      "source": [
        "def Display(a,*c,**k):\n",
        "  print(a)\n",
        "  for x in c:\n",
        "    print(x)\n",
        "  print()\n",
        "  for y in k:\n",
        "    print(f\"{y} : {k[y]}\")"
      ]
    },
    {
      "cell_type": "code",
      "execution_count": null,
      "metadata": {
        "colab": {
          "base_uri": "https://localhost:8080/"
        },
        "id": "1sC2wetq1-TC",
        "outputId": "a12963ff-6e7c-42f7-d5fa-b792453c9d58"
      },
      "outputs": [
        {
          "output_type": "stream",
          "name": "stdout",
          "text": [
            "101\n",
            "DELHI\n",
            "Mumbai\n",
            "\n",
            "id : 1011\n",
            "name : Raj\n"
          ]
        }
      ],
      "source": [
        "Display(101,\"DELHI\",\"Mumbai\",id=1011,name=\"Raj\")"
      ]
    },
    {
      "cell_type": "code",
      "source": [
        "def Show(x,*y,**z):\n",
        "  print(x)\n",
        "  print()\n",
        "  for p in y:\n",
        "    print(p)\n",
        "    print()\n",
        "  for q in z:\n",
        "    print(f\"{q} : {z[q]}\")"
      ],
      "metadata": {
        "id": "RtI1S-JmdR1X"
      },
      "execution_count": null,
      "outputs": []
    },
    {
      "cell_type": "code",
      "source": [
        "Show(\"pal\",232,\"manan\",id=101,name=\"suraj\")"
      ],
      "metadata": {
        "colab": {
          "base_uri": "https://localhost:8080/"
        },
        "id": "wKIswl1eeQsa",
        "outputId": "e37a18d7-49e9-4366-fa8e-527b4754b7d6"
      },
      "execution_count": null,
      "outputs": [
        {
          "output_type": "stream",
          "name": "stdout",
          "text": [
            "pal\n",
            "\n",
            "232\n",
            "\n",
            "manan\n",
            "\n",
            "id : 101\n",
            "name : suraj\n"
          ]
        }
      ]
    },
    {
      "cell_type": "code",
      "execution_count": null,
      "metadata": {
        "colab": {
          "base_uri": "https://localhost:8080/"
        },
        "id": "CnaZaLRQ2LTb",
        "outputId": "050877bd-ab44-4932-cb5a-014811f1ebef"
      },
      "outputs": [
        {
          "output_type": "stream",
          "name": "stdout",
          "text": [
            "[43, 68, 354, 35, 893, 42, 43264, 78, 564378, 56, 743, 843, 65, 46] <class 'list'>\n",
            "[] <class 'list'>\n",
            "[] <class 'list'>\n"
          ]
        }
      ],
      "source": [
        "#python collection:List\n",
        "data1=[]\n",
        "data2=list()\n",
        "\n",
        "data =[43,68,354,35,893,42,43264,78,564378,56,743,843,65,46]\n",
        "print(data,type(data))\n",
        "print(data1,type(data1))\n",
        "print(data2,type(data2))\n",
        "\n",
        "\n",
        "\n"
      ]
    },
    {
      "cell_type": "code",
      "execution_count": null,
      "metadata": {
        "colab": {
          "base_uri": "https://localhost:8080/"
        },
        "id": "Y7GCrndj3ZfP",
        "outputId": "5a2a55b6-00fa-461f-f61c-e901eb9c9aef"
      },
      "outputs": [
        {
          "output_type": "stream",
          "name": "stdout",
          "text": [
            "[43, 68, 354, 35, 893, 42, 43264]\n"
          ]
        }
      ],
      "source": [
        "print(data[0:7])"
      ]
    },
    {
      "cell_type": "code",
      "execution_count": null,
      "metadata": {
        "colab": {
          "base_uri": "https://localhost:8080/"
        },
        "id": "a-eDfVGA3oSu",
        "outputId": "e6000af4-2d49-4cd7-e1ec-a644fe41fd8b"
      },
      "outputs": [
        {
          "output_type": "stream",
          "name": "stdout",
          "text": [
            "[35, 893, 42, 43264, 78, 564378, 56, 743, 843, 65, 46]\n"
          ]
        }
      ],
      "source": [
        "print(data[3::])"
      ]
    },
    {
      "cell_type": "code",
      "execution_count": null,
      "metadata": {
        "colab": {
          "base_uri": "https://localhost:8080/"
        },
        "id": "7_DL_xz63yt9",
        "outputId": "0f63753c-d1f7-4e55-e015-c99722ba7e85"
      },
      "outputs": [
        {
          "output_type": "stream",
          "name": "stdout",
          "text": [
            "78\n"
          ]
        }
      ],
      "source": [
        "print(data[7])"
      ]
    },
    {
      "cell_type": "code",
      "source": [
        "print(\"first data item \",data[0])"
      ],
      "metadata": {
        "colab": {
          "base_uri": "https://localhost:8080/"
        },
        "id": "NJlYqm2OiFPC",
        "outputId": "23a035d5-715d-41ca-b0e9-ae6bc42987d6"
      },
      "execution_count": null,
      "outputs": [
        {
          "output_type": "stream",
          "name": "stdout",
          "text": [
            "first data item  43\n"
          ]
        }
      ]
    },
    {
      "cell_type": "code",
      "source": [
        "print(\"last data item \",data[-1])"
      ],
      "metadata": {
        "colab": {
          "base_uri": "https://localhost:8080/"
        },
        "id": "sWKsErLhiQBA",
        "outputId": "597de79d-4631-4fc7-e0e5-04e2b00e92bb"
      },
      "execution_count": null,
      "outputs": [
        {
          "output_type": "stream",
          "name": "stdout",
          "text": [
            "last data item  46\n"
          ]
        }
      ]
    },
    {
      "cell_type": "code",
      "execution_count": null,
      "metadata": {
        "colab": {
          "base_uri": "https://localhost:8080/"
        },
        "id": "JF-Xus0v36a9",
        "outputId": "73db1b6e-c5d7-46c9-903a-3abfd85c78ea"
      },
      "outputs": [
        {
          "output_type": "stream",
          "name": "stdout",
          "text": [
            "14\n",
            "[43, 354, 893, 43264, 564378, 743, 65]\n"
          ]
        }
      ],
      "source": [
        "l=len(data)\n",
        "print(l)\n",
        "print(data[0:l:2])"
      ]
    },
    {
      "cell_type": "code",
      "execution_count": null,
      "metadata": {
        "colab": {
          "base_uri": "https://localhost:8080/"
        },
        "id": "DpWMvs4K4j5V",
        "outputId": "a18d8ec1-0b5e-4a38-cbaf-b08722fa2c8a"
      },
      "outputs": [
        {
          "output_type": "stream",
          "name": "stdout",
          "text": [
            "[46, 65, 843, 743, 56, 564378, 78, 43264, 42, 893, 35, 354, 68, 43]\n"
          ]
        }
      ],
      "source": [
        "print(data[::-1])"
      ]
    },
    {
      "cell_type": "code",
      "execution_count": null,
      "metadata": {
        "colab": {
          "base_uri": "https://localhost:8080/"
        },
        "id": "mvEawWfJ43nW",
        "outputId": "8dd06877-f9d1-42a6-d759-a8ffc7f84ca5"
      },
      "outputs": [
        {
          "output_type": "stream",
          "name": "stdout",
          "text": [
            "[893, 42, 43264, 78, 564378]\n"
          ]
        }
      ],
      "source": [
        "print(data[-10:-5:])"
      ]
    },
    {
      "cell_type": "code",
      "source": [
        "mylist=[23,77,[66,88,99],(54,64,33,44),{22,44,22,33,93},\"Suraj\",False,23+6j,{\"A\":1011,\"B\":7777,\"C\":\"DELHI\"},122333.999]"
      ],
      "metadata": {
        "id": "5hZUwClOi__x"
      },
      "execution_count": null,
      "outputs": []
    },
    {
      "cell_type": "code",
      "source": [
        "print(mylist)"
      ],
      "metadata": {
        "colab": {
          "base_uri": "https://localhost:8080/"
        },
        "id": "gHEoAlpXjme4",
        "outputId": "69a9c68d-d9e0-44dc-875f-a3b59954c8c3"
      },
      "execution_count": null,
      "outputs": [
        {
          "output_type": "stream",
          "name": "stdout",
          "text": [
            "[23, 77, [66, 88, 99], (54, 64, 33, 44), {33, 44, 93, 22}, 'Suraj', False, (23+6j), {'A': 1011, 'B': 7777, 'C': 'DELHI'}, 122333.999]\n"
          ]
        }
      ]
    },
    {
      "cell_type": "code",
      "source": [
        "print(mylist[0],\"\\t\",mylist[-1])"
      ],
      "metadata": {
        "colab": {
          "base_uri": "https://localhost:8080/"
        },
        "id": "tmResTMTjrc-",
        "outputId": "9f07efef-098e-482a-e0c2-0d4b78da05eb"
      },
      "execution_count": null,
      "outputs": [
        {
          "output_type": "stream",
          "name": "stdout",
          "text": [
            "23 \t 122333.999\n"
          ]
        }
      ]
    },
    {
      "cell_type": "code",
      "source": [
        "print(mylist[2])\n",
        "print(mylist[2][1])"
      ],
      "metadata": {
        "colab": {
          "base_uri": "https://localhost:8080/"
        },
        "id": "_eiViIfMkI8w",
        "outputId": "6181387c-d0a6-41ad-b71e-919df36b143c"
      },
      "execution_count": null,
      "outputs": [
        {
          "output_type": "stream",
          "name": "stdout",
          "text": [
            "[66, 88, 99]\n",
            "88\n"
          ]
        }
      ]
    },
    {
      "cell_type": "code",
      "source": [
        "print(mylist[4])"
      ],
      "metadata": {
        "colab": {
          "base_uri": "https://localhost:8080/"
        },
        "id": "3vG0oJSIkhkn",
        "outputId": "3a4bf5e0-ca82-465b-deec-122230696d15"
      },
      "execution_count": null,
      "outputs": [
        {
          "output_type": "stream",
          "name": "stdout",
          "text": [
            "{33, 44, 93, 22}\n"
          ]
        }
      ]
    },
    {
      "cell_type": "code",
      "source": [
        "print(mylist[-2])"
      ],
      "metadata": {
        "colab": {
          "base_uri": "https://localhost:8080/"
        },
        "id": "X9N99xkMk5t2",
        "outputId": "0e9c445c-ccb1-4060-aa22-958b0b8c75bb"
      },
      "execution_count": null,
      "outputs": [
        {
          "output_type": "stream",
          "name": "stdout",
          "text": [
            "{'A': 1011, 'B': 7777}\n"
          ]
        }
      ]
    },
    {
      "cell_type": "code",
      "source": [
        "print(mylist[-2][\"A\"])"
      ],
      "metadata": {
        "colab": {
          "base_uri": "https://localhost:8080/"
        },
        "id": "Uif8BPjUlDm-",
        "outputId": "82cad153-194e-4280-930d-662db4ff50be"
      },
      "execution_count": null,
      "outputs": [
        {
          "output_type": "stream",
          "name": "stdout",
          "text": [
            "1011\n"
          ]
        }
      ]
    },
    {
      "cell_type": "code",
      "source": [
        "print(mylist[-2].get(\"A\"))"
      ],
      "metadata": {
        "colab": {
          "base_uri": "https://localhost:8080/"
        },
        "id": "EElxOBgelLR9",
        "outputId": "442252ab-4b69-4f5a-fa06-e9ff379dcb93"
      },
      "execution_count": null,
      "outputs": [
        {
          "output_type": "stream",
          "name": "stdout",
          "text": [
            "1011\n"
          ]
        }
      ]
    },
    {
      "cell_type": "code",
      "source": [
        "print(\"Suraj\" in mylist)"
      ],
      "metadata": {
        "colab": {
          "base_uri": "https://localhost:8080/"
        },
        "id": "upMnGEMBlW5F",
        "outputId": "e8a99c1d-b161-412c-ecd6-bb00e0fd2978"
      },
      "execution_count": null,
      "outputs": [
        {
          "output_type": "stream",
          "name": "stdout",
          "text": [
            "True\n"
          ]
        }
      ]
    },
    {
      "cell_type": "code",
      "source": [
        "print(mylist.index(\"Suraj\"))\n"
      ],
      "metadata": {
        "colab": {
          "base_uri": "https://localhost:8080/"
        },
        "id": "n6JZaQYMlh0c",
        "outputId": "39ad142f-2eb5-4ad8-988c-d6769b4398c4"
      },
      "execution_count": null,
      "outputs": [
        {
          "output_type": "stream",
          "name": "stdout",
          "text": [
            "5\n"
          ]
        }
      ]
    },
    {
      "cell_type": "code",
      "source": [
        "mylist.append(\"Manan\")"
      ],
      "metadata": {
        "id": "K7RNAZxQlzF0"
      },
      "execution_count": null,
      "outputs": []
    },
    {
      "cell_type": "code",
      "source": [
        "print(mylist)"
      ],
      "metadata": {
        "colab": {
          "base_uri": "https://localhost:8080/"
        },
        "id": "uWY2vFn6l7Z8",
        "outputId": "d8b62dc8-1c11-4429-84e1-ef9e752bf0ad"
      },
      "execution_count": null,
      "outputs": [
        {
          "output_type": "stream",
          "name": "stdout",
          "text": [
            "[23, 77, [66, 88, 99], (54, 64, 33, 44), {33, 44, 93, 22}, 'Suraj', False, (23+6j), {'A': 1011, 'B': 7777}, 122333.999, 'Manan']\n"
          ]
        }
      ]
    },
    {
      "cell_type": "code",
      "source": [],
      "metadata": {
        "id": "Bit1_YXrmOCT"
      },
      "execution_count": null,
      "outputs": []
    },
    {
      "cell_type": "code",
      "source": [
        "mylist.insert(5,\"Ankit\")"
      ],
      "metadata": {
        "id": "U4tI3Cc1mDYE"
      },
      "execution_count": null,
      "outputs": []
    },
    {
      "cell_type": "code",
      "source": [
        "print(mylist)"
      ],
      "metadata": {
        "colab": {
          "base_uri": "https://localhost:8080/"
        },
        "id": "YUqJEtp2mQQI",
        "outputId": "403b8e01-236a-4839-dd4b-a127fb9de67b"
      },
      "execution_count": null,
      "outputs": [
        {
          "output_type": "stream",
          "name": "stdout",
          "text": [
            "[23, 77, [66, 88, 99], (54, 64, 33, 44), {33, 44, 93, 22}, 'Ankit', 'Suraj', False, (23+6j), {'A': 1011, 'B': 7777}, 122333.999, 'Manan']\n"
          ]
        }
      ]
    },
    {
      "cell_type": "code",
      "source": [
        "names=[\"Mukesh\",\"kamal\",\"Rahul\"]\n",
        "tupl1=(555,888,999,777)"
      ],
      "metadata": {
        "id": "Jsygqm1OmZI2"
      },
      "execution_count": null,
      "outputs": []
    },
    {
      "cell_type": "code",
      "source": [
        "mylist.extend(names)"
      ],
      "metadata": {
        "id": "yhlj71AYmoYT"
      },
      "execution_count": null,
      "outputs": []
    },
    {
      "cell_type": "code",
      "source": [
        "mylist.extend(tupl1)"
      ],
      "metadata": {
        "id": "JIXlph_im7gy"
      },
      "execution_count": null,
      "outputs": []
    },
    {
      "cell_type": "code",
      "source": [
        "print(mylist)"
      ],
      "metadata": {
        "colab": {
          "base_uri": "https://localhost:8080/"
        },
        "id": "rJSunUSNmz21",
        "outputId": "d9866453-bdf4-49e0-dc09-448fc6a41601"
      },
      "execution_count": null,
      "outputs": [
        {
          "output_type": "stream",
          "name": "stdout",
          "text": [
            "[23, 77, [66, 88, 99], (54, 64, 33, 44), {33, 44, 93, 22}, 'Ankit', 'Suraj', False, (23+6j), {'A': 1011, 'B': 7777}, 122333.999, 'Manan', 'Mukesh', 'kamal', 'Rahul', 555, 888, 999, 777]\n"
          ]
        }
      ]
    },
    {
      "cell_type": "code",
      "source": [
        "print(type(mylist[6]))"
      ],
      "metadata": {
        "colab": {
          "base_uri": "https://localhost:8080/"
        },
        "id": "Lf1UBS-3nMM8",
        "outputId": "ca43497c-eb2b-497f-e6af-86d688217415"
      },
      "execution_count": null,
      "outputs": [
        {
          "output_type": "stream",
          "name": "stdout",
          "text": [
            "<class 'str'>\n"
          ]
        }
      ]
    },
    {
      "cell_type": "code",
      "source": [
        "for i in range(0,len(mylist)):\n",
        "  print(i,\"\\t\",mylist[i],\"\\t\\t\",type(mylist[i]))"
      ],
      "metadata": {
        "colab": {
          "base_uri": "https://localhost:8080/"
        },
        "id": "4pEH3u5LnjvL",
        "outputId": "45daa11f-eb8a-4e5a-8cec-58bfb19714c9"
      },
      "execution_count": null,
      "outputs": [
        {
          "output_type": "stream",
          "name": "stdout",
          "text": [
            "0 \t 23 \t\t <class 'int'>\n",
            "1 \t 77 \t\t <class 'int'>\n",
            "2 \t [66, 88, 99] \t\t <class 'list'>\n",
            "3 \t (54, 64, 33, 44) \t\t <class 'tuple'>\n",
            "4 \t {33, 44, 93, 22} \t\t <class 'set'>\n",
            "5 \t Ankit \t\t <class 'str'>\n",
            "6 \t Suraj \t\t <class 'str'>\n",
            "7 \t False \t\t <class 'bool'>\n",
            "8 \t (23+6j) \t\t <class 'complex'>\n",
            "9 \t {'A': 1011, 'B': 7777} \t\t <class 'dict'>\n",
            "10 \t 122333.999 \t\t <class 'float'>\n",
            "11 \t Manan \t\t <class 'str'>\n",
            "12 \t Mukesh \t\t <class 'str'>\n",
            "13 \t kamal \t\t <class 'str'>\n",
            "14 \t Rahul \t\t <class 'str'>\n",
            "15 \t 555 \t\t <class 'int'>\n",
            "16 \t 888 \t\t <class 'int'>\n",
            "17 \t 999 \t\t <class 'int'>\n",
            "18 \t 777 \t\t <class 'int'>\n"
          ]
        }
      ]
    },
    {
      "cell_type": "code",
      "source": [
        "mylist=[23,77,[66,88,99],(54,64,33,44),{22,44,22,33,93},\"Suraj\",False,23+6j,{\"A\":1011,\"B\":7777,\"C\":\"DELHI\"},122333.999]\n",
        "for i in range(0,len(mylist)):\n",
        "  print(i,\"\\t\",mylist[i],\"\\t\\t\",type(mylist[i]))"
      ],
      "metadata": {
        "colab": {
          "base_uri": "https://localhost:8080/"
        },
        "id": "H_lp3puIpDAb",
        "outputId": "a4ee9759-8e5c-496a-d3aa-c1405e3b094a"
      },
      "execution_count": null,
      "outputs": [
        {
          "output_type": "stream",
          "name": "stdout",
          "text": [
            "0 \t 23 \t\t <class 'int'>\n",
            "1 \t 77 \t\t <class 'int'>\n",
            "2 \t [66, 88, 99] \t\t <class 'list'>\n",
            "3 \t (54, 64, 33, 44) \t\t <class 'tuple'>\n",
            "4 \t {33, 44, 93, 22} \t\t <class 'set'>\n",
            "5 \t Suraj \t\t <class 'str'>\n",
            "6 \t False \t\t <class 'bool'>\n",
            "7 \t (23+6j) \t\t <class 'complex'>\n",
            "8 \t {'A': 1011, 'B': 7777, 'C': 'DELHI'} \t\t <class 'dict'>\n",
            "9 \t 122333.999 \t\t <class 'float'>\n"
          ]
        }
      ]
    },
    {
      "cell_type": "code",
      "source": [
        "print(mylist[8][\"C\"],\"\\t\",type(mylist[8][\"C\"]))"
      ],
      "metadata": {
        "colab": {
          "base_uri": "https://localhost:8080/"
        },
        "id": "Z-7rIFM_pJSC",
        "outputId": "f2a5aaa1-c715-4a4d-b8c0-645b2a183ddc"
      },
      "execution_count": null,
      "outputs": [
        {
          "output_type": "stream",
          "name": "stdout",
          "text": [
            "DELHI \t <class 'str'>\n"
          ]
        }
      ]
    },
    {
      "cell_type": "code",
      "execution_count": null,
      "metadata": {
        "colab": {
          "base_uri": "https://localhost:8080/"
        },
        "id": "Dk7HXKDG5qT1",
        "outputId": "c932fdf5-cfa3-4500-f76f-687082886843"
      },
      "outputs": [
        {
          "name": "stdout",
          "output_type": "stream",
          "text": [
            "True\n"
          ]
        }
      ],
      "source": [
        "print(42 in data)"
      ]
    },
    {
      "cell_type": "code",
      "execution_count": null,
      "metadata": {
        "colab": {
          "base_uri": "https://localhost:8080/"
        },
        "id": "BnxwmFG45zOS",
        "outputId": "0bb513f2-6c0e-4019-c985-811787f56571"
      },
      "outputs": [
        {
          "name": "stdout",
          "output_type": "stream",
          "text": [
            "False\n"
          ]
        }
      ],
      "source": [
        "print(420 in data)"
      ]
    },
    {
      "cell_type": "code",
      "execution_count": null,
      "metadata": {
        "colab": {
          "base_uri": "https://localhost:8080/"
        },
        "id": "pfdWDqpm55lT",
        "outputId": "39168ee7-68b9-4baa-b6ff-5f28ccf0d86c"
      },
      "outputs": [
        {
          "name": "stdout",
          "output_type": "stream",
          "text": [
            "False\n"
          ]
        }
      ],
      "source": [
        "print(42 not in data)"
      ]
    },
    {
      "cell_type": "code",
      "execution_count": null,
      "metadata": {
        "colab": {
          "base_uri": "https://localhost:8080/"
        },
        "id": "RrhV4UO56Axq",
        "outputId": "99fb4bf2-a726-4098-d13a-70149b87e07d"
      },
      "outputs": [
        {
          "name": "stdout",
          "output_type": "stream",
          "text": [
            "True\n"
          ]
        }
      ],
      "source": [
        "print(412 not in data)"
      ]
    },
    {
      "cell_type": "code",
      "execution_count": null,
      "metadata": {
        "colab": {
          "base_uri": "https://localhost:8080/"
        },
        "id": "qFdYxls86GUz",
        "outputId": "4725fc77-e21d-402c-cb4a-6b06230bb2f2"
      },
      "outputs": [
        {
          "name": "stdout",
          "output_type": "stream",
          "text": [
            "46\n"
          ]
        }
      ],
      "source": [
        "print(data[-1])"
      ]
    },
    {
      "cell_type": "code",
      "execution_count": null,
      "metadata": {
        "id": "NTq2Y-zQ6Mhs"
      },
      "outputs": [],
      "source": [
        "data[-1]=4600"
      ]
    },
    {
      "cell_type": "code",
      "execution_count": null,
      "metadata": {
        "colab": {
          "base_uri": "https://localhost:8080/"
        },
        "id": "iRNBeCom6Ut6",
        "outputId": "242c1228-d5dc-4b17-c5db-6319ddf32a70"
      },
      "outputs": [
        {
          "name": "stdout",
          "output_type": "stream",
          "text": [
            "[43, 68, 354, 35, 893, 42, 43264, 78, 564378, 56, 743, 843, 65, 4600]\n"
          ]
        }
      ],
      "source": [
        "print(data)"
      ]
    },
    {
      "cell_type": "code",
      "execution_count": null,
      "metadata": {
        "colab": {
          "base_uri": "https://localhost:8080/"
        },
        "id": "_lhplVuY68OL",
        "outputId": "37300694-3110-44f1-9098-5e336dc3f188"
      },
      "outputs": [
        {
          "name": "stdout",
          "output_type": "stream",
          "text": [
            "[450, 550, 650, 35, 893, 42, 43264, 78, 564378, 56, 743, 843, 65, 4600]\n"
          ]
        }
      ],
      "source": [
        "print(data)"
      ]
    },
    {
      "cell_type": "code",
      "execution_count": null,
      "metadata": {
        "id": "JhahrPFa6kyD"
      },
      "outputs": [],
      "source": [
        "data[0:3]=450,550,650"
      ]
    },
    {
      "cell_type": "code",
      "execution_count": null,
      "metadata": {
        "id": "AW0-VEjL7FJ5"
      },
      "outputs": [],
      "source": [
        "data.insert(0,1250)"
      ]
    },
    {
      "cell_type": "code",
      "execution_count": null,
      "metadata": {
        "colab": {
          "base_uri": "https://localhost:8080/"
        },
        "id": "3rAXyX7g7PBR",
        "outputId": "a09af5ee-9f6b-45f1-babd-22fc38524f40"
      },
      "outputs": [
        {
          "name": "stdout",
          "output_type": "stream",
          "text": [
            "[1250, 450, 550, 650, 35, 893, 42, 43264, 78, 564378, 56, 743, 843, 65, 4600]\n"
          ]
        }
      ],
      "source": [
        "print(data)"
      ]
    },
    {
      "cell_type": "code",
      "execution_count": null,
      "metadata": {
        "id": "rgbpN0sY7br5"
      },
      "outputs": [],
      "source": [
        "# ADD data\n",
        "data.append(1000)\n"
      ]
    },
    {
      "cell_type": "code",
      "execution_count": null,
      "metadata": {
        "colab": {
          "base_uri": "https://localhost:8080/"
        },
        "id": "Q3wgr9007llo",
        "outputId": "36e2cd80-90b4-43e5-f0be-d805952aba24"
      },
      "outputs": [
        {
          "name": "stdout",
          "output_type": "stream",
          "text": [
            "[1250, 450, 550, 650, 35, 893, 42, 43264, 78, 564378, 56, 743, 843, 65, 4600, 1000]\n"
          ]
        }
      ],
      "source": [
        "print(data)"
      ]
    },
    {
      "cell_type": "code",
      "execution_count": null,
      "metadata": {
        "id": "Kna0BlW07pKw"
      },
      "outputs": [],
      "source": [
        "data.insert(4,9000)"
      ]
    },
    {
      "cell_type": "code",
      "execution_count": null,
      "metadata": {
        "colab": {
          "base_uri": "https://localhost:8080/"
        },
        "id": "Le1GMRIX7y0P",
        "outputId": "acf778cf-db9f-44b6-abf9-f021adf90f95"
      },
      "outputs": [
        {
          "name": "stdout",
          "output_type": "stream",
          "text": [
            "[1250, 450, 550, 650, 9000, 35, 893, 42, 43264, 78, 564378, 56, 743, 843, 65, 4600, 1000]\n"
          ]
        }
      ],
      "source": [
        "print(data)"
      ]
    },
    {
      "cell_type": "code",
      "execution_count": null,
      "metadata": {
        "id": "lvPgA1Ru74Ng"
      },
      "outputs": [],
      "source": [
        "data1=[7877,8979,8789,7889,7897,8979]"
      ]
    },
    {
      "cell_type": "code",
      "execution_count": null,
      "metadata": {
        "id": "RBALCzcd8D84"
      },
      "outputs": [],
      "source": [
        "data.extend(data1)"
      ]
    },
    {
      "cell_type": "code",
      "execution_count": null,
      "metadata": {
        "colab": {
          "base_uri": "https://localhost:8080/"
        },
        "id": "Q1eDwVJf8LID",
        "outputId": "e0c247bb-6365-457f-e16d-e217452ba2b3"
      },
      "outputs": [
        {
          "output_type": "stream",
          "name": "stdout",
          "text": [
            "[43, 68, 354, 35, 893, 42, 43264, 78, 564378, 56, 743, 843, 65, 46]\n"
          ]
        }
      ],
      "source": [
        "print(data)"
      ]
    },
    {
      "cell_type": "code",
      "execution_count": null,
      "metadata": {
        "id": "njD4hOYi91tH"
      },
      "outputs": [],
      "source": []
    },
    {
      "cell_type": "code",
      "execution_count": null,
      "metadata": {
        "colab": {
          "base_uri": "https://localhost:8080/"
        },
        "id": "Uotjmf-C8UmK",
        "outputId": "cfa1ec0e-1f34-4cab-cebf-c6ff3fbfa9db"
      },
      "outputs": [
        {
          "output_type": "stream",
          "name": "stdout",
          "text": [
            "sum is 610908\n"
          ]
        }
      ],
      "source": [
        "# find Total\n",
        "print(f\"sum is {sum(data)}\")"
      ]
    },
    {
      "cell_type": "code",
      "execution_count": null,
      "metadata": {
        "colab": {
          "base_uri": "https://localhost:8080/"
        },
        "id": "ErNgS5vO8j7w",
        "outputId": "0ab206ea-37e4-41c3-b9b4-50e13766d043"
      },
      "outputs": [
        {
          "output_type": "stream",
          "name": "stdout",
          "text": [
            "highest value is 564378\n"
          ]
        }
      ],
      "source": [
        "print(f\"highest value is {max(data)}\")"
      ]
    },
    {
      "cell_type": "code",
      "execution_count": null,
      "metadata": {
        "colab": {
          "base_uri": "https://localhost:8080/"
        },
        "id": "EN0t7-Po8p8v",
        "outputId": "3bdca233-3efc-46fa-b57d-9e901db8f7b2"
      },
      "outputs": [
        {
          "output_type": "stream",
          "name": "stdout",
          "text": [
            "lowest value is 35\n"
          ]
        }
      ],
      "source": [
        "print(f\"lowest value is {min(data)}\")"
      ]
    },
    {
      "cell_type": "code",
      "execution_count": null,
      "metadata": {
        "colab": {
          "base_uri": "https://localhost:8080/"
        },
        "id": "1Qi9OWIB8w23",
        "outputId": "6063eed4-e7e2-4e90-e5ab-293bd59a9172"
      },
      "outputs": [
        {
          "output_type": "stream",
          "name": "stdout",
          "text": [
            "Average value is 43636.28571428572\n"
          ]
        }
      ],
      "source": [
        "print(f\"Average value is {sum(data)/len(data)}\")"
      ]
    },
    {
      "cell_type": "code",
      "execution_count": null,
      "metadata": {
        "colab": {
          "base_uri": "https://localhost:8080/"
        },
        "id": "dPTJOr6B9REw",
        "outputId": "500b8be8-e859-4895-abef-1b5dd4b474f7"
      },
      "outputs": [
        {
          "output_type": "stream",
          "name": "stdout",
          "text": [
            "[43, 68, 354, 35, 893, 42, 43264, 78, 564378, 56, 743, 843, 65, 46]\n"
          ]
        }
      ],
      "source": [
        "data2=data1+data\n",
        "print(data2)"
      ]
    },
    {
      "cell_type": "code",
      "execution_count": null,
      "metadata": {
        "id": "xYrtqs6n929-"
      },
      "outputs": [],
      "source": []
    },
    {
      "cell_type": "code",
      "source": [
        "mylist1=list()"
      ],
      "metadata": {
        "id": "OH1Mg4O6r4Fm"
      },
      "execution_count": null,
      "outputs": []
    },
    {
      "cell_type": "code",
      "execution_count": null,
      "metadata": {
        "colab": {
          "base_uri": "https://localhost:8080/"
        },
        "id": "0VJ8OlfP98Ze",
        "outputId": "31a308d8-2c4a-4a2b-8f84-7de59ca8d4fb"
      },
      "outputs": [
        {
          "output_type": "stream",
          "name": "stdout",
          "text": [
            "[]\n"
          ]
        }
      ],
      "source": [
        "print(mylist1)"
      ]
    },
    {
      "cell_type": "code",
      "source": [],
      "metadata": {
        "id": "_9KkTeirr3Se"
      },
      "execution_count": null,
      "outputs": []
    },
    {
      "cell_type": "code",
      "execution_count": null,
      "metadata": {
        "id": "utc3MDDK-ACF"
      },
      "outputs": [],
      "source": [
        "mylist1.append(5503)"
      ]
    },
    {
      "cell_type": "code",
      "execution_count": null,
      "metadata": {
        "colab": {
          "base_uri": "https://localhost:8080/"
        },
        "id": "rnGG3kOb-IfW",
        "outputId": "8d812fe0-85c9-42b1-ee65-e31927099b36"
      },
      "outputs": [
        {
          "output_type": "stream",
          "name": "stdout",
          "text": [
            "[5503]\n"
          ]
        }
      ],
      "source": [
        "print(mylist1)"
      ]
    },
    {
      "cell_type": "code",
      "execution_count": null,
      "metadata": {
        "id": "1d9O1QXOJMnE"
      },
      "outputs": [],
      "source": [
        "def ADDITEM():\n",
        "  while(True):\n",
        "    num=int(input(\"Enter any random number\"))\n",
        "    mylist1.append(num)\n",
        "    print(\"Data Added ..\")\n",
        "    print(\"Want to add more press y otherwise N\")\n",
        "    ans=input()\n",
        "    if ans=='y' or ans=='Y':\n",
        "      continue\n",
        "    else:\n",
        "      break"
      ]
    },
    {
      "cell_type": "code",
      "source": [
        "ADDITEM()"
      ],
      "metadata": {
        "colab": {
          "base_uri": "https://localhost:8080/"
        },
        "id": "BG1z8W_rqmp4",
        "outputId": "2812cd3a-4c55-489d-afe2-d50f038ccb7e"
      },
      "execution_count": null,
      "outputs": [
        {
          "name": "stdout",
          "output_type": "stream",
          "text": [
            "Enter any random number7771\n",
            "Data Added ..\n",
            "Want to add more press y otherwise N\n",
            "y\n",
            "Enter any random number9000\n",
            "Data Added ..\n",
            "Want to add more press y otherwise N\n",
            "n\n"
          ]
        }
      ]
    },
    {
      "cell_type": "code",
      "execution_count": null,
      "metadata": {
        "colab": {
          "base_uri": "https://localhost:8080/"
        },
        "id": "rpgF6b4yK5q0",
        "outputId": "d8bafd10-ee37-4694-cb51-04de04115640"
      },
      "outputs": [
        {
          "output_type": "stream",
          "name": "stdout",
          "text": [
            "[5503, 5555, 8888, 7771, 9000]\n"
          ]
        }
      ],
      "source": [
        "print(mylist1)"
      ]
    },
    {
      "cell_type": "code",
      "execution_count": null,
      "metadata": {
        "id": "_-W2tGtkNGJZ"
      },
      "outputs": [],
      "source": [
        "#remove dataitem\n",
        "mylist1.remove(5503)"
      ]
    },
    {
      "cell_type": "code",
      "execution_count": null,
      "metadata": {
        "colab": {
          "base_uri": "https://localhost:8080/"
        },
        "id": "YCnGD9SeNTe-",
        "outputId": "2d1e5543-f385-427f-a646-23b663483384"
      },
      "outputs": [
        {
          "output_type": "stream",
          "name": "stdout",
          "text": [
            "[5555, 8888, 7771, 9000]\n"
          ]
        }
      ],
      "source": [
        "print(mylist1)"
      ]
    },
    {
      "cell_type": "code",
      "execution_count": null,
      "metadata": {
        "id": "k4qnbL1ZNmNH"
      },
      "outputs": [],
      "source": []
    },
    {
      "cell_type": "code",
      "execution_count": null,
      "metadata": {
        "colab": {
          "base_uri": "https://localhost:8080/"
        },
        "id": "vY-xhLhhNc13",
        "outputId": "9dc6f99e-0a1e-4b0e-c956-0bfe0b8bbda3"
      },
      "outputs": [
        {
          "output_type": "execute_result",
          "data": {
            "text/plain": [
              "9000"
            ]
          },
          "metadata": {},
          "execution_count": 60
        }
      ],
      "source": [
        "mylist1.pop()"
      ]
    },
    {
      "cell_type": "code",
      "execution_count": null,
      "metadata": {
        "colab": {
          "base_uri": "https://localhost:8080/"
        },
        "id": "glpkWHG-Nne3",
        "outputId": "a6642afd-172d-4ddf-b8e0-ad71b2a7f51a"
      },
      "outputs": [
        {
          "output_type": "stream",
          "name": "stdout",
          "text": [
            "[5555, 8888, 7771]\n"
          ]
        }
      ],
      "source": [
        "print(mylist1)"
      ]
    },
    {
      "cell_type": "code",
      "execution_count": null,
      "metadata": {
        "colab": {
          "base_uri": "https://localhost:8080/"
        },
        "id": "sC0yFgKrNp7w",
        "outputId": "2ed90b9d-7231-41b1-b729-29d3ec15c23d"
      },
      "outputs": [
        {
          "output_type": "execute_result",
          "data": {
            "text/plain": [
              "5555"
            ]
          },
          "metadata": {},
          "execution_count": 63
        }
      ],
      "source": [
        "mylist1.pop(0)\n"
      ]
    },
    {
      "cell_type": "code",
      "execution_count": null,
      "metadata": {
        "colab": {
          "base_uri": "https://localhost:8080/"
        },
        "id": "SRVyzIkiN5Xo",
        "outputId": "89f0bdb7-1cba-4464-8ece-6fd51acbc8c7"
      },
      "outputs": [
        {
          "output_type": "stream",
          "name": "stdout",
          "text": [
            "[8888, 7771]\n"
          ]
        }
      ],
      "source": [
        "print(mylist1)"
      ]
    },
    {
      "cell_type": "code",
      "execution_count": null,
      "metadata": {
        "id": "GJe6DDf6N8qO"
      },
      "outputs": [],
      "source": [
        "del mylist1[0]"
      ]
    },
    {
      "cell_type": "code",
      "execution_count": null,
      "metadata": {
        "colab": {
          "base_uri": "https://localhost:8080/"
        },
        "id": "Ta7lqcDGOCj2",
        "outputId": "13caf7ba-0605-4a36-95e9-c1a0591d839a"
      },
      "outputs": [
        {
          "output_type": "stream",
          "name": "stdout",
          "text": [
            "[7771]\n"
          ]
        }
      ],
      "source": [
        "print(mylist1)"
      ]
    },
    {
      "cell_type": "code",
      "execution_count": null,
      "metadata": {
        "id": "efK3lyWjOKEe"
      },
      "outputs": [],
      "source": [
        "del mylist1"
      ]
    },
    {
      "cell_type": "code",
      "source": [
        "mylist2=[]"
      ],
      "metadata": {
        "id": "iAh2FxV-rltu"
      },
      "execution_count": null,
      "outputs": []
    },
    {
      "cell_type": "code",
      "execution_count": null,
      "metadata": {
        "colab": {
          "base_uri": "https://localhost:8080/"
        },
        "id": "y8gHzJ8TON7G",
        "outputId": "8236dd5c-97b5-4c80-e3d6-d66799a9e3b6"
      },
      "outputs": [
        {
          "output_type": "stream",
          "name": "stdout",
          "text": [
            "[]\n"
          ]
        }
      ],
      "source": [
        "print(mylist2)"
      ]
    },
    {
      "cell_type": "code",
      "source": [],
      "metadata": {
        "id": "wo6tbBqGrmft"
      },
      "execution_count": null,
      "outputs": []
    },
    {
      "cell_type": "code",
      "execution_count": null,
      "metadata": {
        "id": "wGEA6NBrOhge"
      },
      "outputs": [],
      "source": [
        "mylist.clear()"
      ]
    },
    {
      "cell_type": "code",
      "execution_count": null,
      "metadata": {
        "colab": {
          "base_uri": "https://localhost:8080/"
        },
        "id": "N9KGHT9zOnn2",
        "outputId": "23abc6a8-8602-4c0c-869c-fa2ad9f0c4dd"
      },
      "outputs": [
        {
          "name": "stdout",
          "output_type": "stream",
          "text": [
            "[]\n"
          ]
        }
      ],
      "source": [
        "print(mylist)"
      ]
    },
    {
      "cell_type": "code",
      "execution_count": null,
      "metadata": {
        "id": "sZsCrfQPOtVm"
      },
      "outputs": [],
      "source": [
        "mystate=list()"
      ]
    },
    {
      "cell_type": "code",
      "execution_count": null,
      "metadata": {
        "colab": {
          "base_uri": "https://localhost:8080/"
        },
        "id": "vxe7W7QYOyzm",
        "outputId": "4a5e2e98-4e38-4d04-df5f-3574032a2d8d"
      },
      "outputs": [
        {
          "output_type": "stream",
          "name": "stdout",
          "text": [
            "[]\n"
          ]
        }
      ],
      "source": [
        "print(mystate)"
      ]
    },
    {
      "cell_type": "code",
      "execution_count": null,
      "metadata": {
        "colab": {
          "base_uri": "https://localhost:8080/"
        },
        "id": "2hcQdGxWO5iv",
        "outputId": "33cb4d76-d257-4a4b-dcd6-e6b3ad4f86be"
      },
      "outputs": [
        {
          "name": "stdout",
          "output_type": "stream",
          "text": [
            "Enter any state nameDelhi\n",
            "Item Added\n",
            "Want to add more press y otherwise N\n",
            "y\n",
            "Enter any state nameGujarat\n",
            "Item Added\n",
            "Want to add more press y otherwise N\n",
            "y\n",
            "Enter any state namemaharashtra\n",
            "Item Added\n",
            "Want to add more press y otherwise N\n",
            "y\n",
            "Enter any state namepunjab\n",
            "Item Added\n",
            "Want to add more press y otherwise N\n",
            "n\n"
          ]
        }
      ],
      "source": [
        "while(True):\n",
        "  state=input(\"Enter any state name\")\n",
        "  mystate.append(state)\n",
        "  print(\"Item Added\")\n",
        "  print(\"Want to add more press y otherwise N\")\n",
        "  ans=input()\n",
        "  if ans=='y' or ans=='Y':\n",
        "    continue\n",
        "  else:\n",
        "    break"
      ]
    },
    {
      "cell_type": "code",
      "execution_count": null,
      "metadata": {
        "colab": {
          "base_uri": "https://localhost:8080/"
        },
        "id": "btozAj2uPPGV",
        "outputId": "27b9ef63-d055-44e6-d0e6-43759681244d"
      },
      "outputs": [
        {
          "output_type": "stream",
          "name": "stdout",
          "text": [
            "['Delhi', 'Gujarat', 'maharashtra', 'punjab']\n"
          ]
        }
      ],
      "source": [
        "print(mystate)"
      ]
    },
    {
      "cell_type": "code",
      "execution_count": null,
      "metadata": {
        "colab": {
          "base_uri": "https://localhost:8080/"
        },
        "id": "O20N2ojhPXvH",
        "outputId": "69b05b90-5005-4f17-ad1e-5ed33e177e25"
      },
      "outputs": [
        {
          "output_type": "stream",
          "name": "stdout",
          "text": [
            "Delhi\n",
            "Gujarat\n",
            "maharashtra\n",
            "punjab\n"
          ]
        }
      ],
      "source": [
        "#access list data using loop\n",
        "for state in mystate:\n",
        "  print(state)"
      ]
    },
    {
      "cell_type": "code",
      "execution_count": null,
      "metadata": {
        "colab": {
          "base_uri": "https://localhost:8080/"
        },
        "id": "29wPPU1tPuGc",
        "outputId": "8b681204-cde5-491c-a7c4-7e019985f9d1"
      },
      "outputs": [
        {
          "output_type": "stream",
          "name": "stdout",
          "text": [
            "1 :Delhi 5\n",
            "2 :Gujarat 7\n",
            "3 :maharashtra 11\n",
            "4 :punjab 6\n"
          ]
        }
      ],
      "source": [
        "for i in range(0,len(mystate)):\n",
        "  print(f\"{i+1} :{mystate[i]} {len(mystate[i])}\")"
      ]
    },
    {
      "cell_type": "code",
      "execution_count": null,
      "metadata": {
        "id": "Gf7H_rKyQxT9"
      },
      "outputs": [],
      "source": [
        "y=[x for x in mystate]"
      ]
    },
    {
      "cell_type": "code",
      "source": [
        "print(y)"
      ],
      "metadata": {
        "colab": {
          "base_uri": "https://localhost:8080/"
        },
        "id": "7emVGkXgrd9Z",
        "outputId": "962a42ca-774a-4257-bc55-77e4296d3761"
      },
      "execution_count": null,
      "outputs": [
        {
          "output_type": "stream",
          "name": "stdout",
          "text": [
            "['Delhi', 'Gujarat', 'maharashtra', 'punjab']\n"
          ]
        }
      ]
    },
    {
      "cell_type": "code",
      "execution_count": null,
      "metadata": {
        "id": "TTCvof_ORUV7"
      },
      "outputs": [],
      "source": [
        "fruits = [\"apple\", \"banana\", \"cherry\", \"kiwi\", \"mango\",\"Papaya\",\"chiku\",\"berry\"]\n",
        "newlist = []\n",
        "\n",
        "for x in fruits:\n",
        "  if \"a\" in x:\n",
        "    newlist.append(x)\n",
        "\n"
      ]
    },
    {
      "cell_type": "code",
      "execution_count": null,
      "metadata": {
        "colab": {
          "base_uri": "https://localhost:8080/"
        },
        "id": "wQe8tO53RfBL",
        "outputId": "bb76b31c-b185-4234-e8b0-ee3b10e1f090"
      },
      "outputs": [
        {
          "output_type": "stream",
          "name": "stdout",
          "text": [
            "['apple', 'banana', 'mango', 'Papaya']\n"
          ]
        }
      ],
      "source": [
        "print(newlist)"
      ]
    },
    {
      "cell_type": "code",
      "execution_count": null,
      "metadata": {
        "id": "lGpwzyU9SL-M"
      },
      "outputs": [],
      "source": []
    },
    {
      "cell_type": "code",
      "execution_count": null,
      "metadata": {
        "colab": {
          "base_uri": "https://localhost:8080/"
        },
        "id": "5yP526y_RrQk",
        "outputId": "0b9f49cd-b6b0-49d3-9e3d-e89a0e460b95"
      },
      "outputs": [
        {
          "output_type": "stream",
          "name": "stdout",
          "text": [
            "['cherry', 'kiwi', 'chiku', 'berry']\n"
          ]
        }
      ],
      "source": [
        "newlist1 = [f for f in fruits if \"a\"  not in f]\n",
        "\n",
        "print(newlist1)"
      ]
    },
    {
      "cell_type": "code",
      "execution_count": null,
      "metadata": {
        "id": "DUjbsnqKSMjy"
      },
      "outputs": [],
      "source": [
        "nlist = [x for x in range(1,102,2)]"
      ]
    },
    {
      "cell_type": "code",
      "execution_count": null,
      "metadata": {
        "colab": {
          "base_uri": "https://localhost:8080/"
        },
        "id": "mpv6YyRISRbS",
        "outputId": "62094488-9f4d-4d15-82c8-02fdc5749fb7"
      },
      "outputs": [
        {
          "output_type": "stream",
          "name": "stdout",
          "text": [
            "[1, 3, 5, 7, 9, 11, 13, 15, 17, 19, 21, 23, 25, 27, 29, 31, 33, 35, 37, 39, 41, 43, 45, 47, 49, 51, 53, 55, 57, 59, 61, 63, 65, 67, 69, 71, 73, 75, 77, 79, 81, 83, 85, 87, 89, 91, 93, 95, 97, 99, 101]\n"
          ]
        }
      ],
      "source": [
        "print(nlist)"
      ]
    },
    {
      "cell_type": "code",
      "execution_count": null,
      "metadata": {
        "colab": {
          "base_uri": "https://localhost:8080/"
        },
        "id": "XQzIC5u4bIFS",
        "outputId": "640d64d2-a9de-4855-fd52-ad7ee835ef48"
      },
      "outputs": [
        {
          "output_type": "stream",
          "name": "stdout",
          "text": [
            "() <class 'tuple'>\n",
            "() <class 'tuple'>\n",
            "(73, 67, 36, 47, 6) <class 'tuple'>\n",
            "(78,) <class 'tuple'>\n",
            "77 <class 'int'>\n"
          ]
        }
      ],
      "source": [
        "# Tuple\n",
        "t1=()\n",
        "t2=tuple()\n",
        "t3=(73,67,36,47,6)\n",
        "t4=(78,)\n",
        "t5=(77)\n",
        "\n",
        "print(t1, type(t1))\n",
        "print(t2, type(t2))\n",
        "print(t3, type(t3))\n",
        "print(t4, type(t4))\n",
        "print(t5, type(t5))"
      ]
    },
    {
      "cell_type": "code",
      "execution_count": null,
      "metadata": {
        "id": "4AxSuXINe2l_"
      },
      "outputs": [],
      "source": [
        "data4=(36,75,1,5,'M',\"Kamal\",666.999,True,4+3j)"
      ]
    },
    {
      "cell_type": "code",
      "execution_count": null,
      "metadata": {
        "colab": {
          "base_uri": "https://localhost:8080/"
        },
        "id": "-dBUOzP-cvKi",
        "outputId": "acf44e47-9cf0-462e-bcac-25ca51abd81c"
      },
      "outputs": [
        {
          "output_type": "stream",
          "name": "stdout",
          "text": [
            "(36, 75, 1, 5, 'M', 'Kamal', 666.999, True, (4+3j)) <class 'tuple'>\n"
          ]
        }
      ],
      "source": [
        "print(data4,type(data4))"
      ]
    },
    {
      "cell_type": "code",
      "execution_count": null,
      "metadata": {
        "colab": {
          "base_uri": "https://localhost:8080/"
        },
        "id": "q4egNpU_fYJI",
        "outputId": "e77e2d37-9f6e-4e81-b735-ea2189bcd709"
      },
      "outputs": [
        {
          "output_type": "stream",
          "name": "stdout",
          "text": [
            "36  : <class 'int'>\n",
            "75  : <class 'int'>\n",
            "1  : <class 'int'>\n",
            "5  : <class 'int'>\n",
            "M  : <class 'str'>\n",
            "Kamal  : <class 'str'>\n",
            "666.999  : <class 'float'>\n",
            "True  : <class 'bool'>\n",
            "(4+3j)  : <class 'complex'>\n"
          ]
        }
      ],
      "source": [
        "for d in data4:\n",
        "  print(d,\" :\", type(d))"
      ]
    },
    {
      "cell_type": "code",
      "execution_count": null,
      "metadata": {
        "colab": {
          "base_uri": "https://localhost:8080/"
        },
        "id": "BLynVk_Bfo1U",
        "outputId": "06934c13-5615-4aed-b82f-0547f0d2acee"
      },
      "outputs": [
        {
          "output_type": "stream",
          "name": "stdout",
          "text": [
            "[36, 75, 1, 5, 'M', 'Kamal', 666.999, True, (4+3j)]\n"
          ]
        }
      ],
      "source": [
        "x=list(data4)\n",
        "print(x)"
      ]
    },
    {
      "cell_type": "code",
      "execution_count": null,
      "metadata": {
        "id": "MVWYo6NEf6D8"
      },
      "outputs": [],
      "source": [
        "x.append(\"Hello India\")"
      ]
    },
    {
      "cell_type": "code",
      "execution_count": null,
      "metadata": {
        "id": "98n6AmJ4gAqc"
      },
      "outputs": [],
      "source": [
        "x.insert(0,\"TGC\")"
      ]
    },
    {
      "cell_type": "code",
      "execution_count": null,
      "metadata": {
        "id": "JZrg3BnEgKNl"
      },
      "outputs": [],
      "source": [
        "t6=(66,87,67,676,36,36)\n",
        "x.extend(t6)"
      ]
    },
    {
      "cell_type": "code",
      "execution_count": null,
      "metadata": {
        "colab": {
          "base_uri": "https://localhost:8080/"
        },
        "id": "Ec08Fgt1gZtd",
        "outputId": "eb41599e-5ba2-4521-beb8-a020b09a1487"
      },
      "outputs": [
        {
          "output_type": "stream",
          "name": "stdout",
          "text": [
            "['TGC', 36, 75, 1, 5, 'M', 'Kamal', 666.999, True, (4+3j), 'Hello India', 66, 87, 67, 676, 66, 87, 67, 676, 36, 36]\n"
          ]
        }
      ],
      "source": [
        "print(x)"
      ]
    },
    {
      "cell_type": "code",
      "execution_count": null,
      "metadata": {
        "colab": {
          "base_uri": "https://localhost:8080/"
        },
        "id": "1UURa0Z9ge4M",
        "outputId": "33958508-89fa-4798-85e1-b3edb8c19d28"
      },
      "outputs": [
        {
          "output_type": "stream",
          "name": "stdout",
          "text": [
            "('TGC', 36, 75, 1, 5, 'M', 'Kamal', 666.999, True, (4+3j), 'Hello India', 66, 87, 67, 676, 66, 87, 67, 676, 36, 36)\n",
            "3\n"
          ]
        }
      ],
      "source": [
        "data4=tuple(x)\n",
        "print(data4)\n",
        "print(data4.count(36))"
      ]
    },
    {
      "cell_type": "code",
      "execution_count": null,
      "metadata": {
        "colab": {
          "base_uri": "https://localhost:8080/"
        },
        "id": "YkghCxxZhCQ9",
        "outputId": "bbf27471-3f45-4254-8e36-47ebd9bd259f"
      },
      "outputs": [
        {
          "output_type": "stream",
          "name": "stdout",
          "text": [
            "(50000000, 90000000, 70000000, 760000000, 34000000)\n",
            "50000000\n",
            "90000000\n",
            "70000000\n",
            "34000000\n",
            "760000000\n",
            "Total Population 1004000000\n"
          ]
        }
      ],
      "source": [
        "#unpacking tuple\n",
        "population=(50000000,90000000,70000000,760000000,34000000)\n",
        "print(population)\n",
        "\n",
        "UP,MH,DL,MP,UK=population\n",
        "print(UP)\n",
        "print(MH)\n",
        "print(DL)\n",
        "print(UK)\n",
        "print(MP)\n",
        "\n",
        "print(\"Total Population\",sum(population))"
      ]
    },
    {
      "cell_type": "code",
      "execution_count": null,
      "metadata": {
        "colab": {
          "base_uri": "https://localhost:8080/"
        },
        "id": "VPhSGzd8h5LE",
        "outputId": "c0a4af9e-1b0b-457b-91b7-fb69d89f2158"
      },
      "outputs": [
        {
          "output_type": "stream",
          "name": "stdout",
          "text": [
            "50000000\n",
            "[90000000, 70000000, 760000000, 34000000]\n"
          ]
        }
      ],
      "source": [
        "BH,*OTHERS=population\n",
        "\n",
        "print(BH)\n",
        "print(OTHERS)\n"
      ]
    },
    {
      "cell_type": "code",
      "execution_count": null,
      "metadata": {
        "colab": {
          "base_uri": "https://localhost:8080/"
        },
        "id": "8R_gXG0yiiVE",
        "outputId": "f686ed63-7f4c-4caf-d994-5af252151f66"
      },
      "outputs": [
        {
          "output_type": "stream",
          "name": "stdout",
          "text": [
            "apple\n",
            "['mango', 'papaya', 'pineapple', 'cherry']\n",
            "mango\n",
            "mango\n",
            "1\n",
            "2\n"
          ]
        }
      ],
      "source": [
        "fruits = (\"apple\", \"mango\", \"papaya\", \"pineapple\", \"cherry\",\"mango\")\n",
        "\n",
        "(green, *tropic, red) = fruits\n",
        "\n",
        "print(green)\n",
        "print(tropic)\n",
        "print(red)\n",
        "\n",
        "myfavfruit=fruits[1]\n",
        "print(myfavfruit)\n",
        "\n",
        "if \"mango\" in fruits:\n",
        "  print(fruits.index(\"mango\"))\n",
        "\n",
        "  print(fruits.count(\"mango\"))"
      ]
    },
    {
      "cell_type": "code",
      "source": [
        "def Greet():\n",
        "    print(\"Hello Sir Good Morning\")\n",
        "\n",
        "Person1={\n",
        "    \"id\":101,\n",
        "    \"first_name\":\"Kamal\",\n",
        "    \"last_name\":\"sharma\",\n",
        "    \"age\":20,\n",
        "    \"address\":\"373,kohat enclave\",\n",
        "    \"city\":\"Delhi\",\n",
        "    \"dob\":\"05-07-2002\"\n",
        "    }\n",
        "\n"
      ],
      "metadata": {
        "id": "L6A-idkpNf_Y"
      },
      "execution_count": null,
      "outputs": []
    },
    {
      "cell_type": "code",
      "source": [
        "print(Person1)\n",
        "Greet()"
      ],
      "metadata": {
        "colab": {
          "base_uri": "https://localhost:8080/"
        },
        "id": "rQoiPAUhQwgm",
        "outputId": "1e410652-cc27-4930-cabd-cccd420b2734"
      },
      "execution_count": null,
      "outputs": [
        {
          "output_type": "stream",
          "name": "stdout",
          "text": [
            "{'id': 101, 'first_name': 'Kamal', 'last_name': 'sharma', 'age': 20, 'address': '373,kohat enclave', 'city': 'Delhi', 'dob': '05-07-2002'}\n",
            "Hello Sir Good Morning\n"
          ]
        }
      ]
    },
    {
      "cell_type": "code",
      "source": [
        "#date module\n",
        "import datetime\n",
        "\n",
        "x = datetime.datetime.now()\n",
        "print(x)\n",
        "print(x.year)\n",
        "print(x.strftime(\"%a\"))"
      ],
      "metadata": {
        "colab": {
          "base_uri": "https://localhost:8080/"
        },
        "id": "VmoaSQqocTHg",
        "outputId": "dcc6fa3f-6dce-4ae2-e7ac-bdf91a6b0cb6"
      },
      "execution_count": null,
      "outputs": [
        {
          "output_type": "stream",
          "name": "stdout",
          "text": [
            "2024-01-25 13:21:01.835869\n",
            "2024\n",
            "Thu\n"
          ]
        }
      ]
    },
    {
      "cell_type": "code",
      "source": [
        "import calendar\n",
        "year=int(input(\"Enter year :\"))\n",
        "cal=calendar.calendar(year)\n",
        "print(cal)\n",
        "print(calendar.month(year,1))\n"
      ],
      "metadata": {
        "id": "iSI3JFZ0xQT0",
        "colab": {
          "base_uri": "https://localhost:8080/"
        },
        "outputId": "6ccb325b-516e-4566-e571-dd38dcdd2a6a"
      },
      "execution_count": null,
      "outputs": [
        {
          "output_type": "stream",
          "name": "stdout",
          "text": [
            "Enter year :2024\n",
            "                                  2024\n",
            "\n",
            "      January                   February                   March\n",
            "Mo Tu We Th Fr Sa Su      Mo Tu We Th Fr Sa Su      Mo Tu We Th Fr Sa Su\n",
            " 1  2  3  4  5  6  7                1  2  3  4                   1  2  3\n",
            " 8  9 10 11 12 13 14       5  6  7  8  9 10 11       4  5  6  7  8  9 10\n",
            "15 16 17 18 19 20 21      12 13 14 15 16 17 18      11 12 13 14 15 16 17\n",
            "22 23 24 25 26 27 28      19 20 21 22 23 24 25      18 19 20 21 22 23 24\n",
            "29 30 31                  26 27 28 29               25 26 27 28 29 30 31\n",
            "\n",
            "       April                      May                       June\n",
            "Mo Tu We Th Fr Sa Su      Mo Tu We Th Fr Sa Su      Mo Tu We Th Fr Sa Su\n",
            " 1  2  3  4  5  6  7             1  2  3  4  5                      1  2\n",
            " 8  9 10 11 12 13 14       6  7  8  9 10 11 12       3  4  5  6  7  8  9\n",
            "15 16 17 18 19 20 21      13 14 15 16 17 18 19      10 11 12 13 14 15 16\n",
            "22 23 24 25 26 27 28      20 21 22 23 24 25 26      17 18 19 20 21 22 23\n",
            "29 30                     27 28 29 30 31            24 25 26 27 28 29 30\n",
            "\n",
            "        July                     August                  September\n",
            "Mo Tu We Th Fr Sa Su      Mo Tu We Th Fr Sa Su      Mo Tu We Th Fr Sa Su\n",
            " 1  2  3  4  5  6  7                1  2  3  4                         1\n",
            " 8  9 10 11 12 13 14       5  6  7  8  9 10 11       2  3  4  5  6  7  8\n",
            "15 16 17 18 19 20 21      12 13 14 15 16 17 18       9 10 11 12 13 14 15\n",
            "22 23 24 25 26 27 28      19 20 21 22 23 24 25      16 17 18 19 20 21 22\n",
            "29 30 31                  26 27 28 29 30 31         23 24 25 26 27 28 29\n",
            "                                                    30\n",
            "\n",
            "      October                   November                  December\n",
            "Mo Tu We Th Fr Sa Su      Mo Tu We Th Fr Sa Su      Mo Tu We Th Fr Sa Su\n",
            "    1  2  3  4  5  6                   1  2  3                         1\n",
            " 7  8  9 10 11 12 13       4  5  6  7  8  9 10       2  3  4  5  6  7  8\n",
            "14 15 16 17 18 19 20      11 12 13 14 15 16 17       9 10 11 12 13 14 15\n",
            "21 22 23 24 25 26 27      18 19 20 21 22 23 24      16 17 18 19 20 21 22\n",
            "28 29 30 31               25 26 27 28 29 30         23 24 25 26 27 28 29\n",
            "                                                    30 31\n",
            "\n",
            "    January 2024\n",
            "Mo Tu We Th Fr Sa Su\n",
            " 1  2  3  4  5  6  7\n",
            " 8  9 10 11 12 13 14\n",
            "15 16 17 18 19 20 21\n",
            "22 23 24 25 26 27 28\n",
            "29 30 31\n",
            "\n"
          ]
        }
      ]
    },
    {
      "cell_type": "code",
      "source": [
        "# prompt: holidays of India\n",
        "\n",
        "import calendar\n",
        "import datetime\n",
        "\n",
        "def is_holiday(year, month, day):\n",
        "  holidays = [\n",
        "      (1, 26, \"Republic Day\"),\n",
        "      (1, 27, \"Netaji Subhash Chandra Bose Jayanti\"),\n",
        "      (2, 1, \"Saraswati Puja\"),\n",
        "      (3, 8, \"Holi\"),\n",
        "      (3, 26, \"Chaitra Navratri\"),\n",
        "      (4, 14, \"Ram Navami\"),\n",
        "      (4, 2, \"Good Friday\"),\n",
        "      (4, 14, \"Baisakhi\"),\n",
        "      (5, 1, \"Buddha Purnima\"),\n",
        "      (5, 26, \"Id-ul-Fitr\"),\n",
        "      (6, 15, \"Raksha Bandhan\"),\n",
        "      (6, 25, \"Janmashtami\"),\n",
        "      (7, 11, \"Guru Purnima\"),\n",
        "      (8, 15, \"Independence Day\"),\n",
        "      (8, 24, \"Onam\"),\n",
        "      (9, 10, \"Dussehra\"),\n",
        "      (9, 22, \"Durga Puja\"),\n",
        "      (10, 2, \"Gandhi Jayanti\"),\n",
        "      (10, 24, \"Diwali\"),\n",
        "      (11, 14, \"Chhath Puja\"),\n",
        "      (12, 25, \"Christmas Day\")\n",
        "  ]\n",
        "\n",
        "  for holiday in holidays:\n",
        "    if holiday[0] == month and holiday[1] == day:\n",
        "      return holiday[2]\n",
        "\n",
        "  return None\n",
        "\n",
        "def main():\n",
        "  year = int(input(\"Enter the year: \"))\n",
        "  month = int(input(\"Enter the month: \"))\n",
        "  day = int(input(\"Enter the day: \"))\n",
        "\n",
        "  holiday = is_holiday(year, month, day)\n",
        "\n",
        "  if holiday is None:\n",
        "    print(\"No holiday on this day.\")\n",
        "  else:\n",
        "    print(f\"Holiday: {holiday}\")\n",
        "\n",
        "if __name__ == \"__main__\":\n",
        "  main()\n"
      ],
      "metadata": {
        "colab": {
          "base_uri": "https://localhost:8080/"
        },
        "id": "TYkEAco4y1yZ",
        "outputId": "ece5a8b5-226e-4c83-ecf8-2e302582ef10"
      },
      "execution_count": null,
      "outputs": [
        {
          "output_type": "stream",
          "name": "stdout",
          "text": [
            "Enter the year: 2024\n",
            "Enter the month: 1\n",
            "Enter the day: 26\n",
            "Holiday: Republic Day\n"
          ]
        }
      ]
    },
    {
      "cell_type": "code",
      "source": [
        "# python set\n",
        "# create set object\n",
        "set1={}\n",
        "set2 =set()\n",
        "set3={1,2,2,3,4,5,6,5,6,7,6,7,8,7,8,7,9,9,0,9}\n",
        "s1={'a','b','c','d','e','f','g','h','i','j','k','l'}\n",
        "s2={\"Delhi\",\"Haryana\",\"Mumbai\",\"Kolkata\"}\n",
        "s3={\"Delhi\",\"Bihar\",\"Patna\",\"chandigarh\"}\n",
        "print(set1,type(set1))\n",
        "print(set2)\n",
        "print(set3)\n",
        "print(s1)\n",
        "print(s2)\n",
        "print(len(set2))\n",
        "print(len(set3))\n",
        "print(len(s1))\n",
        "print(len(s2))\n",
        "z=s1.isdisjoint(s2)\n",
        "print(z)"
      ],
      "metadata": {
        "colab": {
          "base_uri": "https://localhost:8080/"
        },
        "id": "uvmUXrdb7JuS",
        "outputId": "8d28e320-7b9b-4102-a947-530636e428cc"
      },
      "execution_count": null,
      "outputs": [
        {
          "output_type": "stream",
          "name": "stdout",
          "text": [
            "{} <class 'dict'>\n",
            "set()\n",
            "{0, 1, 2, 3, 4, 5, 6, 7, 8, 9}\n",
            "{'g', 'i', 'c', 'f', 'k', 'd', 'l', 'e', 'b', 'j', 'a', 'h'}\n",
            "{'Haryana', 'Mumbai', 'Delhi', 'Kolkata'}\n",
            "0\n",
            "10\n",
            "12\n",
            "4\n",
            "True\n"
          ]
        }
      ]
    },
    {
      "cell_type": "code",
      "source": [],
      "metadata": {
        "id": "euNlbZW-Gwcm"
      },
      "execution_count": null,
      "outputs": []
    },
    {
      "cell_type": "code",
      "source": [
        "def Showcity():\n",
        "  for c in s2:\n",
        "    print(c)"
      ],
      "metadata": {
        "id": "DdNgtmCl9mbW"
      },
      "execution_count": null,
      "outputs": []
    },
    {
      "cell_type": "code",
      "source": [
        "def Addcity():\n",
        "  city=input(\"Enter city name :\")\n",
        "  s2.add(city)\n",
        "  print(\"City name added\")\n"
      ],
      "metadata": {
        "id": "vSFup6o99_Xd"
      },
      "execution_count": null,
      "outputs": []
    },
    {
      "cell_type": "code",
      "source": [
        "def Delcity():\n",
        "  cityname=input(\"enter city name\")\n",
        "  s2.remove(cityname)\n"
      ],
      "metadata": {
        "id": "gV3o9PqBBJlR"
      },
      "execution_count": null,
      "outputs": []
    },
    {
      "cell_type": "code",
      "source": [
        "def Menu():\n",
        "  mymenu=\"\"\"\n",
        "  ______MENU______\n",
        "  1. add data\n",
        "  2. display data\n",
        "  3. remove data\n",
        "  0. exit\n",
        "  ________________\"\"\"\n",
        "  print(mymenu)\n"
      ],
      "metadata": {
        "id": "SHKhlVA5-3ef"
      },
      "execution_count": null,
      "outputs": []
    },
    {
      "cell_type": "code",
      "source": [
        "Menu()\n",
        "while(True):\n",
        "\n",
        "  op=int(input(\"enter option:\"))\n",
        "  if op==1:\n",
        "    Addcity()\n",
        "  elif op==2:\n",
        "    Showcity()\n",
        "  elif op==3:\n",
        "    Delcity()\n",
        "  elif op==0:\n",
        "    break;\n",
        "  else:\n",
        "    print(\"please enter valid option\")\n",
        "\n"
      ],
      "metadata": {
        "colab": {
          "base_uri": "https://localhost:8080/"
        },
        "id": "0nfPa12h_S1C",
        "outputId": "8666adee-ff1b-4d59-e828-54c585e203f3"
      },
      "execution_count": null,
      "outputs": [
        {
          "name": "stdout",
          "output_type": "stream",
          "text": [
            "\n",
            "  ______MENU______\n",
            "  1. add data\n",
            "  2. display data\n",
            "  3. remove data\n",
            "  0. exit\n",
            "  ________________\n",
            "enter option:0\n"
          ]
        }
      ]
    },
    {
      "cell_type": "code",
      "source": [
        "s4=s2.union(s3)\n",
        "print(s4)"
      ],
      "metadata": {
        "colab": {
          "base_uri": "https://localhost:8080/"
        },
        "id": "ydEzXKwPDhDt",
        "outputId": "a87db4cf-4ee4-4149-e16a-5a3e2ff65139"
      },
      "execution_count": null,
      "outputs": [
        {
          "output_type": "stream",
          "name": "stdout",
          "text": [
            "{'chandigarh', 'Kolkata', 'Bihar', 'Patna', 'Haryana', 'Mumbai', 'Delhi'}\n"
          ]
        }
      ]
    },
    {
      "cell_type": "code",
      "source": [
        "s2.update(s3)\n",
        "print(s2)"
      ],
      "metadata": {
        "colab": {
          "base_uri": "https://localhost:8080/"
        },
        "id": "X4VaXbQND7aa",
        "outputId": "4a8bdefa-9c96-4356-d790-f56fc13d1b78"
      },
      "execution_count": null,
      "outputs": [
        {
          "output_type": "stream",
          "name": "stdout",
          "text": [
            "{'chandigarh', 'Kolkata', 'Bihar', 'Patna', 'Haryana', 'Mumbai', 'Delhi'}\n"
          ]
        }
      ]
    },
    {
      "cell_type": "code",
      "source": [
        "s5=s2.intersection(s3)\n",
        "print(s5)"
      ],
      "metadata": {
        "colab": {
          "base_uri": "https://localhost:8080/"
        },
        "id": "dDrV2LGQEQDK",
        "outputId": "335054df-7d1e-4980-9dee-d3a9b1af21ed"
      },
      "execution_count": null,
      "outputs": [
        {
          "output_type": "stream",
          "name": "stdout",
          "text": [
            "{'chandigarh', 'Bihar', 'Delhi', 'Patna'}\n"
          ]
        }
      ]
    },
    {
      "cell_type": "code",
      "source": [
        "x = {\"apple\", \"banana\", \"cherry\"}\n",
        "y = {\"google\", \"microsoft\", \"apple\"}\n",
        "\n",
        "x.symmetric_difference_update(y)\n",
        "\n",
        "print(x)"
      ],
      "metadata": {
        "colab": {
          "base_uri": "https://localhost:8080/"
        },
        "id": "pM1_J4fSE2VW",
        "outputId": "5072197a-080a-41ee-9e5e-e78b4142ac43"
      },
      "execution_count": null,
      "outputs": [
        {
          "output_type": "stream",
          "name": "stdout",
          "text": [
            "{'cherry', 'google', 'banana', 'microsoft'}\n"
          ]
        }
      ]
    },
    {
      "cell_type": "code",
      "source": [
        "x = {\"apple\", \"banana\", \"cherry\"}\n",
        "y = {\"google\", \"microsoft\", \"apple\"}\n",
        "\n",
        "print(x)\n",
        "z=y.difference(x)\n",
        "\n",
        "print(z)"
      ],
      "metadata": {
        "colab": {
          "base_uri": "https://localhost:8080/"
        },
        "id": "x7RoUdDOFAmu",
        "outputId": "7a71875c-5d82-4071-f73d-6cbe4a16a480"
      },
      "execution_count": null,
      "outputs": [
        {
          "output_type": "stream",
          "name": "stdout",
          "text": [
            "{'cherry', 'banana', 'apple'}\n",
            "{'google', 'microsoft'}\n"
          ]
        }
      ]
    },
    {
      "cell_type": "code",
      "source": [
        "Actors=[\n",
        "\t{\n",
        "\t\t\"actor_id\" : 1,\n",
        "\t\t\"first_name\" : \"PENELOPE\",\n",
        "\t\t\"last_name\" : \"GUINESS\",\n",
        "\t\t\"Age\":45,\n",
        "\t\t\"last_update\" : \"2006-02-15 04:34:33\"\n",
        "\t},\n",
        "\t{\n",
        "\t\t\"actor_id\" : 2,\n",
        "\t\t\"first_name\" : \"NICK\",\n",
        "\t\t\"last_name\" : \"WAHLBERG\",\n",
        "\t\t\"Age\":35,\n",
        "\t\t\"last_update\" : \"2006-02-15 04:34:33\"\n",
        "\t},\n",
        "\t{\n",
        "\t\t\"actor_id\" : 3,\n",
        "\t\t\"first_name\" : \"ED\",\n",
        "\t\t\"last_name\" : \"CHASE\",\n",
        "\t\t\"last_update\" : \"2006-02-15 04:34:33\"\n",
        "\t},\n",
        "\t{\n",
        "\t\t\"actor_id\" : 4,\n",
        "\t\t\"first_name\" : \"JENNIFER\",\n",
        "\t\t\"last_name\" : \"DAVIS\",\n",
        "\t\t\"last_update\" : \"2006-02-15 04:34:33\"\n",
        "\t},\n",
        "\t{\n",
        "\t\t\"actor_id\" : 5,\n",
        "\t\t\"first_name\" : \"JOHNNY\",\n",
        "\t\t\"last_name\" : \"LOLLOBRIGIDA\",\n",
        "\t\t\"last_update\" : \"2006-02-15 04:34:33\"\n",
        "\t},\n",
        "\t{\n",
        "\t\t\"actor_id\" : 6,\n",
        "\t\t\"first_name\" : \"BETTE\",\n",
        "\t\t\"last_name\" : \"NICHOLSON\",\n",
        "\t\t\"last_update\" : \"2006-02-15 04:34:33\"\n",
        "\t},\n",
        "\t{\n",
        "\t\t\"actor_id\" : 7,\n",
        "\t\t\"first_name\" : \"GRACE\",\n",
        "\t\t\"last_name\" : \"MOSTEL\",\n",
        "\t\t\"last_update\" : \"2006-02-15 04:34:33\"\n",
        "\t},\n",
        "\t{\n",
        "\t\t\"actor_id\" : 8,\n",
        "\t\t\"first_name\" : \"MATTHEW\",\n",
        "\t\t\"last_name\" : \"JOHANSSON\",\n",
        "\t\t\"last_update\" : \"2006-02-15 04:34:33\"\n",
        "\t},\n",
        "\t{\n",
        "\t\t\"actor_id\" : 9,\n",
        "\t\t\"first_name\" : \"JOE\",\n",
        "\t\t\"last_name\" : \"SWANK\",\n",
        "\t\t\"last_update\" : \"2006-02-15 04:34:33\"\n",
        "\t},\n",
        "\t{\n",
        "\t\t\"actor_id\" : 10,\n",
        "\t\t\"first_name\" : \"CHRISTIAN\",\n",
        "\t\t\"last_name\" : \"GABLE\",\n",
        "\t\t\"last_update\" : \"2006-02-15 04:34:33\"\n",
        "\t},\n",
        "\t{\n",
        "\t\t\"actor_id\" : 11,\n",
        "\t\t\"first_name\" : \"ZERO\",\n",
        "\t\t\"last_name\" : \"CAGE\",\n",
        "\t\t\"last_update\" : \"2006-02-15 04:34:33\"\n",
        "\t},\n",
        "\t{\n",
        "\t\t\"actor_id\" : 12,\n",
        "\t\t\"first_name\" : \"KARL\",\n",
        "\t\t\"last_name\" : \"BERRY\",\n",
        "\t\t\"last_update\" : \"2006-02-15 04:34:33\"\n",
        "\t},\n",
        "\t{\n",
        "\t\t\"actor_id\" : 13,\n",
        "\t\t\"first_name\" : \"UMA\",\n",
        "\t\t\"last_name\" : \"WOOD\",\n",
        "\t\t\"last_update\" : \"2006-02-15 04:34:33\"\n",
        "\t},\n",
        "\t{\n",
        "\t\t\"actor_id\" : 14,\n",
        "\t\t\"first_name\" : \"VIVIEN\",\n",
        "\t\t\"last_name\" : \"BERGEN\",\n",
        "\t\t\"last_update\" : \"2006-02-15 04:34:33\"\n",
        "\t},\n",
        "\t{\n",
        "\t\t\"actor_id\" : 15,\n",
        "\t\t\"first_name\" : \"CUBA\",\n",
        "\t\t\"last_name\" : \"OLIVIER\",\n",
        "\t\t\"last_update\" : \"2006-02-15 04:34:33\"\n",
        "\t},\n",
        "\t{\n",
        "\t\t\"actor_id\" : 16,\n",
        "\t\t\"first_name\" : \"FRED\",\n",
        "\t\t\"last_name\" : \"COSTNER\",\n",
        "\t\t\"last_update\" : \"2006-02-15 04:34:33\"\n",
        "\t},\n",
        "\t{\n",
        "\t\t\"actor_id\" : 17,\n",
        "\t\t\"first_name\" : \"HELEN\",\n",
        "\t\t\"last_name\" : \"VOIGHT\",\n",
        "\t\t\"last_update\" : \"2006-02-15 04:34:33\"\n",
        "\t},\n",
        "\t{\n",
        "\t\t\"actor_id\" : 18,\n",
        "\t\t\"first_name\" : \"DAN\",\n",
        "\t\t\"last_name\" : \"TORN\",\n",
        "\t\t\"last_update\" : \"2006-02-15 04:34:33\"\n",
        "\t},\n",
        "\t{\n",
        "\t\t\"actor_id\" : 19,\n",
        "\t\t\"first_name\" : \"BOB\",\n",
        "\t\t\"last_name\" : \"FAWCETT\",\n",
        "\t\t\"last_update\" : \"2006-02-15 04:34:33\"\n",
        "\t},\n",
        "\t{\n",
        "\t\t\"actor_id\" : 20,\n",
        "\t\t\"first_name\" : \"LUCILLE\",\n",
        "\t\t\"last_name\" : \"TRACY\",\n",
        "\t\t\"last_update\" : \"2006-02-15 04:34:33\"\n",
        "\t},\n",
        "\t{\n",
        "\t\t\"actor_id\" : 21,\n",
        "\t\t\"first_name\" : \"KIRSTEN\",\n",
        "\t\t\"last_name\" : \"PALTROW\",\n",
        "\t\t\"last_update\" : \"2006-02-15 04:34:33\"\n",
        "\t},\n",
        "\t{\n",
        "\t\t\"actor_id\" : 22,\n",
        "\t\t\"first_name\" : \"ELVIS\",\n",
        "\t\t\"last_name\" : \"MARX\",\n",
        "\t\t\"last_update\" : \"2006-02-15 04:34:33\"\n",
        "\t},\n",
        "\t{\n",
        "\t\t\"actor_id\" : 23,\n",
        "\t\t\"first_name\" : \"SANDRA\",\n",
        "\t\t\"last_name\" : \"KILMER\",\n",
        "\t\t\"last_update\" : \"2006-02-15 04:34:33\"\n",
        "\t},\n",
        "\t{\n",
        "\t\t\"actor_id\" : 24,\n",
        "\t\t\"first_name\" : \"CAMERON\",\n",
        "\t\t\"last_name\" : \"STREEP\",\n",
        "\t\t\"last_update\" : \"2006-02-15 04:34:33\"\n",
        "\t},\n",
        "\t{\n",
        "\t\t\"actor_id\" : 25,\n",
        "\t\t\"first_name\" : \"KEVIN\",\n",
        "\t\t\"last_name\" : \"BLOOM\",\n",
        "\t\t\"last_update\" : \"2006-02-15 04:34:33\"\n",
        "\t},\n",
        "\t{\n",
        "\t\t\"actor_id\" : 26,\n",
        "\t\t\"first_name\" : \"RIP\",\n",
        "\t\t\"last_name\" : \"CRAWFORD\",\n",
        "\t\t\"last_update\" : \"2006-02-15 04:34:33\"\n",
        "\t},\n",
        "\t{\n",
        "\t\t\"actor_id\" : 27,\n",
        "\t\t\"first_name\" : \"JULIA\",\n",
        "\t\t\"last_name\" : \"MCQUEEN\",\n",
        "\t\t\"last_update\" : \"2006-02-15 04:34:33\"\n",
        "\t},\n",
        "\t{\n",
        "\t\t\"actor_id\" : 28,\n",
        "\t\t\"first_name\" : \"WOODY\",\n",
        "\t\t\"last_name\" : \"HOFFMAN\",\n",
        "\t\t\"last_update\" : \"2006-02-15 04:34:33\"\n",
        "\t},\n",
        "\t{\n",
        "\t\t\"actor_id\" : 29,\n",
        "\t\t\"first_name\" : \"ALEC\",\n",
        "\t\t\"last_name\" : \"WAYNE\",\n",
        "\t\t\"last_update\" : \"2006-02-15 04:34:33\"\n",
        "\t},\n",
        "\t{\n",
        "\t\t\"actor_id\" : 30,\n",
        "\t\t\"first_name\" : \"SANDRA\",\n",
        "\t\t\"last_name\" : \"PECK\",\n",
        "\t\t\"last_update\" : \"2006-02-15 04:34:33\"\n",
        "\t},\n",
        "\t{\n",
        "\t\t\"actor_id\" : 31,\n",
        "\t\t\"first_name\" : \"SISSY\",\n",
        "\t\t\"last_name\" : \"SOBIESKI\",\n",
        "\t\t\"last_update\" : \"2006-02-15 04:34:33\"\n",
        "\t},\n",
        "\t{\n",
        "\t\t\"actor_id\" : 32,\n",
        "\t\t\"first_name\" : \"TIM\",\n",
        "\t\t\"last_name\" : \"HACKMAN\",\n",
        "\t\t\"last_update\" : \"2006-02-15 04:34:33\"\n",
        "\t},\n",
        "\t{\n",
        "\t\t\"actor_id\" : 33,\n",
        "\t\t\"first_name\" : \"MILLA\",\n",
        "\t\t\"last_name\" : \"PECK\",\n",
        "\t\t\"last_update\" : \"2006-02-15 04:34:33\"\n",
        "\t},\n",
        "\t{\n",
        "\t\t\"actor_id\" : 34,\n",
        "\t\t\"first_name\" : \"AUDREY\",\n",
        "\t\t\"last_name\" : \"OLIVIER\",\n",
        "\t\t\"last_update\" : \"2006-02-15 04:34:33\"\n",
        "\t},\n",
        "\t{\n",
        "\t\t\"actor_id\" : 35,\n",
        "\t\t\"first_name\" : \"JUDY\",\n",
        "\t\t\"last_name\" : \"DEAN\",\n",
        "\t\t\"last_update\" : \"2006-02-15 04:34:33\"\n",
        "\t},\n",
        "\t{\n",
        "\t\t\"actor_id\" : 36,\n",
        "\t\t\"first_name\" : \"BURT\",\n",
        "\t\t\"last_name\" : \"DUKAKIS\",\n",
        "\t\t\"last_update\" : \"2006-02-15 04:34:33\"\n",
        "\t},\n",
        "\t{\n",
        "\t\t\"actor_id\" : 37,\n",
        "\t\t\"first_name\" : \"VAL\",\n",
        "\t\t\"last_name\" : \"BOLGER\",\n",
        "\t\t\"last_update\" : \"2006-02-15 04:34:33\"\n",
        "\t},\n",
        "\t{\n",
        "\t\t\"actor_id\" : 38,\n",
        "\t\t\"first_name\" : \"TOM\",\n",
        "\t\t\"last_name\" : \"MCKELLEN\",\n",
        "\t\t\"last_update\" : \"2006-02-15 04:34:33\"\n",
        "\t},\n",
        "\t{\n",
        "\t\t\"actor_id\" : 39,\n",
        "\t\t\"first_name\" : \"GOLDIE\",\n",
        "\t\t\"last_name\" : \"BRODY\",\n",
        "\t\t\"last_update\" : \"2006-02-15 04:34:33\"\n",
        "\t},\n",
        "\t{\n",
        "\t\t\"actor_id\" : 40,\n",
        "\t\t\"first_name\" : \"JOHNNY\",\n",
        "\t\t\"last_name\" : \"CAGE\",\n",
        "\t\t\"last_update\" : \"2006-02-15 04:34:33\"\n",
        "\t},\n",
        "\t{\n",
        "\t\t\"actor_id\" : 41,\n",
        "\t\t\"first_name\" : \"JODIE\",\n",
        "\t\t\"last_name\" : \"DEGENERES\",\n",
        "\t\t\"last_update\" : \"2006-02-15 04:34:33\"\n",
        "\t},\n",
        "\t{\n",
        "\t\t\"actor_id\" : 42,\n",
        "\t\t\"first_name\" : \"TOM\",\n",
        "\t\t\"last_name\" : \"MIRANDA\",\n",
        "\t\t\"last_update\" : \"2006-02-15 04:34:33\"\n",
        "\t},\n",
        "\t{\n",
        "\t\t\"actor_id\" : 43,\n",
        "\t\t\"first_name\" : \"KIRK\",\n",
        "\t\t\"last_name\" : \"JOVOVICH\",\n",
        "\t\t\"last_update\" : \"2006-02-15 04:34:33\"\n",
        "\t},\n",
        "\t{\n",
        "\t\t\"actor_id\" : 44,\n",
        "\t\t\"first_name\" : \"NICK\",\n",
        "\t\t\"last_name\" : \"STALLONE\",\n",
        "\t\t\"last_update\" : \"2006-02-15 04:34:33\"\n",
        "\t},\n",
        "\t{\n",
        "\t\t\"actor_id\" : 45,\n",
        "\t\t\"first_name\" : \"REESE\",\n",
        "\t\t\"last_name\" : \"KILMER\",\n",
        "\t\t\"last_update\" : \"2006-02-15 04:34:33\"\n",
        "\t},\n",
        "\t{\n",
        "\t\t\"actor_id\" : 46,\n",
        "\t\t\"first_name\" : \"PARKER\",\n",
        "\t\t\"last_name\" : \"GOLDBERG\",\n",
        "\t\t\"last_update\" : \"2006-02-15 04:34:33\"\n",
        "\t},\n",
        "\t{\n",
        "\t\t\"actor_id\" : 47,\n",
        "\t\t\"first_name\" : \"JULIA\",\n",
        "\t\t\"last_name\" : \"BARRYMORE\",\n",
        "\t\t\"last_update\" : \"2006-02-15 04:34:33\"\n",
        "\t},\n",
        "\t{\n",
        "\t\t\"actor_id\" : 48,\n",
        "\t\t\"first_name\" : \"FRANCES\",\n",
        "\t\t\"last_name\" : \"DAY-LEWIS\",\n",
        "\t\t\"last_update\" : \"2006-02-15 04:34:33\"\n",
        "\t},\n",
        "\t{\n",
        "\t\t\"actor_id\" : 49,\n",
        "\t\t\"first_name\" : \"ANNE\",\n",
        "\t\t\"last_name\" : \"CRONYN\",\n",
        "\t\t\"last_update\" : \"2006-02-15 04:34:33\"\n",
        "\t},\n",
        "\t{\n",
        "\t\t\"actor_id\" : 50,\n",
        "\t\t\"first_name\" : \"NATALIE\",\n",
        "\t\t\"last_name\" : \"HOPKINS\",\n",
        "\t\t\"last_update\" : \"2006-02-15 04:34:33\"\n",
        "\t},\n",
        "\t{\n",
        "\t\t\"actor_id\" : 51,\n",
        "\t\t\"first_name\" : \"GARY\",\n",
        "\t\t\"last_name\" : \"PHOENIX\",\n",
        "\t\t\"last_update\" : \"2006-02-15 04:34:33\"\n",
        "\t},\n",
        "\t{\n",
        "\t\t\"actor_id\" : 52,\n",
        "\t\t\"first_name\" : \"CARMEN\",\n",
        "\t\t\"last_name\" : \"HUNT\",\n",
        "\t\t\"last_update\" : \"2006-02-15 04:34:33\"\n",
        "\t},\n",
        "\t{\n",
        "\t\t\"actor_id\" : 53,\n",
        "\t\t\"first_name\" : \"MENA\",\n",
        "\t\t\"last_name\" : \"TEMPLE\",\n",
        "\t\t\"last_update\" : \"2006-02-15 04:34:33\"\n",
        "\t},\n",
        "\t{\n",
        "\t\t\"actor_id\" : 54,\n",
        "\t\t\"first_name\" : \"PENELOPE\",\n",
        "\t\t\"last_name\" : \"PINKETT\",\n",
        "\t\t\"last_update\" : \"2006-02-15 04:34:33\"\n",
        "\t},\n",
        "\t{\n",
        "\t\t\"actor_id\" : 55,\n",
        "\t\t\"first_name\" : \"FAY\",\n",
        "\t\t\"last_name\" : \"KILMER\",\n",
        "\t\t\"last_update\" : \"2006-02-15 04:34:33\"\n",
        "\t},\n",
        "\t{\n",
        "\t\t\"actor_id\" : 56,\n",
        "\t\t\"first_name\" : \"DAN\",\n",
        "\t\t\"last_name\" : \"HARRIS\",\n",
        "\t\t\"last_update\" : \"2006-02-15 04:34:33\"\n",
        "\t},\n",
        "\t{\n",
        "\t\t\"actor_id\" : 57,\n",
        "\t\t\"first_name\" : \"JUDE\",\n",
        "\t\t\"last_name\" : \"CRUISE\",\n",
        "\t\t\"last_update\" : \"2006-02-15 04:34:33\"\n",
        "\t},\n",
        "\t{\n",
        "\t\t\"actor_id\" : 58,\n",
        "\t\t\"first_name\" : \"CHRISTIAN\",\n",
        "\t\t\"last_name\" : \"AKROYD\",\n",
        "\t\t\"last_update\" : \"2006-02-15 04:34:33\"\n",
        "\t},\n",
        "\t{\n",
        "\t\t\"actor_id\" : 59,\n",
        "\t\t\"first_name\" : \"DUSTIN\",\n",
        "\t\t\"last_name\" : \"TAUTOU\",\n",
        "\t\t\"last_update\" : \"2006-02-15 04:34:33\"\n",
        "\t},\n",
        "\t{\n",
        "\t\t\"actor_id\" : 60,\n",
        "\t\t\"first_name\" : \"HENRY\",\n",
        "\t\t\"last_name\" : \"BERRY\",\n",
        "\t\t\"last_update\" : \"2006-02-15 04:34:33\"\n",
        "\t},\n",
        "\t{\n",
        "\t\t\"actor_id\" : 61,\n",
        "\t\t\"first_name\" : \"CHRISTIAN\",\n",
        "\t\t\"last_name\" : \"NEESON\",\n",
        "\t\t\"last_update\" : \"2006-02-15 04:34:33\"\n",
        "\t},\n",
        "\t{\n",
        "\t\t\"actor_id\" : 62,\n",
        "\t\t\"first_name\" : \"JAYNE\",\n",
        "\t\t\"last_name\" : \"NEESON\",\n",
        "\t\t\"last_update\" : \"2006-02-15 04:34:33\"\n",
        "\t},\n",
        "\t{\n",
        "\t\t\"actor_id\" : 63,\n",
        "\t\t\"first_name\" : \"CAMERON\",\n",
        "\t\t\"last_name\" : \"WRAY\",\n",
        "\t\t\"last_update\" : \"2006-02-15 04:34:33\"\n",
        "\t},\n",
        "\t{\n",
        "\t\t\"actor_id\" : 64,\n",
        "\t\t\"first_name\" : \"RAY\",\n",
        "\t\t\"last_name\" : \"JOHANSSON\",\n",
        "\t\t\"last_update\" : \"2006-02-15 04:34:33\"\n",
        "\t},\n",
        "\t{\n",
        "\t\t\"actor_id\" : 65,\n",
        "\t\t\"first_name\" : \"ANGELA\",\n",
        "\t\t\"last_name\" : \"HUDSON\",\n",
        "\t\t\"last_update\" : \"2006-02-15 04:34:33\"\n",
        "\t},\n",
        "\t{\n",
        "\t\t\"actor_id\" : 66,\n",
        "\t\t\"first_name\" : \"MARY\",\n",
        "\t\t\"last_name\" : \"TANDY\",\n",
        "\t\t\"last_update\" : \"2006-02-15 04:34:33\"\n",
        "\t},\n",
        "\t{\n",
        "\t\t\"actor_id\" : 67,\n",
        "\t\t\"first_name\" : \"JESSICA\",\n",
        "\t\t\"last_name\" : \"BAILEY\",\n",
        "\t\t\"last_update\" : \"2006-02-15 04:34:33\"\n",
        "\t},\n",
        "\t{\n",
        "\t\t\"actor_id\" : 68,\n",
        "\t\t\"first_name\" : \"RIP\",\n",
        "\t\t\"last_name\" : \"WINSLET\",\n",
        "\t\t\"last_update\" : \"2006-02-15 04:34:33\"\n",
        "\t},\n",
        "\t{\n",
        "\t\t\"actor_id\" : 69,\n",
        "\t\t\"first_name\" : \"KENNETH\",\n",
        "\t\t\"last_name\" : \"PALTROW\",\n",
        "\t\t\"last_update\" : \"2006-02-15 04:34:33\"\n",
        "\t},\n",
        "\t{\n",
        "\t\t\"actor_id\" : 70,\n",
        "\t\t\"first_name\" : \"MICHELLE\",\n",
        "\t\t\"last_name\" : \"MCCONAUGHEY\",\n",
        "\t\t\"last_update\" : \"2006-02-15 04:34:33\"\n",
        "\t},\n",
        "\t{\n",
        "\t\t\"actor_id\" : 71,\n",
        "\t\t\"first_name\" : \"ADAM\",\n",
        "\t\t\"last_name\" : \"GRANT\",\n",
        "\t\t\"last_update\" : \"2006-02-15 04:34:33\"\n",
        "\t},\n",
        "\t{\n",
        "\t\t\"actor_id\" : 72,\n",
        "\t\t\"first_name\" : \"SEAN\",\n",
        "\t\t\"last_name\" : \"WILLIAMS\",\n",
        "\t\t\"last_update\" : \"2006-02-15 04:34:33\"\n",
        "\t},\n",
        "\t{\n",
        "\t\t\"actor_id\" : 73,\n",
        "\t\t\"first_name\" : \"GARY\",\n",
        "\t\t\"last_name\" : \"PENN\",\n",
        "\t\t\"last_update\" : \"2006-02-15 04:34:33\"\n",
        "\t},\n",
        "\t{\n",
        "\t\t\"actor_id\" : 74,\n",
        "\t\t\"first_name\" : \"MILLA\",\n",
        "\t\t\"last_name\" : \"KEITEL\",\n",
        "\t\t\"last_update\" : \"2006-02-15 04:34:33\"\n",
        "\t},\n",
        "\t{\n",
        "\t\t\"actor_id\" : 75,\n",
        "\t\t\"first_name\" : \"BURT\",\n",
        "\t\t\"last_name\" : \"POSEY\",\n",
        "\t\t\"last_update\" : \"2006-02-15 04:34:33\"\n",
        "\t},\n",
        "\t{\n",
        "\t\t\"actor_id\" : 76,\n",
        "\t\t\"first_name\" : \"ANGELINA\",\n",
        "\t\t\"last_name\" : \"ASTAIRE\",\n",
        "\t\t\"last_update\" : \"2006-02-15 04:34:33\"\n",
        "\t},\n",
        "\t{\n",
        "\t\t\"actor_id\" : 77,\n",
        "\t\t\"first_name\" : \"CARY\",\n",
        "\t\t\"last_name\" : \"MCCONAUGHEY\",\n",
        "\t\t\"last_update\" : \"2006-02-15 04:34:33\"\n",
        "\t},\n",
        "\t{\n",
        "\t\t\"actor_id\" : 78,\n",
        "\t\t\"first_name\" : \"GROUCHO\",\n",
        "\t\t\"last_name\" : \"SINATRA\",\n",
        "\t\t\"last_update\" : \"2006-02-15 04:34:33\"\n",
        "\t},\n",
        "\t{\n",
        "\t\t\"actor_id\" : 79,\n",
        "\t\t\"first_name\" : \"MAE\",\n",
        "\t\t\"last_name\" : \"HOFFMAN\",\n",
        "\t\t\"last_update\" : \"2006-02-15 04:34:33\"\n",
        "\t},\n",
        "\t{\n",
        "\t\t\"actor_id\" : 80,\n",
        "\t\t\"first_name\" : \"RALPH\",\n",
        "\t\t\"last_name\" : \"CRUZ\",\n",
        "\t\t\"last_update\" : \"2006-02-15 04:34:33\"\n",
        "\t},\n",
        "\t{\n",
        "\t\t\"actor_id\" : 81,\n",
        "\t\t\"first_name\" : \"SCARLETT\",\n",
        "\t\t\"last_name\" : \"DAMON\",\n",
        "\t\t\"last_update\" : \"2006-02-15 04:34:33\"\n",
        "\t},\n",
        "\t{\n",
        "\t\t\"actor_id\" : 82,\n",
        "\t\t\"first_name\" : \"WOODY\",\n",
        "\t\t\"last_name\" : \"JOLIE\",\n",
        "\t\t\"last_update\" : \"2006-02-15 04:34:33\"\n",
        "\t},\n",
        "\t{\n",
        "\t\t\"actor_id\" : 83,\n",
        "\t\t\"first_name\" : \"BEN\",\n",
        "\t\t\"last_name\" : \"WILLIS\",\n",
        "\t\t\"last_update\" : \"2006-02-15 04:34:33\"\n",
        "\t},\n",
        "\t{\n",
        "\t\t\"actor_id\" : 84,\n",
        "\t\t\"first_name\" : \"JAMES\",\n",
        "\t\t\"last_name\" : \"PITT\",\n",
        "\t\t\"last_update\" : \"2006-02-15 04:34:33\"\n",
        "\t},\n",
        "\t{\n",
        "\t\t\"actor_id\" : 85,\n",
        "\t\t\"first_name\" : \"MINNIE\",\n",
        "\t\t\"last_name\" : \"ZELLWEGER\",\n",
        "\t\t\"last_update\" : \"2006-02-15 04:34:33\"\n",
        "\t},\n",
        "\t{\n",
        "\t\t\"actor_id\" : 86,\n",
        "\t\t\"first_name\" : \"GREG\",\n",
        "\t\t\"last_name\" : \"CHAPLIN\",\n",
        "\t\t\"last_update\" : \"2006-02-15 04:34:33\"\n",
        "\t},\n",
        "\t{\n",
        "\t\t\"actor_id\" : 87,\n",
        "\t\t\"first_name\" : \"SPENCER\",\n",
        "\t\t\"last_name\" : \"PECK\",\n",
        "\t\t\"last_update\" : \"2006-02-15 04:34:33\"\n",
        "\t},\n",
        "\t{\n",
        "\t\t\"actor_id\" : 88,\n",
        "\t\t\"first_name\" : \"KENNETH\",\n",
        "\t\t\"last_name\" : \"PESCI\",\n",
        "\t\t\"last_update\" : \"2006-02-15 04:34:33\"\n",
        "\t},\n",
        "\t{\n",
        "\t\t\"actor_id\" : 89,\n",
        "\t\t\"first_name\" : \"CHARLIZE\",\n",
        "\t\t\"last_name\" : \"DENCH\",\n",
        "\t\t\"last_update\" : \"2006-02-15 04:34:33\"\n",
        "\t},\n",
        "\t{\n",
        "\t\t\"actor_id\" : 90,\n",
        "\t\t\"first_name\" : \"SEAN\",\n",
        "\t\t\"last_name\" : \"GUINESS\",\n",
        "\t\t\"last_update\" : \"2006-02-15 04:34:33\"\n",
        "\t},\n",
        "\t{\n",
        "\t\t\"actor_id\" : 91,\n",
        "\t\t\"first_name\" : \"CHRISTOPHER\",\n",
        "\t\t\"last_name\" : \"BERRY\",\n",
        "\t\t\"last_update\" : \"2006-02-15 04:34:33\"\n",
        "\t},\n",
        "\t{\n",
        "\t\t\"actor_id\" : 92,\n",
        "\t\t\"first_name\" : \"KIRSTEN\",\n",
        "\t\t\"last_name\" : \"AKROYD\",\n",
        "\t\t\"last_update\" : \"2006-02-15 04:34:33\"\n",
        "\t},\n",
        "\t{\n",
        "\t\t\"actor_id\" : 93,\n",
        "\t\t\"first_name\" : \"ELLEN\",\n",
        "\t\t\"last_name\" : \"PRESLEY\",\n",
        "\t\t\"last_update\" : \"2006-02-15 04:34:33\"\n",
        "\t},\n",
        "\t{\n",
        "\t\t\"actor_id\" : 94,\n",
        "\t\t\"first_name\" : \"KENNETH\",\n",
        "\t\t\"last_name\" : \"TORN\",\n",
        "\t\t\"last_update\" : \"2006-02-15 04:34:33\"\n",
        "\t},\n",
        "\t{\n",
        "\t\t\"actor_id\" : 95,\n",
        "\t\t\"first_name\" : \"DARYL\",\n",
        "\t\t\"last_name\" : \"WAHLBERG\",\n",
        "\t\t\"last_update\" : \"2006-02-15 04:34:33\"\n",
        "\t},\n",
        "\t{\n",
        "\t\t\"actor_id\" : 96,\n",
        "\t\t\"first_name\" : \"GENE\",\n",
        "\t\t\"last_name\" : \"WILLIS\",\n",
        "\t\t\"last_update\" : \"2006-02-15 04:34:33\"\n",
        "\t},\n",
        "\t{\n",
        "\t\t\"actor_id\" : 97,\n",
        "\t\t\"first_name\" : \"MEG\",\n",
        "\t\t\"last_name\" : \"HAWKE\",\n",
        "\t\t\"last_update\" : \"2006-02-15 04:34:33\"\n",
        "\t},\n",
        "\t{\n",
        "\t\t\"actor_id\" : 98,\n",
        "\t\t\"first_name\" : \"CHRIS\",\n",
        "\t\t\"last_name\" : \"BRIDGES\",\n",
        "\t\t\"last_update\" : \"2006-02-15 04:34:33\"\n",
        "\t},\n",
        "\t{\n",
        "\t\t\"actor_id\" : 99,\n",
        "\t\t\"first_name\" : \"JIM\",\n",
        "\t\t\"last_name\" : \"MOSTEL\",\n",
        "\t\t\"last_update\" : \"2006-02-15 04:34:33\"\n",
        "\t},\n",
        "\t{\n",
        "\t\t\"actor_id\" : 100,\n",
        "\t\t\"first_name\" : \"SPENCER\",\n",
        "\t\t\"last_name\" : \"DEPP\",\n",
        "\t\t\"last_update\" : \"2006-02-15 04:34:33\"\n",
        "\t},\n",
        "\t{\n",
        "\t\t\"actor_id\" : 101,\n",
        "\t\t\"first_name\" : \"SUSAN\",\n",
        "\t\t\"last_name\" : \"DAVIS\",\n",
        "\t\t\"last_update\" : \"2006-02-15 04:34:33\"\n",
        "\t},\n",
        "\t{\n",
        "\t\t\"actor_id\" : 102,\n",
        "\t\t\"first_name\" : \"WALTER\",\n",
        "\t\t\"last_name\" : \"TORN\",\n",
        "\t\t\"last_update\" : \"2006-02-15 04:34:33\"\n",
        "\t},\n",
        "\t{\n",
        "\t\t\"actor_id\" : 103,\n",
        "\t\t\"first_name\" : \"MATTHEW\",\n",
        "\t\t\"last_name\" : \"LEIGH\",\n",
        "\t\t\"last_update\" : \"2006-02-15 04:34:33\"\n",
        "\t},\n",
        "\t{\n",
        "\t\t\"actor_id\" : 104,\n",
        "\t\t\"first_name\" : \"PENELOPE\",\n",
        "\t\t\"last_name\" : \"CRONYN\",\n",
        "\t\t\"last_update\" : \"2006-02-15 04:34:33\"\n",
        "\t},\n",
        "\t{\n",
        "\t\t\"actor_id\" : 105,\n",
        "\t\t\"first_name\" : \"SIDNEY\",\n",
        "\t\t\"last_name\" : \"CROWE\",\n",
        "\t\t\"last_update\" : \"2006-02-15 04:34:33\"\n",
        "\t},\n",
        "\t{\n",
        "\t\t\"actor_id\" : 106,\n",
        "\t\t\"first_name\" : \"GROUCHO\",\n",
        "\t\t\"last_name\" : \"DUNST\",\n",
        "\t\t\"last_update\" : \"2006-02-15 04:34:33\"\n",
        "\t},\n",
        "\t{\n",
        "\t\t\"actor_id\" : 107,\n",
        "\t\t\"first_name\" : \"GINA\",\n",
        "\t\t\"last_name\" : \"DEGENERES\",\n",
        "\t\t\"last_update\" : \"2006-02-15 04:34:33\"\n",
        "\t},\n",
        "\t{\n",
        "\t\t\"actor_id\" : 108,\n",
        "\t\t\"first_name\" : \"WARREN\",\n",
        "\t\t\"last_name\" : \"NOLTE\",\n",
        "\t\t\"last_update\" : \"2006-02-15 04:34:33\"\n",
        "\t},\n",
        "\t{\n",
        "\t\t\"actor_id\" : 109,\n",
        "\t\t\"first_name\" : \"SYLVESTER\",\n",
        "\t\t\"last_name\" : \"DERN\",\n",
        "\t\t\"last_update\" : \"2006-02-15 04:34:33\"\n",
        "\t},\n",
        "\t{\n",
        "\t\t\"actor_id\" : 110,\n",
        "\t\t\"first_name\" : \"SUSAN\",\n",
        "\t\t\"last_name\" : \"DAVIS\",\n",
        "\t\t\"last_update\" : \"2006-02-15 04:34:33\"\n",
        "\t},\n",
        "\t{\n",
        "\t\t\"actor_id\" : 111,\n",
        "\t\t\"first_name\" : \"CAMERON\",\n",
        "\t\t\"last_name\" : \"ZELLWEGER\",\n",
        "\t\t\"last_update\" : \"2006-02-15 04:34:33\"\n",
        "\t},\n",
        "\t{\n",
        "\t\t\"actor_id\" : 112,\n",
        "\t\t\"first_name\" : \"RUSSELL\",\n",
        "\t\t\"last_name\" : \"BACALL\",\n",
        "\t\t\"last_update\" : \"2006-02-15 04:34:33\"\n",
        "\t},\n",
        "\t{\n",
        "\t\t\"actor_id\" : 113,\n",
        "\t\t\"first_name\" : \"MORGAN\",\n",
        "\t\t\"last_name\" : \"HOPKINS\",\n",
        "\t\t\"last_update\" : \"2006-02-15 04:34:33\"\n",
        "\t},\n",
        "\t{\n",
        "\t\t\"actor_id\" : 114,\n",
        "\t\t\"first_name\" : \"MORGAN\",\n",
        "\t\t\"last_name\" : \"MCDORMAND\",\n",
        "\t\t\"last_update\" : \"2006-02-15 04:34:33\"\n",
        "\t},\n",
        "\t{\n",
        "\t\t\"actor_id\" : 115,\n",
        "\t\t\"first_name\" : \"HARRISON\",\n",
        "\t\t\"last_name\" : \"BALE\",\n",
        "\t\t\"last_update\" : \"2006-02-15 04:34:33\"\n",
        "\t},\n",
        "\t{\n",
        "\t\t\"actor_id\" : 116,\n",
        "\t\t\"first_name\" : \"DAN\",\n",
        "\t\t\"last_name\" : \"STREEP\",\n",
        "\t\t\"last_update\" : \"2006-02-15 04:34:33\"\n",
        "\t},\n",
        "\t{\n",
        "\t\t\"actor_id\" : 117,\n",
        "\t\t\"first_name\" : \"RENEE\",\n",
        "\t\t\"last_name\" : \"TRACY\",\n",
        "\t\t\"last_update\" : \"2006-02-15 04:34:33\"\n",
        "\t},\n",
        "\t{\n",
        "\t\t\"actor_id\" : 118,\n",
        "\t\t\"first_name\" : \"CUBA\",\n",
        "\t\t\"last_name\" : \"ALLEN\",\n",
        "\t\t\"last_update\" : \"2006-02-15 04:34:33\"\n",
        "\t},\n",
        "\t{\n",
        "\t\t\"actor_id\" : 119,\n",
        "\t\t\"first_name\" : \"WARREN\",\n",
        "\t\t\"last_name\" : \"JACKMAN\",\n",
        "\t\t\"last_update\" : \"2006-02-15 04:34:33\"\n",
        "\t},\n",
        "\t{\n",
        "\t\t\"actor_id\" : 120,\n",
        "\t\t\"first_name\" : \"PENELOPE\",\n",
        "\t\t\"last_name\" : \"MONROE\",\n",
        "\t\t\"last_update\" : \"2006-02-15 04:34:33\"\n",
        "\t},\n",
        "\t{\n",
        "\t\t\"actor_id\" : 121,\n",
        "\t\t\"first_name\" : \"LIZA\",\n",
        "\t\t\"last_name\" : \"BERGMAN\",\n",
        "\t\t\"last_update\" : \"2006-02-15 04:34:33\"\n",
        "\t},\n",
        "\t{\n",
        "\t\t\"actor_id\" : 122,\n",
        "\t\t\"first_name\" : \"SALMA\",\n",
        "\t\t\"last_name\" : \"NOLTE\",\n",
        "\t\t\"last_update\" : \"2006-02-15 04:34:33\"\n",
        "\t},\n",
        "\t{\n",
        "\t\t\"actor_id\" : 123,\n",
        "\t\t\"first_name\" : \"JULIANNE\",\n",
        "\t\t\"last_name\" : \"DENCH\",\n",
        "\t\t\"last_update\" : \"2006-02-15 04:34:33\"\n",
        "\t},\n",
        "\t{\n",
        "\t\t\"actor_id\" : 124,\n",
        "\t\t\"first_name\" : \"SCARLETT\",\n",
        "\t\t\"last_name\" : \"BENING\",\n",
        "\t\t\"last_update\" : \"2006-02-15 04:34:33\"\n",
        "\t},\n",
        "\t{\n",
        "\t\t\"actor_id\" : 125,\n",
        "\t\t\"first_name\" : \"ALBERT\",\n",
        "\t\t\"last_name\" : \"NOLTE\",\n",
        "\t\t\"last_update\" : \"2006-02-15 04:34:33\"\n",
        "\t},\n",
        "\t{\n",
        "\t\t\"actor_id\" : 126,\n",
        "\t\t\"first_name\" : \"FRANCES\",\n",
        "\t\t\"last_name\" : \"TOMEI\",\n",
        "\t\t\"last_update\" : \"2006-02-15 04:34:33\"\n",
        "\t},\n",
        "\t{\n",
        "\t\t\"actor_id\" : 127,\n",
        "\t\t\"first_name\" : \"KEVIN\",\n",
        "\t\t\"last_name\" : \"GARLAND\",\n",
        "\t\t\"last_update\" : \"2006-02-15 04:34:33\"\n",
        "\t},\n",
        "\t{\n",
        "\t\t\"actor_id\" : 128,\n",
        "\t\t\"first_name\" : \"CATE\",\n",
        "\t\t\"last_name\" : \"MCQUEEN\",\n",
        "\t\t\"last_update\" : \"2006-02-15 04:34:33\"\n",
        "\t},\n",
        "\t{\n",
        "\t\t\"actor_id\" : 129,\n",
        "\t\t\"first_name\" : \"DARYL\",\n",
        "\t\t\"last_name\" : \"CRAWFORD\",\n",
        "\t\t\"last_update\" : \"2006-02-15 04:34:33\"\n",
        "\t},\n",
        "\t{\n",
        "\t\t\"actor_id\" : 130,\n",
        "\t\t\"first_name\" : \"GRETA\",\n",
        "\t\t\"last_name\" : \"KEITEL\",\n",
        "\t\t\"last_update\" : \"2006-02-15 04:34:33\"\n",
        "\t},\n",
        "\t{\n",
        "\t\t\"actor_id\" : 131,\n",
        "\t\t\"first_name\" : \"JANE\",\n",
        "\t\t\"last_name\" : \"JACKMAN\",\n",
        "\t\t\"last_update\" : \"2006-02-15 04:34:33\"\n",
        "\t},\n",
        "\t{\n",
        "\t\t\"actor_id\" : 132,\n",
        "\t\t\"first_name\" : \"ADAM\",\n",
        "\t\t\"last_name\" : \"HOPPER\",\n",
        "\t\t\"last_update\" : \"2006-02-15 04:34:33\"\n",
        "\t},\n",
        "\t{\n",
        "\t\t\"actor_id\" : 133,\n",
        "\t\t\"first_name\" : \"RICHARD\",\n",
        "\t\t\"last_name\" : \"PENN\",\n",
        "\t\t\"last_update\" : \"2006-02-15 04:34:33\"\n",
        "\t},\n",
        "\t{\n",
        "\t\t\"actor_id\" : 134,\n",
        "\t\t\"first_name\" : \"GENE\",\n",
        "\t\t\"last_name\" : \"HOPKINS\",\n",
        "\t\t\"last_update\" : \"2006-02-15 04:34:33\"\n",
        "\t},\n",
        "\t{\n",
        "\t\t\"actor_id\" : 135,\n",
        "\t\t\"first_name\" : \"RITA\",\n",
        "\t\t\"last_name\" : \"REYNOLDS\",\n",
        "\t\t\"last_update\" : \"2006-02-15 04:34:33\"\n",
        "\t},\n",
        "\t{\n",
        "\t\t\"actor_id\" : 136,\n",
        "\t\t\"first_name\" : \"ED\",\n",
        "\t\t\"last_name\" : \"MANSFIELD\",\n",
        "\t\t\"last_update\" : \"2006-02-15 04:34:33\"\n",
        "\t},\n",
        "\t{\n",
        "\t\t\"actor_id\" : 137,\n",
        "\t\t\"first_name\" : \"MORGAN\",\n",
        "\t\t\"last_name\" : \"WILLIAMS\",\n",
        "\t\t\"last_update\" : \"2006-02-15 04:34:33\"\n",
        "\t},\n",
        "\t{\n",
        "\t\t\"actor_id\" : 138,\n",
        "\t\t\"first_name\" : \"LUCILLE\",\n",
        "\t\t\"last_name\" : \"DEE\",\n",
        "\t\t\"last_update\" : \"2006-02-15 04:34:33\"\n",
        "\t},\n",
        "\t{\n",
        "\t\t\"actor_id\" : 139,\n",
        "\t\t\"first_name\" : \"EWAN\",\n",
        "\t\t\"last_name\" : \"GOODING\",\n",
        "\t\t\"last_update\" : \"2006-02-15 04:34:33\"\n",
        "\t},\n",
        "\t{\n",
        "\t\t\"actor_id\" : 140,\n",
        "\t\t\"first_name\" : \"WHOOPI\",\n",
        "\t\t\"last_name\" : \"HURT\",\n",
        "\t\t\"last_update\" : \"2006-02-15 04:34:33\"\n",
        "\t},\n",
        "\t{\n",
        "\t\t\"actor_id\" : 141,\n",
        "\t\t\"first_name\" : \"CATE\",\n",
        "\t\t\"last_name\" : \"HARRIS\",\n",
        "\t\t\"last_update\" : \"2006-02-15 04:34:33\"\n",
        "\t},\n",
        "\t{\n",
        "\t\t\"actor_id\" : 142,\n",
        "\t\t\"first_name\" : \"JADA\",\n",
        "\t\t\"last_name\" : \"RYDER\",\n",
        "\t\t\"last_update\" : \"2006-02-15 04:34:33\"\n",
        "\t},\n",
        "\t{\n",
        "\t\t\"actor_id\" : 143,\n",
        "\t\t\"first_name\" : \"RIVER\",\n",
        "\t\t\"last_name\" : \"DEAN\",\n",
        "\t\t\"last_update\" : \"2006-02-15 04:34:33\"\n",
        "\t},\n",
        "\t{\n",
        "\t\t\"actor_id\" : 144,\n",
        "\t\t\"first_name\" : \"ANGELA\",\n",
        "\t\t\"last_name\" : \"WITHERSPOON\",\n",
        "\t\t\"last_update\" : \"2006-02-15 04:34:33\"\n",
        "\t},\n",
        "\t{\n",
        "\t\t\"actor_id\" : 145,\n",
        "\t\t\"first_name\" : \"KIM\",\n",
        "\t\t\"last_name\" : \"ALLEN\",\n",
        "\t\t\"last_update\" : \"2006-02-15 04:34:33\"\n",
        "\t},\n",
        "\t{\n",
        "\t\t\"actor_id\" : 146,\n",
        "\t\t\"first_name\" : \"ALBERT\",\n",
        "\t\t\"last_name\" : \"JOHANSSON\",\n",
        "\t\t\"last_update\" : \"2006-02-15 04:34:33\"\n",
        "\t},\n",
        "\t{\n",
        "\t\t\"actor_id\" : 147,\n",
        "\t\t\"first_name\" : \"FAY\",\n",
        "\t\t\"last_name\" : \"WINSLET\",\n",
        "\t\t\"last_update\" : \"2006-02-15 04:34:33\"\n",
        "\t},\n",
        "\t{\n",
        "\t\t\"actor_id\" : 148,\n",
        "\t\t\"first_name\" : \"EMILY\",\n",
        "\t\t\"last_name\" : \"DEE\",\n",
        "\t\t\"last_update\" : \"2006-02-15 04:34:33\"\n",
        "\t},\n",
        "\t{\n",
        "\t\t\"actor_id\" : 149,\n",
        "\t\t\"first_name\" : \"RUSSELL\",\n",
        "\t\t\"last_name\" : \"TEMPLE\",\n",
        "\t\t\"last_update\" : \"2006-02-15 04:34:33\"\n",
        "\t},\n",
        "\t{\n",
        "\t\t\"actor_id\" : 150,\n",
        "\t\t\"first_name\" : \"JAYNE\",\n",
        "\t\t\"last_name\" : \"NOLTE\",\n",
        "\t\t\"last_update\" : \"2006-02-15 04:34:33\"\n",
        "\t},\n",
        "\t{\n",
        "\t\t\"actor_id\" : 151,\n",
        "\t\t\"first_name\" : \"GEOFFREY\",\n",
        "\t\t\"last_name\" : \"HESTON\",\n",
        "\t\t\"last_update\" : \"2006-02-15 04:34:33\"\n",
        "\t},\n",
        "\t{\n",
        "\t\t\"actor_id\" : 152,\n",
        "\t\t\"first_name\" : \"BEN\",\n",
        "\t\t\"last_name\" : \"HARRIS\",\n",
        "\t\t\"last_update\" : \"2006-02-15 04:34:33\"\n",
        "\t},\n",
        "\t{\n",
        "\t\t\"actor_id\" : 153,\n",
        "\t\t\"first_name\" : \"MINNIE\",\n",
        "\t\t\"last_name\" : \"KILMER\",\n",
        "\t\t\"last_update\" : \"2006-02-15 04:34:33\"\n",
        "\t},\n",
        "\t{\n",
        "\t\t\"actor_id\" : 154,\n",
        "\t\t\"first_name\" : \"MERYL\",\n",
        "\t\t\"last_name\" : \"GIBSON\",\n",
        "\t\t\"last_update\" : \"2006-02-15 04:34:33\"\n",
        "\t},\n",
        "\t{\n",
        "\t\t\"actor_id\" : 155,\n",
        "\t\t\"first_name\" : \"IAN\",\n",
        "\t\t\"last_name\" : \"TANDY\",\n",
        "\t\t\"last_update\" : \"2006-02-15 04:34:33\"\n",
        "\t},\n",
        "\t{\n",
        "\t\t\"actor_id\" : 156,\n",
        "\t\t\"first_name\" : \"FAY\",\n",
        "\t\t\"last_name\" : \"WOOD\",\n",
        "\t\t\"last_update\" : \"2006-02-15 04:34:33\"\n",
        "\t},\n",
        "\t{\n",
        "\t\t\"actor_id\" : 157,\n",
        "\t\t\"first_name\" : \"GRETA\",\n",
        "\t\t\"last_name\" : \"MALDEN\",\n",
        "\t\t\"last_update\" : \"2006-02-15 04:34:33\"\n",
        "\t},\n",
        "\t{\n",
        "\t\t\"actor_id\" : 158,\n",
        "\t\t\"first_name\" : \"VIVIEN\",\n",
        "\t\t\"last_name\" : \"BASINGER\",\n",
        "\t\t\"last_update\" : \"2006-02-15 04:34:33\"\n",
        "\t},\n",
        "\t{\n",
        "\t\t\"actor_id\" : 159,\n",
        "\t\t\"first_name\" : \"LAURA\",\n",
        "\t\t\"last_name\" : \"BRODY\",\n",
        "\t\t\"last_update\" : \"2006-02-15 04:34:33\"\n",
        "\t},\n",
        "\t{\n",
        "\t\t\"actor_id\" : 160,\n",
        "\t\t\"first_name\" : \"CHRIS\",\n",
        "\t\t\"last_name\" : \"DEPP\",\n",
        "\t\t\"last_update\" : \"2006-02-15 04:34:33\"\n",
        "\t},\n",
        "\t{\n",
        "\t\t\"actor_id\" : 161,\n",
        "\t\t\"first_name\" : \"HARVEY\",\n",
        "\t\t\"last_name\" : \"HOPE\",\n",
        "\t\t\"last_update\" : \"2006-02-15 04:34:33\"\n",
        "\t},\n",
        "\t{\n",
        "\t\t\"actor_id\" : 162,\n",
        "\t\t\"first_name\" : \"OPRAH\",\n",
        "\t\t\"last_name\" : \"KILMER\",\n",
        "\t\t\"last_update\" : \"2006-02-15 04:34:33\"\n",
        "\t},\n",
        "\t{\n",
        "\t\t\"actor_id\" : 163,\n",
        "\t\t\"first_name\" : \"CHRISTOPHER\",\n",
        "\t\t\"last_name\" : \"WEST\",\n",
        "\t\t\"last_update\" : \"2006-02-15 04:34:33\"\n",
        "\t},\n",
        "\t{\n",
        "\t\t\"actor_id\" : 164,\n",
        "\t\t\"first_name\" : \"HUMPHREY\",\n",
        "\t\t\"last_name\" : \"WILLIS\",\n",
        "\t\t\"last_update\" : \"2006-02-15 04:34:33\"\n",
        "\t},\n",
        "\t{\n",
        "\t\t\"actor_id\" : 165,\n",
        "\t\t\"first_name\" : \"AL\",\n",
        "\t\t\"last_name\" : \"GARLAND\",\n",
        "\t\t\"last_update\" : \"2006-02-15 04:34:33\"\n",
        "\t},\n",
        "\t{\n",
        "\t\t\"actor_id\" : 166,\n",
        "\t\t\"first_name\" : \"NICK\",\n",
        "\t\t\"last_name\" : \"DEGENERES\",\n",
        "\t\t\"last_update\" : \"2006-02-15 04:34:33\"\n",
        "\t},\n",
        "\t{\n",
        "\t\t\"actor_id\" : 167,\n",
        "\t\t\"first_name\" : \"LAURENCE\",\n",
        "\t\t\"last_name\" : \"BULLOCK\",\n",
        "\t\t\"last_update\" : \"2006-02-15 04:34:33\"\n",
        "\t},\n",
        "\t{\n",
        "\t\t\"actor_id\" : 168,\n",
        "\t\t\"first_name\" : \"WILL\",\n",
        "\t\t\"last_name\" : \"WILSON\",\n",
        "\t\t\"last_update\" : \"2006-02-15 04:34:33\"\n",
        "\t},\n",
        "\t{\n",
        "\t\t\"actor_id\" : 169,\n",
        "\t\t\"first_name\" : \"KENNETH\",\n",
        "\t\t\"last_name\" : \"HOFFMAN\",\n",
        "\t\t\"last_update\" : \"2006-02-15 04:34:33\"\n",
        "\t},\n",
        "\t{\n",
        "\t\t\"actor_id\" : 170,\n",
        "\t\t\"first_name\" : \"MENA\",\n",
        "\t\t\"last_name\" : \"HOPPER\",\n",
        "\t\t\"last_update\" : \"2006-02-15 04:34:33\"\n",
        "\t},\n",
        "\t{\n",
        "\t\t\"actor_id\" : 171,\n",
        "\t\t\"first_name\" : \"OLYMPIA\",\n",
        "\t\t\"last_name\" : \"PFEIFFER\",\n",
        "\t\t\"last_update\" : \"2006-02-15 04:34:33\"\n",
        "\t},\n",
        "\t{\n",
        "\t\t\"actor_id\" : 172,\n",
        "\t\t\"first_name\" : \"GROUCHO\",\n",
        "\t\t\"last_name\" : \"WILLIAMS\",\n",
        "\t\t\"last_update\" : \"2006-02-15 04:34:33\"\n",
        "\t},\n",
        "\t{\n",
        "\t\t\"actor_id\" : 173,\n",
        "\t\t\"first_name\" : \"ALAN\",\n",
        "\t\t\"last_name\" : \"DREYFUSS\",\n",
        "\t\t\"last_update\" : \"2006-02-15 04:34:33\"\n",
        "\t},\n",
        "\t{\n",
        "\t\t\"actor_id\" : 174,\n",
        "\t\t\"first_name\" : \"MICHAEL\",\n",
        "\t\t\"last_name\" : \"BENING\",\n",
        "\t\t\"last_update\" : \"2006-02-15 04:34:33\"\n",
        "\t},\n",
        "\t{\n",
        "\t\t\"actor_id\" : 175,\n",
        "\t\t\"first_name\" : \"WILLIAM\",\n",
        "\t\t\"last_name\" : \"HACKMAN\",\n",
        "\t\t\"last_update\" : \"2006-02-15 04:34:33\"\n",
        "\t},\n",
        "\t{\n",
        "\t\t\"actor_id\" : 176,\n",
        "\t\t\"first_name\" : \"JON\",\n",
        "\t\t\"last_name\" : \"CHASE\",\n",
        "\t\t\"last_update\" : \"2006-02-15 04:34:33\"\n",
        "\t},\n",
        "\t{\n",
        "\t\t\"actor_id\" : 177,\n",
        "\t\t\"first_name\" : \"GENE\",\n",
        "\t\t\"last_name\" : \"MCKELLEN\",\n",
        "\t\t\"last_update\" : \"2006-02-15 04:34:33\"\n",
        "\t},\n",
        "\t{\n",
        "\t\t\"actor_id\" : 178,\n",
        "\t\t\"first_name\" : \"LISA\",\n",
        "\t\t\"last_name\" : \"MONROE\",\n",
        "\t\t\"last_update\" : \"2006-02-15 04:34:33\"\n",
        "\t},\n",
        "\t{\n",
        "\t\t\"actor_id\" : 179,\n",
        "\t\t\"first_name\" : \"ED\",\n",
        "\t\t\"last_name\" : \"GUINESS\",\n",
        "\t\t\"last_update\" : \"2006-02-15 04:34:33\"\n",
        "\t},\n",
        "\t{\n",
        "\t\t\"actor_id\" : 180,\n",
        "\t\t\"first_name\" : \"JEFF\",\n",
        "\t\t\"last_name\" : \"SILVERSTONE\",\n",
        "\t\t\"last_update\" : \"2006-02-15 04:34:33\"\n",
        "\t},\n",
        "\t{\n",
        "\t\t\"actor_id\" : 181,\n",
        "\t\t\"first_name\" : \"MATTHEW\",\n",
        "\t\t\"last_name\" : \"CARREY\",\n",
        "\t\t\"last_update\" : \"2006-02-15 04:34:33\"\n",
        "\t},\n",
        "\t{\n",
        "\t\t\"actor_id\" : 182,\n",
        "\t\t\"first_name\" : \"DEBBIE\",\n",
        "\t\t\"last_name\" : \"AKROYD\",\n",
        "\t\t\"last_update\" : \"2006-02-15 04:34:33\"\n",
        "\t},\n",
        "\t{\n",
        "\t\t\"actor_id\" : 183,\n",
        "\t\t\"first_name\" : \"RUSSELL\",\n",
        "\t\t\"last_name\" : \"CLOSE\",\n",
        "\t\t\"last_update\" : \"2006-02-15 04:34:33\"\n",
        "\t},\n",
        "\t{\n",
        "\t\t\"actor_id\" : 184,\n",
        "\t\t\"first_name\" : \"HUMPHREY\",\n",
        "\t\t\"last_name\" : \"GARLAND\",\n",
        "\t\t\"last_update\" : \"2006-02-15 04:34:33\"\n",
        "\t},\n",
        "\t{\n",
        "\t\t\"actor_id\" : 185,\n",
        "\t\t\"first_name\" : \"MICHAEL\",\n",
        "\t\t\"last_name\" : \"BOLGER\",\n",
        "\t\t\"last_update\" : \"2006-02-15 04:34:33\"\n",
        "\t},\n",
        "\t{\n",
        "\t\t\"actor_id\" : 186,\n",
        "\t\t\"first_name\" : \"JULIA\",\n",
        "\t\t\"last_name\" : \"ZELLWEGER\",\n",
        "\t\t\"last_update\" : \"2006-02-15 04:34:33\"\n",
        "\t},\n",
        "\t{\n",
        "\t\t\"actor_id\" : 187,\n",
        "\t\t\"first_name\" : \"RENEE\",\n",
        "\t\t\"last_name\" : \"BALL\",\n",
        "\t\t\"last_update\" : \"2006-02-15 04:34:33\"\n",
        "\t},\n",
        "\t{\n",
        "\t\t\"actor_id\" : 188,\n",
        "\t\t\"first_name\" : \"ROCK\",\n",
        "\t\t\"last_name\" : \"DUKAKIS\",\n",
        "\t\t\"last_update\" : \"2006-02-15 04:34:33\"\n",
        "\t},\n",
        "\t{\n",
        "\t\t\"actor_id\" : 189,\n",
        "\t\t\"first_name\" : \"CUBA\",\n",
        "\t\t\"last_name\" : \"BIRCH\",\n",
        "\t\t\"last_update\" : \"2006-02-15 04:34:33\"\n",
        "\t},\n",
        "\t{\n",
        "\t\t\"actor_id\" : 190,\n",
        "\t\t\"first_name\" : \"AUDREY\",\n",
        "\t\t\"last_name\" : \"BAILEY\",\n",
        "\t\t\"last_update\" : \"2006-02-15 04:34:33\"\n",
        "\t},\n",
        "\t{\n",
        "\t\t\"actor_id\" : 191,\n",
        "\t\t\"first_name\" : \"GREGORY\",\n",
        "\t\t\"last_name\" : \"GOODING\",\n",
        "\t\t\"last_update\" : \"2006-02-15 04:34:33\"\n",
        "\t},\n",
        "\t{\n",
        "\t\t\"actor_id\" : 192,\n",
        "\t\t\"first_name\" : \"JOHN\",\n",
        "\t\t\"last_name\" : \"SUVARI\",\n",
        "\t\t\"last_update\" : \"2006-02-15 04:34:33\"\n",
        "\t},\n",
        "\t{\n",
        "\t\t\"actor_id\" : 193,\n",
        "\t\t\"first_name\" : \"BURT\",\n",
        "\t\t\"last_name\" : \"TEMPLE\",\n",
        "\t\t\"last_update\" : \"2006-02-15 04:34:33\"\n",
        "\t},\n",
        "\t{\n",
        "\t\t\"actor_id\" : 194,\n",
        "\t\t\"first_name\" : \"MERYL\",\n",
        "\t\t\"last_name\" : \"ALLEN\",\n",
        "\t\t\"last_update\" : \"2006-02-15 04:34:33\"\n",
        "\t},\n",
        "\t{\n",
        "\t\t\"actor_id\" : 195,\n",
        "\t\t\"first_name\" : \"JAYNE\",\n",
        "\t\t\"last_name\" : \"SILVERSTONE\",\n",
        "\t\t\"last_update\" : \"2006-02-15 04:34:33\"\n",
        "\t},\n",
        "\t{\n",
        "\t\t\"actor_id\" : 196,\n",
        "\t\t\"first_name\" : \"BELA\",\n",
        "\t\t\"last_name\" : \"WALKEN\",\n",
        "\t\t\"last_update\" : \"2006-02-15 04:34:33\"\n",
        "\t},\n",
        "\t{\n",
        "\t\t\"actor_id\" : 197,\n",
        "\t\t\"first_name\" : \"REESE\",\n",
        "\t\t\"last_name\" : \"WEST\",\n",
        "\t\t\"last_update\" : \"2006-02-15 04:34:33\"\n",
        "\t},\n",
        "\t{\n",
        "\t\t\"actor_id\" : 198,\n",
        "\t\t\"first_name\" : \"MARY\",\n",
        "\t\t\"last_name\" : \"KEITEL\",\n",
        "\t\t\"last_update\" : \"2006-02-15 04:34:33\"\n",
        "\t},\n",
        "\t{\n",
        "\t\t\"actor_id\" : 199,\n",
        "\t\t\"first_name\" : \"JULIA\",\n",
        "\t\t\"last_name\" : \"FAWCETT\",\n",
        "\t\t\"last_update\" : \"2006-02-15 04:34:33\"\n",
        "\t},\n",
        "\t{\n",
        "\t\t\"actor_id\" : 200,\n",
        "\t\t\"first_name\" : \"THORA\",\n",
        "\t\t\"last_name\" : \"TEMPLE\",\n",
        "\t\t\"last_update\" : \"2006-02-15 04:34:33\"\n",
        "\t}\n",
        "]\n",
        "\n",
        "\n"
      ],
      "metadata": {
        "id": "e9PuZZN0GyZ4"
      },
      "execution_count": null,
      "outputs": []
    },
    {
      "cell_type": "code",
      "source": [
        "print(Actors[0].get(\"first_name\"))\n"
      ],
      "metadata": {
        "colab": {
          "base_uri": "https://localhost:8080/"
        },
        "id": "_jvOm5KMHXTz",
        "outputId": "2915c215-af1a-4e9c-b2f6-ecccbe69d75b"
      },
      "execution_count": null,
      "outputs": [
        {
          "output_type": "stream",
          "name": "stdout",
          "text": [
            "PENELOPE\n"
          ]
        }
      ]
    },
    {
      "cell_type": "code",
      "source": [
        "# Search Actor Details By Thier ActorId:\n",
        "id =int(input(\"Enter Actor Id :\"))\n",
        "for a in Actors:\n",
        "  for k in a:\n",
        "    if id == a[k]:\n",
        "      print(\"ID\",\"\\t\",\"FIRSTNAME\",\"\\t\",\"LASTNAME\")\n",
        "      print(a[\"actor_id\"],\"\\t\",a[\"first_name\"],\"\\t\",a[\"last_name\"],end=\"\\n\")\n",
        "\n",
        "\n",
        "\n",
        "\n"
      ],
      "metadata": {
        "colab": {
          "base_uri": "https://localhost:8080/"
        },
        "id": "LItOjO0vmFC8",
        "outputId": "d66e28f5-965c-419a-f77d-81ca8467c86d"
      },
      "execution_count": null,
      "outputs": [
        {
          "output_type": "stream",
          "name": "stdout",
          "text": [
            "Enter Actor Id :122\n",
            "ID \t FIRSTNAME \t LASTNAME\n",
            "122 \t SALMA \t NOLTE\n"
          ]
        }
      ]
    },
    {
      "cell_type": "code",
      "source": [
        "# question : display All In Tabular form\n",
        "for a in Actors:\n",
        "   print(a[\"actor_id\"],\"\\t\",a[\"first_name\"],\"\\t\",a[\"last_name\"],end=\"\\n\")"
      ],
      "metadata": {
        "colab": {
          "base_uri": "https://localhost:8080/"
        },
        "id": "kfe9TloEqB5w",
        "outputId": "cbc6441a-b9df-4c93-ea76-5650bd9fc273"
      },
      "execution_count": null,
      "outputs": [
        {
          "output_type": "stream",
          "name": "stdout",
          "text": [
            "1 \t PENELOPE \t GUINESS\n",
            "2 \t NICK \t WAHLBERG\n",
            "3 \t ED \t CHASE\n",
            "4 \t JENNIFER \t DAVIS\n",
            "5 \t JOHNNY \t LOLLOBRIGIDA\n",
            "6 \t BETTE \t NICHOLSON\n",
            "7 \t GRACE \t MOSTEL\n",
            "8 \t MATTHEW \t JOHANSSON\n",
            "9 \t JOE \t SWANK\n",
            "10 \t CHRISTIAN \t GABLE\n",
            "11 \t ZERO \t CAGE\n",
            "12 \t KARL \t BERRY\n",
            "13 \t UMA \t WOOD\n",
            "14 \t VIVIEN \t BERGEN\n",
            "15 \t CUBA \t OLIVIER\n",
            "16 \t FRED \t COSTNER\n",
            "17 \t HELEN \t VOIGHT\n",
            "18 \t DAN \t TORN\n",
            "19 \t BOB \t FAWCETT\n",
            "20 \t LUCILLE \t TRACY\n",
            "21 \t KIRSTEN \t PALTROW\n",
            "22 \t ELVIS \t MARX\n",
            "23 \t SANDRA \t KILMER\n",
            "24 \t CAMERON \t STREEP\n",
            "25 \t KEVIN \t BLOOM\n",
            "26 \t RIP \t CRAWFORD\n",
            "27 \t JULIA \t MCQUEEN\n",
            "28 \t WOODY \t HOFFMAN\n",
            "29 \t ALEC \t WAYNE\n",
            "30 \t SANDRA \t PECK\n",
            "31 \t SISSY \t SOBIESKI\n",
            "32 \t TIM \t HACKMAN\n",
            "33 \t MILLA \t PECK\n",
            "34 \t AUDREY \t OLIVIER\n",
            "35 \t JUDY \t DEAN\n",
            "36 \t BURT \t DUKAKIS\n",
            "37 \t VAL \t BOLGER\n",
            "38 \t TOM \t MCKELLEN\n",
            "39 \t GOLDIE \t BRODY\n",
            "40 \t JOHNNY \t CAGE\n",
            "41 \t JODIE \t DEGENERES\n",
            "42 \t TOM \t MIRANDA\n",
            "43 \t KIRK \t JOVOVICH\n",
            "44 \t NICK \t STALLONE\n",
            "45 \t REESE \t KILMER\n",
            "46 \t PARKER \t GOLDBERG\n",
            "47 \t JULIA \t BARRYMORE\n",
            "48 \t FRANCES \t DAY-LEWIS\n",
            "49 \t ANNE \t CRONYN\n",
            "50 \t NATALIE \t HOPKINS\n",
            "51 \t GARY \t PHOENIX\n",
            "52 \t CARMEN \t HUNT\n",
            "53 \t MENA \t TEMPLE\n",
            "54 \t PENELOPE \t PINKETT\n",
            "55 \t FAY \t KILMER\n",
            "56 \t DAN \t HARRIS\n",
            "57 \t JUDE \t CRUISE\n",
            "58 \t CHRISTIAN \t AKROYD\n",
            "59 \t DUSTIN \t TAUTOU\n",
            "60 \t HENRY \t BERRY\n",
            "61 \t CHRISTIAN \t NEESON\n",
            "62 \t JAYNE \t NEESON\n",
            "63 \t CAMERON \t WRAY\n",
            "64 \t RAY \t JOHANSSON\n",
            "65 \t ANGELA \t HUDSON\n",
            "66 \t MARY \t TANDY\n",
            "67 \t JESSICA \t BAILEY\n",
            "68 \t RIP \t WINSLET\n",
            "69 \t KENNETH \t PALTROW\n",
            "70 \t MICHELLE \t MCCONAUGHEY\n",
            "71 \t ADAM \t GRANT\n",
            "72 \t SEAN \t WILLIAMS\n",
            "73 \t GARY \t PENN\n",
            "74 \t MILLA \t KEITEL\n",
            "75 \t BURT \t POSEY\n",
            "76 \t ANGELINA \t ASTAIRE\n",
            "77 \t CARY \t MCCONAUGHEY\n",
            "78 \t GROUCHO \t SINATRA\n",
            "79 \t MAE \t HOFFMAN\n",
            "80 \t RALPH \t CRUZ\n",
            "81 \t SCARLETT \t DAMON\n",
            "82 \t WOODY \t JOLIE\n",
            "83 \t BEN \t WILLIS\n",
            "84 \t JAMES \t PITT\n",
            "85 \t MINNIE \t ZELLWEGER\n",
            "86 \t GREG \t CHAPLIN\n",
            "87 \t SPENCER \t PECK\n",
            "88 \t KENNETH \t PESCI\n",
            "89 \t CHARLIZE \t DENCH\n",
            "90 \t SEAN \t GUINESS\n",
            "91 \t CHRISTOPHER \t BERRY\n",
            "92 \t KIRSTEN \t AKROYD\n",
            "93 \t ELLEN \t PRESLEY\n",
            "94 \t KENNETH \t TORN\n",
            "95 \t DARYL \t WAHLBERG\n",
            "96 \t GENE \t WILLIS\n",
            "97 \t MEG \t HAWKE\n",
            "98 \t CHRIS \t BRIDGES\n",
            "99 \t JIM \t MOSTEL\n",
            "100 \t SPENCER \t DEPP\n",
            "101 \t SUSAN \t DAVIS\n",
            "102 \t WALTER \t TORN\n",
            "103 \t MATTHEW \t LEIGH\n",
            "104 \t PENELOPE \t CRONYN\n",
            "105 \t SIDNEY \t CROWE\n",
            "106 \t GROUCHO \t DUNST\n",
            "107 \t GINA \t DEGENERES\n",
            "108 \t WARREN \t NOLTE\n",
            "109 \t SYLVESTER \t DERN\n",
            "110 \t SUSAN \t DAVIS\n",
            "111 \t CAMERON \t ZELLWEGER\n",
            "112 \t RUSSELL \t BACALL\n",
            "113 \t MORGAN \t HOPKINS\n",
            "114 \t MORGAN \t MCDORMAND\n",
            "115 \t HARRISON \t BALE\n",
            "116 \t DAN \t STREEP\n",
            "117 \t RENEE \t TRACY\n",
            "118 \t CUBA \t ALLEN\n",
            "119 \t WARREN \t JACKMAN\n",
            "120 \t PENELOPE \t MONROE\n",
            "121 \t LIZA \t BERGMAN\n",
            "122 \t SALMA \t NOLTE\n",
            "123 \t JULIANNE \t DENCH\n",
            "124 \t SCARLETT \t BENING\n",
            "125 \t ALBERT \t NOLTE\n",
            "126 \t FRANCES \t TOMEI\n",
            "127 \t KEVIN \t GARLAND\n",
            "128 \t CATE \t MCQUEEN\n",
            "129 \t DARYL \t CRAWFORD\n",
            "130 \t GRETA \t KEITEL\n",
            "131 \t JANE \t JACKMAN\n",
            "132 \t ADAM \t HOPPER\n",
            "133 \t RICHARD \t PENN\n",
            "134 \t GENE \t HOPKINS\n",
            "135 \t RITA \t REYNOLDS\n",
            "136 \t ED \t MANSFIELD\n",
            "137 \t MORGAN \t WILLIAMS\n",
            "138 \t LUCILLE \t DEE\n",
            "139 \t EWAN \t GOODING\n",
            "140 \t WHOOPI \t HURT\n",
            "141 \t CATE \t HARRIS\n",
            "142 \t JADA \t RYDER\n",
            "143 \t RIVER \t DEAN\n",
            "144 \t ANGELA \t WITHERSPOON\n",
            "145 \t KIM \t ALLEN\n",
            "146 \t ALBERT \t JOHANSSON\n",
            "147 \t FAY \t WINSLET\n",
            "148 \t EMILY \t DEE\n",
            "149 \t RUSSELL \t TEMPLE\n",
            "150 \t JAYNE \t NOLTE\n",
            "151 \t GEOFFREY \t HESTON\n",
            "152 \t BEN \t HARRIS\n",
            "153 \t MINNIE \t KILMER\n",
            "154 \t MERYL \t GIBSON\n",
            "155 \t IAN \t TANDY\n",
            "156 \t FAY \t WOOD\n",
            "157 \t GRETA \t MALDEN\n",
            "158 \t VIVIEN \t BASINGER\n",
            "159 \t LAURA \t BRODY\n",
            "160 \t CHRIS \t DEPP\n",
            "161 \t HARVEY \t HOPE\n",
            "162 \t OPRAH \t KILMER\n",
            "163 \t CHRISTOPHER \t WEST\n",
            "164 \t HUMPHREY \t WILLIS\n",
            "165 \t AL \t GARLAND\n",
            "166 \t NICK \t DEGENERES\n",
            "167 \t LAURENCE \t BULLOCK\n",
            "168 \t WILL \t WILSON\n",
            "169 \t KENNETH \t HOFFMAN\n",
            "170 \t MENA \t HOPPER\n",
            "171 \t OLYMPIA \t PFEIFFER\n",
            "172 \t GROUCHO \t WILLIAMS\n",
            "173 \t ALAN \t DREYFUSS\n",
            "174 \t MICHAEL \t BENING\n",
            "175 \t WILLIAM \t HACKMAN\n",
            "176 \t JON \t CHASE\n",
            "177 \t GENE \t MCKELLEN\n",
            "178 \t LISA \t MONROE\n",
            "179 \t ED \t GUINESS\n",
            "180 \t JEFF \t SILVERSTONE\n",
            "181 \t MATTHEW \t CARREY\n",
            "182 \t DEBBIE \t AKROYD\n",
            "183 \t RUSSELL \t CLOSE\n",
            "184 \t HUMPHREY \t GARLAND\n",
            "185 \t MICHAEL \t BOLGER\n",
            "186 \t JULIA \t ZELLWEGER\n",
            "187 \t RENEE \t BALL\n",
            "188 \t ROCK \t DUKAKIS\n",
            "189 \t CUBA \t BIRCH\n",
            "190 \t AUDREY \t BAILEY\n",
            "191 \t GREGORY \t GOODING\n",
            "192 \t JOHN \t SUVARI\n",
            "193 \t BURT \t TEMPLE\n",
            "194 \t MERYL \t ALLEN\n",
            "195 \t JAYNE \t SILVERSTONE\n",
            "196 \t BELA \t WALKEN\n",
            "197 \t REESE \t WEST\n",
            "198 \t MARY \t KEITEL\n",
            "199 \t JULIA \t FAWCETT\n",
            "200 \t THORA \t TEMPLE\n"
          ]
        }
      ]
    },
    {
      "cell_type": "code",
      "source": [
        "person={\n",
        "    \"id\":101,\n",
        "    \"name\":\"suraj\",\n",
        "    \"age\":22,\n",
        "    \"salary\":23000\n",
        "}"
      ],
      "metadata": {
        "id": "gwWMOd3xy6u_"
      },
      "execution_count": null,
      "outputs": []
    },
    {
      "cell_type": "code",
      "source": [
        "print(person)"
      ],
      "metadata": {
        "colab": {
          "base_uri": "https://localhost:8080/"
        },
        "id": "-jbZRWLlzRaO",
        "outputId": "4de03e01-c170-42f3-a23e-d2d57db0dc28"
      },
      "execution_count": null,
      "outputs": [
        {
          "output_type": "stream",
          "name": "stdout",
          "text": [
            "{'id': 101, 'name': 'suraj', 'age': 22, 'salary': 23000}\n"
          ]
        }
      ]
    },
    {
      "cell_type": "code",
      "source": [
        "#accessing key value\n",
        "print(person.get(\"name\"),\" \",person.get(\"salary\"))\n",
        "print(person[\"id\"],\" \",person[\"age\"])"
      ],
      "metadata": {
        "colab": {
          "base_uri": "https://localhost:8080/"
        },
        "id": "2AhuRu_gzU_3",
        "outputId": "19caf7ed-dba5-4773-e8bd-b5fb24724b05"
      },
      "execution_count": null,
      "outputs": [
        {
          "output_type": "stream",
          "name": "stdout",
          "text": [
            "suraj   23000\n",
            "101   22\n"
          ]
        }
      ]
    },
    {
      "cell_type": "code",
      "source": [
        "print(person.keys())"
      ],
      "metadata": {
        "colab": {
          "base_uri": "https://localhost:8080/"
        },
        "id": "UqLuLSp8zz0n",
        "outputId": "323d99f5-51c5-4db8-efbd-185234e846e7"
      },
      "execution_count": null,
      "outputs": [
        {
          "output_type": "stream",
          "name": "stdout",
          "text": [
            "dict_keys(['id', 'name', 'age', 'salary'])\n"
          ]
        }
      ]
    },
    {
      "cell_type": "code",
      "source": [
        "print(person.values())"
      ],
      "metadata": {
        "colab": {
          "base_uri": "https://localhost:8080/"
        },
        "id": "crIVc89d0ASG",
        "outputId": "6787158b-9904-437b-9c13-e7646374944f"
      },
      "execution_count": null,
      "outputs": [
        {
          "output_type": "stream",
          "name": "stdout",
          "text": [
            "dict_values([101, 'suraj', 22, 23000])\n"
          ]
        }
      ]
    },
    {
      "cell_type": "code",
      "source": [
        "print(person.items())"
      ],
      "metadata": {
        "colab": {
          "base_uri": "https://localhost:8080/"
        },
        "id": "ZRuo6xsf0HPm",
        "outputId": "56d272d6-7e08-4eea-b049-690cda1b2e1e"
      },
      "execution_count": null,
      "outputs": [
        {
          "output_type": "stream",
          "name": "stdout",
          "text": [
            "dict_items([('id', 101), ('name', 'suraj'), ('age', 22), ('salary', 23000)])\n"
          ]
        }
      ]
    },
    {
      "cell_type": "code",
      "source": [
        "for k in person:\n",
        "  print(k,\":\",person[k])"
      ],
      "metadata": {
        "colab": {
          "base_uri": "https://localhost:8080/"
        },
        "id": "qCD_GyJu0SJo",
        "outputId": "db35f08b-8d01-4528-ce30-315eb9891a46"
      },
      "execution_count": null,
      "outputs": [
        {
          "output_type": "stream",
          "name": "stdout",
          "text": [
            "id : 101\n",
            "name : suraj\n",
            "age : 22\n",
            "salary : 23000\n",
            "post : Developer\n",
            "dept : Software\n",
            "Grade : A\n"
          ]
        }
      ]
    },
    {
      "cell_type": "code",
      "source": [
        "person.update({\"dept\":\"Software\"})"
      ],
      "metadata": {
        "id": "f05nC69H002G"
      },
      "execution_count": null,
      "outputs": []
    },
    {
      "cell_type": "code",
      "source": [
        "x=person.setdefault(\"Grade\",\"B\")\n",
        "print(x)"
      ],
      "metadata": {
        "colab": {
          "base_uri": "https://localhost:8080/"
        },
        "id": "ySc1cuzv1glV",
        "outputId": "04b4f618-67b8-49d0-8bc3-81438de65691"
      },
      "execution_count": null,
      "outputs": [
        {
          "output_type": "stream",
          "name": "stdout",
          "text": [
            "A\n"
          ]
        }
      ]
    },
    {
      "cell_type": "code",
      "source": [
        "\n",
        "name=(\"Suraj\",\"Manan\",\"Kamal\")\n",
        "city=\"Delhi\"\n",
        "\n",
        "students=dict.fromkeys(name,city)"
      ],
      "metadata": {
        "id": "1accMJYp2mEP"
      },
      "execution_count": null,
      "outputs": []
    },
    {
      "cell_type": "code",
      "source": [
        "print(students)"
      ],
      "metadata": {
        "colab": {
          "base_uri": "https://localhost:8080/"
        },
        "id": "ttAGG-sZ3FK9",
        "outputId": "5cd15fdf-f13d-4fb1-e333-1e08a6440695"
      },
      "execution_count": null,
      "outputs": [
        {
          "output_type": "stream",
          "name": "stdout",
          "text": [
            "{'Suraj': 'Delhi', 'Manan': 'Delhi', 'Kamal': 'Delhi'}\n"
          ]
        }
      ]
    },
    {
      "cell_type": "code",
      "source": [],
      "metadata": {
        "id": "Pa_c8cDN3iPc"
      },
      "execution_count": null,
      "outputs": []
    },
    {
      "cell_type": "code",
      "source": [
        "person[\"post\"]=\"Developer\""
      ],
      "metadata": {
        "id": "bmqX2q-e0qaG"
      },
      "execution_count": null,
      "outputs": []
    },
    {
      "cell_type": "code",
      "source": [
        "emp=dict()\n"
      ],
      "metadata": {
        "id": "V6axr0lz3jCE"
      },
      "execution_count": null,
      "outputs": []
    },
    {
      "cell_type": "code",
      "source": [
        "key=input(\"Enter key :\")\n",
        "value=input(\"Enter value:\")\n",
        "emp.update({key:value})"
      ],
      "metadata": {
        "colab": {
          "base_uri": "https://localhost:8080/"
        },
        "id": "k5JXMR3h3qTM",
        "outputId": "75e48905-a310-40b1-856b-cdb8796653bc"
      },
      "execution_count": null,
      "outputs": [
        {
          "name": "stdout",
          "output_type": "stream",
          "text": [
            "Enter key :raj\n",
            "Enter value:25000\n"
          ]
        }
      ]
    },
    {
      "cell_type": "code",
      "source": [
        "print(emp)"
      ],
      "metadata": {
        "colab": {
          "base_uri": "https://localhost:8080/"
        },
        "id": "BA5zgz-24V_T",
        "outputId": "f321c9f9-c3a7-4672-e877-f969dc3c20e5"
      },
      "execution_count": null,
      "outputs": [
        {
          "output_type": "stream",
          "name": "stdout",
          "text": [
            "{'kamal': '24000', 'raj': '25000', '88': '567657'}\n"
          ]
        }
      ]
    },
    {
      "cell_type": "code",
      "source": [
        "Users={}\n"
      ],
      "metadata": {
        "id": "maxRLkf44nfU"
      },
      "execution_count": null,
      "outputs": []
    },
    {
      "cell_type": "code",
      "source": [
        "key=input(\"Enter userid :\")\n",
        "value=input(\"Enter password:\")\n",
        "Users.update({key:value})"
      ],
      "metadata": {
        "colab": {
          "base_uri": "https://localhost:8080/"
        },
        "id": "-JbySrEl4t9r",
        "outputId": "35e5cf6c-366a-4411-a6a5-e933040fd16b"
      },
      "execution_count": null,
      "outputs": [
        {
          "name": "stdout",
          "output_type": "stream",
          "text": [
            "Enter userid :suraj\n",
            "Enter password:su#123\n"
          ]
        }
      ]
    },
    {
      "cell_type": "code",
      "source": [
        "print(Users)"
      ],
      "metadata": {
        "colab": {
          "base_uri": "https://localhost:8080/"
        },
        "id": "p5ShxlPB5DSr",
        "outputId": "6fb55ccb-ae5d-4098-b9d1-3ff8a23fb9f5"
      },
      "execution_count": null,
      "outputs": [
        {
          "output_type": "stream",
          "name": "stdout",
          "text": [
            "{'kamal': 'kamal123', 'manan': 'm12345', 'suraj': 'su#123'}\n"
          ]
        }
      ]
    },
    {
      "cell_type": "code",
      "source": [
        "def login():\n",
        "  user=input(\"Enter user id:\")\n",
        "  passwrd=input(\"Enter user password:\")\n",
        "  if user in Users:\n",
        "    if passwrd==Users[user]:\n",
        "      print(\"login success\")\n",
        "    else:\n",
        "      print(\"Login Failed\")\n",
        "\n",
        "\n"
      ],
      "metadata": {
        "id": "_xv-iMoN5dCM"
      },
      "execution_count": null,
      "outputs": []
    },
    {
      "cell_type": "code",
      "source": [
        "login()"
      ],
      "metadata": {
        "colab": {
          "base_uri": "https://localhost:8080/"
        },
        "id": "zXT2ZZm86xwl",
        "outputId": "1af49296-c3da-4fe4-a4c7-5aa66fdffd22"
      },
      "execution_count": null,
      "outputs": [
        {
          "output_type": "stream",
          "name": "stdout",
          "text": [
            "Enter user id:kamal\n",
            "Enter user password:k12345\n",
            "Login Failed\n"
          ]
        }
      ]
    }
  ],
  "metadata": {
    "colab": {
      "provenance": []
    },
    "kernelspec": {
      "display_name": "Python 3",
      "name": "python3"
    },
    "language_info": {
      "name": "python"
    }
  },
  "nbformat": 4,
  "nbformat_minor": 0
}